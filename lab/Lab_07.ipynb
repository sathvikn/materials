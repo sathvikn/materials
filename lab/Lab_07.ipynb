{
 "cells": [
  {
   "cell_type": "markdown",
   "metadata": {},
   "source": [
    "<table align=\"left\" style=\"border-style: hidden\" class=\"table\"> <tr> <td class=\"col-md-2\"><img style=\"float\" src=\"http://prob140.org/assets/icon256.png\" alt=\"Prob140 Logo\" style=\"width: 120px;\"/></td><td><div align=\"left\"><h3 style=\"margin-top: 0;\">Probability for Data Science</h3><h4 style=\"margin-top: 20px;\">UC Berkeley, Spring 2018</h4><p>Ani Adhikari</div></td></tr></table><!-- not in pdf -->"
   ]
  },
  {
   "cell_type": "code",
   "execution_count": null,
   "metadata": {
    "#solution": false,
    "#staff": false,
    "#student": false,
    "collapsed": true
   },
   "outputs": [],
   "source": [
    "!pip install pillow # Setup: run once"
   ]
  },
  {
   "cell_type": "code",
   "execution_count": null,
   "metadata": {
    "#solution": false,
    "#staff": false,
    "#student": false,
    "collapsed": true
   },
   "outputs": [],
   "source": [
    "import pickle\n",
    "import numpy as np\n",
    "from prob140 import *\n",
    "from datascience import *\n",
    "import numpy as np\n",
    "import matplotlib.pyplot as plt\n",
    "%matplotlib inline\n",
    "import matplotlib\n",
    "matplotlib.style.use('fivethirtyeight')\n",
    "import matplotlib.cm as cm\n",
    "import matplotlib.colors\n",
    "from mpl_toolkits.axes_grid1 import make_axes_locatable\n",
    "from PIL import Image"
   ]
  },
  {
   "cell_type": "code",
   "execution_count": null,
   "metadata": {
    "#solution": false,
    "#staff": false,
    "#student": false,
    "collapsed": true
   },
   "outputs": [],
   "source": [
    "#run this code\n",
    "def set_tile_to_color(image,tile,color):\n",
    "    xmin,xmax,ymin,ymax = 0,0,0,0\n",
    "    if tile//10 == 0:\n",
    "        xmin = image.shape[0]-145\n",
    "        xmax = image.shape[0]\n",
    "        ymin = 145 + 93*((9-tile)%10)\n",
    "        ymax = 145 + 93*((10-tile)%10) if tile !=0 else image.shape[1]\n",
    "    elif tile//10 == 1:\n",
    "        ymin = 0\n",
    "        ymax = 145\n",
    "        xmin = 145 + 93*((9-tile)%10)\n",
    "        xmax = 145 + 93*((10-tile)%10)\n",
    "        if tile == 10:\n",
    "            xmin,xmax = image.shape[0]-145,image.shape[0]\n",
    "    elif tile//10 ==2:\n",
    "        xmin,xmax = 0,145\n",
    "        ymin = 145 + 93*((tile-1)%10)\n",
    "        ymax = ymin + 93\n",
    "        if tile == 20:\n",
    "            ymin,ymax = 0,145\n",
    "    elif tile//10 == 3:\n",
    "        ymin,ymax = image.shape[1]-145,image.shape[1]\n",
    "        xmin = 145 + 93*((tile-1)%10)\n",
    "        xmax = xmin + 93\n",
    "        if tile == 30:\n",
    "            xmin = 0\n",
    "            xmax = 145\n",
    "    mask = np.expand_dims(image[xmin:xmax,ymin:ymax,3]==0,2)\n",
    "    mask = np.tile(mask,4)\n",
    "    new_slot = np.tile(color,(xmax-xmin,ymax-ymin,1))*mask + image[xmin:xmax,ymin:ymax]*(1-mask)\n",
    "    image[xmin:xmax,ymin:ymax] = new_slot\n",
    "\n",
    "def plot_board(intensities,lighten=1):\n",
    "    if len(intensities) == 42:\n",
    "        intensities[30] += intensities[40] + intensities[41]\n",
    "        intensities = intensities[:40]\n",
    "    sort = sorted(intensities)\n",
    "    norm = matplotlib.colors.Normalize(vmin=sort[0], vmax=lighten*sort[-2], clip=True)\n",
    "    cmap = cm.Blues\n",
    "    arr = np.array(Image.open('Lab_07_data/monopoly.png').convert('RGBA'))[20:-20,20:-20]\n",
    "    for i, c in enumerate(intensities):\n",
    "        set_tile_to_color(arr,i,255*np.array(cmap(norm(c))))        \n",
    "    plt.figure(figsize=(15,15),dpi=200)\n",
    "    plt.imshow(arr)\n",
    "    plt.axis('off')\n",
    "    \n",
    "    "
   ]
  },
  {
   "cell_type": "code",
   "execution_count": null,
   "metadata": {
    "#solution": false,
    "#staff": false,
    "#student": false,
    "collapsed": true
   },
   "outputs": [],
   "source": [
    "#run this code\n",
    "color_maps = {'Blue': 'blue',\n",
    " 'Green': 'green',\n",
    " 'Light Blue': 'cyan',\n",
    " 'nan': 'white',\n",
    " 'Orange': 'orange',\n",
    " 'Pink': 'pink',\n",
    " 'Purple': 'purple',\n",
    " 'Railroad': 'black',\n",
    " 'Red': 'red',\n",
    " 'Utilities': 'gray',\n",
    " 'Yellow': 'yellow'}\n",
    "\n",
    "def profit_over_time(info_table):\n",
    "    grouped = info_table.group('Colors',collect=sum).sort(4,descending=True)\n",
    "    plt.figure(figsize=(8,8))\n",
    "    roi_index = info_table.column_index(\"Expected Return Per Turn\")\n",
    "    cost_index = info_table.column_index(\"Cost\")\n",
    "    \n",
    "    for row in grouped.rows:\n",
    "        turns = np.arange(60)\n",
    "        plt.plot(turns,row[roi_index]*turns - row[cost_index],label=row[0],c=color_maps[row[0]],linestyle=('--' if row[0] == 'Railroad' else '-'))\n",
    "    plt.legend();\n",
    "    plt.title('Average Profit vs Number of Turns');"
   ]
  },
  {
   "cell_type": "markdown",
   "metadata": {
    "#solution": false,
    "#staff": false,
    "#student": false
   },
   "source": [
    "# Lab 7: Board Game Night"
   ]
  },
  {
   "cell_type": "markdown",
   "metadata": {
    "#solution": false,
    "#staff": false,
    "#student": false
   },
   "source": [
    "In this lab, we'll apply Markov Chain theory and the basic probabilistic tools we've covered in this class to  analyze strategies and phenomena in two popular board games. \n",
    "\n",
    "Because a proper in-depth analysis of a board game can get involved, you are required to focus only on one game (the other game will be optional). We recommend that you read through both games to see which one you'd prefer doing. Remember to run all the cells above this one before starting.\n"
   ]
  },
  {
   "cell_type": "markdown",
   "metadata": {
    "#solution": false,
    "#staff": false,
    "#student": false
   },
   "source": [
    "*Fill in this cell with which game you've chosen to analyze (i.e which one we'll grade)*"
   ]
  },
  {
   "cell_type": "markdown",
   "metadata": {
    "#solution": false,
    "#staff": false,
    "#student": false
   },
   "source": [
    "\n",
    "# [Snakes and Ladders](#Game1)\n",
    "# [Monopoly](#Game-2)"
   ]
  },
  {
   "cell_type": "markdown",
   "metadata": {
    "#solution": false,
    "#staff": false,
    "#student": false
   },
   "source": [
    "# Game 1\n",
    "\n",
    "## Snakes and Ladders\n",
    "\n",
    "\n",
    "[Snakes and Ladders](https://en.wikipedia.org/wiki/Snakes_and_Ladders) (or alternatively called *Chutes and Ladders*) is a board game where two or more players snake through tiles on a board, where *ladders* can signficantly promote the position of pieces, and chutes can demote position. The game is one of pure luck, and no player skill is required, making it useful for young audiences and probabilistic analysis. Our analysis will be using the board below, but can easily be adapted to boards of different sizes and with different snake and ladder positions. \n",
    "\n",
    "\n",
    "![Chutes and Ladders](Lab_07_data/snakes.png)\n",
    "\n",
    "\n",
    "\n",
    "### General rules\n",
    "\n",
    "- On each turn, each player rolls a dice (or spin a spinner), and move that number of steps. If the player lands on the start of a ladder or a snake, they move to the end of that passage.\n",
    "- The game ends once the first person finishes the game by reaching the final tile.\n",
    "\n",
    "In our analysis, we'll focus on two questions of interest\n",
    "\n",
    "1. How long does a game take? How does this vary as the number of players increases?\n",
    "2. How much of an advantage does the first person rolling get?"
   ]
  },
  {
   "cell_type": "markdown",
   "metadata": {
    "#solution": false,
    "#staff": false,
    "#student": false
   },
   "source": [
    "## Part 1: Modelling The Game"
   ]
  },
  {
   "cell_type": "markdown",
   "metadata": {
    "#solution": false,
    "#staff": false,
    "#student": false
   },
   "source": [
    "### Rules of the Game\n",
    "\n",
    "- There are 100 positions on the board (0 - Start) 1, 2, ... (99 - Goal)\n",
    "- On each turn, a fair dice is rolled, and the character moves forward by that many steps\n",
    "- If the character lands on the start of a ladder or snake, then the character moves to the end of the passage\n",
    "- If the character move would take the character past the goal, then the character doesn't move\n"
   ]
  },
  {
   "cell_type": "markdown",
   "metadata": {
    "#solution": false,
    "#staff": false,
    "#student": false
   },
   "source": [
    "### 1.1\n",
    "\n",
    "Let's define $X_0, X_1, X_2 \\dots$ to be the positions of a certain player every timestep. Is this a Markov Chain? If so, is it irreducible? Aperiodic?"
   ]
  },
  {
   "cell_type": "markdown",
   "metadata": {
    "#solution": false,
    "#staff": false,
    "#student": false
   },
   "source": [
    "*Your answer here*"
   ]
  },
  {
   "cell_type": "code",
   "execution_count": null,
   "metadata": {
    "#solution": false,
    "#staff": false,
    "#student": false,
    "collapsed": true
   },
   "outputs": [],
   "source": [
    "states = np.arange(100)"
   ]
  },
  {
   "cell_type": "markdown",
   "metadata": {
    "#solution": false,
    "#staff": false,
    "#student": false
   },
   "source": [
    "The function `ending_location(j)` takes a state $j$, and if a passage (snake or ladder) starts on that state, then returns the state corresponding to the end of the passage. If no passage starts on the state, then returns $j$. The output of the function corresponds to the state that the character ends at if they land on state $j$."
   ]
  },
  {
   "cell_type": "code",
   "execution_count": null,
   "metadata": {
    "#solution": false,
    "#staff": false,
    "#student": false,
    "collapsed": true
   },
   "outputs": [],
   "source": [
    "passages = [(1, 18), (4, 12), (6, 2), (9, 26), (13, 32), (15, 72), (16, -1), (20, 35), (24, 8), (36, 57), (37, 3), (46, 88), (49, 4), (52, 34), (54, -1), (55, 74), (58, 21), (59, 76), (71, 84), (73, 26), (79, 96), (81, 43), (83, 57), (86, 89), (90, 23), (95, 85), (97, 61)]\n",
    "\n",
    "def ending_location(j):\n",
    "    for passage_start,passage_end in passages:\n",
    "        if j == passage_start:\n",
    "            return passage_end\n",
    "    return j"
   ]
  },
  {
   "cell_type": "markdown",
   "metadata": {
    "#solution": false,
    "#staff": false,
    "#student": false
   },
   "source": [
    "### 1.2\n",
    "\n",
    "Write code that generates the transition matrix for the markov chain in `snakes_ladders_matrix`. "
   ]
  },
  {
   "cell_type": "code",
   "execution_count": null,
   "metadata": {
    "#solution": false,
    "#staff": false,
    "#student": true,
    "collapsed": true
   },
   "outputs": [],
   "source": [
    "\n",
    "snakes_ladders_matrix = np.zeros((100,100))\n",
    "\n",
    "for start_state in range(100):\n",
    "    for j in range(1,7): # Possible Dice Rolls\n",
    "        # Remember to handle snakes and laddeers using `ending_location()`\n",
    "        # Remember to handle when the move would take the user past the goal\n",
    "        ..."
   ]
  },
  {
   "cell_type": "markdown",
   "metadata": {
    "#solution": false,
    "#staff": false,
    "#student": false
   },
   "source": [
    "### 1.3\n",
    "\n",
    "Make the Markov Chain `snakes_and_ladders_mc` using the `MarkovChain.from_matrix(...)` function"
   ]
  },
  {
   "cell_type": "code",
   "execution_count": null,
   "metadata": {
    "#solution": false,
    "#staff": false,
    "#student": true,
    "collapsed": true
   },
   "outputs": [],
   "source": [
    "\n",
    "snakes_and_ladders_mc = ..."
   ]
  },
  {
   "cell_type": "markdown",
   "metadata": {
    "#solution": false,
    "#staff": false,
    "#student": false
   },
   "source": [
    "### 1.3\n",
    "\n",
    "Use the `.simulate_path()` method to plot some example paths of a player on this Markov Chain for 100 turns. Remember that players start on tile 0 "
   ]
  },
  {
   "cell_type": "code",
   "execution_count": null,
   "metadata": {
    "#solution": false,
    "#staff": false,
    "#student": true,
    "collapsed": true
   },
   "outputs": [],
   "source": [
    "\n",
    "..."
   ]
  },
  {
   "cell_type": "markdown",
   "metadata": {
    "#solution": false,
    "#staff": false,
    "#student": false
   },
   "source": [
    "Can you identify the times when the player landed on a snake? A ladder? Do you recognize any absorbing states in the Markov Chain? Run the simulation multiple times, and try to identify game behaviours."
   ]
  },
  {
   "cell_type": "markdown",
   "metadata": {
    "#solution": false,
    "#staff": false,
    "#student": false
   },
   "source": [
    "*Your analysis here*"
   ]
  },
  {
   "cell_type": "markdown",
   "metadata": {
    "#solution": false,
    "#staff": false,
    "#student": false
   },
   "source": [
    "## Part 2: Analyzing Game Lengths\n",
    "\n",
    "### 2.1 (** On Paper **)\n",
    "\n",
    "Let's investigate the distribution of the time taken for a single player to reach the goal state: this will serve as an important stepping stone in our analysis. \n",
    "\n",
    "Denote the time it takes to reach the goal state by a random variable $T$. Fill in the following equivalence between the markov chain at a certain time, $X_{t}$, and the CDF of $T$.\n",
    "\n",
    "$$P(X_t~~\\underline{\\hspace{3cm}}) = P(T \\leq t)$$\n"
   ]
  },
  {
   "cell_type": "markdown",
   "metadata": {
    "#solution": false,
    "#staff": false,
    "#student": false
   },
   "source": [
    "Notice that $T$ can take on an infinite number of values. We'll analytically approximate by considering $T < 600$. The number $600$ is arbitrary, chosen just large enough such that essentially all games terminate by then (in fact $99.9\\%$ of games end by $600$ time steps). \n",
    "\n",
    "\n",
    "### 2.2\n",
    "\n",
    "Use the equivalence you found in **2.1** to populate the array `prob_in_goal`, where `prob_in_goal[i] = `$P(T \\leq i)$. \n"
   ]
  },
  {
   "cell_type": "code",
   "execution_count": null,
   "metadata": {
    "#solution": false,
    "#staff": false,
    "#student": true,
    "collapsed": true
   },
   "outputs": [],
   "source": [
    "\n",
    "prob_in_goal = np.zeros(600)\n",
    "for t in range(0,600): \n",
    "    ...\n",
    "\n",
    "plt.plot(range(0,400),prob_in_goal[:400]) # We'll only look at the first 400\n",
    "plt.title('$P(T \\leq t)$');"
   ]
  },
  {
   "cell_type": "markdown",
   "metadata": {
    "#solution": false,
    "#staff": false,
    "#student": false
   },
   "source": [
    "### 2.3 (**On Paper**)\n",
    "\n",
    "In Snakes and Ladders, $n$ players play until the first one finishes: denote each individual's finishing time to be $T_1,T_2, \\dots T_n$ and the time the game is won to be $T^*$. \n",
    "\n",
    "Write $T^*$ as a function of the individual finishing times $T_1,T_2,\\dots T_n$. \n"
   ]
  },
  {
   "cell_type": "markdown",
   "metadata": {
    "#solution": false,
    "#staff": false,
    "#student": false
   },
   "source": [
    "### 2.4\n",
    "\n",
    "Fill out the function `get_prob_finished`\n",
    "\n",
    "Input:\n",
    "`n` - the number of people playing\n",
    "\n",
    "Output:\n",
    "`prob_finished` - array corresponding to the CDF of $T^*$: i.e. `prob_finished[i] = `$P(T^* \\leq i)$. "
   ]
  },
  {
   "cell_type": "code",
   "execution_count": null,
   "metadata": {
    "#solution": false,
    "#staff": false,
    "#student": true,
    "collapsed": true
   },
   "outputs": [],
   "source": [
    "\n",
    "def get_prob_finished(n):\n",
    "    prob_finished = ...\n",
    "    return prob_finished"
   ]
  },
  {
   "cell_type": "markdown",
   "metadata": {
    "#solution": false,
    "#staff": false,
    "#student": false
   },
   "source": [
    "### 2.5\n",
    "\n",
    "Fill out the function `distribution_from_cdf(cdf_probabilities)` which takes in an array of CDF probabilities $P(T \\leq t)$, and outputs an array with probabilities $P(T = t)$\n",
    "\n",
    "Use it with the `get_prob_finished` function to find the distributions when only $1$ person is playing, and when $4$ players are playing."
   ]
  },
  {
   "cell_type": "code",
   "execution_count": null,
   "metadata": {
    "#solution": false,
    "#staff": false,
    "#student": true,
    "collapsed": true
   },
   "outputs": [],
   "source": [
    "\n",
    "def distribution_from_cdf(cdf_probabilities):\n",
    "    ...\n",
    "\n",
    "time_with_1 = Table().values(np.arange(600)).probability(distribution_from_cdf(get_prob_finished(1)))\n",
    "time_with_4 = Table().values(np.arange(600)).probability(distribution_from_cdf(get_prob_finished(4)))"
   ]
  },
  {
   "cell_type": "markdown",
   "metadata": {
    "#solution": false,
    "#staff": false,
    "#student": false
   },
   "source": [
    "### 2.5\n",
    "\n",
    "Use the `Plots` function to plot the distribution of the number of turns a game lasts for $1$ and $4$ players respectively. Also, list out the expected amount of time for each possible $n$"
   ]
  },
  {
   "cell_type": "code",
   "execution_count": null,
   "metadata": {
    "#solution": false,
    "#staff": false,
    "#student": true,
    "collapsed": true
   },
   "outputs": [],
   "source": [
    "\n",
    "print(\"Expected Time (1 Person): \", ...)\n",
    "print(\"Expected Time (4 Person): \", ...)\n",
    "\n",
    "... # Plot the distributions"
   ]
  },
  {
   "cell_type": "markdown",
   "metadata": {
    "#solution": false,
    "#staff": false,
    "#student": false
   },
   "source": [
    "## Part 3: Fairness\n",
    "\n",
    "Since snakes and ladders is a game of sheer luck, the game is completely out of the hands of the player as soon as it starts. However, the first player to play has a slight advantage, since he/she will always roll first. In this section, we'll quantify this difference by computing $P(\\text{Player 1 wins})$, and comparing it to the probability if the game had been completely fair.\n"
   ]
  },
  {
   "cell_type": "markdown",
   "metadata": {
    "#solution": false,
    "#staff": false,
    "#student": false
   },
   "source": [
    "### 3.1 (**On Paper**)"
   ]
  },
  {
   "cell_type": "markdown",
   "metadata": {
    "#solution": false,
    "#staff": false,
    "#student": false
   },
   "source": [
    "\n",
    "Once again, let's define $T_1,T_2,\\dots T_n$ to be the amount of time it takes for each player to get to the goal. Express the quantity $P(\\text{Player 1 wins})$ as an infinite sum which uses the distribution function $P(T=t)$ and the tail probabilities $P(T \\geq t)$."
   ]
  },
  {
   "cell_type": "markdown",
   "metadata": {
    "#solution": false,
    "#staff": false,
    "#student": false
   },
   "source": [
    "### 3.2\n",
    "\n",
    "Fill out the function `p_first_person_win`, which computes $P(\\text{Player 1 wins})$. We'll approximate the infinite sum in the previous part by considering the first 600 terms."
   ]
  },
  {
   "cell_type": "code",
   "execution_count": null,
   "metadata": {
    "#solution": false,
    "#staff": false,
    "#student": true,
    "collapsed": true
   },
   "outputs": [],
   "source": [
    "\n",
    "def p_first_person_win(n):\n",
    "    tail_probabilities = np.concatenate([[1],1-prob_in_goal])[:-1] # Array containing P(T >= k)\n",
    "    distribution_probabilities = time_with_1.column(1) # Array containing P(T = k)\n",
    "\n",
    "    return ..."
   ]
  },
  {
   "cell_type": "markdown",
   "metadata": {
    "#solution": false,
    "#staff": false,
    "#student": false
   },
   "source": [
    "One way we can assess the fairness is to see how much more likely are you to win, as compared to a completely fair game, where your chance of winning is $$P(\\text{Win}) = \\frac{1}{n}$$ \n",
    "\n",
    "The cell below computes the relative advantages for a variety of $n$, where the relative advantage is given by\n",
    "\n",
    "$$\\text{Relative Advantage} = \\dfrac{P(\\text{First person wins})}{\\frac{1}{n}}$$"
   ]
  },
  {
   "cell_type": "code",
   "execution_count": null,
   "metadata": {
    "#solution": false,
    "#staff": false,
    "#student": false,
    "collapsed": true
   },
   "outputs": [],
   "source": [
    "def relative_advantage(n):\n",
    "    return p_first_person_win(n) / (1/n)\n",
    "\n",
    "ns = np.arange(1,10)\n",
    "advantages = [relative_advantage(n) for n in ns]\n",
    "plt.plot(ns,advantages)"
   ]
  },
  {
   "cell_type": "markdown",
   "metadata": {
    "#solution": false,
    "#staff": false,
    "#student": false
   },
   "source": [
    "### 3.3\n",
    "\n",
    "Make some observations in the final cell about how the relative advantage changes as the number of players in the game increases."
   ]
  },
  {
   "cell_type": "markdown",
   "metadata": {
    "#solution": false,
    "#staff": false,
    "#student": false
   },
   "source": [
    "*Your Insights Here*"
   ]
  },
  {
   "cell_type": "markdown",
   "metadata": {
    "#solution": false,
    "#staff": false,
    "#student": false
   },
   "source": [
    "# Submission"
   ]
  },
  {
   "cell_type": "code",
   "execution_count": null,
   "metadata": {
    "#solution": false,
    "#staff": false,
    "#student": false,
    "collapsed": true
   },
   "outputs": [],
   "source": [
    "import gsExport\n",
    "gsExport.generateSubmission(\"Lab_07.ipynb\")"
   ]
  },
  {
   "cell_type": "markdown",
   "metadata": {
    "#solution": false,
    "#staff": false,
    "#student": false
   },
   "source": [
    "# Game 2\n",
    "\n",
    "## Monopoly\n",
    "\n",
    "Monopoly is a board game, where players move around a board and purchase and develop properties, with the goal of bankrupting all the other players. Monopoly is an immensely complicated game, since players must decide what properties to buy, what deals to make with other players, and where to develop houses and hotels. Despite this, the movement in the game involves no user skill, and so one can analyze patterns in where players land to evaluate what the most lucrative properties are, and the best strategies to win the game.\n",
    "\n",
    "\n",
    "\n",
    "<img src=\"http://koaning.io/theme/images/monopoly.jpg\" alt=\"Drawing\" style=\"width: 600px;\"/>\n",
    "\n"
   ]
  },
  {
   "cell_type": "markdown",
   "metadata": {
    "#solution": false,
    "#staff": false,
    "#student": false
   },
   "source": [
    "In this analysis, we'll focus on the following three questions:\n",
    "\n",
    "1. What tiles are landed on most often?\n",
    "2. What are the most valuable properties to own in early-game?\n",
    "3. What are the most valuable properties to own in late-game?\n",
    "\n",
    "The rules for Monopoly are notoriously complicated, and so we make some additional assumptions to more easily model movement along the board (these assumptions can be lifted, and is a great side-project to investigate).\n",
    "\n",
    "### Movement Rules (Simplified)\n",
    "\n",
    "1. Each turn, the two dice are rolled, and the player moves that many spaces (no rolling twice if you got doubles)\n",
    "2. Only way to go to jail is to land on 'Go to Jail' or draw an appropriate Chance/Community Chest card. (i.e. not 3 doubles)\n",
    "3. Chance/CC Cards are sampled with replacement. We'll only consider the cards that affect board position\n",
    "4. The only way to leave jail is to roll doubles, or wait 3 turns.\n",
    "\n",
    "### Representing as a Markov Chain\n",
    "\n",
    "Let's consider $X_0,X_1,\\dots $ to be the position of a player in Monopoly. With a few tweaks, we can model $X_0,X_1 \\dots$ as a Markov Chain. \n",
    "\n",
    "\n",
    "The naive model is for each state in the Markov Chain to correspond to a board tile. However, under this model, the the chain would not satisfy the Markov property since one can only be in Jail for three turns, and the state space doesn't capture how long the user has already been at jail. To avoid this issue, we'll have three states, each corresponding to a different time in Jail. More precisely, the state space will be\n",
    "\n",
    "$$\\mathcal{S} = \\text{Board tiles} + \\{ \\text{Jail Turn 2}, \\text{Jail Turn 3} \\}$$"
   ]
  },
  {
   "cell_type": "markdown",
   "metadata": {
    "#solution": false,
    "#staff": false,
    "#student": false
   },
   "source": [
    "## Part 1: Coding the Monopoly Markov Chain"
   ]
  },
  {
   "cell_type": "markdown",
   "metadata": {
    "#solution": false,
    "#staff": false,
    "#student": false
   },
   "source": [
    "Run the following cell, which defines the `board_names` and `states` arrays.\n",
    "\n",
    "`board_names` - a list with the names of the tiles in order\n",
    "\n",
    "`states` - a list corresponding to the states in our Markov Chain, which includes each tile and two additional states for Jail."
   ]
  },
  {
   "cell_type": "code",
   "execution_count": null,
   "metadata": {
    "#solution": false,
    "#staff": false,
    "#student": false,
    "collapsed": true
   },
   "outputs": [],
   "source": [
    "board_names = [\n",
    "    'GO','Mediterranean','Com1','Baltic','Income','Reading RR','Oriental','Chance1','Vermont','Connecticut',\n",
    "    'Visiting Jail','St Charles','Electric','States','Virginia','Penn RR','St James','Com2','Tennessee','New York',\n",
    "    'Free Parking','Kentucky','Chance2','Indiana','Illinois','BO RR', 'Atlantic', 'Ventnor', 'Water', 'Marvin Gardens',\n",
    "    'Jail','Pacific','North Carolina','Com3','Pennsylvania','Short Line','Chance3','Park Place','Luxury Tax','Boardwalk',\n",
    "]\n",
    "\n",
    "states = board_names + ['Jail Turn 2','Jail Turn 3']"
   ]
  },
  {
   "cell_type": "markdown",
   "metadata": {
    "#solution": false,
    "#staff": false,
    "#student": false
   },
   "source": [
    "The Markov chain corresponding to player position on the Monopoly board involves a more complicated transition function than we've previously worked with in class. There are three main types of moves happening in Monopoly:\n",
    "\n",
    "- Moves from a **normal tile** (just rolling the dice)\n",
    "- Moves from **Jail** (you can only escape Jail by rolling doubles, or waiting 3 turns)\n",
    "- Moves from **community chest** or **chance** tile (cards can teleport you to different parts of the board)\n",
    "\n",
    "In order to keep our code organized and understandable, we'll write the function `transition_function` which assumes the existence of the following functions\n",
    "\n",
    "- `normal_transition_probability` - Handles transition probabilities starting at a normal tile\n",
    "- `jail_transition_probability` - Handles moves starting from Jail tiles\n",
    "- `chance_transition_probability` - Handles moves starting from Chance Tiles\n",
    "- `com_chest_transition_probability` - Handles moves starting from Community Chest tiles"
   ]
  },
  {
   "cell_type": "code",
   "execution_count": null,
   "metadata": {
    "#solution": false,
    "#staff": false,
    "#student": false,
    "collapsed": true
   },
   "outputs": [],
   "source": [
    "def transition_function(s1, s2):\n",
    "    \n",
    "    if s2 == 'Jail Turn 2' and s1 != 'Jail': # Can only get to Jail Turn 2 from Jail\n",
    "        return 0\n",
    "    if s2 == 'Jail Turn 3' and s1 != 'Jail Turn 2': # Can only get to Jail Turn 3 from Jail Turn 2\n",
    "        return 0\n",
    "    \n",
    "    # From Jail\n",
    "    if s1 in ['Jail','Jail Turn 2', 'Jail Turn 3']:\n",
    "        return jail_transition_probability(s1, s2)\n",
    "    \n",
    "    # Chance Cards\n",
    "    if s1 in make_array('Chance1', 'Chance2', 'Chance3'):\n",
    "        return chance_transition_probability(s1, s2)\n",
    "    \n",
    "    # Community Chest\n",
    "    if s1 in make_array('Com1', 'Com2', 'Com3'):\n",
    "        return com_chest_transition_probability(s1, s2)\n",
    "    \n",
    "    # Normal Cards\n",
    "    return normal_transition_probability(s1,s2)\n"
   ]
  },
  {
   "cell_type": "markdown",
   "metadata": {
    "#solution": false,
    "#staff": false,
    "#student": false
   },
   "source": [
    "### 1.1 Normal Moves\n",
    "\n",
    "Fill in the function `prob_of_dice` which will help you handle the transition probabilities when starting at a normal tile. The function takes a number `distance`, and returns the probability that two dice sum to `distance`. \n",
    "\n",
    "Be sure to handle edge cases, like when the distance is less than 2 or larger than 12."
   ]
  },
  {
   "cell_type": "code",
   "execution_count": null,
   "metadata": {
    "#solution": false,
    "#staff": false,
    "#student": true,
    "collapsed": true
   },
   "outputs": [],
   "source": [
    "\n",
    "def prob_of_dice(distance):\n",
    "    return ...\n"
   ]
  },
  {
   "cell_type": "markdown",
   "metadata": {
    "#solution": false,
    "#staff": false,
    "#student": false
   },
   "source": [
    "The function `normal_transition_probability` defined below returns the probability of transitioning from `tile1` to `tile2` if `tile1` was a normal tile. As you expect, this simply calls the function `prob_of_dice` you just wrote."
   ]
  },
  {
   "cell_type": "code",
   "execution_count": null,
   "metadata": {
    "#solution": false,
    "#staff": false,
    "#student": false,
    "collapsed": true
   },
   "outputs": [],
   "source": [
    "def normal_transition_probability(s1,s2):\n",
    "    index_1 = board_names.index(s1)\n",
    "    index_2 = board_names.index(s2)\n",
    "    distance = (index_2 - index_1) % 40\n",
    "    return prob_of_dice(distance)"
   ]
  },
  {
   "cell_type": "markdown",
   "metadata": {
    "#solution": false,
    "#staff": false,
    "#student": false
   },
   "source": [
    "### 1.2 Jail\n",
    "\n",
    "Fill in the blanks in the function `jail_transition_probability` which returns probabilities involving leaving Jail  states. \n",
    "\n",
    "Here are the general rules for making moves out of Jail squares:\n",
    "\n",
    "- If you are on your 1st or 2nd turn in jail, you must roll doubles to leave. If you roll doubles, then you move that many tiles out of jail.\n",
    "- If you are on your 3rd turn in jail, then the turn operates like a normal move\n",
    "\n",
    "To make sure that the transitions are memoryless, we have a jail state for each possible time that you can be in jail \n",
    "\n",
    "- First turn: \"Jail\"\n",
    "- Second turn: \"Jail Turn 2\"\n",
    "- Third turn: \"Jail Turn 3\""
   ]
  },
  {
   "cell_type": "code",
   "execution_count": null,
   "metadata": {
    "#solution": false,
    "#staff": false,
    "#student": true,
    "collapsed": true
   },
   "outputs": [],
   "source": [
    "\n",
    "def jail_transition_probability(s1, s2):\n",
    "    assert s1 in ['Jail','Jail Turn 2', 'Jail Turn 3'], \"jail_transition_probability not called from a Jail tile\"\n",
    "\n",
    "    # These are the tiles which are 2,4,6,8,10,12 away from jail\n",
    "    doubles_away = make_array('Electric', 'Virginia','St James','Tennessee','Free Parking','Chance2') \n",
    "    \n",
    "    # Jail: only leave if you roll doubles\n",
    "    if s1 == 'Jail':\n",
    "        \n",
    "        if s2 in doubles_away:    \n",
    "            return ...\n",
    "        elif s2 == ...:\n",
    "            return ...\n",
    "        else:\n",
    "            return ...\n",
    "    \n",
    "    if s1 == 'Jail Turn 2':\n",
    "        if s2 in doubles_away:\n",
    "            return ...\n",
    "        elif s2 == ...:\n",
    "            return ...\n",
    "        return ...\n",
    "    \n",
    "    if s1 == 'Jail Turn 3':\n",
    "        index_1 = board_names.index('Visiting Jail') # We're going to move as though we were at \"Visiting Jail\"\n",
    "        index_2 = board_names.index(s2)\n",
    "        distance = (index_2 - index_1) % 40\n",
    "        return ...\n",
    "    \n",
    "    return 0"
   ]
  },
  {
   "cell_type": "markdown",
   "metadata": {
    "#solution": false,
    "#staff": false,
    "#student": false
   },
   "source": [
    "### 1.3 Chance and Community Chest Cards\n",
    "\n",
    "#### Chance cards:\n",
    "\n",
    "We'll implement chance cards as taking effect at the beginnning of the next turns. There are 17 chance cards, where $9$ cards change the position of the user, and $8$ providing either monetary gains or losses. For our Markov chain, we'll only consider cards that affect position. The $9$ cards are listed here:\n",
    "\n",
    "* Advance to Go\n",
    "* Advance to Illinois Ave.\n",
    "* Advance to St. Charles Place\n",
    "* Advance token to nearest Utility.\n",
    "* Advance token to the nearest Railroad\n",
    "* Go Back 3 Spaces\n",
    "* Go to Jail\n",
    "* Take a trip to Reading Railroad\n",
    "* Take a walk on the Boardwalk\n",
    "\n",
    "We've written the `chance_transition_probability` function, which handles transition probabilities for starting at Chance cards."
   ]
  },
  {
   "cell_type": "code",
   "execution_count": null,
   "metadata": {
    "#solution": false,
    "#staff": false,
    "#student": false,
    "collapsed": true
   },
   "outputs": [],
   "source": [
    "def chance_transition_probability(s1,s2):\n",
    "    index_1 = board_names.index(s1)\n",
    "    index_2 = board_names.index(s2)\n",
    "    distance = (index_2 - index_1) % 40\n",
    "    # Multiple ways to end up at a location, so we have to sum up the probabilities.\n",
    "    assert 'Chance' in s1, \"chance_transition_probability not called starting at a Chance Card\"\n",
    "    \n",
    "    \n",
    "    p = 0\n",
    "    \n",
    "    if s2 in make_array('GO', 'Illinois', 'St Charles', 'Jail', 'Reading RR', 'Boardwalk'):\n",
    "        p += 1 / 17\n",
    "    if index_2 == index_1 - 3: # Go back 3 spaces.\n",
    "        p += 1 / 17\n",
    "    \n",
    "    # Next utility and railroad.\n",
    "    if s1 == 'Chance1' and s2 in make_array('Electric', 'Penn RR'):\n",
    "        p += 1 / 17\n",
    "    if s1 == 'Chance2' and s2 in make_array('Water', 'BO RR'):\n",
    "        p += 1 / 17\n",
    "    if s1 == 'Chance3' and s2 in make_array('Electric', 'Reading RR'):\n",
    "        p += 1 / 17        \n",
    "    \n",
    "    # Chance of getting there on dice roll\n",
    "    p +=  (8 / 17) * prob_of_dice(distance)\n",
    "    return p\n"
   ]
  },
  {
   "cell_type": "markdown",
   "metadata": {
    "#solution": false,
    "#staff": false,
    "#student": false
   },
   "source": [
    "#### Community Chest cards\n",
    "\n",
    "There are 17 community chest cards, where exactly 2 cards affect board position.\n",
    "\n",
    "* Advance to Go\n",
    "* Go to Jail\n",
    "\n",
    "Fill out the function `com_chest_transition_probability(s1,s2)`, which handles transition probabilities when starting at a community chest card. If you're stuck, get inspiration by looking at `chance_transition_probability`. "
   ]
  },
  {
   "cell_type": "code",
   "execution_count": null,
   "metadata": {
    "#solution": false,
    "#staff": false,
    "#student": true,
    "collapsed": true
   },
   "outputs": [],
   "source": [
    "\n",
    "def com_chest_transition_probability(s1, s2):\n",
    "    assert 'Com' in s1, \"com_chest_transition_probability not called starting at a Community Chest Tile\"\n",
    "\n",
    "    index_1 = board_names.index(s1)\n",
    "    index_2 = board_names.index(s2)\n",
    "    distance = (index_2 - index_1) % 40\n",
    "    \n",
    "    p = 0\n",
    "    if s2 in make_array('GO', 'Jail'):\n",
    "        ...\n",
    "        \n",
    "    # Chance of getting there on dice roll\n",
    "    p += ... * prob_of_dice(distance) # What should the modifier be here?\n",
    "    return p"
   ]
  },
  {
   "cell_type": "markdown",
   "metadata": {
    "#solution": false,
    "#staff": false,
    "#student": false
   },
   "source": [
    "### 1.4 Putting it All Together\n"
   ]
  },
  {
   "cell_type": "markdown",
   "metadata": {
    "#solution": false,
    "#staff": false,
    "#student": false
   },
   "source": [
    "Initialize `monopoly_mc` to the Markov Chain corresponding to a player's location in a Monopoly game."
   ]
  },
  {
   "cell_type": "code",
   "execution_count": null,
   "metadata": {
    "#solution": false,
    "#staff": false,
    "#student": true,
    "collapsed": true
   },
   "outputs": [],
   "source": [
    "\n",
    "monopoly_mc = ..."
   ]
  },
  {
   "cell_type": "code",
   "execution_count": null,
   "metadata": {
    "#solution": false,
    "#staff": false,
    "#student": false,
    "collapsed": true
   },
   "outputs": [],
   "source": [
    "# Debug Cell\n",
    "# If you're having issues with probabilities not summing to 1, run this cell\n",
    "\n",
    "for state,value in zip(monopoly_mc.states,monopoly_mc.matrix.sum(axis=1)):\n",
    "    if not np.isclose(value,1):\n",
    "        print(\"From %s: probability %f\"%(state,value))\n"
   ]
  },
  {
   "cell_type": "markdown",
   "metadata": {
    "#solution": false,
    "#staff": false,
    "#student": false
   },
   "source": [
    "## Part 2: Where in Monopoly?\n",
    "\n",
    "In this section, we'll look at how a player travels around the monopoly board, and the long-run proportion of time that a player spends in each state. This will form the basis for our cost analysis."
   ]
  },
  {
   "cell_type": "markdown",
   "metadata": {
    "#solution": false,
    "#staff": false,
    "#student": false
   },
   "source": [
    "### 2.1\n",
    "\n",
    "Plot a 30-turn path for a player using the  `.simulate_path` (remember that the player starts at GO). What do you notice about the path? Did the player go to Jail in the path that you plotted? How many times did your player cross GO? Did your player land on a Chance or Community Chest tile that moved the player to a completely different position?"
   ]
  },
  {
   "cell_type": "code",
   "execution_count": null,
   "metadata": {
    "#solution": false,
    "#staff": false,
    "#student": true,
    "collapsed": true
   },
   "outputs": [],
   "source": [
    "..."
   ]
  },
  {
   "cell_type": "markdown",
   "metadata": {
    "#solution": false,
    "#staff": false,
    "#student": true
   },
   "source": [
    "\n",
    "*Your comments here*"
   ]
  },
  {
   "cell_type": "markdown",
   "metadata": {
    "#solution": false,
    "#staff": false,
    "#student": false
   },
   "source": [
    "### 2.2\n",
    "\n",
    "Let's analyze the steady state distribution of the player's position on the board. Save the steady state distribution to a variable called `steady_state_dist` and the array of transition probabilities into a variable called `steady_state`. Make some comments about the steady state distribution? Do the states with the highest probability make sense? What about the lowest? We've included the monopoly board image below for comparison."
   ]
  },
  {
   "cell_type": "code",
   "execution_count": null,
   "metadata": {
    "#solution": false,
    "#staff": false,
    "#student": true,
    "collapsed": true
   },
   "outputs": [],
   "source": [
    "steady_state_dist = ...\n",
    "steady_state = ...\n",
    "steady_state_dist.sort(1,descending=True).show() # Show states sorted by steady state probabilities"
   ]
  },
  {
   "cell_type": "markdown",
   "metadata": {
    "#solution": false,
    "#staff": false,
    "#student": false
   },
   "source": [
    "*Your Comments Here*"
   ]
  },
  {
   "cell_type": "markdown",
   "metadata": {
    "#solution": false,
    "#staff": false,
    "#student": false
   },
   "source": [
    "<img src=\"http://koaning.io/theme/images/monopoly.jpg\" alt=\"Drawing\" style=\"width: 600px;\"/>\n"
   ]
  },
  {
   "cell_type": "markdown",
   "metadata": {
    "#solution": false,
    "#staff": false,
    "#student": false
   },
   "source": [
    "### 2.3\n",
    "\n",
    "We've created a function called `plot_board` which visualizes values for each tile on the Monopoly board. Run the following cell below, to see a visualization of the steady state."
   ]
  },
  {
   "cell_type": "code",
   "execution_count": null,
   "metadata": {
    "#solution": false,
    "#staff": false,
    "#student": false,
    "collapsed": true
   },
   "outputs": [],
   "source": [
    "plot_board(steady_state,lighten=1.2)\n",
    "plt.title('Most probable locations on board');"
   ]
  },
  {
   "cell_type": "markdown",
   "metadata": {
    "#solution": false,
    "#staff": false,
    "#student": false
   },
   "source": [
    "## Part 3: Property Valuations\n",
    "\n",
    "Now that we've set up the Markov Chain, and looked at the steady state distribution of where the player is likely to be after a sufficient number of turns, let's use this to analyze what the best properties are to own and invest in during different stages of the game.\n",
    "\n",
    "### Rules for Buying Property\n",
    "\n",
    "1. Initial cost is buying the property: if one owns all the properties of a certain color, he/she can build houses on each property for a fixed sum, and after 4 houses, a hotel.\n",
    "2. The owner of the property gets more money for a player landing on the property based on the number of houses (or hotel) on the property. Rent prices increase as you move along the board.\n",
    "2. The rent for landing on a railroad is proportional to the number of railroads the owner possesses: for this analysis, we assume you own all 4 railroads - landing on a railroad pays out \\$200\n",
    "3. Utility rents are a function of the number of utilities owned and the number rolled on the dice. Assuming you own both, one can compute that the expected rent is \\$70.\n",
    "\n",
    "We'll define the **early-game** to be the time period when the user controls all the properties of a color, but **has no houses**\n",
    "\n",
    "We'll define the **late-game** to be the end of the game, when the user has **hotels** on each property."
   ]
  },
  {
   "cell_type": "markdown",
   "metadata": {
    "#solution": false,
    "#staff": false,
    "#student": false
   },
   "source": [
    "We've stored property values and costs in a file called `monopoly_info.csv`."
   ]
  },
  {
   "cell_type": "code",
   "execution_count": null,
   "metadata": {
    "#solution": false,
    "#staff": false,
    "#student": false,
    "collapsed": true
   },
   "outputs": [],
   "source": [
    "monopoly_information = Table.read_table('Lab_07_data/monopoly_info.csv')\n",
    "monopoly_information"
   ]
  },
  {
   "cell_type": "markdown",
   "metadata": {
    "#solution": false,
    "#staff": false,
    "#student": false
   },
   "source": [
    "### 3.1\n",
    "\n",
    "Just to get a better hang of property costs and rents, let's plot the costs of each property, and the rent that each generates without any houses. "
   ]
  },
  {
   "cell_type": "code",
   "execution_count": null,
   "metadata": {
    "#solution": false,
    "#staff": false,
    "#student": false,
    "collapsed": true
   },
   "outputs": [],
   "source": [
    "plot_board(monopoly_information['Property Cost'])\n",
    "plt.title('Cost of each Property');"
   ]
  },
  {
   "cell_type": "code",
   "execution_count": null,
   "metadata": {
    "#solution": false,
    "#staff": false,
    "#student": false,
    "collapsed": true
   },
   "outputs": [],
   "source": [
    "plot_board(monopoly_information['No House Rent'])\n",
    "plt.title('Rent of each Property');"
   ]
  },
  {
   "cell_type": "markdown",
   "metadata": {
    "#solution": false,
    "#staff": false,
    "#student": false
   },
   "source": [
    "### 3.2: Early Game Analysis\n",
    "\n",
    "In the early game, all the properties have been bought, but no houses or hotels have been invested."
   ]
  },
  {
   "cell_type": "markdown",
   "metadata": {
    "#solution": false,
    "#staff": false,
    "#student": false
   },
   "source": [
    "Let's assume you're playing against a single opponent. If your opponent's position has reached a steady state distribution, then the expected return per turn for a property $s$ is given by\n",
    "\n",
    "$$ \\text{Expected Return} = R(s)\\pi(s)$$\n",
    "\n",
    "where $R(s)$ is the rent generated from landing on the tile. In $t$ timesteps, we expect to make\n",
    "\n",
    "$$ \\text{Expected Return in t timesteps} = tR(s)\\pi(s) $$"
   ]
  },
  {
   "cell_type": "markdown",
   "metadata": {
    "#solution": false,
    "#staff": false,
    "#student": false
   },
   "source": [
    "### 3.2\n",
    "\n",
    "The rent generated in the early game is `monopoly_information['No House Rent']`.Fill out the code for the expected return per turn, and the profit in 60 turns. Remember that \n",
    "\n",
    "$$ \\text{Profit} = \\text{Revenue} - \\text{Cost}$$\n"
   ]
  },
  {
   "cell_type": "code",
   "execution_count": null,
   "metadata": {
    "#solution": false,
    "#staff": false,
    "#student": true,
    "collapsed": true
   },
   "outputs": [],
   "source": [
    "early_game = monopoly_information.copy()\n",
    "early_game['Expected Return Per Turn'] = ...\n",
    "early_game['Cost'] = early_game['Property Cost']\n",
    "early_game['Profit in 60 Turns'] = ...\n",
    "early_game"
   ]
  },
  {
   "cell_type": "markdown",
   "metadata": {
    "#solution": false,
    "#staff": false,
    "#student": false
   },
   "source": [
    "How do we fare overall for each color group in monopoly? We'll split the tiles into \n",
    "\n",
    "- Group the properties by color\n",
    "- Group the railroads together\n",
    "- Group the Utilities together"
   ]
  },
  {
   "cell_type": "code",
   "execution_count": null,
   "metadata": {
    "#solution": false,
    "#staff": false,
    "#student": false,
    "collapsed": true
   },
   "outputs": [],
   "source": [
    "early_game_results = early_game.group('Colors',collect=sum)\n",
    "early_game_results.sort('Profit in 60 Turns sum',descending=True)"
   ]
  },
  {
   "cell_type": "markdown",
   "metadata": {
    "#solution": false,
    "#staff": false,
    "#student": false
   },
   "source": [
    "The `profit_over_time` function charts the profit as a function of the number of turns played after buying."
   ]
  },
  {
   "cell_type": "code",
   "execution_count": null,
   "metadata": {
    "#solution": false,
    "#staff": false,
    "#student": false,
    "collapsed": true
   },
   "outputs": [],
   "source": [
    "profit_over_time(early_game)"
   ]
  },
  {
   "cell_type": "markdown",
   "metadata": {
    "#solution": false,
    "#staff": false,
    "#student": false
   },
   "source": [
    "Finally, let's look at profit for each individual property"
   ]
  },
  {
   "cell_type": "code",
   "execution_count": null,
   "metadata": {
    "#solution": false,
    "#staff": false,
    "#student": false,
    "collapsed": true
   },
   "outputs": [],
   "source": [
    "plot_board(early_game['Profit in 60 Turns'],lighten=1.5) # How much reward after 60 turns\n",
    "plt.title('Profit After 60 Turns (Early Game)');"
   ]
  },
  {
   "cell_type": "markdown",
   "metadata": {
    "#solution": false,
    "#staff": false,
    "#student": false
   },
   "source": [
    "### 3.3\n",
    "\n",
    "Make some observations based on the above three graphs about what properties are most valuable, what color groups profit the best, and which seem to be better investments in the early game."
   ]
  },
  {
   "cell_type": "markdown",
   "metadata": {
    "#solution": false,
    "#staff": false,
    "#student": false
   },
   "source": [
    "*Your Observations Here*"
   ]
  },
  {
   "cell_type": "markdown",
   "metadata": {
    "#solution": false,
    "#staff": false,
    "#student": false
   },
   "source": [
    "### 3.4: Late Game Analysis\n",
    "\n",
    "Let's now consider the end-game, when all properties have hotels on them? What's the best set of investments to bankrupt your opponents?\n"
   ]
  },
  {
   "cell_type": "markdown",
   "metadata": {
    "#solution": false,
    "#staff": false,
    "#student": false
   },
   "source": [
    "In the late game, the rent generated is `monopoly_information['Hotel Rent']`. Just as in the early game, fill out the code for the expected return per turn, and the profit in 60 turns. "
   ]
  },
  {
   "cell_type": "code",
   "execution_count": null,
   "metadata": {
    "#solution": false,
    "#staff": false,
    "#student": true,
    "collapsed": true
   },
   "outputs": [],
   "source": [
    "\n",
    "late_game = monopoly_information.copy()\n",
    "late_game['Expected Return Per Turn'] = ...\n",
    "late_game['Cost'] = late_game['Property Cost'] + 5*late_game['House Cost']\n",
    "late_game['Profit in 60 Turns'] = ...\n",
    "late_game"
   ]
  },
  {
   "cell_type": "code",
   "execution_count": null,
   "metadata": {
    "#solution": false,
    "#staff": false,
    "#student": false,
    "collapsed": true
   },
   "outputs": [],
   "source": [
    "late_game_results = late_game.group('Colors',collect=sum)\n",
    "late_game_results.sort('Profit in 60 Turns sum',descending=True)"
   ]
  },
  {
   "cell_type": "code",
   "execution_count": null,
   "metadata": {
    "#solution": false,
    "#staff": false,
    "#student": false,
    "collapsed": true
   },
   "outputs": [],
   "source": [
    "profit_over_time(late_game)"
   ]
  },
  {
   "cell_type": "code",
   "execution_count": null,
   "metadata": {
    "#solution": false,
    "#staff": false,
    "#student": false,
    "collapsed": true
   },
   "outputs": [],
   "source": [
    "plot_board(late_game['Profit in 60 Turns'],lighten=1.5) # How much reward after 60 turns\n",
    "plt.title('Profit After 60 Turns (Late Game)');"
   ]
  },
  {
   "cell_type": "markdown",
   "metadata": {
    "#solution": false,
    "#staff": false,
    "#student": false
   },
   "source": [
    "### 3.5\n",
    "\n",
    "Make some observations based on the above three graphs about what properties are most valuable, what color groups profit the best, and which seem to be better investments in the late game. How have these groups changed from the early game?"
   ]
  },
  {
   "cell_type": "markdown",
   "metadata": {
    "#solution": false,
    "#staff": false,
    "#student": false
   },
   "source": [
    "*Your observations here*"
   ]
  },
  {
   "cell_type": "markdown",
   "metadata": {
    "#solution": false,
    "#staff": false,
    "#student": false
   },
   "source": [
    "## Part 4: Finale\n"
   ]
  },
  {
   "cell_type": "markdown",
   "metadata": {
    "#solution": false,
    "#staff": false,
    "#student": false
   },
   "source": [
    "In a short paragraph, describe what strategies in Monopoly you'd adopt as a result of this analysis. Did the results confirm any heuristic strategies in Monopoly that you previously developed? Do the numbers match up with games you've played in real life? What monopoly techniques does this analysis **not show** that you'd like to tell us about?"
   ]
  },
  {
   "cell_type": "markdown",
   "metadata": {
    "#solution": false,
    "#staff": false,
    "#student": false
   },
   "source": [
    "*Your response here*"
   ]
  },
  {
   "cell_type": "markdown",
   "metadata": {
    "#solution": false,
    "#staff": false,
    "#student": false
   },
   "source": [
    "# Submission"
   ]
  },
  {
   "cell_type": "code",
   "execution_count": null,
   "metadata": {
    "#solution": false,
    "#staff": false,
    "#student": false,
    "collapsed": true
   },
   "outputs": [],
   "source": [
    "import gsExport\n",
    "gsExport.generateSubmission(\"Lab_07.ipynb\")"
   ]
  }
 ],
 "metadata": {
  "checksums": [
   "b0aefbc0a2143213357738234b5b70f0",
   "535e51348e01cc8a6247ebbc61ffb231",
   "7c38ec3d9d85e8c389eeab66a0a98f72",
   "96b1eeeac09a988d2a79eb055da00cb2",
   "5ec8512e413b5b722b5c2ca549261d25",
   "d0fc840ee4426363a43281dde7a4bead",
   "32d5c35bb61ab87470e017774d41902d",
   "02737205387005fa837408cb407a9bc9",
   "9c4849555ae92392b89c04b62b136e69",
   "bfd108ce56c58c9bb54e7664d0d25a57",
   "6a09d4ad7a01b8317321f67a4b239200",
   "34145838ea2464757e0783c985f54a0c",
   "5f905f2dbaaea8051429cf49121d9cfd",
   "a29a24b7249db40c6e0c87d4a15aabfa",
   "2dd12297f1f6951f0532522954c2ae1b",
   "ca3b59cbe544ec16547884c15042eced",
   "22c6b73110832b17a1826578c739d7c0",
   "4319a1e0ff216e45f647ce8d0a6ee491",
   "bca10d910863d7657662880e74feee84",
   "f3c6dc02295b5c2a7daa002f19bffac1",
   "b0100c2440177d07dafa1db4061b287e",
   "20ad10a0c291efe92ef8cb9b4353942c",
   "2f43b42fd833d1e77420a8dae7419000",
   "31faaeef6202621818b49efc1e1f8889",
   "f0aad69747eca5aa14b03be09c71c921",
   "09d9a2d94743b5cd5e1c942fff755ffe",
   "e956064122162cdba5b9ec52ba7ea021",
   "007ffb8f014d17ce389b7e08e62a8c6b",
   "a7e18329e694c0d7a66bebcde79c0493",
   "7d6579a6757d8578512e9d17007b1d5f",
   "53e3e9dd71588b74779e1a8209a89896",
   "98adca7b55e045b51047a4fad358531a",
   "42bdcfa2be1d480d03b99f3a68cb81ce",
   "83db88d2a346bd2b415f2872e5793246",
   "78c9c5b7f1da19a1a6d6a58347846010",
   "69f3de2e8d679e7d054d96be7762ab26",
   "9794a9c682b6f18d27d365af0d0c7caa",
   "bc15b58e787e8e8583f70d0628eca145",
   "78f3ab1fbb964126f08b026f6da78e73",
   "b7b743a5f45c1a7ce29c3dd5bd23aada",
   "95c081c4abf82e146b24684b8192f691",
   "2b552ce90643a8eac4f25998acccae1e",
   "47c568ae83e31683cf40737b8570872d",
   "dc05c19476346f9686e6ca8d92f6a5c1",
   "5118923715c2dd30eafb7b161b0dba25",
   "5e01b18aa7ae763f01d9888877d8e830",
   "9bb824dcfe53124e0a560b306e14367d",
   "bed234c734b5b9054fabee23ed5707f9",
   "fbf9b441a0c19dc449fb5846e4926f01",
   "722585c9c179478616d328af13def814",
   "b92cf1652581fe8390c5afbb527d2d3e",
   "7b3a2f69ed1f297bf61372b2f6fd15b9",
   "c70da7130623efb28a0ea46df9d15b09",
   "ef611d32b8768b7a127466cb3435c900",
   "49f66bc6780418c4215b6c19244d1ef9",
   "51983b664802b7929f93324d9bc6de18",
   "a599566a22a3fc9fff496ccb33e87ee0",
   "76664ab233295f5341dc7f7252b5b097",
   "fb2ae314ed308d66e725ab027c14157e",
   "930efceaaf0052595d832ba3f4b4ebd1",
   "40ee0fc4e4e86609173ccefe7fee42b9",
   "bb756982c3781d28dab1e077dcd5ee4f",
   "f11ae1b417c188ad65a146b8a59d8a91",
   "5ca39fda0595256ed7ea43683532f1d9",
   "95369e3e2dfb1862eeb2f4ce34096e96",
   "db2c018b55fefb5f014ee03a1549c9e2",
   "caf028ac9ef1b9fa6912e601a005308a",
   "0044a15e42b30b2a7ff2895c32ca065d",
   "f139e5265216372b25df522d9c4f03f1",
   "2f43b42fd833d1e77420a8dae7419000",
   "7e6d4f25fe47298bf9000812e87f9186",
   "353e3abf869210765770bf3310835ea5",
   "7fc2b9c2a7f5bfc6939ca13d7029e898",
   "9be1bb4becf79321a8185845f9986eae",
   "b70a4aa47c9fd445d781214547aad3d2",
   "643dbe30f8e70a06c1bdcd37feb28f7b",
   "08d9a409c68cd3a75b8b234ba2b12459",
   "5a21a53ce1b9ce1037f3da2881e6cab0",
   "7a5263638b05fafdc424b00593dea491",
   "4a13663aa72b7eca90500a1a7efb8a35",
   "ae20613396524a00ad452de14fc624b8",
   "27ddacd56f7c3fd591c467763f56a7ee",
   "eba4dd0041d794f6345d665a74e9611d",
   "99c295706b6866d6d15170a04f7221c3",
   "af64a02f4e6d2a09f5d8b2953f457fbf",
   "8f1ec8217575baaa2237aa2f988cd7cd",
   "178cbe024d163f019fc1177c52857181",
   "b928146a02d5a70cb8a20955d95fcf06",
   "9d4233dad2b580cdd82a5c0a9af36886",
   "662064544fc48a32a2f4ad090bce51f0",
   "173f64283dc6ef96dcc9e01fde5db57f",
   "6f570f07153fd3c2c44536dab2f0d14b",
   "1a59f54707371790ff15356a33ac8e2f",
   "f9a77e35411b4649401f95f6d8c2b7d6",
   "9c7a7041afbe8078dd8c404afe2d720f",
   "c9c025c66b9584dfa0a86339750c0cb5",
   "7895e7726fdd6692deb3dfd52e9eb08a",
   "1d0ccd2ea5b545673045b525f4f23688",
   "0f57952e718fb63180c2b14088acbf3c",
   "c0ee20a67a27d4c0f25a08a4829c01fa",
   "9eb9356ee9455209a7461c169c764de5",
   "68ac454e83537f3425ad6479559c23c1",
   "b9890369211eb383134e912fed074365",
   "eef2b47f7be088f03dc400018c07997e",
   "03cb9d5f5a9a57b556e42efb0392f6a9",
   "0994eaa2c905d6aa54dbf3ccc5009428",
   "5118923715c2dd30eafb7b161b0dba25",
   "5e01b18aa7ae763f01d9888877d8e830"
  ],
  "kernelspec": {
   "display_name": "Python 3",
   "language": "python",
   "name": "python3"
  },
  "language_info": {
   "codemirror_mode": {
    "name": "ipython",
    "version": 3
   },
   "file_extension": ".py",
   "mimetype": "text/x-python",
   "name": "python",
   "nbconvert_exporter": "python",
   "pygments_lexer": "ipython3",
   "version": "3.5.2"
  },
  "number_of_pagebreaks": 0,
  "widgets": {
   "state": {},
   "version": "1.1.2"
  }
 },
 "nbformat": 4,
 "nbformat_minor": 2
}
