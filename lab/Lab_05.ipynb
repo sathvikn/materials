{
 "cells": [
  {
   "cell_type": "markdown",
   "metadata": {
    "deletable": true,
    "editable": true
   },
   "source": [
    "<table align=\"left\" style=\"border-style: hidden\" class=\"table\"> <tr> <td class=\"col-md-2\"><img style=\"float\" src=\"http://prob140.org/assets/icon256.png\" alt=\"Prob140 Logo\" style=\"width: 120px;\"/></td><td><div align=\"left\"><h3 style=\"margin-top: 0;\">Probability for Data Science</h3><h4 style=\"margin-top: 20px;\">UC Berkeley, Spring 2018</h4><p>Ani Adhikari</div></td></tr></table><!-- not in pdf -->"
   ]
  },
  {
   "cell_type": "code",
   "execution_count": null,
   "metadata": {
    "#solution": false,
    "#staff": false,
    "#student": false,
    "collapsed": true,
    "deletable": true,
    "editable": true
   },
   "outputs": [],
   "source": [
    "from prob140 import *\n",
    "from datascience import *\n",
    "import numpy as np\n",
    "import math\n",
    "\n",
    "import matplotlib.pyplot as plt\n",
    "%matplotlib inline\n",
    "import matplotlib\n",
    "matplotlib.style.use('fivethirtyeight')"
   ]
  },
  {
   "cell_type": "markdown",
   "metadata": {
    "#solution": false,
    "#staff": false,
    "#student": false,
    "deletable": true,
    "editable": true
   },
   "source": [
    "# Lab 5: Uniform and Size Biased Permutations #\n",
    "\n",
    "Markov chains on permutations of sets of objects have applications in numerous areas, from cryptography to [apple picking](https://link.springer.com/content/pdf/10.1007/978-3-642-19592-1_1.pdf). This lab is an introduction to such chains. You will do some decryption in the next lab, but we will leave you to figure out for yourself how best to pick apples.\n",
    "\n",
    "Card shuffling has many connections with mathematics, most of all with probability theory. In this lab you will study a simple shuffle known as the *random-to-front*, and see what happens to the deck when you repeat the shuffle many times.\n",
    "\n",
    "Not all shuffles are based on uniform random sampling. The *Tsetlin Library* is a model for dynamically permuting objects that are randomly selected according to their importance. For example, the objects may be files in a computer system, with some files being accessed more often than others. The long run state of such a library has elegant properties, some of which you will discover and prove."
   ]
  },
  {
   "cell_type": "markdown",
   "metadata": {
    "#solution": false,
    "#staff": false,
    "#student": false,
    "deletable": true,
    "editable": true
   },
   "source": [
    "#### Terminology ####\n",
    "- An *alphabet* is the finite set of objects that will be permuted. Alphabets in this lab will consist of letters in the usual English alphabet. But we will use only a few letters, not 26.\n",
    "- Throughout, we will imagine the objects to be set out in a sequence from left to right. The *front* of the permutation is the left-most object.\n",
    "- *At random* without further qualification means *uniformly at random*. We will start out with uniform random permutations and then move on to a setting where the selection is not uniform."
   ]
  },
  {
   "cell_type": "markdown",
   "metadata": {
    "#solution": false,
    "#staff": false,
    "#student": false,
    "deletable": true,
    "editable": true
   },
   "source": [
    "## Part 1: Permutations in Python ##\n",
    "As you know, the number of permutations increases rapidly as a function of the number of objects being permuted. Python has functions that help us create all possible permutations of an alphabet.\n",
    "\n",
    "Start out by running the cell below."
   ]
  },
  {
   "cell_type": "code",
   "execution_count": null,
   "metadata": {
    "#solution": false,
    "#staff": false,
    "#student": false,
    "collapsed": true,
    "deletable": true,
    "editable": true
   },
   "outputs": [],
   "source": [
    "from itertools import permutations"
   ]
  },
  {
   "cell_type": "markdown",
   "metadata": {
    "#solution": false,
    "#staff": false,
    "#student": false,
    "deletable": true,
    "editable": true
   },
   "source": [
    "In this part of the lab we will use just a three-letter alphabet to demonstrate how the functions work. In later parts you can change the alphabet and use the same steps to generate all its permutations.\n",
    "\n",
    "### 1a) State Space ###\n",
    "Run the two cells below. The final line evaluates to a list of all possible states."
   ]
  },
  {
   "cell_type": "code",
   "execution_count": null,
   "metadata": {
    "#solution": false,
    "#staff": false,
    "#student": false,
    "collapsed": true,
    "deletable": true,
    "editable": true
   },
   "outputs": [],
   "source": [
    "alpha_3 = ['A', 'B', 'C']"
   ]
  },
  {
   "cell_type": "code",
   "execution_count": null,
   "metadata": {
    "#solution": false,
    "#staff": false,
    "#student": false,
    "collapsed": false,
    "deletable": true,
    "editable": true
   },
   "outputs": [],
   "source": [
    "states_3 = list(permutations(alpha_3))\n",
    "states_3"
   ]
  },
  {
   "cell_type": "markdown",
   "metadata": {
    "#solution": false,
    "#staff": false,
    "#student": false,
    "deletable": true,
    "editable": true
   },
   "source": [
    "The rest of this part of the lab takes you through `MarkovChain` methods in the `prob140` library. Pay attention to the code as you will need to use it in subsequent parts of the lab."
   ]
  },
  {
   "cell_type": "markdown",
   "metadata": {
    "#solution": false,
    "#staff": false,
    "#student": false,
    "deletable": true,
    "editable": true
   },
   "source": [
    "### 1b) Transition Matrix ###\n",
    "The transition matrix of the chain depends on the rules by which the chain moves. \n",
    "As our first example, we will use the following simple rules for one-step transitions.\n",
    "\n",
    "- $P(i, i) = 0.5$ for each state $i$\n",
    "- $P(i, j) = 0.1$ for each pair of states with $j \\ne i$\n",
    "\n",
    "Define a function `transition_rule` to reflect these probabilities. It should take two arguments: $i$ and $j$. It should return $P(i, j)$. "
   ]
  },
  {
   "cell_type": "code",
   "execution_count": null,
   "metadata": {
    "#solution": false,
    "#staff": false,
    "#student": true,
    "collapsed": true,
    "deletable": true,
    "editable": true
   },
   "outputs": [],
   "source": [
    "def transition_rule(start_state, end_state):\n",
    "    ..."
   ]
  },
  {
   "cell_type": "markdown",
   "metadata": {
    "#solution": false,
    "#staff": false,
    "#student": false,
    "deletable": true,
    "editable": true
   },
   "source": [
    "The cell below shows how to access the elements at index 0 and index 4 of the list `states_3`. "
   ]
  },
  {
   "cell_type": "code",
   "execution_count": null,
   "metadata": {
    "#solution": false,
    "#staff": false,
    "#student": false,
    "collapsed": true,
    "deletable": true,
    "editable": true
   },
   "outputs": [],
   "source": [
    "abc = states_3[0]\n",
    "cab = states_3[4]"
   ]
  },
  {
   "cell_type": "markdown",
   "metadata": {
    "#solution": false,
    "#staff": false,
    "#student": false,
    "deletable": true,
    "editable": true
   },
   "source": [
    "What should be the output of each of the two following cells? Check that your function returns the right values."
   ]
  },
  {
   "cell_type": "code",
   "execution_count": null,
   "metadata": {
    "#solution": false,
    "#staff": false,
    "#student": true,
    "collapsed": false,
    "deletable": true,
    "editable": true
   },
   "outputs": [],
   "source": [
    "transition_rule(abc, abc)"
   ]
  },
  {
   "cell_type": "code",
   "execution_count": null,
   "metadata": {
    "#solution": false,
    "#staff": false,
    "#student": true,
    "collapsed": false,
    "deletable": true,
    "editable": true
   },
   "outputs": [],
   "source": [
    "transition_rule(abc, cab)"
   ]
  },
  {
   "cell_type": "markdown",
   "metadata": {
    "#solution": false,
    "#staff": false,
    "#student": false,
    "deletable": true,
    "editable": true
   },
   "source": [
    "### 1c) Transition Matrix ###\n",
    "The call to construct a `MarkovChain` object from a transition function and display its transition matrix is:\n",
    "\n",
    "`MarkovChain.from_transition_function(list_of_states, name_of_transition_function)`\n",
    "\n",
    "Construct the chain `lazy_walk` based on the transition behavior in parts **a** and **b**. Check that the transition matrix correctly shows $P(i, j)$ for every pair of states $i$ and $j$. It is \"lazy\" because it is just as likely to stay in place as it is to move."
   ]
  },
  {
   "cell_type": "code",
   "execution_count": null,
   "metadata": {
    "#solution": false,
    "#staff": false,
    "#student": true,
    "collapsed": true,
    "deletable": true,
    "editable": true
   },
   "outputs": [],
   "source": [
    "lazy_walk = ...\n",
    "lazy_walk"
   ]
  },
  {
   "cell_type": "markdown",
   "metadata": {
    "#solution": false,
    "#staff": false,
    "#student": false,
    "deletable": true,
    "editable": true
   },
   "source": [
    "Is the chain irreducible? Is it aperiodic? Explain your answers briefly."
   ]
  },
  {
   "cell_type": "markdown",
   "metadata": {
    "#solution": false,
    "#staff": false,
    "#student": true,
    "deletable": true,
    "editable": true
   },
   "source": [
    "\n",
    "**Your answer here.**"
   ]
  },
  {
   "cell_type": "markdown",
   "metadata": {
    "#solution": false,
    "#staff": false,
    "#student": false,
    "deletable": true,
    "editable": true
   },
   "source": [
    "### 1d) $n$ Steps ###\n",
    "For a Markov chain $X_0, X_1, X_2, \\ldots$ represented by the `MarkovChain` `mc`, the calls below result in the $n$-step transition matrix and the unconditional distribution of $X_n$.\n",
    "\n",
    "- `mc.transtion_matrix(n)`\n",
    "- `mc.distribution(initial_state, n)` where `initial_state` is a given value of $X_0$\n",
    "- `mc.distribution(initial_distribution, n)` where `initial_distribution` is a `prob140` distribution object containing the distribution of $X_0$ \n",
    "\n",
    "Display the 3-step transition matrix of the chain."
   ]
  },
  {
   "cell_type": "code",
   "execution_count": null,
   "metadata": {
    "#solution": false,
    "#staff": false,
    "#student": false,
    "collapsed": false,
    "deletable": true,
    "editable": true
   },
   "outputs": [],
   "source": [
    "lazy_walk.transition_matrix(3)"
   ]
  },
  {
   "cell_type": "markdown",
   "metadata": {
    "#solution": false,
    "#staff": false,
    "#student": false,
    "deletable": true,
    "editable": true
   },
   "source": [
    "Display the distribution of $X_3$ given $X_0 =$ `abc`. Note that the output is a Table; you can use Table methods on it as needed."
   ]
  },
  {
   "cell_type": "code",
   "execution_count": null,
   "metadata": {
    "#solution": false,
    "#staff": false,
    "#student": true,
    "collapsed": true,
    "deletable": true,
    "editable": true
   },
   "outputs": [],
   "source": [
    "..."
   ]
  },
  {
   "cell_type": "markdown",
   "metadata": {
    "#solution": false,
    "#staff": false,
    "#student": false,
    "deletable": true,
    "editable": true
   },
   "source": [
    "### 1e) Steady State ###\n",
    "What should the steady state distribution of this chain be? Explain your answer."
   ]
  },
  {
   "cell_type": "markdown",
   "metadata": {
    "#solution": false,
    "#staff": false,
    "#student": true,
    "deletable": true,
    "editable": true
   },
   "source": [
    "\n",
    "**Your answer here.**"
   ]
  },
  {
   "cell_type": "markdown",
   "metadata": {
    "#solution": false,
    "#staff": false,
    "#student": false,
    "deletable": true,
    "editable": true
   },
   "source": [
    "The call `mc.steady_state()` displays the steady state distribution of the chain. Complete the cell below to create `pi`, the steady state distribution of `lazy_walk`. Check that the result agrees with your answer above."
   ]
  },
  {
   "cell_type": "code",
   "execution_count": null,
   "metadata": {
    "#solution": false,
    "#staff": false,
    "#student": true,
    "collapsed": true,
    "deletable": true,
    "editable": true
   },
   "outputs": [],
   "source": [
    "pi = ...\n",
    "pi"
   ]
  },
  {
   "cell_type": "markdown",
   "metadata": {
    "#solution": false,
    "#staff": false,
    "#student": false,
    "deletable": true,
    "editable": true
   },
   "source": [
    "If the distribution of $X_0$ is `pi`, what should the distribution of $X_{3}$ be? Explain your answer."
   ]
  },
  {
   "cell_type": "markdown",
   "metadata": {
    "#solution": false,
    "#staff": false,
    "#student": true,
    "deletable": true,
    "editable": true
   },
   "source": [
    "\n",
    "**Your answer here.**"
   ]
  },
  {
   "cell_type": "markdown",
   "metadata": {
    "#solution": false,
    "#staff": false,
    "#student": false,
    "deletable": true,
    "editable": true
   },
   "source": [
    "Display the distribution of $X_3$ given that the distribution of $X_0$ is `pi`, and check that it agrees with your answer above."
   ]
  },
  {
   "cell_type": "code",
   "execution_count": null,
   "metadata": {
    "#solution": false,
    "#staff": false,
    "#student": true,
    "collapsed": true,
    "deletable": true,
    "editable": true
   },
   "outputs": [],
   "source": [
    "..."
   ]
  },
  {
   "cell_type": "markdown",
   "metadata": {
    "#solution": false,
    "#staff": false,
    "#student": false,
    "deletable": true,
    "editable": true
   },
   "source": [
    "## Part 2: Random-to-Front Shuffle ##\n",
    "One of the simplest ways to shuffle a deck of cards is to pick a card at random from the deck and place it at the top, and then repeat the process. This is called the *random-to-top* or *random-to-front* shuffle. In this part you will study this shuffle as a Markov chain.\n",
    "\n",
    "### 2a) Markov Property ###\n",
    "Explain why the process of random-to-front shuffling is a Markov chain with time-homogenous transition probabilities. "
   ]
  },
  {
   "cell_type": "markdown",
   "metadata": {
    "#solution": false,
    "#staff": false,
    "#student": true,
    "deletable": true,
    "editable": true
   },
   "source": [
    "\n",
    "**Your answer here.**"
   ]
  },
  {
   "cell_type": "markdown",
   "metadata": {
    "#solution": false,
    "#staff": false,
    "#student": false,
    "deletable": true,
    "editable": true
   },
   "source": [
    "### 2b) Move to Front ###\n",
    "The fundamental move in this process is constructing a permutation of the deck by moving one element to the front, that is, to the extreme left position in the deck. We are helping you do that, by defining the function `move_to_front`. It takes two arguments: a state and the element to move to the front. It returns the state that has the given element moved to the front of the deck and all the others left unchanged."
   ]
  },
  {
   "cell_type": "code",
   "execution_count": null,
   "metadata": {
    "#solution": false,
    "#staff": false,
    "#student": false,
    "collapsed": true,
    "deletable": true,
    "editable": true
   },
   "outputs": [],
   "source": [
    "def move_to_front(state, element):\n",
    "    y = list(state)[:]\n",
    "    y.remove(element)\n",
    "    return tuple([element] + y) "
   ]
  },
  {
   "cell_type": "markdown",
   "metadata": {
    "#solution": false,
    "#staff": false,
    "#student": false,
    "deletable": true,
    "editable": true
   },
   "source": [
    "Continue with your little deck of three cards for now; we will soon increase the size. If you start with the state `cab` and move `a` to the front, what permutation should you get? Check that the following cells have the right answers. Remember that `abc` is the name to which we assigned `('A', 'B', 'C')` and `cab` is `('C', 'A', 'B')`."
   ]
  },
  {
   "cell_type": "code",
   "execution_count": null,
   "metadata": {
    "#solution": false,
    "#staff": false,
    "#student": true,
    "collapsed": false,
    "deletable": true,
    "editable": true
   },
   "outputs": [],
   "source": [
    "move_to_front(cab, 'A')"
   ]
  },
  {
   "cell_type": "code",
   "execution_count": null,
   "metadata": {
    "#solution": false,
    "#staff": false,
    "#student": true,
    "collapsed": false,
    "deletable": true,
    "editable": true
   },
   "outputs": [],
   "source": [
    "move_to_front(abc, 'B')"
   ]
  },
  {
   "cell_type": "markdown",
   "metadata": {
    "#solution": false,
    "#staff": false,
    "#student": false,
    "deletable": true,
    "editable": true
   },
   "source": [
    "### 2c) Random-to-Front Chain ###\n",
    "Construct the transition matrix of the random-to-front chain on permutations of `A`, `B`, and `C`. Before you write any code, answer the following question:\n",
    "\n",
    "Consider the row indexed by the state `('B', 'A', 'C')`. Which elements of the row will be 0? Which will be positive, and what will be their values?"
   ]
  },
  {
   "cell_type": "markdown",
   "metadata": {
    "#solution": false,
    "#staff": false,
    "#student": false,
    "deletable": true,
    "editable": true
   },
   "source": [
    "**Your answer here.**"
   ]
  },
  {
   "cell_type": "markdown",
   "metadata": {
    "#solution": false,
    "#staff": false,
    "#student": false,
    "deletable": true,
    "editable": true
   },
   "source": [
    "Now complete the cell below so that the last line displays the transition matrix of `random_to_front_3` which is the `MarkovChain` object corresponding to the chain described above. Confirm that it agrees with your answer above."
   ]
  },
  {
   "cell_type": "code",
   "execution_count": null,
   "metadata": {
    "#solution": false,
    "#staff": false,
    "#student": true,
    "collapsed": true,
    "deletable": true,
    "editable": true
   },
   "outputs": [],
   "source": [
    "def random_to_front_3(start_state, end_state):\n",
    "    ...\n",
    "    \n",
    "random_to_front_3 = MarkovChain ...\n",
    "random_to_front_3"
   ]
  },
  {
   "cell_type": "markdown",
   "metadata": {
    "#solution": false,
    "#staff": false,
    "#student": false,
    "deletable": true,
    "editable": true
   },
   "source": [
    "Explain why the chain is irreducible and aperiodic."
   ]
  },
  {
   "cell_type": "markdown",
   "metadata": {
    "#solution": false,
    "#staff": false,
    "#student": true,
    "deletable": true,
    "editable": true
   },
   "source": [
    "\n",
    "**Your answer here.**"
   ]
  },
  {
   "cell_type": "markdown",
   "metadata": {
    "#solution": false,
    "#staff": false,
    "#student": false,
    "deletable": true,
    "editable": true
   },
   "source": [
    "### 2d) Steady State ###\n",
    "Start with the perfectly ordered state `('A', 'B', 'C')`. We named this `abc` earlier. Find the distribution of the chain after 5 shuffles."
   ]
  },
  {
   "cell_type": "code",
   "execution_count": null,
   "metadata": {
    "#solution": false,
    "#staff": false,
    "#student": true,
    "collapsed": true,
    "deletable": true,
    "editable": true
   },
   "outputs": [],
   "source": [
    "..."
   ]
  },
  {
   "cell_type": "markdown",
   "metadata": {
    "#solution": false,
    "#staff": false,
    "#student": false,
    "deletable": true,
    "editable": true
   },
   "source": [
    "What should the steady state of the chain be? What should the steady state be if the deck has $N$ cards instead of 3? Why?"
   ]
  },
  {
   "cell_type": "markdown",
   "metadata": {
    "#solution": false,
    "#staff": false,
    "#student": true,
    "deletable": true,
    "editable": true
   },
   "source": [
    "\n",
    "**Your answer here.**"
   ]
  },
  {
   "cell_type": "markdown",
   "metadata": {
    "#solution": false,
    "#staff": false,
    "#student": false,
    "deletable": true,
    "editable": true
   },
   "source": [
    "### 2e) Larger Deck ###\n",
    "Complete the cell below to check your answer to part **d** for a deck of 6 cards."
   ]
  },
  {
   "cell_type": "code",
   "execution_count": null,
   "metadata": {
    "#solution": false,
    "#staff": false,
    "#student": true,
    "collapsed": true,
    "deletable": true,
    "editable": true
   },
   "outputs": [],
   "source": [
    "alpha_6 = ['A', 'B', 'C', 'D', 'E', 'F']\n",
    "states_6 = ...\n",
    "\n",
    "def random_to_front_6_trans(start_state, end_state):\n",
    "    ...\n",
    "           \n",
    "random_to_front_6 = MarkovChain...\n",
    "random_to_front_6.steady_state()"
   ]
  },
  {
   "cell_type": "markdown",
   "metadata": {
    "#solution": false,
    "#staff": false,
    "#student": false,
    "deletable": true,
    "editable": true
   },
   "source": [
    "Explain by calculation where the value at index 0 of the column `Probability` comes from."
   ]
  },
  {
   "cell_type": "code",
   "execution_count": null,
   "metadata": {
    "#solution": false,
    "#staff": false,
    "#student": true,
    "collapsed": true,
    "deletable": true,
    "editable": true
   },
   "outputs": [],
   "source": [
    "..."
   ]
  },
  {
   "cell_type": "markdown",
   "metadata": {
    "#solution": false,
    "#staff": false,
    "#student": false,
    "deletable": true,
    "editable": true
   },
   "source": [
    "## Part 3: The Tsetlin Library ##\n",
    "The [Tsetlin Library](https://www.math.ucdavis.edu/~anne/SQ2014/thematic_tutorials/algebraic_combinatorics/tsetlin_library.html) imagines that books are being permuted according to a move-to-front scheme in which the books are chosen not uniformly but based on their *importance* or *popularity*. More popular books are therefore more likely to be selected and moved to the front of the row, that is, in the leftmost position. [Applications](https://arxiv.org/pdf/0805.0083.pdf) of this model to computer science include dynamic file management and cache management."
   ]
  },
  {
   "cell_type": "markdown",
   "metadata": {
    "#solution": false,
    "#staff": false,
    "#student": false,
    "deletable": true,
    "editable": true
   },
   "source": [
    "### 3a) Weights ###\n",
    "Consider a library with just three books `'A'`, `'B'`, and `'C'`. Let the \"importance\" of each book be reflected in the probability with which it is selected to be moved to the left: $p_A = 0.6$, $p_B = 0.3$, $p_C = 0.1$."
   ]
  },
  {
   "cell_type": "code",
   "execution_count": null,
   "metadata": {
    "#solution": false,
    "#staff": false,
    "#student": false,
    "collapsed": false,
    "deletable": true,
    "editable": true
   },
   "outputs": [],
   "source": [
    "weights_3 = Table().with_column(\n",
    "    'Book', alpha_3,\n",
    "    'Weight', [0.6, 0.3, 0.1]\n",
    ")\n",
    "weights_3"
   ]
  },
  {
   "cell_type": "markdown",
   "metadata": {
    "#solution": false,
    "#staff": false,
    "#student": false,
    "deletable": true,
    "editable": true
   },
   "source": [
    "Recall that a row of a Table is a \"row object\". The call `tbl.row(index)` evaluates to the row of `tbl` that has the given index."
   ]
  },
  {
   "cell_type": "code",
   "execution_count": null,
   "metadata": {
    "#solution": false,
    "#staff": false,
    "#student": false,
    "collapsed": false,
    "deletable": true,
    "editable": true
   },
   "outputs": [],
   "source": [
    "weights_3.row(0)"
   ]
  },
  {
   "cell_type": "markdown",
   "metadata": {
    "#solution": false,
    "#staff": false,
    "#student": false,
    "deletable": true,
    "editable": true
   },
   "source": [
    "You can access elements of a row just as you can access elements of a list."
   ]
  },
  {
   "cell_type": "code",
   "execution_count": null,
   "metadata": {
    "#solution": false,
    "#staff": false,
    "#student": false,
    "collapsed": false,
    "deletable": true,
    "editable": true
   },
   "outputs": [],
   "source": [
    "weights_3.row(0)[1]"
   ]
  },
  {
   "cell_type": "markdown",
   "metadata": {
    "#solution": false,
    "#staff": false,
    "#student": false,
    "deletable": true,
    "editable": true
   },
   "source": [
    "### 3b) The Markov Chain ###\n",
    "Construct a `MarkovChain` named `tsetlin_3` that is the Tsetlin library based on the books and weights in `weights`. \n",
    "\n",
    "Before you complete the cell, get some paper and work out what the transition matrix should be."
   ]
  },
  {
   "cell_type": "code",
   "execution_count": null,
   "metadata": {
    "#solution": false,
    "#staff": false,
    "#student": true,
    "collapsed": true,
    "deletable": true,
    "editable": true
   },
   "outputs": [],
   "source": [
    "def tsetlin_3_trans(start_state, end_state):\n",
    "    ...\n",
    "           \n",
    "tsetlin_3 = MarkovChain...\n",
    "tsetlin_3"
   ]
  },
  {
   "cell_type": "markdown",
   "metadata": {
    "#solution": false,
    "#staff": false,
    "#student": false,
    "deletable": true,
    "editable": true
   },
   "source": [
    "### 3c) The Short Run ###\n",
    "Find the distribution of the chain at time 3, given that it started in `abc`."
   ]
  },
  {
   "cell_type": "code",
   "execution_count": null,
   "metadata": {
    "#solution": false,
    "#staff": false,
    "#student": true,
    "collapsed": true,
    "deletable": true,
    "editable": true
   },
   "outputs": [],
   "source": [
    "tsetlin_3.distribution..."
   ]
  },
  {
   "cell_type": "markdown",
   "metadata": {
    "#solution": false,
    "#staff": false,
    "#student": false,
    "deletable": true,
    "editable": true
   },
   "source": [
    "This distribution is not very easy to understand. But when you run the chain for longer, something very interesting happens."
   ]
  },
  {
   "cell_type": "markdown",
   "metadata": {
    "#solution": false,
    "#staff": false,
    "#student": false,
    "deletable": true,
    "editable": true
   },
   "source": [
    "## Part 4: The Tsetlin Library in Steady State ##\n",
    "The steady state distribution of the Tsetlin Library chain has beautiful properties."
   ]
  },
  {
   "cell_type": "markdown",
   "metadata": {
    "#solution": false,
    "#staff": false,
    "#student": false,
    "deletable": true,
    "editable": true
   },
   "source": [
    "### 4a) The Leftmost Book ###\n",
    "Display a distribution `tsetlin_3_pi` that is the steady state distribution of the `tsetlin_3` chain. Notice that it is quite close to the distribution of the chain at time at time 5, which you found in **3c**. With such a small library, you don't need many steps before the library gets close to its steady state."
   ]
  },
  {
   "cell_type": "code",
   "execution_count": null,
   "metadata": {
    "#solution": false,
    "#staff": false,
    "#student": true,
    "collapsed": true,
    "deletable": true,
    "editable": true
   },
   "outputs": [],
   "source": [
    "tsetlin_3_pi = ...\n",
    "tsetlin_3_pi"
   ]
  },
  {
   "cell_type": "markdown",
   "metadata": {
    "#solution": false,
    "#staff": false,
    "#student": false,
    "deletable": true,
    "editable": true
   },
   "source": [
    "Use the table to find the expected long run proportion of time each of the following events happens. In the cell below your calculations, explain why the answers make sense.\n",
    "\n",
    "(i) the leftmost book is `'A'`\n",
    "\n",
    "(ii) the leftmost book is `'B'`\n",
    "\n",
    "(iii) the leftmost book is `'C'`"
   ]
  },
  {
   "cell_type": "code",
   "execution_count": null,
   "metadata": {
    "#solution": false,
    "#staff": false,
    "#student": true,
    "collapsed": true,
    "deletable": true,
    "editable": true
   },
   "outputs": [],
   "source": [
    "leftmost_A = ...\n",
    "leftmost_B = ...\n",
    "leftmost_C = ...\n",
    "\n",
    "leftmost_A, leftmost_B, leftmost_C"
   ]
  },
  {
   "cell_type": "markdown",
   "metadata": {
    "#solution": false,
    "#staff": false,
    "#student": true,
    "deletable": true,
    "editable": true
   },
   "source": [
    "\n",
    "**Your answer here.**"
   ]
  },
  {
   "cell_type": "markdown",
   "metadata": {
    "#solution": false,
    "#staff": false,
    "#student": false,
    "deletable": true,
    "editable": true
   },
   "source": [
    "### 4b) Second From Left ###\n",
    "Use the steady state distribution `tsetlin_3_pi` and `weights` to find the two ratios below:\n",
    "\n",
    "(i) the expected long run proportion of times that `'A'` is leftmost and `'B'` is second leftmost, relative to the expected long run proportion of times `'A'` is leftmost and `'C'` is second leftmost\n",
    "\n",
    "(ii) weight of `'B'` relative to weight of `'C'`"
   ]
  },
  {
   "cell_type": "code",
   "execution_count": null,
   "metadata": {
    "#solution": false,
    "#staff": false,
    "#student": false,
    "collapsed": true,
    "deletable": true,
    "editable": true
   },
   "outputs": [],
   "source": [
    "ab_ac = ...\n",
    "b_c = ...\n",
    "\n",
    "ab_ac, b_c"
   ]
  },
  {
   "cell_type": "markdown",
   "metadata": {
    "#solution": false,
    "#staff": false,
    "#student": false,
    "deletable": true,
    "editable": true
   },
   "source": [
    "What do you notice about the answers?"
   ]
  },
  {
   "cell_type": "markdown",
   "metadata": {
    "#solution": false,
    "#staff": false,
    "#student": true,
    "deletable": true,
    "editable": true
   },
   "source": [
    "\n",
    "**Your answer here.**"
   ]
  },
  {
   "cell_type": "markdown",
   "metadata": {
    "#solution": false,
    "#staff": false,
    "#student": false,
    "deletable": true,
    "editable": true
   },
   "source": [
    "You should now be able to use `weights` to find the following ratios. So you shouldn't need a code cell.\n",
    "\n",
    "(i) the expected long run proportion of times `'B'` is leftmost and `'A'` is second leftmost, relative to the expected long run proportion of times `'B'` is leftmost and `'C'` is second leftmost\n",
    "\n",
    "(ii) the expected long run proportion of times `'C'` is leftmost and `'A'` is second leftmost, relative to the expected long run proportion of times `'C'` is leftmost and `'B'` is second leftmost"
   ]
  },
  {
   "cell_type": "markdown",
   "metadata": {
    "#solution": false,
    "#staff": false,
    "#student": true,
    "deletable": true,
    "editable": true
   },
   "source": [
    "\n",
    "**Your answer here.**\n",
    "\n",
    "(i)\n",
    "\n",
    "(ii)"
   ]
  },
  {
   "cell_type": "markdown",
   "metadata": {
    "#solution": false,
    "#staff": false,
    "#student": false,
    "deletable": true,
    "editable": true
   },
   "source": [
    "### 4c) [on paper] Balance Equations ###\n",
    "\n",
    "Consider the Tsetlin Library that has books `'A'`, `'B'`, `'C'` with positive weights $p_A$, $p_B$, and $p_C$ respectively. Assume $p_A + p_B + p_C = 1$.\n",
    "\n",
    "Let $\\pi$ be the steady state distribution of the chain. \n",
    "\n",
    "Write all the balance equations.\n"
   ]
  },
  {
   "cell_type": "markdown",
   "metadata": {
    "#solution": false,
    "#staff": false,
    "#student": false,
    "deletable": true,
    "editable": true
   },
   "source": [
    "### 4d) [on paper] Proportion of Time Spent Leftmost ###\n",
    "Use the balance equations to find the expected long run proportion of times when `'A'` is leftmost. Your answer should be in terms of the weights."
   ]
  },
  {
   "cell_type": "markdown",
   "metadata": {
    "#solution": false,
    "#staff": false,
    "#student": false,
    "deletable": true,
    "editable": true
   },
   "source": [
    "### 4e) [on paper] Relative Proportion of Time Spent Second from Left ###\n",
    "Use the balance equations to find the ratio of the following two quantities. Your answer should be in terms of the weights.\n",
    "\n",
    "- expected long run proportion of times when `'A'` is leftmost and `'B'` is second from left \n",
    "- expected long run proportion of times when `'A'` is leftmost and `'C'` is second from left "
   ]
  },
  {
   "cell_type": "markdown",
   "metadata": {
    "#solution": false,
    "#staff": false,
    "#student": false,
    "deletable": true,
    "editable": true
   },
   "source": [
    "## Part 5: A Larger Library ##\n",
    "These properties are true for larger libraries and any positive weights that add up to 1. Just label the highest weighted book `'A'`, the next highest one `'B'`, and so on, for consistency of interpretation.\n",
    "\n",
    "\n",
    "### 5a) Steady State ###\n",
    "Complete the cells below to construct the Tsetlin Library chain with the six books `alpha_6` and any set of positive weights that you make up, as long as $p_A$ is the largest, $p_B$ the second largest, and so on, and the sum of the weights is 1. Find the steady state distribution `tsetlin_6_pi`. It takes a while to do this, so be patient as the cell runs."
   ]
  },
  {
   "cell_type": "code",
   "execution_count": null,
   "metadata": {
    "#solution": false,
    "#staff": false,
    "#student": true,
    "collapsed": false,
    "deletable": true,
    "editable": true
   },
   "outputs": [],
   "source": [
    "weights_6 = Table().with_column(\n",
    "    'Book', alpha_6,\n",
    "    'Weight', ...\n",
    ")\n",
    "weights_6"
   ]
  },
  {
   "cell_type": "code",
   "execution_count": null,
   "metadata": {
    "#solution": false,
    "#staff": false,
    "#student": true,
    "collapsed": true,
    "deletable": true,
    "editable": true
   },
   "outputs": [],
   "source": [
    "def tsetlin_6_trans(start_state, end_state):\n",
    "    ...\n",
    "           \n",
    "tsetlin_6 = MarkovChain...\n",
    "tsetlin_6_pi = tsetlin_6.steady_state()"
   ]
  },
  {
   "cell_type": "code",
   "execution_count": null,
   "metadata": {
    "#solution": false,
    "#staff": false,
    "#student": true,
    "collapsed": false,
    "deletable": true,
    "editable": true
   },
   "outputs": [],
   "source": [
    "tsetlin_6_pi"
   ]
  },
  {
   "cell_type": "markdown",
   "metadata": {
    "#solution": false,
    "#staff": false,
    "#student": false,
    "deletable": true,
    "editable": true
   },
   "source": [
    "### 5b) Long Run Proportions ###\n",
    "(i) Use `tsetlin_6_pi` to find the expected long run proportion of times when `'A'` is leftmost.\n",
    "\n",
    "It might help to remember that `tbl.take(range_of_indices)` evaluates to a Table consisting of the rows of `tbl` indexed by elements of `range_of_indices`."
   ]
  },
  {
   "cell_type": "code",
   "execution_count": null,
   "metadata": {
    "#solution": false,
    "#staff": false,
    "#student": true,
    "collapsed": true,
    "deletable": true,
    "editable": true
   },
   "outputs": [],
   "source": [
    "# (i)\n"
   ]
  },
  {
   "cell_type": "markdown",
   "metadata": {
    "#solution": false,
    "#staff": false,
    "#student": false,
    "deletable": true,
    "editable": true
   },
   "source": [
    "(ii) Use `tsetlin_6_pi` to find the ratio of the expected long run proportions of times when:\n",
    "\n",
    "- `'A'` is leftmost and `'B'` is second from left\n",
    "- `'A'` is leftmost and `'C'` is second from left"
   ]
  },
  {
   "cell_type": "code",
   "execution_count": null,
   "metadata": {
    "#solution": false,
    "#staff": false,
    "#student": true,
    "collapsed": true,
    "deletable": true,
    "editable": true
   },
   "outputs": [],
   "source": [
    "# (ii)\n",
    "numerator = ...\n",
    "denominator = ...\n",
    "\n",
    "numerator / denominator"
   ]
  },
  {
   "cell_type": "markdown",
   "metadata": {
    "#solution": false,
    "#staff": false,
    "#student": false,
    "deletable": true,
    "editable": true
   },
   "source": [
    "(iii) Use `weights_6` to find the ratio of the weight of `'B'` and the weight of `'C'`."
   ]
  },
  {
   "cell_type": "code",
   "execution_count": null,
   "metadata": {
    "#solution": false,
    "#staff": false,
    "#student": true,
    "collapsed": true,
    "deletable": true,
    "editable": true
   },
   "outputs": [],
   "source": []
  },
  {
   "cell_type": "markdown",
   "metadata": {
    "#solution": false,
    "#staff": false,
    "#student": false,
    "deletable": true,
    "editable": true
   },
   "source": [
    "## Conclusion ##\n",
    "In this lab, you have learned:\n",
    "- How to work with the `MarkovChain` class in the `prob140` library\n",
    "- Repeating the random-to-front shuffle leads to a well shuffled deck\n",
    "- Books in the Tsetlin Library are found in the leftmost position according to their \"importance\" as measured by their assigned weights\n",
    "- Among the times when a particular book is on the left, the proportions of times the other books are second from left have the same ratios as the weights of those books\n",
    "- Markov chains on permutations (both random and size-biased as in the Tsetlin Library) have symmetries that can lead to remarkable long run properties."
   ]
  },
  {
   "cell_type": "markdown",
   "metadata": {
    "#solution": false,
    "#staff": false,
    "#student": false,
    "deletable": true,
    "editable": true
   },
   "source": [
    "## Checklist\n",
    "\n",
    "Your lab submission will consist of two parts: a written section and a code section\n",
    "\n",
    "**Written**\n",
    "- 4c, 4d, 4e\n",
    "\n",
    "**Code**:\n",
    "\n",
    "- 1a-e, 2a-e, 3a-c, 4a-b, 5a-b"
   ]
  },
  {
   "cell_type": "code",
   "execution_count": null,
   "metadata": {
    "#solution": false,
    "#staff": false,
    "#student": false,
    "collapsed": true,
    "deletable": true,
    "editable": true
   },
   "outputs": [],
   "source": [
    "import gsExport\n",
    "gsExport.generateSubmission(\"Lab_05.ipynb\")"
   ]
  }
 ],
 "metadata": {
  "anaconda-cloud": {},
  "checksums": [
   "b0aefbc0a2143213357738234b5b70f0",
   "e18562e85ecf89317815f5793fab1d18",
   "ccbac3ce4728b4dba9b54a852327da73",
   "2ab95c33c52d1e0c149d9fadd62c341a",
   "c392432a8d876b62077ae1b4f3d4f0c0",
   "624d9505d87ec836979e476e01a32970",
   "a38a26bb8d9af58ea9fd1a18dbf70c79",
   "25756fe00591774357525f5a512460a9",
   "88c381a76d9955d9c16d8f08ae12f8be",
   "bf216a425930d7354094837d72284475",
   "a7ed2911b9938f60fa89eb554ccae60d",
   "434c3ff3c0cdbeff19ce5f27c560035b",
   "36684f576d060be12b1a985ae6bb6474",
   "cda524ef69be99f8d661a7f3de3edaa0",
   "2382e7725669acb24c1a6b943d048c02",
   "bdb347d6532878d551a239acf8b8b6e5",
   "0e599b120a2ad340d997c4fc2d61d1d0",
   "b8d9e551adb4b5f2435f94932a644723",
   "04160b6e73656f49636fac119a5d769e",
   "dbb5d664c85c52f2967f369a8496195f",
   "3a76d7cce4e9ecdb4fe70737e7879960",
   "0ac8772970959d1bc052c6f3cff66eca",
   "a54a79b42d969e48cb3f96c61b902790",
   "73b146d581fed7909461a7225df89a99",
   "2f43b42fd833d1e77420a8dae7419000",
   "a065384d2cc07cacdfbc5381db71d485",
   "3a76d7cce4e9ecdb4fe70737e7879960",
   "799725bc88c8cd4a650d28d6450e41d2",
   "8915fc6c2529a97ac110b0f7fa1a2868",
   "9c2dea0546f56ded3fadd1241aaace34",
   "3a76d7cce4e9ecdb4fe70737e7879960",
   "d0cd9d6a24c07556c4388d5096ce249f",
   "2f43b42fd833d1e77420a8dae7419000",
   "4b442186b4b0917e07c44e371d95acaf",
   "3a76d7cce4e9ecdb4fe70737e7879960",
   "a9bc26b9ed52b59dd551d5db86acbc9d",
   "8f38766360b89152b59ca322a95af240",
   "4824eaf5f7cdc42301f8e5e3d156af93",
   "5f22ba61f6d514963a2d44b170f6999c",
   "f57424d5eec3e2a943d68b5f84efa5c6",
   "e3cb02e8e172179c25056843e26eec7a",
   "3a76d7cce4e9ecdb4fe70737e7879960",
   "0a03e7d835bc3ac253988ed35a349d36",
   "89296090799f915d2e64e4779181fda7",
   "7850af793b46b5651164c365375621e2",
   "3a76d7cce4e9ecdb4fe70737e7879960",
   "6219697b671f7b5ace017230c20b7b40",
   "2f43b42fd833d1e77420a8dae7419000",
   "57c87dfa5aed21a060509e75b8e96e2c",
   "3a76d7cce4e9ecdb4fe70737e7879960",
   "dc69ad8061cfbb6b8974b91c4739c108",
   "388714b0292b1da8c6edad699753226b",
   "b99e9c5c19349eed291be23fadc6d291",
   "2f43b42fd833d1e77420a8dae7419000",
   "960ce63fcbd669af29d2b54542240580",
   "f16709d1535dc00eab510be69cef0ccc",
   "8c7a4c54bfa9a9a3ec7df62d724a1e75",
   "42462c1c2940106cda2bfaf9c2c9c7a9",
   "56265afd36e2bca0b54376d96c58655c",
   "d3bffc60c6de955b42d39b551552f47d",
   "93f2e2dc0367e25d2a7711a7f6ce1f95",
   "a3ff555dd0b0679e67f0ca8eeb960830",
   "dc757ae562e5f195ba28d81e424b5572",
   "29b9f39ce4e088fddbd8a87fb231cc83",
   "1a9188376c3e5d85f912b93b4df3e9e3",
   "0608afcddc6b46a88a7458572bd4f5ad",
   "9dd7bce329ff943b1515d529f72c9b8f",
   "cb8b3cc8c741e344dd44c3012c6013df",
   "eeab9f8b5092e9caf1f7c28d3e436f59",
   "9505ffbcbe3d90d8f33f5f7c22541868",
   "74230487cc8773130c064a0600468d16",
   "3a76d7cce4e9ecdb4fe70737e7879960",
   "0377c8662d242ef67c5ec7bd09b1364d",
   "56555adf67ec0900047856b2046041da",
   "48fa7783492575412e5145ce1c3999bf",
   "3a76d7cce4e9ecdb4fe70737e7879960",
   "26d4d51a99ce4007809eae17544f73d1",
   "956567827501b7984e46c1f903c95939",
   "1ab8175445a962c50129deebe1128c19",
   "81c6d2401141a85284af0990b37a1af5",
   "a702e1f1136723411fdd53b89e0072c0",
   "be45d1c8f67edd3d9ecae1c73a8c072c",
   "9b8398cd3e0baad6d4ad6cacf9713f10",
   "d28724c064d200e229d30e8e98f22931",
   "10edf5d932d13909e8dd36eee1ea470a",
   "338dac0afd29195b2de34439ccd87079",
   "eb2886a9b9ad594638c3fb3222521174",
   "62f55da90768e2d091bb1d6babd17672",
   "b5b9abf69d53b216da018f6e0e0a89a8",
   "09c1105cc4df5de0e29bfdbcfca351b9",
   "d41d8cd98f00b204e9800998ecf8427e",
   "65ec60fc2d331067fc5589b6545c7e0e",
   "0d7f66953b188e0a04965eb6470aae0f",
   "f95acc40400e688533693d5a43fe420c"
  ],
  "kernelspec": {
   "display_name": "Python 3",
   "language": "python",
   "name": "python3"
  },
  "language_info": {
   "codemirror_mode": {
    "name": "ipython",
    "version": 3
   },
   "file_extension": ".py",
   "mimetype": "text/x-python",
   "name": "python",
   "nbconvert_exporter": "python",
   "pygments_lexer": "ipython3",
   "version": "3.5.2"
  },
  "number_of_pagebreaks": 0
 },
 "nbformat": 4,
 "nbformat_minor": 2
}
