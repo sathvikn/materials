{
 "cells": [
  {
   "cell_type": "markdown",
   "metadata": {
    "deletable": true,
    "editable": true
   },
   "source": [
    "<table align=\"left\" style=\"border-style: hidden\" class=\"table\"> <tr> <td class=\"col-md-2\"><img style=\"float\" src=\"http://prob140.org/assets/icon256.png\" alt=\"Prob140 Logo\" style=\"width: 120px;\"/></td><td><div align=\"left\"><h3 style=\"margin-top: 0;\">Probability for Data Science</h3><h4 style=\"margin-top: 20px;\">UC Berkeley, Spring 2018</h4><p>Ani Adhikari</div></td></tr></table><!-- not in pdf -->"
   ]
  },
  {
   "cell_type": "code",
   "execution_count": null,
   "metadata": {
    "#solution": false,
    "#staff": false,
    "#student": false,
    "collapsed": true,
    "deletable": true,
    "editable": true
   },
   "outputs": [],
   "source": [
    "# SETUP\n",
    "from datascience import *\n",
    "from prob140 import *\n",
    "import numpy as np\n",
    "%matplotlib inline\n",
    "import matplotlib.pyplot as plt\n",
    "plt.style.use('fivethirtyeight')\n",
    "import pylab\n",
    "from scipy import stats\n",
    "import ipywidgets as widgets\n",
    "from ipywidgets import interact\n",
    "from IPython.display import display\n",
    "from matplotlib.ticker import FormatStrFormatter"
   ]
  },
  {
   "cell_type": "code",
   "execution_count": null,
   "metadata": {
    "#solution": false,
    "#staff": false,
    "#student": false,
    "collapsed": false,
    "deletable": true,
    "editable": true
   },
   "outputs": [],
   "source": [
    "def search(x_limits, cdf, u):\n",
    "    \"\"\"\n",
    "    Runs a binary search to find the inverse cdf.\n",
    "    \"\"\"\n",
    "    # Handle possible asymptotes.\n",
    "    if cdf(x_limits[0]) > u:\n",
    "        return x_limits[0]\n",
    "    if cdf(x_limits[1]) < u:\n",
    "        return x_limits[1]\n",
    "    \n",
    "    mid = (x_limits[0] + x_limits[1])/2\n",
    "    diff = u - cdf(mid)\n",
    "    if np.abs(diff) < 0.01:\n",
    "        return mid\n",
    "    if diff < 0:\n",
    "        return search((x_limits[0], mid), cdf, u)\n",
    "    return search((mid, x_limits[1]), cdf, u)\n",
    "\n",
    "def plot_axes(cdf_table):\n",
    "    values = cdf_table.column(cdf_table.num_columns - 1)\n",
    "    cum = list(np.cumsum(values))\n",
    "    cur_axes = plt.gca()\n",
    "    cur_axes.axes.get_xaxis().set_visible(False)\n",
    "    plt.yticks([0] + cum)\n",
    "    plt.ylim(-0.1, 1.1)\n",
    "    plt.plot([0,0], [0,1], color=\"k\", lw=3)\n",
    "    plt.xlim(-0.02, 1)\n",
    "    plt.scatter([0]*(len(cum) + 1),\n",
    "                [0] + cum, s=55, color=\"k\")\n",
    "\n",
    "def plot_discrete_cdf(cdf_table, u=None):\n",
    "    \"\"\"\n",
    "    Plots the cdf of a discrete distribution.\n",
    "    \n",
    "    Parameters\n",
    "    ----------\n",
    "    cdf_table : Table\n",
    "        Table of cdf values.\n",
    "    u : float\n",
    "        Value from (0, 1) to plot inverse cdf of.\n",
    "    \"\"\"\n",
    "    values = cdf_table.column(0)\n",
    "    values = np.append(values[0] - 2, values)\n",
    "\n",
    "    cum = cdf_table.column(cdf_table.num_columns - 1)\n",
    "    cum = np.append(0, np.cumsum(cum))\n",
    "\n",
    "    for i in range(len(values) - 1):\n",
    "        plt.plot([values[i], values[i+1]], [cum[i], cum[i]],\n",
    "                 color=\"darkblue\")\n",
    "        plt.plot([values[i+1], values[i+1]], [cum[i], cum[i+1]],\n",
    "                 ls=\"--\", color=\"darkblue\" )\n",
    "    plt.scatter(values, cum, s=50, color=\"darkblue\")    \n",
    "\n",
    "    plt.plot([values[-1], values[-1] + 2], [1,1],\n",
    "             color=\"darkblue\")\n",
    "\n",
    "    plt.xlim(values[0], values[-1] + 2)\n",
    "    plt.ylim(-0.1, 1.1)\n",
    "    plt.xlabel('$x$')\n",
    "    plt.ylabel('CDF at $x$')\n",
    "    plt.title('Graph of CDF');\n",
    "    \n",
    "    if u != None:\n",
    "        for i in range(len(values)):\n",
    "            if u <= cum[i]:\n",
    "                index = values[i]\n",
    "                break\n",
    "        height = u\n",
    "        \n",
    "        plt.plot([values[0], (index+values[0])/2], [height, height],\n",
    "                 marker='>', color='red', lw=1)\n",
    "        plt.plot([(index+values[0])/2, index], [height, height],\n",
    "                 color='red', lw=1)\n",
    "        plt.plot([index, index], [height, height/2], marker=\"v\",\n",
    "                 color=\"red\", lw=1)\n",
    "        plt.plot([index, index], [0, height/2], color=\"red\", lw=1)\n",
    "\n",
    "def plot_continuous_cdf(x_limits, cdf, u=None):\n",
    "    \"\"\"\n",
    "    Plots the cdf of a continuous distribution.\n",
    "    \"\"\"\n",
    "    x = np.linspace(*x_limits, 100)\n",
    "    cdf_values = list(map(cdf, x))\n",
    "    plt.plot(x, cdf_values, color=\"darkblue\")\n",
    "    plt.xlabel('$x$')\n",
    "    plt.ylabel('CDF at $x$')\n",
    "    plt.title('Graph of CDF');\n",
    "    \n",
    "    if not u is None:\n",
    "        index = search(x_limits, cdf, u)\n",
    "        height = u\n",
    "\n",
    "        plt.plot([x_limits[0], (index+x_limits[0])/2],\n",
    "                 [height, height], marker='>', color='red', lw=1)\n",
    "        plt.plot([(index+x_limits[0])/2, index],\n",
    "                 [height, height], color='red', lw=1)\n",
    "        plt.plot([index, index], [height, height/2],\n",
    "                 marker=\"v\", color=\"red\", lw=1)\n",
    "        plt.plot([index, index], [0, height/2], color=\"red\", lw=1)\n",
    "\n",
    "\n",
    "    plt.xlim(*x_limits)\n",
    "\n",
    "def unit_interval_to_discrete(cdf_table):\n",
    "    uniform_slider = widgets.FloatSlider(\n",
    "        value=0.5,min=0,max=1,step=0.02, description='u')\n",
    "    @interact(u = uniform_slider)\n",
    "    def plot(u):\n",
    "        plot_discrete_cdf(cdf_table, u)\n",
    "\n",
    "\n",
    "def unit_interval_to_continuous(x_limits, cdf):\n",
    "    uniform_slider2 = widgets.FloatSlider(\n",
    "        value=0.5, min=0,max=1,step=0.02, description='u')\n",
    "    \n",
    "    @interact(u = uniform_slider2)\n",
    "    def plot(u):\n",
    "        if (cdf(u) > x_limits[1] or cdf(u) < x_limits[0]):\n",
    "            plot_continuous_cdf(x_limits, cdf)\n",
    "        else:\n",
    "            plot_continuous_cdf(x_limits, cdf, u)\n",
    "    \n",
    "def override_hist(*args, **kwargs):\n",
    "    \"\"\"\n",
    "    This cleans up some unfortunate floating point precision\n",
    "    bugs in the datascience library and fixes the edgecolor\n",
    "    bug from matplotlib.\n",
    "    \"\"\"\n",
    "    kwargs['edgecolor'] = 'w'\n",
    "    Table.hist2(*args, **kwargs)\n",
    "    ax = plt.gca()\n",
    "    ticks = ax.get_xticks()\n",
    "    if np.any(np.array(ticks) != np.rint(ticks)):\n",
    "        ax.xaxis.set_major_formatter(FormatStrFormatter('%.2f'))\n",
    "\n",
    "if not hasattr(Table, 'hist2'):\n",
    "    Table.hist2 = Table.hist\n",
    "    \n",
    "Table.hist = override_hist"
   ]
  },
  {
   "cell_type": "markdown",
   "metadata": {
    "#solution": false,
    "#staff": false,
    "#student": false,
    "deletable": true,
    "editable": true
   },
   "source": [
    "# Lab 9: Simulation and the CDF#"
   ]
  },
  {
   "cell_type": "markdown",
   "metadata": {
    "#solution": false,
    "#staff": false,
    "#student": false,
    "deletable": true,
    "editable": true
   },
   "source": [
    "Simulation helps us understand properties of random variables. For example, earlier in the term you saw `simulate_path` for simulating Markov Chains; this was helpful for understanding transition behavior and reversibility. Simulation is also important because properties observed in simulations can lead to the development of new results. \n",
    "\n",
    "In this lab you will simulate random variables with specified distributions.\n",
    "\n",
    "What you will learn:\n",
    "- How to use `SciPy` for simulation\n",
    "- How to construct and read graphs of the cumulative distribution functions (cdfs)\n",
    "- How being able to simulate just one distribution allows us to simulate all others"
   ]
  },
  {
   "cell_type": "markdown",
   "metadata": {
    "#solution": false,
    "#staff": false,
    "#student": false,
    "deletable": true,
    "editable": true
   },
   "source": [
    "#newpage\n",
    "\n",
    "## Part 1: Simulation in SciPy ##\n",
    "The `stats` module of `SciPy` is familiar to you by now. For any of the well known distributions, you can use `stats` to simulate values of a random variable with that distribution. The general method is `stats.distribution_name.rvs(size = n)` where `rvs` stands for \"random variates\" and `n` is the number of independent replications you want. \n",
    "\n",
    "Every statistical system has conventions for how to specify the parameters of the distribution. In this lab we will tell you the specifications for a few distributions. Later you will be able to see a general pattern in the specifications."
   ]
  },
  {
   "cell_type": "markdown",
   "metadata": {
    "#solution": false,
    "#staff": false,
    "#student": false,
    "deletable": true,
    "editable": true
   },
   "source": [
    "### 1a) Uniform $(0, 1)$ ###\n",
    "The call is straightforward: `stats.uniform.rvs(0, 1, size=n)`. Complete the cell below to draw the histogram of 100,000 simulated values of a random variable that has the uniform (0, 1) distribution. The `hist` option `bins=25` results in 25 equal bins."
   ]
  },
  {
   "cell_type": "code",
   "execution_count": null,
   "metadata": {
    "#solution": false,
    "#staff": false,
    "#student": true,
    "collapsed": false,
    "deletable": true,
    "editable": true
   },
   "outputs": [],
   "source": [
    "\n",
    "sim_uniform = ...\n",
    "sim_uniform_tbl = Table().with_column(\n",
    "    'Simulated Uniform (0, 1)', sim_uniform\n",
    ")\n",
    "sim_uniform_tbl.hist(bins=25)"
   ]
  },
  {
   "cell_type": "markdown",
   "metadata": {
    "#solution": false,
    "#staff": false,
    "#student": false,
    "deletable": true,
    "editable": true
   },
   "source": [
    "### 1b) Reading the Scales of the Histogram ###\n",
    "The unit on the horizontal axis is any unit of length; you can think of it as centimeters if you want, but we will just refer to it as the \"unit\". Fill in the blanks below and provide units where appropriate. Some units have been provided for you.\n",
    "\n",
    "(i) The width of each bin is $\\underline{~~~~~~~~~~~~~~~~~~~~~~~~~~~~}$ units.\n",
    "\n",
    "(ii) The height of each bar is approximately $\\underline{~~~~~~~~~~~~~~~~~~~~~~~~~~~~~~~~~}$ per $\\underline{~~~~~~~~~~~~~~~~~~~~~~~~~~~~~~~~~}$.\n",
    "\n",
    "(iii) Histograms represent percents with $\\underline{~~~~~~~~~~~~~~~~~~~~~~~~~~~~}$, so the answers to (i) and (ii) imply that the percent of simulated values in each bin is approximately $\\underline{~~~~~~~~~~~~~~~~~~~~~~~~~~~~}$%.\n",
    "\n",
    "(iv) Let the random variable $U$ have the uniform (0, 1) distribution, and let $B$ be any bin of the histogram. The answer to (i) implies that $P(U \\in B) = \\underline{~~~~~~~~~~~~~~~~~~~~~~~~~~~~}$%.\n",
    "\n",
    "(v) If instead of `bins=25` we had used `bins=20` as the option to `hist`, then the answer to (iv) would have been $\\underline{~~~~~~~~~~~~~~~~~~~~~~~~~~~~}$%"
   ]
  },
  {
   "cell_type": "markdown",
   "metadata": {
    "#solution": false,
    "#staff": false,
    "#student": true,
    "deletable": true,
    "editable": true
   },
   "source": [
    "\n",
    "**Your answer here**"
   ]
  },
  {
   "cell_type": "markdown",
   "metadata": {
    "#solution": false,
    "#staff": false,
    "#student": false,
    "deletable": true,
    "editable": true
   },
   "source": [
    "### 1c) Normal ###\n",
    "To simulate normally distributed random variables, use `stats.norm.rvs(mean, sd, size=n)`. Complete the cells below to simulate 100,000 values of a standard normal variable and then 100,000 values of a normal variable that has mean 10 and SD 5. Use the labels `Simulated Standard Normal` and `Simulated Normal (mu 10, sigma 5)` for the appropriate columns. You are welcome to use two different tables in the two cells. "
   ]
  },
  {
   "cell_type": "code",
   "execution_count": null,
   "metadata": {
    "#solution": false,
    "#staff": false,
    "#student": true,
    "collapsed": true,
    "deletable": true,
    "editable": true
   },
   "outputs": [],
   "source": [
    "...\n",
    "Table().with_column(...)\n",
    "...hist(bins=25)\n",
    "plt.xticks(np.arange(-4, 4.1))\n",
    "plt.title('Histogram 1');"
   ]
  },
  {
   "cell_type": "code",
   "execution_count": null,
   "metadata": {
    "#solution": false,
    "#staff": false,
    "#student": true,
    "collapsed": true,
    "deletable": true,
    "editable": true
   },
   "outputs": [],
   "source": [
    "...\n",
    "...hist(bins=25)\n",
    "plt.title('Histogram 2');"
   ]
  },
  {
   "cell_type": "markdown",
   "metadata": {
    "#solution": false,
    "#staff": false,
    "#student": false,
    "deletable": true,
    "editable": true
   },
   "source": [
    "Compare the numbers on the horizontal axes of the two histograms, and fill in the blank.\n",
    "\n",
    "The value $\\underline{~~~~~~~~~~~~~~~~~~~~~}$ on the horizontal axis of Histogram 1 is the same as the value 5 on the horizontal axis of Histogram 2 expressed in $\\underline{~~~~~~~~~~~~~~~~~~~~~}$ units."
   ]
  },
  {
   "cell_type": "markdown",
   "metadata": {
    "#solution": false,
    "#staff": false,
    "#student": false,
    "deletable": true,
    "editable": true
   },
   "source": [
    "### 1d) Exponential ###\n",
    "The two common parametrizations of the exponential are the rate $\\lambda$ as we do in Prob 140 or the mean $1/\\lambda$. The mean is called the `scale` parameter in `stats`. Run the cell below to simulate 100,000 values of a random variable that has the exponential distribution with rate 0.5"
   ]
  },
  {
   "cell_type": "code",
   "execution_count": null,
   "metadata": {
    "#solution": false,
    "#staff": false,
    "#student": false,
    "collapsed": false,
    "deletable": true,
    "editable": true
   },
   "outputs": [],
   "source": [
    "sim_expon = stats.expon.rvs(scale=1/0.5, size=100000)\n",
    "sim_expon_tbl = Table().with_column(\n",
    "    'Simulated Exponential (rate 0.5)', sim_expon\n",
    ")\n",
    "sim_expon_tbl.hist(bins=25)\n",
    "plt.xticks(np.arange(0, 21, 2));"
   ]
  },
  {
   "cell_type": "markdown",
   "metadata": {
    "#solution": false,
    "#staff": false,
    "#student": false,
    "deletable": true,
    "editable": true
   },
   "source": [
    "Find the average of the simulated values and check that it is consistent with the rate."
   ]
  },
  {
   "cell_type": "code",
   "execution_count": null,
   "metadata": {
    "#solution": false,
    "#staff": false,
    "#student": true,
    "collapsed": true,
    "deletable": true,
    "editable": true
   },
   "outputs": [],
   "source": [
    "\n",
    "..."
   ]
  },
  {
   "cell_type": "markdown",
   "metadata": {
    "#solution": false,
    "#staff": false,
    "#student": false,
    "deletable": true,
    "editable": true
   },
   "source": [
    "#newpage\n",
    "\n",
    "### Part 2. The Idea ###\n",
    "How are all these random numbers generated? In the rest of the lab we will develop a general method that underlies the simulations above, by considering examples of increasing complexity. \n",
    "\n",
    "Our starting point is a distribution on just four values. \n",
    "\n",
    "Suppose $X$ has the distribution `dist_X` below. "
   ]
  },
  {
   "cell_type": "code",
   "execution_count": null,
   "metadata": {
    "#solution": false,
    "#staff": false,
    "#student": false,
    "collapsed": false,
    "deletable": true,
    "editable": true
   },
   "outputs": [],
   "source": [
    "vals_X = make_array(-2, 1, 4, 7)\n",
    "probs_X = make_array(0.3, 0.1, 0.2,0.4)\n",
    "\n",
    "dist_X = Table().values(vals_X).probability(probs_X)\n",
    "dist_X"
   ]
  },
  {
   "cell_type": "markdown",
   "metadata": {
    "#solution": false,
    "#staff": false,
    "#student": false,
    "deletable": true,
    "editable": true
   },
   "source": [
    "Our goal is to simulate one value of $X$. That is, we want to construct a process that returns one of the four possible values of $X$ with the right probabilities."
   ]
  },
  {
   "cell_type": "markdown",
   "metadata": {
    "#solution": false,
    "#staff": false,
    "#student": false,
    "deletable": true,
    "editable": true
   },
   "source": [
    "### 2a) A Vertical Unit Interval ###\n",
    "The graphic below shows the probabilities in `dist_X` stacked vertically as in Lab 4. From the bottom to the top, therefore, you have the unit interval.\n",
    "\n",
    "Now imagine throwing a dart at the unit interval. That is, let $U$ be a random variable that has the uniform distribution on (0, 1), and suppose you mark the value of $U$ on the unit interval shown in the graph."
   ]
  },
  {
   "cell_type": "code",
   "execution_count": null,
   "metadata": {
    "#solution": false,
    "#staff": false,
    "#student": false,
    "collapsed": false,
    "deletable": true,
    "editable": true
   },
   "outputs": [],
   "source": [
    "plot_axes(dist_X)"
   ]
  },
  {
   "cell_type": "markdown",
   "metadata": {
    "#solution": false,
    "#staff": false,
    "#student": false,
    "deletable": true,
    "editable": true
   },
   "source": [
    "Find the following probabilities and see how they are related to the distribution of $X$.\n",
    "\n",
    "(i) $P(U \\le 0.3)$\n",
    "\n",
    "(ii) $P(0.3 < U \\le 0.4)$\n",
    "\n",
    "(iii) $P(0.4 < U \\le 0.6)$\n",
    "\n",
    "(iv) $P(0.6 < U \\le 1)$\n"
   ]
  },
  {
   "cell_type": "markdown",
   "metadata": {
    "#solution": false,
    "#staff": false,
    "#student": true,
    "deletable": true,
    "editable": true
   },
   "source": [
    "\n",
    "i. **Your Answer Here**\n",
    "\n",
    "ii. **Your Answer Here**\n",
    "\n",
    "iii. **Your Answer Here**\n",
    "\n",
    "iv. **Your Answer Here**"
   ]
  },
  {
   "cell_type": "markdown",
   "metadata": {
    "#solution": false,
    "#staff": false,
    "#student": false,
    "deletable": true,
    "editable": true
   },
   "source": [
    "### 2b) Idea for Simulating $X$ ###\n",
    "Starting with a uniform $(0, 1)$ random variable $U$, propose a method of generating a value of $X$. \n",
    "\n",
    "Your method should take $U$ as its input and return one of the four possible values as output, in such a way that for each $i = -2, 1, 4, 7$, the chance of returning the value $i$ is $P(X = i)$.\n",
    "\n",
    "Just describe your method in words. No formula or code is needed."
   ]
  },
  {
   "cell_type": "markdown",
   "metadata": {
    "#solution": false,
    "#staff": false,
    "#student": true,
    "deletable": true,
    "editable": true
   },
   "source": [
    "\n",
    "**Your Answer Here**"
   ]
  },
  {
   "cell_type": "markdown",
   "metadata": {
    "#solution": false,
    "#staff": false,
    "#student": true,
    "deletable": true,
    "editable": true
   },
   "source": [
    "\n",
    "Throw a dart uniformly at the unit interval. If it lands in the lowest interval, return -2, if in the next interval then return 1, if in the next interval then return 4, and if in the highest interval then return 7."
   ]
  },
  {
   "cell_type": "markdown",
   "metadata": {
    "#solution": false,
    "#staff": false,
    "#student": false,
    "deletable": true,
    "editable": true
   },
   "source": [
    "#newpage\n",
    "\n",
    "### Part 3. Visualizing the Idea ###\n",
    "The method `plot_discrete_cdf` takes a distribution as its argument and plots the cdf.\n",
    "\n",
    "Run the cell below to get a graph of the cdf of the random variable $X$ in Part 1."
   ]
  },
  {
   "cell_type": "code",
   "execution_count": null,
   "metadata": {
    "#solution": false,
    "#staff": false,
    "#student": false,
    "collapsed": false,
    "deletable": true,
    "editable": true
   },
   "outputs": [],
   "source": [
    "plot_discrete_cdf(dist_X)"
   ]
  },
  {
   "cell_type": "markdown",
   "metadata": {
    "#solution": false,
    "#staff": false,
    "#student": false,
    "deletable": true,
    "editable": true
   },
   "source": [
    "### 3a) Reading the Graph ###\n",
    "Let $F_X$ be the cdf of $X$. What is the value of $F_X(2.57)$, and is that the value the graph shows?"
   ]
  },
  {
   "cell_type": "markdown",
   "metadata": {
    "#solution": false,
    "#staff": false,
    "#student": true,
    "deletable": true,
    "editable": true
   },
   "source": [
    "\n",
    "**Your Answer Here**"
   ]
  },
  {
   "cell_type": "markdown",
   "metadata": {
    "#solution": false,
    "#staff": false,
    "#student": false,
    "deletable": true,
    "editable": true
   },
   "source": [
    "### 3b) Jumps ###\n",
    "At what points $x$ does the graph have a jump? For each point $x$ at which there is a jump, find the size of the jump in terms of the distribution of $X$."
   ]
  },
  {
   "cell_type": "markdown",
   "metadata": {
    "#solution": false,
    "#staff": false,
    "#student": true,
    "deletable": true,
    "editable": true
   },
   "source": [
    "\n",
    "**Your Answer Here**"
   ]
  },
  {
   "cell_type": "markdown",
   "metadata": {
    "#solution": false,
    "#staff": false,
    "#student": false,
    "deletable": true,
    "editable": true
   },
   "source": [
    "### 3c) From the Unit Interval to Values of $X$ ###\n",
    "The function `unit_interval_to_discrete` takes a distribution as its argument and displays an animation of a method that takes a number on the unit interval and returns one of the values of a random variable that has the given distribution. \n",
    "\n",
    "Run the cell below. Move the slider around and see how the returned value changes **depending on the starting value** in the unit interval. How is the method that is being displayed related to the one you proposed in Part 1?"
   ]
  },
  {
   "cell_type": "code",
   "execution_count": null,
   "metadata": {
    "#solution": false,
    "#staff": false,
    "#student": false,
    "collapsed": false,
    "deletable": true,
    "editable": true
   },
   "outputs": [],
   "source": [
    "unit_interval_to_discrete(dist_X)"
   ]
  },
  {
   "cell_type": "markdown",
   "metadata": {
    "#solution": false,
    "#staff": false,
    "#student": false,
    "deletable": true,
    "editable": true
   },
   "source": [
    "### 3d) A Random Starting Point ###\n",
    "The method `plot_discrete_cdf` that you used earlier also takes a second argument which is a number between 0 and 1. \n",
    "\n",
    "Complete the cell below so that the second argument is picked uniformly at random from (0, 1). Run the cell a few times. How is it related to the method you proposed in Part 1 for generating a value of $X$?"
   ]
  },
  {
   "cell_type": "code",
   "execution_count": null,
   "metadata": {
    "#solution": false,
    "#staff": false,
    "#student": true,
    "collapsed": true,
    "deletable": true,
    "editable": true
   },
   "outputs": [],
   "source": [
    "\n",
    "plot_discrete_cdf(dist_X, ...)"
   ]
  },
  {
   "cell_type": "markdown",
   "metadata": {
    "#solution": false,
    "#staff": false,
    "#student": true,
    "deletable": true,
    "editable": true
   },
   "source": [
    "\n",
    "**Your Answer Here**"
   ]
  },
  {
   "cell_type": "markdown",
   "metadata": {
    "#solution": false,
    "#staff": false,
    "#student": false,
    "deletable": true,
    "editable": true
   },
   "source": [
    "#newpage\n",
    "\n",
    "### Part 4. Extension to Continuous Distributions ###\n",
    "Now suppose you want to generate a random variable that has a specified continuous distribution. Suppose you are given a uniform $(0, 1)$ random number to start with. "
   ]
  },
  {
   "cell_type": "markdown",
   "metadata": {
    "#solution": false,
    "#staff": false,
    "#student": false,
    "deletable": true,
    "editable": true
   },
   "source": [
    "### 4a) Exponential CDF ###\n",
    "Let $T$ be a random variable that has the exponential distribution with rate $\\lambda = 0.5$. Let $F_T$ be the cdf of $T$. Define a function `expon_mean2_cdf` that takes a numerical argument $x$ and returns $F_T(x)$. Use `np.exp(y)` for $e^y$.\n",
    "\n",
    "Make sure your function works for **all** real numbered values of $x$."
   ]
  },
  {
   "cell_type": "code",
   "execution_count": null,
   "metadata": {
    "#solution": false,
    "#staff": false,
    "#student": true,
    "collapsed": true,
    "deletable": true,
    "editable": true
   },
   "outputs": [],
   "source": [
    "\n",
    "lamb = 0.5  # don't use \"lambda\" as that means something else in Python\n",
    "\n",
    "def expon_mean2_cdf(x):\n",
    "    ..."
   ]
  },
  {
   "cell_type": "markdown",
   "metadata": {
    "#solution": false,
    "#staff": false,
    "#student": false,
    "deletable": true,
    "editable": true
   },
   "source": [
    "The function `plot_continuous_cdf` plots the cdf of a continuous variable. The first two arguments:\n",
    "- an interval (a, b) over which to draw the cdf\n",
    "- a cdf function that takes a numerical input and returns the value of the cdf at that input\n",
    "\n",
    "Run the cell below to check that your function `expon_mean2_cdf` looks good."
   ]
  },
  {
   "cell_type": "code",
   "execution_count": null,
   "metadata": {
    "#solution": false,
    "#staff": false,
    "#student": false,
    "collapsed": false,
    "deletable": true,
    "editable": true
   },
   "outputs": [],
   "source": [
    "plot_continuous_cdf((-1, 8), expon_mean2_cdf)"
   ]
  },
  {
   "cell_type": "markdown",
   "metadata": {
    "#solution": false,
    "#staff": false,
    "#student": false,
    "deletable": true,
    "editable": true
   },
   "source": [
    "### 4b) Idea for Simulating an Exponential Random Variable ###\n",
    "\n",
    "Suppose you are given one uniform (0, 1) random number and are asked to simulate $T$. Based on Part 3 of the lab, propose a method for doing this.\n",
    "\n",
    "You don't have to prove that the method works. We'll get to that in lecture. Just propose the method."
   ]
  },
  {
   "cell_type": "markdown",
   "metadata": {
    "#solution": false,
    "#staff": false,
    "#student": true,
    "deletable": true,
    "editable": true
   },
   "source": [
    "\n",
    "**Your Answer Here**"
   ]
  },
  {
   "cell_type": "markdown",
   "metadata": {
    "#solution": false,
    "#staff": false,
    "#student": false,
    "deletable": true,
    "editable": true
   },
   "source": [
    "### 4c) Visualizing the Idea ###\n",
    "The animation in the cell below is analogous to the one in Part 3. It takes a plotting interval and a continuous cdf function as its arguments, and demonstrates a method for picking a number on the positive real line starting with a value on the unit interval that forms the vertical axis. \n",
    "\n",
    "Run the cell and move the slider around to see how the returned value changes depending on the starting value on the vertical axis."
   ]
  },
  {
   "cell_type": "code",
   "execution_count": null,
   "metadata": {
    "#solution": false,
    "#staff": false,
    "#student": false,
    "collapsed": false,
    "deletable": true,
    "editable": true
   },
   "outputs": [],
   "source": [
    "unit_interval_to_continuous((-1, 8), expon_mean2_cdf)"
   ]
  },
  {
   "cell_type": "markdown",
   "metadata": {
    "#solution": false,
    "#staff": false,
    "#student": false,
    "deletable": true,
    "editable": true
   },
   "source": [
    "The method `plot_continuous_cdf` takes a third argument which is a number between 0 and 1. \n",
    "\n",
    "Complete the cell below so that the third argument is a random number picked uniformly from (0, 1). Run the cell a few times. How is the output related to the method you proposed in (b) for generating a value of $T$?"
   ]
  },
  {
   "cell_type": "code",
   "execution_count": null,
   "metadata": {
    "#solution": false,
    "#staff": false,
    "#student": true,
    "collapsed": true,
    "deletable": true,
    "editable": true
   },
   "outputs": [],
   "source": [
    "\n",
    "..."
   ]
  },
  {
   "cell_type": "markdown",
   "metadata": {
    "#solution": false,
    "#staff": false,
    "#student": false,
    "deletable": true,
    "editable": true
   },
   "source": [
    "### 4d) Simulating a Standard Normal Random Variable ###\n",
    "\n",
    "Complete the cell below so that the random value pointed to by the downwards arrow has the standard normal distribution. "
   ]
  },
  {
   "cell_type": "code",
   "execution_count": null,
   "metadata": {
    "#solution": false,
    "#staff": false,
    "#student": true,
    "collapsed": false,
    "deletable": true,
    "editable": true
   },
   "outputs": [],
   "source": [
    "\n",
    "def norm_cdf(k):\n",
    "    \"\"\"Optional helper function.\"\"\"\n",
    "    return ...\n",
    "\n",
    "plot_continuous_cdf((-3, 3), ...)"
   ]
  },
  {
   "cell_type": "markdown",
   "metadata": {
    "#solution": false,
    "#staff": false,
    "#student": false,
    "deletable": true,
    "editable": true
   },
   "source": [
    "### 4e) The General Method ###\n",
    "Let $F$ be any continuous increasing cdf (that is, no jumps and no flat bits). Let $U$ be a uniform (0, 1) random variable. Fill in the blank:\n",
    "\n",
    "To construct a random variable $X = g(U)$ so that $X$ has the cdf $F$, take $g = \\underline{~~~~~~~~~~~~~}$.\n",
    "\n",
    "If $F$ is a discrete cdf then the function $g$ is complicated to write out formally, so we're not asking you to do that. The practical description of the method of simulation is in Parts 1 and 2."
   ]
  },
  {
   "cell_type": "markdown",
   "metadata": {
    "#solution": false,
    "#staff": false,
    "#student": false,
    "deletable": true,
    "editable": true
   },
   "source": [
    "#newpage\n",
    "\n",
    "### Part 5. Empirical Verification that the Method Works ###\n",
    "\n",
    "### a) The Starting Values ###\n",
    "Create a table that is called `sim` for simulation and consists of one column called `Uniform` that contains the values of 100,000 i.i.d. uniform (0, 1) random variables."
   ]
  },
  {
   "cell_type": "code",
   "execution_count": null,
   "metadata": {
    "#solution": false,
    "#staff": false,
    "#student": true,
    "collapsed": true,
    "deletable": true,
    "editable": true
   },
   "outputs": [],
   "source": [
    "N = 100000\n",
    "u = ...\n",
    "sim = Table().with_column(\"Uniform\", u)\n",
    "sim"
   ]
  },
  {
   "cell_type": "markdown",
   "metadata": {
    "#solution": false,
    "#staff": false,
    "#student": false,
    "deletable": true,
    "editable": true
   },
   "source": [
    "### b) Tranformation to Exponential ###\n",
    "Use 4(c) and the values in the column `Uniform` to create an array of values that have the exponential distribution with rate 0.5. This is what is going on \"under the hood\" in `stats.expon.rvs`.\n",
    "\n",
    "**Do not** simulate new random numbers, as you will lose the connection with the values in `Uniform`. Use `np.log(y)` for $\\log(y)$.\n",
    "\n",
    "Augment `sim` with a column containing the new array."
   ]
  },
  {
   "cell_type": "code",
   "execution_count": null,
   "metadata": {
    "#solution": false,
    "#staff": false,
    "#student": true,
    "collapsed": false,
    "deletable": true,
    "editable": true
   },
   "outputs": [],
   "source": [
    "\n",
    "def uniform_to_exponential_mean2(u):\n",
    "    return ...\n",
    "\n",
    "exponential_mean2 = sim.apply(...)\n",
    "sim = sim.with_column('Sim. Exponential (rate 0.5)', exponential_mean2)\n",
    "sim"
   ]
  },
  {
   "cell_type": "markdown",
   "metadata": {
    "#solution": false,
    "#staff": false,
    "#student": false,
    "deletable": true,
    "editable": true
   },
   "source": [
    "Run the cell below and compare with the histogram in 1(d) to confirm that your calculation is correct."
   ]
  },
  {
   "cell_type": "code",
   "execution_count": null,
   "metadata": {
    "#solution": false,
    "#staff": false,
    "#student": true,
    "collapsed": true,
    "deletable": true,
    "editable": true
   },
   "outputs": [],
   "source": [
    "sim.hist('Sim. Exponential (rate 0.5)', bins=25)\n",
    "plt.xticks(np.arange(0, 21, 2));"
   ]
  },
  {
   "cell_type": "markdown",
   "metadata": {
    "#solution": false,
    "#staff": false,
    "#student": false,
    "deletable": true,
    "editable": true
   },
   "source": [
    "### 5c) Transformation to Standard Normal ###\n",
    "\n",
    "Use 4(c) and the values in the column `Uniform` to create an array of values that have the standard normal distribution. Augment `sim` with a column containing the new array."
   ]
  },
  {
   "cell_type": "code",
   "execution_count": null,
   "metadata": {
    "#solution": false,
    "#staff": false,
    "#student": false,
    "collapsed": true,
    "deletable": true,
    "editable": true
   },
   "outputs": [],
   "source": [
    "\n",
    "def norm_ppf(k):\n",
    "    \"\"\"Optional helper function.\"\"\"\n",
    "    return ...\n",
    "\n",
    "standard_normal = sim.apply(..., 'Uniform')\n",
    "sim = sim.with_column('Sim. Standard Normal', standard_normal)\n",
    "sim"
   ]
  },
  {
   "cell_type": "markdown",
   "metadata": {
    "#solution": false,
    "#staff": false,
    "#student": false,
    "deletable": true,
    "editable": true
   },
   "source": [
    "Run the cell below to check that your calculation is correct."
   ]
  },
  {
   "cell_type": "code",
   "execution_count": null,
   "metadata": {
    "#solution": false,
    "#staff": false,
    "#student": true,
    "collapsed": true,
    "deletable": true,
    "editable": true
   },
   "outputs": [],
   "source": [
    "sim.hist('Sim. Standard Normal', bins=25)"
   ]
  },
  {
   "cell_type": "markdown",
   "metadata": {
    "#solution": false,
    "#staff": false,
    "#student": false,
    "deletable": true,
    "editable": true
   },
   "source": [
    "### 5d) Another Normal ###\n",
    "Now augment `sim` with a column whose contents are the values in `Sim. Standard Normal` transformed so that they have the normal distribution with $\\mu = 10$ and $\\sigma = 5$. You don't need `apply` for this one."
   ]
  },
  {
   "cell_type": "code",
   "execution_count": null,
   "metadata": {
    "#solution": false,
    "#staff": false,
    "#student": false,
    "collapsed": true,
    "deletable": true,
    "editable": true
   },
   "outputs": [],
   "source": [
    "\n",
    "z = sim.column('Sim. Standard Normal')\n",
    "sim = sim.with_column('Sim. Normal (Mu=10, Sigma=5)', ...)\n",
    "sim"
   ]
  },
  {
   "cell_type": "markdown",
   "metadata": {
    "#solution": false,
    "#staff": false,
    "#student": false,
    "deletable": true,
    "editable": true
   },
   "source": [
    "Run the cell below to confirm that your calculations are correct."
   ]
  },
  {
   "cell_type": "code",
   "execution_count": null,
   "metadata": {
    "#solution": false,
    "#staff": false,
    "#student": true,
    "collapsed": true,
    "deletable": true,
    "editable": true
   },
   "outputs": [],
   "source": [
    "sim.hist('Sim. Normal (Mu=10, Sigma=5)', bins=25)"
   ]
  },
  {
   "cell_type": "markdown",
   "metadata": {
    "#solution": false,
    "#staff": false,
    "#student": false,
    "deletable": true,
    "editable": true
   },
   "source": [
    "Finally, go back and look through Part 5. Notice that the only time you generated random numbers was when you simulated 100,000 uniform (0, 1) values. All the other variables were deterministic transformations of the uniform variable."
   ]
  },
  {
   "cell_type": "markdown",
   "metadata": {
    "#solution": false,
    "#staff": false,
    "#student": false,
    "deletable": true,
    "editable": true
   },
   "source": [
    "## Conclusion ##\n",
    "You have learned that:\n",
    "- To simulate a random variable with a desired distribution, what you need is a uniform random number generator and the cdf of the desired distribution. You can then use the method of this lab to simulate the value.\n",
    "- The only random numbers a statistical system needs are uniform on (0, 1). Random numbers from all other distributions follow by the method you have developed in this lab.\n",
    "- Discrete cdfs consist of jumps and flat parts, at places that you have identified.\n",
    "- If you have a standard normal variable you can easily transform it to become any other specified normal."
   ]
  },
  {
   "cell_type": "markdown",
   "metadata": {
    "#solution": false,
    "#staff": false,
    "#student": false,
    "deletable": true,
    "editable": true
   },
   "source": [
    "Since uniform $(0, 1)$ random numbers are central to all simulations, their quality is very important for the accuracy and reliability of simulations. Testing and assessing uniform random number generators is serious business, because random number generators don't really produce random numbers. They follow deterministic processes that produce results that have properties that resemble those of random numbers. That is why they are called Pseudo Random Number Generators or PRNGs. [Python uses the Mersenne Twister](https://docs.python.org/3.6/library/random.html), one of the most tested and reliable PRNGs. SciPy uses the [Mersenne Twister for RandomState](https://docs.scipy.org/doc/numpy/reference/generated/numpy.random.RandomState.html#numpy.random.RandomState) and draws from a large number of discrete and continuous distributions. Take a look at the list on the RandomState page and see how many you can recognize."
   ]
  },
  {
   "cell_type": "code",
   "execution_count": null,
   "metadata": {
    "#solution": false,
    "#staff": false,
    "#student": false,
    "collapsed": false,
    "deletable": true,
    "editable": true
   },
   "outputs": [],
   "source": [
    "import gsExport\n",
    "gsExport.generateSubmission(\"Lab_09.ipynb\")"
   ]
  }
 ],
 "metadata": {
  "anaconda-cloud": {},
  "checksums": [
   "b0aefbc0a2143213357738234b5b70f0",
   "ca939dab912a6bf18bdb854ad5280d45",
   "8fb4ce31d5f3e3da80d8e8b8de1be277",
   "4d26e3919b85a789804693bb9d466d16",
   "7d9bbb5f8eaf3826385299f7807eddf8",
   "c44fd518c428c77c3730bcbdc4605cfb",
   "f32aaa11c66587bbe0879448df60281a",
   "bcf24e6dc1c01a00c0631a40a935ba40",
   "32456905251916f11d3ffeffc560d3bf",
   "0de20b93bb878d597e59213991465648",
   "920ad2e10d4bf9948aa9881cf6cadd4e",
   "0e078b999404c8f468358e92766591c1",
   "e53cf0e06322e21fe1094649b87237a6",
   "dde9b2f41e84bca10fad29747a0986e9",
   "db1a0b799ef336157082e036367a2032",
   "f4a0dda53268de4dd6d616a6cad83913",
   "1438f62cb23dd8fb6fcb5c1fdf35bf3e",
   "2f43b42fd833d1e77420a8dae7419000",
   "19a832dfe2b4407e2928188894b2ad62",
   "fbd0bbaa62be8f13588052334c850050",
   "912597eef9799c814a160d18e308e335",
   "104eacd922243e13762a239dbe0afedf",
   "02e6df83645b905164b25f19fdcd3af6",
   "e7be0eefc4ab67c4343b521e7a2fbaa7",
   "22f049f2aa9cf6165c64cc7fbf1e9b23",
   "659639fa3689a19fd4c84911d1df8252",
   "2a0c67811e6f9e2cc13f1b1006786b13",
   "a907e39b60b9036dc18e399d9f7f8da5",
   "d17d2248b4ff8fc2350efc898379f798",
   "17a43cd632c66397b33f6aba872e651e",
   "0e67e9c3e1397eb1f9131ab1bfddf557",
   "2a0c67811e6f9e2cc13f1b1006786b13",
   "171fafb8c705c1da6cf907e6b4eeebcb",
   "2a0c67811e6f9e2cc13f1b1006786b13",
   "13262d24672741a5869084642c521acf",
   "f144c8e292a8c31e5ef41e75073ee9f3",
   "4c254e295e60bb6c38623d9f18bb6181",
   "27147fa54f9f517b7c45b213d2ab4f3b",
   "2a0c67811e6f9e2cc13f1b1006786b13",
   "d6e721d861492cfa1e5a6731d7d50408",
   "9dbb29b221184a1c63ac2ea4d675a844",
   "d3675cdde3ed421ccb1dea5d98362efb",
   "6c0b4063d3e73ed7fb4379bf0c9f1f6f",
   "ade85a20657bd8eefc4593fdeb3d5da5",
   "cca1061b5be132366ac2ed7049e06198",
   "2a0c67811e6f9e2cc13f1b1006786b13",
   "b88b830e844467239c53ca13811a84b0",
   "9615cee5276d137447f69009ddf702ce",
   "f84a0aa3ac8b0567b6f93375d86396d8",
   "2f43b42fd833d1e77420a8dae7419000",
   "1938b168ff39b2dd743cd751bf166580",
   "9700c76b18f42e12955fbf7af5fc5e27",
   "ae6a97abfd9d45286c66afd61d211d9f",
   "65e63ee8d5a27bb2e82ff9e7c99a51a2",
   "7c69bdb55238fd7e57173fd0e41b6239",
   "0e297ac6e1eac1421e1caba5823b1efa",
   "01bf3b8cf4d477966734cf1dbff31ad8",
   "4db7cf7690c100b7ed85dc56b8e0b2fb",
   "a19540fc418f0c68c6300f7931c7a05f",
   "5fe09e5a0138ac2ec459e210db06e39b",
   "21d9f0e246287c7f0ca7b5ad8a2416d8",
   "a8cae454c99d1a765dd48d9ef1d0545d",
   "259fa765ae806c6d4f988fe70752848a",
   "21c0dd9f3468ca7846db379e2a59fbc2",
   "97a23e5c0ff32f75fcf37698cfa55dd7",
   "e00cf28a42ab724fdc1f126e9e5938fa",
   "b1985f57a396ff415cb81ec3de8d24d2",
   "1748a7cdaddc2a1a855db5cd6c2ec8b4",
   "bea7a36cbb07382018c58022758566a5",
   "e3fc9057352850a26659c74890106d0e",
   "1580b2e351dbb563a131b241f513e42a"
  ],
  "kernelspec": {
   "display_name": "Python 3",
   "language": "python",
   "name": "python3"
  },
  "language_info": {
   "codemirror_mode": {
    "name": "ipython",
    "version": 3
   },
   "file_extension": ".py",
   "mimetype": "text/x-python",
   "name": "python",
   "nbconvert_exporter": "python",
   "pygments_lexer": "ipython3",
   "version": "3.5.2"
  },
  "number_of_pagebreaks": 5
 },
 "nbformat": 4,
 "nbformat_minor": 0
}
