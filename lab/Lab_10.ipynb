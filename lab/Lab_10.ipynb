{
 "cells": [
  {
   "cell_type": "markdown",
   "metadata": {
    "deletable": true,
    "editable": true
   },
   "source": [
    "<table align=\"left\" style=\"border-style: hidden\" class=\"table\"> <tr> <td class=\"col-md-2\"><img style=\"float\" src=\"http://prob140.org/assets/icon256.png\" alt=\"Prob140 Logo\" style=\"width: 120px;\"/></td><td><div align=\"left\"><h3 style=\"margin-top: 0;\">Probability for Data Science</h3><h4 style=\"margin-top: 20px;\">UC Berkeley, Spring 2018</h4><p>Ani Adhikari</div></td></tr></table><!-- not in pdf -->"
   ]
  },
  {
   "cell_type": "code",
   "execution_count": null,
   "metadata": {
    "#solution": false,
    "#staff": false,
    "#student": false,
    "collapsed": true,
    "deletable": true,
    "editable": true
   },
   "outputs": [],
   "source": [
    "from datascience import *\n",
    "from prob140 import *\n",
    "import numpy as np\n",
    "import matplotlib.pyplot as plt\n",
    "plt.style.use('fivethirtyeight')\n",
    "%matplotlib inline\n",
    "from scipy import stats\n",
    "from sympy import *\n",
    "init_printing()\n",
    "from matplotlib import patches\n",
    "from mpl_toolkits.mplot3d.axes3d import Axes3D\n",
    "import ipywidgets as widgets\n",
    "from ipywidgets import interact"
   ]
  },
  {
   "cell_type": "code",
   "execution_count": null,
   "metadata": {
    "#solution": false,
    "#staff": false,
    "#student": false,
    "collapsed": true,
    "deletable": true,
    "editable": true
   },
   "outputs": [],
   "source": [
    "def plot_ellipse(ax, _a, _b, color, draw_lines=True):\n",
    "    ax.add_artist(patches.Ellipse((0, 0), 6 * _a, 6 * _b, color=color, lw=2, fill=False))\n",
    "    for x in range(-3, 4):\n",
    "        ax.plot([-3 * _a, 3 * _a], [x * _b, x * _b], color='k', lw=1)\n",
    "        ax.plot([x * _a, x * _a], [-3 * _b, 3 * _b], color='k', lw=1)"
   ]
  },
  {
   "cell_type": "code",
   "execution_count": null,
   "metadata": {
    "#solution": false,
    "#staff": false,
    "#student": false,
    "collapsed": true,
    "deletable": true,
    "editable": true
   },
   "outputs": [],
   "source": [
    "def z_to_v(_a, _b, n=0, **kwargs):\n",
    "    m = max(_a, _b, 1) * 3 + 0.5\n",
    "    samples = stats.multivariate_normal.rvs(mean=[0, 0], size=n).reshape((n, 2))\n",
    "    \n",
    "    def indep_normals(v, w):\n",
    "        return 1/(2*np.pi*np.abs(_a * _b)) * np.exp(-0.5*((v/_a)**2 + (w/_b)**2))\n",
    "    def indep_standard_normals(x,y):\n",
    "        return 1/(2*np.pi) * np.exp(-0.5*(x**2 + y**2))\n",
    "\n",
    "    x = np.linspace(-m, m, 100)\n",
    "    y = np.linspace(-m, m, 100)\n",
    "    X, Y = np.meshgrid(x, y)\n",
    "\n",
    "    f1 = np.vectorize(indep_standard_normals)\n",
    "    f2 = np.vectorize(indep_normals)\n",
    "\n",
    "    Z1 = f1(X, Y)\n",
    "    Z2 = f2(X, Y)\n",
    "    \n",
    "    def plot(azim):\n",
    "        fig = plt.figure(figsize=(18, 18))\n",
    "        ax1 = fig.add_subplot(221, projection='3d')\n",
    "        ax2 = fig.add_subplot(222, projection='3d')\n",
    "        ax1.plot_surface(X, Y, Z1, color='blue', **kwargs)\n",
    "        ax2.plot_surface(X, Y, Z2, color='gold', **kwargs)\n",
    "        z_max = max(Z1.max(), Z2.max())\n",
    "        ax1.set_zlim3d(0, z_max) \n",
    "        ax2.set_zlim3d(0, z_max)\n",
    "        ax1.set_title('$\\mathbf{Z}$')\n",
    "        ax1.set_xlabel('$z_1$')\n",
    "        ax1.set_ylabel('$z_2$')\n",
    "        ax1.set_zlabel('$f(z_1, z_2)$')\n",
    "        ax2.set_title('$\\mathbf{V}$')\n",
    "        ax2.set_xlabel('$v_1$')\n",
    "        ax2.set_ylabel('$v_2$')\n",
    "        ax2.set_zlabel('$f_V(v_1, v_2)$')\n",
    "        ax1.view_init(20, azim)\n",
    "        ax2.view_init(20, azim)\n",
    "        ax3 = fig.add_subplot(223)\n",
    "        ax4 = fig.add_subplot(224)\n",
    "        ax3.set_aspect('equal', 'datalim')\n",
    "        ax4.set_aspect('equal', 'datalim')\n",
    "        plot_ellipse(ax3, 1, 1, 'blue')\n",
    "        ax3.scatter(samples[:, 0], samples[:, 1], s=30)\n",
    "        plot_ellipse(ax4, _a, _b, 'gold')\n",
    "        ax4.scatter(samples[:, 0] * _a, samples[:, 1] * _b, s=30)\n",
    "        ax3.set_xlim(-m, m)\n",
    "        ax3.set_ylim(-m, m)\n",
    "        ax4.set_xlim(-m, m)\n",
    "        ax4.set_ylim(-m, m)\n",
    "    azimuth_slider = widgets.IntSlider(\n",
    "        value=-90,\n",
    "        min=-180,\n",
    "        max=180,\n",
    "        step=15,\n",
    "        description='azimuth',\n",
    "        continuous_update=False\n",
    "    )\n",
    "\n",
    "    @interact(azim=azimuth_slider)\n",
    "    def wrapper(azim):\n",
    "        plot(azim)"
   ]
  },
  {
   "cell_type": "code",
   "execution_count": null,
   "metadata": {
    "#solution": false,
    "#staff": false,
    "#student": false,
    "collapsed": true,
    "deletable": true,
    "editable": true
   },
   "outputs": [],
   "source": [
    "def unit_square_to_rectangle():\n",
    "    aa = 2\n",
    "    bb = 3\n",
    "    plt.axes().set_aspect('equal')\n",
    "    plt.xlim(-0.1, aa+0.1)\n",
    "    plt.xticks(np.arange(0, aa+0.1,))\n",
    "    plt.ylim(-0.1, bb+0.1)\n",
    "    plt.yticks(np.arange(0, bb+0.1))\n",
    "    plt.plot([0, 1], [0, 0], color='k', lw=2)\n",
    "    plt.plot([0, 0], [0, 1], color='k', lw=2)\n",
    "    plt.plot([0, 1], [1, 1], color='k', lw=2)\n",
    "    plt.plot([1, 1], [0, 1], color='k', lw=2)\n",
    "    plt.plot([0, aa], [0, 0], color='gold', lw=2)\n",
    "    plt.plot([0, 0], [0, bb], color='gold', lw=2)\n",
    "    plt.plot([0, aa], [bb, bb], color='gold', lw=2)\n",
    "    plt.plot([aa, aa], [0, bb], color='gold', lw=2);"
   ]
  },
  {
   "cell_type": "code",
   "execution_count": null,
   "metadata": {
    "#solution": false,
    "#staff": false,
    "#student": false,
    "collapsed": true,
    "deletable": true,
    "editable": true
   },
   "outputs": [],
   "source": [
    "def unit_square_to_parallelogram():\n",
    "    aa = 3\n",
    "    bb = 1.5\n",
    "    plt.axes().set_aspect('equal')\n",
    "    plt.xlim(-0.1, aa+0.1)\n",
    "    plt.xticks(np.arange(0, aa+0.1))\n",
    "    plt.ylim(-0.1, aa+bb+0.1)\n",
    "    plt.plot([0, 1], [0, 0], color='k', lw=2)\n",
    "    plt.plot([0, 0], [0, 1], color='k', lw=2)\n",
    "    plt.plot([0, 1], [1, 1], color='k', lw=2)\n",
    "    plt.plot([1, 1], [0, 1], color='k', lw=2)\n",
    "    plt.plot([0, 1], [0, aa], color='red', lw=2)\n",
    "    plt.plot([0, 0], [0, bb], color='red', lw=2)\n",
    "    plt.plot([1, 1], [aa, aa+bb], color='red', lw=2)\n",
    "    plt.plot([0, 1], [bb, aa+bb], color='red', lw=2);"
   ]
  },
  {
   "cell_type": "code",
   "execution_count": null,
   "metadata": {
    "#solution": false,
    "#staff": false,
    "#student": false,
    "collapsed": true,
    "deletable": true,
    "editable": true
   },
   "outputs": [],
   "source": [
    "def z_to_w(_a, _b, n=0, **kwargs):\n",
    "    m = max(3 * (_a + _b), 4) + 0.5\n",
    "    samples = stats.multivariate_normal.rvs(mean=[0, 0], size=n).reshape((n, 2))\n",
    "    cov1 = np.identity(2)\n",
    "    norm1 = stats.multivariate_normal(cov=cov1)\n",
    "    cov2 = np.array([[1, _a],[_a, _a**2 + _b**2]])\n",
    "    norm2 = stats.multivariate_normal(cov=cov2)\n",
    "    x = np.linspace(-m, m, 100)\n",
    "    y = np.linspace(-m, m, 100)\n",
    "    X, Y = np.meshgrid(x, y)\n",
    "    pos = np.empty(X.shape + (2,))\n",
    "    pos[:, :, 0] = X\n",
    "    pos[:, :, 1] = Y\n",
    "    Z1 = norm1.pdf(pos)\n",
    "    Z2 = norm2.pdf(pos)\n",
    "    def plot(azim):\n",
    "        fig = plt.figure(figsize=(18, 18))\n",
    "        ax1 = fig.add_subplot(221, projection='3d')\n",
    "        ax2 = fig.add_subplot(222, projection='3d')\n",
    "        ax1.plot_surface(X, Y, Z1, color='blue', **kwargs)\n",
    "        ax2.plot_surface(X, Y, Z2, color='r', **kwargs)\n",
    "        z_max = max(Z1.max(), Z2.max())\n",
    "        ax1.set_zlim3d(0, z_max) \n",
    "        ax2.set_zlim3d(0, z_max)\n",
    "        ax1.set_title('$\\mathbf{Z}$')\n",
    "        ax1.set_xlabel('$z_1$')\n",
    "        ax1.set_ylabel('$z_2$')\n",
    "        ax1.set_zlabel('$f(z_1, z_2)$')\n",
    "        ax2.set_title('$\\mathbf{W}$')\n",
    "        ax2.set_xlabel('$w_1$')\n",
    "        ax2.set_ylabel('$w_2$')\n",
    "        ax2.set_zlabel('$f_W(w_1, w_2)$')\n",
    "        ax1.set_xlim(-m, m)\n",
    "        ax1.set_ylim(-m, m)\n",
    "        ax2.set_xlim(-m, m)\n",
    "        ax2.set_ylim(-m, m)\n",
    "        ax1.view_init(20, azim)\n",
    "        ax2.view_init(20, azim)\n",
    "        ax1 = fig.add_subplot(223)\n",
    "        ax1.set_aspect('equal', 'datalim')\n",
    "        ax1.set_xlabel('$Z_1$')\n",
    "        ax1.set_ylabel('$Z_2$')\n",
    "        ax1.scatter(samples[:, 0], samples[:, 1], s=30)\n",
    "        plot_ellipse(ax1, 1, 1, 'blue')\n",
    "        ax2 = fig.add_subplot(224)\n",
    "        ax2.set_aspect('equal', 'datalim')\n",
    "        for x in range(-3, 4):\n",
    "            ax2.plot([-3, 3], [-3 * _a + _b * x, 3 * _a + _b * x], color='k', lw=1)\n",
    "            ax2.plot([x, x], [_a * x - 3 * _b, _a * x + 3 * _b], color='k', lw=1)\n",
    "        radius = 32 / (_a ** 2 + _b ** 2) ** 0.5\n",
    "        ax2.scatter(samples[:, 0], _a * samples[:, 0] + _b * samples[:, 1], s=30)\n",
    "        ax2.set_xlabel('$W_1$')\n",
    "        ax2.set_ylabel('$W_2$')\n",
    "        ax1.set_xlim(-m, m)\n",
    "        ax1.set_ylim(-m, m)\n",
    "        ax2.set_xlim(-m, m)\n",
    "        ax2.set_ylim(-m, m)\n",
    "        theta = np.linspace(0, 2 * np.pi)\n",
    "        x = np.cos(theta)\n",
    "        y = np.sin(theta)\n",
    "        plt.plot(3 * x, 3 * (_a * x + _b * y), lw=2, color='r')\n",
    "    \n",
    "    azimuth_slider = widgets.IntSlider(\n",
    "        value=-90,\n",
    "        min=-180,\n",
    "        max=180,\n",
    "        step=15,\n",
    "        description='azimuth',\n",
    "        continuous_update=False\n",
    "    )\n",
    "\n",
    "    @interact(azim=azimuth_slider)\n",
    "    def wrapper(azim):\n",
    "        plot(azim)\n",
    "        \n"
   ]
  },
  {
   "cell_type": "markdown",
   "metadata": {
    "#solution": false,
    "#staff": false,
    "#student": false,
    "deletable": true,
    "editable": true
   },
   "source": [
    "# Lab 10: Introduction to Jointly Normal Vectors #\n",
    "The multivariate normal distribution is central to many topics in statistical learning theory. In this lab you will develop the most commonly used formula for the multivariate normal joint density.\n",
    "\n",
    "The lab is designed as a sequence of small steps that lead you to the joint distribution of linear combinations of independent normal variables. That's the multivariate normal distribution. Random variables with this joint distribution are called *jointly normal*. In class we will study the fundamental properties of this joint distribution and its use in multiple linear regression.\n",
    "\n",
    "The lab is just an introduction to the multivariate normal. It's not intended as a thorough account, and you might have questions at the end of it. Keep a note of your questions. I hope that they will be answered once we study the distribution in class."
   ]
  },
  {
   "cell_type": "markdown",
   "metadata": {
    "#solution": false,
    "#staff": false,
    "#student": false,
    "deletable": true,
    "editable": true
   },
   "source": [
    "**Please make sure you have some paper and a pencil as you do this lab.** It combines algebra, geometry, calculus, linear algebra, and of course probability theory. Working out some steps on scratch paper will be helpful.\n",
    "\n",
    "What you will learn:\n",
    "- How to use `SymPy` to do symbolic math including linear algebra\n",
    "- How to find the joint density of a linear transformation of two variables\n",
    "- How to parametrize the joint density of two independent normal variables so that the formula can easily be extended to handle dependence of a particular kind as well as higher dimensions"
   ]
  },
  {
   "cell_type": "markdown",
   "metadata": {
    "#solution": false,
    "#staff": false,
    "#student": false,
    "deletable": true,
    "editable": true
   },
   "source": [
    "Let's get started with a couple of preliminaries. The first one sets up some standard notation for collections of random variables and their moments. The second one examines the form of the normal density function in one dimension.\n",
    "\n",
    "## Two Dimensions ##\n",
    "We are used to thinking about a pair of random variables $X$ and $Y$ as a point $(X, Y)$ on the plane. As we move to higher dimensions, it becomes convenient to use matrix representations instead. \n",
    "\n",
    "This lab is almost entirely about two dimensions, so the definitions below are about a pair of random variables. All the definitions have obvious extensions to $n$ dimensions for $n > 2$.\n",
    "\n",
    "### Random Vector ###\n",
    "We will represent random variables $X_1$ and $X_2$ as a column vector.\n",
    "$$\n",
    "\\mathbf{X} ~ = ~ \n",
    "\\begin{bmatrix}\n",
    "X_1 \\\\\n",
    "X_2 \\\\\n",
    "\\end{bmatrix}\n",
    "$$\n",
    "\n",
    "### Mean Vector ###\n",
    "The *mean vector* of $\\mathbf{X}$ is defined as\n",
    "$$\n",
    "\\boldsymbol{\\mu} ~ = ~ \n",
    "\\begin{bmatrix}\n",
    "E(X_1) \\\\\n",
    "E(X_2) \\\\\n",
    "\\end{bmatrix}\n",
    "$$\n",
    "\n",
    "### Covariance Matrix ###\n",
    "The *covariance matrix* of $\\mathbf{X}$ is the $2\\times2$ matrix $\\boldsymbol{\\Sigma}$ whose $(i, j)$th element is $Cov(X_i, X_j)$. By properties of covariance,\n",
    "\n",
    "$$\n",
    "\\boldsymbol{\\Sigma} ~ = ~ \n",
    "\\begin{bmatrix}\n",
    "Var(X_1) & Cov(X_1, X_2) \\\\\n",
    "Cov(X_1, X_2) & Var(X_2)\n",
    "\\end{bmatrix}\n",
    "$$\n",
    "\n",
    "Every covariance matrix is symmetric, and the elements along its main diagonal are non-negative. Covariance matrices have another property that isn't easy to spot just by looking. As you will soon see in class, there is a relation between $Cov(X_1, X_2)$, $Var(X_1)$, and $Var(X_2)$; the  relation implies that only positive semi-definite matrices can be covariance matrices. But you don't have to worry about that in this lab."
   ]
  },
  {
   "cell_type": "markdown",
   "metadata": {
    "#solution": false,
    "#staff": false,
    "#student": false,
    "deletable": true,
    "editable": true
   },
   "source": [
    "## The Normal Density Function ##\n",
    "The normal density function can be written in many ways. Let's look at how we have written it thus far. The goal is to help you focus on the most important aspects of the density function without getting caught up in details.\n",
    "\n",
    "### Quadratic in the Exponent  ###\n",
    "The normal $(\\mu, \\sigma^2)$ density has a quadratic expression in the exponent.\n",
    "\n",
    "$$\n",
    "f(x) ~ = ~ \\frac{1}{\\sqrt{2\\pi}} e^{-\\frac{1}{2} \\big{(} \\frac{x-\\mu}{\\sigma} \\big{)}^2} ~ = ~ C e^{-\\big{[}\\frac{1}{2}(ax^2 + bx + c)\\big{]}}, ~~~~~~ -\\infty < x < \\infty\n",
    "$$\n",
    "\n",
    "where $C$, $a$, $b$, and $c$ are constants with $a > 0$. \n",
    "\n",
    "The quadratic expression $\\frac{1}{2}(ax^2 + bx + c)$ determines the shape of the density. As you know from class, $C$ just makes the density integrate to 1.\n",
    "\n",
    "If you have a density function and are trying to decide whether it is a normal density, ignore the constants and just look in the exponent. If what you see there is a quadratic, the density is normal. You can work out the mean and SD by methods such as \"completing the square\", but that exercise in algebra is not part of this lab.\n",
    "\n",
    "### Centering ###\n",
    "The focus of the lab is on the form of the normal density function and the shape of the density surface of two jointly normal variables. Shifting the variables only affects location, not the shape. So we will start with centered variables, that is, variables with expectation 0. At the end of the lab we will make a straightforward modification for the case of non-zero means. For now, just assume $\\mu = 0$, so that\n",
    "\n",
    "$$\n",
    "f(x) ~ = ~ Ce^{-\\frac{1}{2}ax^2}, ~~~~~~ -\\infty < x < \\infty\n",
    "$$"
   ]
  },
  {
   "cell_type": "markdown",
   "metadata": {
    "#solution": false,
    "#staff": false,
    "#student": false,
    "deletable": true,
    "editable": true
   },
   "source": [
    "#newpage\n",
    "\n",
    "## Part 1. Independent Standard Normal Variables ##"
   ]
  },
  {
   "cell_type": "markdown",
   "metadata": {
    "#solution": false,
    "#staff": false,
    "#student": false,
    "deletable": true,
    "editable": true
   },
   "source": [
    "Let $Z_1, Z_2$ be i.i.d. standard normal. As you know, their joint density is\n",
    "\n",
    "$$\n",
    "f(z_1, z_2) ~ = ~ \\frac{1}{2\\pi} e^{-\\frac{1}{2}(z_1^2 + z_2^2)}, ~~~~~ -\\infty < z_1, z_2 < \\infty\n",
    "$$\n",
    "\n",
    "Notice that the expression in the exponent is quadratic in $z_1$ and $z_2$. It's a particularly simple quadratic – there are no $z_1z_2$, $z_1$, or $z_2$ terms. That is because $Z_1$ and $Z_2$ are independent and in standard units.\n",
    "\n",
    "In this part of the lab you will learn how to use `SymPy` and how to rewrite $f$ using matrices."
   ]
  },
  {
   "cell_type": "markdown",
   "metadata": {
    "#solution": false,
    "#staff": false,
    "#student": false,
    "deletable": true,
    "editable": true
   },
   "source": [
    "### 1a) The Familiar Form ###\n",
    "Run the cell below. It contains the code used in the textbook to plot $f$. Notice the use of `np.pi` for $\\pi$ and `np.exp` for exponentiation."
   ]
  },
  {
   "cell_type": "code",
   "execution_count": null,
   "metadata": {
    "#solution": false,
    "#staff": false,
    "#student": false,
    "collapsed": false,
    "deletable": true,
    "editable": true
   },
   "outputs": [],
   "source": [
    "def indep_standard_normals(x, y):\n",
    "    return 1/(2*np.pi) * np.exp(-0.5*(x**2 + y**2))\n",
    "\n",
    "Plot_3d((-4, 4), (-4, 4), indep_standard_normals, rstride=4, cstride=4)\n",
    "plt.title('Joint Density of $Z_1$ and $Z_2$');"
   ]
  },
  {
   "cell_type": "markdown",
   "metadata": {
    "#solution": false,
    "#staff": false,
    "#student": false,
    "deletable": true,
    "editable": true
   },
   "source": [
    "### 1b) Integrals in `SymPy` ###\n",
    "\n",
    "Let's get started with some symbolic math using `SymPy`. To tell `SymPy` that a variable should be treated as algebraic, you have to `declare` it."
   ]
  },
  {
   "cell_type": "code",
   "execution_count": null,
   "metadata": {
    "#solution": false,
    "#staff": false,
    "#student": false,
    "collapsed": true,
    "deletable": true,
    "editable": true
   },
   "outputs": [],
   "source": [
    "declare('z_1')\n",
    "declare('z_2')"
   ]
  },
  {
   "cell_type": "markdown",
   "metadata": {
    "#solution": false,
    "#staff": false,
    "#student": false,
    "deletable": true,
    "editable": true
   },
   "source": [
    "The cell below defines $f$ in `SymPy`. Notice the use of `SymPy`'s `pi` and `exp` instead of the corresponding `NumPy` functions. We will alert you about which one you should use."
   ]
  },
  {
   "cell_type": "code",
   "execution_count": null,
   "metadata": {
    "#solution": false,
    "#staff": false,
    "#student": false,
    "collapsed": false,
    "deletable": true,
    "editable": true
   },
   "outputs": [],
   "source": [
    "f = 1/(2*pi) * exp(-0.5*(z_1**2 + z_2**2))\n",
    "f"
   ]
  },
  {
   "cell_type": "markdown",
   "metadata": {
    "#solution": false,
    "#staff": false,
    "#student": false,
    "deletable": true,
    "editable": true
   },
   "source": [
    "`SymPy` doesn't display the function in the way that's most natural for probability theory. This happens sometimes when we use symbolic math programs. "
   ]
  },
  {
   "cell_type": "markdown",
   "metadata": {
    "#solution": false,
    "#staff": false,
    "#student": false,
    "deletable": true,
    "editable": true
   },
   "source": [
    "Let `function_name` be a `SymPy` function of two variables `x` and `y`. To define the integral of the function over a region in the plane, use:\n",
    "\n",
    "`Integral(function_name, (x, lower_x, upper_x), (y, lower_y, upper_y))`\n",
    "\n",
    "where `lower` and `upper` are the lower and upper limits of integration. You can switch the order of integration as needed.\n",
    "\n",
    "`SymPy` rather cutely uses the symbol `oo` (two lower-case letter o's) for $\\infty$ and `-oo` for $-\\infty$.\n",
    "\n",
    "Define the integral of the function $f$ over the entire plane. "
   ]
  },
  {
   "cell_type": "code",
   "execution_count": null,
   "metadata": {
    "#solution": false,
    "#staff": false,
    "#student": false,
    "collapsed": true,
    "deletable": true,
    "editable": true
   },
   "outputs": [],
   "source": [
    "\n",
    "total_integral = ...\n",
    "total_integral"
   ]
  },
  {
   "cell_type": "markdown",
   "metadata": {
    "#solution": false,
    "#staff": false,
    "#student": false,
    "deletable": true,
    "editable": true
   },
   "source": [
    "To compute the value of a definite integral, use the method `.doit()`. Run the cell below to see that `SymPy` gets the right answer."
   ]
  },
  {
   "cell_type": "code",
   "execution_count": null,
   "metadata": {
    "#solution": false,
    "#staff": false,
    "#student": false,
    "collapsed": false,
    "deletable": true,
    "editable": true
   },
   "outputs": [],
   "source": [
    "total_integral.doit()"
   ]
  },
  {
   "cell_type": "markdown",
   "metadata": {
    "#solution": false,
    "#staff": false,
    "#student": false,
    "deletable": true,
    "editable": true
   },
   "source": [
    "### 1c) Matrices in `SymPy` ###\n",
    "Let\n",
    "$$\n",
    "\\mathbf{Z} ~ = ~\n",
    "\\begin{bmatrix}\n",
    "Z_1 \\\\\n",
    "Z_2\n",
    "\\end{bmatrix}\n",
    "$$\n",
    "and let\n",
    "$$\n",
    "\\mathbf{z} ~ = ~\n",
    "\\begin{bmatrix}\n",
    "z_1 \\\\\n",
    "z_2\n",
    "\\end{bmatrix}\n",
    "$$\n",
    "be a generic value of $\\mathbf{Z}$.\n",
    "\n",
    "Recall the formula for the joint density of $\\mathbf{Z}$:\n",
    "\n",
    "$$\n",
    "f(z_1, z_2) ~ = ~ \\frac{1}{2\\pi} e^{-\\frac{1}{2}(z_1^2 + z_2^2)}\n",
    "$$\n",
    "\n",
    "We will use the notation $\\mathbf{M}^T$ for the transpose of a matrix $\\mathbf{M}$. It is clear by algebra that\n",
    "\n",
    "$$\n",
    "f(\\mathbf{z}) \n",
    "~ = ~ \\frac{1}{(\\sqrt{2\\pi})^2} \\exp(-\\frac{1}{2}\\mathbf{z}^T \\mathbf{z})\n",
    "$$\n",
    "\n",
    "Let's see how to calculate $\\mathbf{z}^T\\mathbf{z}$ in `SymPy`.\n",
    "\n",
    "The function `Matrix` converts a list into a column matrix. The method `.T` returns the transpose of the matrix."
   ]
  },
  {
   "cell_type": "code",
   "execution_count": null,
   "metadata": {
    "#solution": false,
    "#staff": false,
    "#student": false,
    "collapsed": false,
    "deletable": true,
    "editable": true
   },
   "outputs": [],
   "source": [
    "z = Matrix([z_1, z_2])\n",
    "z"
   ]
  },
  {
   "cell_type": "code",
   "execution_count": null,
   "metadata": {
    "#solution": false,
    "#staff": false,
    "#student": false,
    "collapsed": false,
    "deletable": true,
    "editable": true
   },
   "outputs": [],
   "source": [
    "z.T"
   ]
  },
  {
   "cell_type": "markdown",
   "metadata": {
    "#solution": false,
    "#staff": false,
    "#student": false,
    "deletable": true,
    "editable": true
   },
   "source": [
    "Compute $\\mathbf{z}^T \\mathbf{z}$ in the cell below. The ordinary multiplication symbol `*` works for matrix multiplication in `SymPy`."
   ]
  },
  {
   "cell_type": "code",
   "execution_count": null,
   "metadata": {
    "#solution": false,
    "#staff": false,
    "#student": true,
    "collapsed": true,
    "deletable": true,
    "editable": true
   },
   "outputs": [],
   "source": [
    "..."
   ]
  },
  {
   "cell_type": "markdown",
   "metadata": {
    "#solution": false,
    "#staff": false,
    "#student": false,
    "deletable": true,
    "editable": true
   },
   "source": [
    "### 1d) The Quadratic and the Covariance Matrix ###\n",
    "You have now checked in a couple of ways that if the two-dimensional random vector $\\mathbf{Z}$ consists of i.i.d. standard normal variables, then the joint density of $\\mathbf{Z}$ is\n",
    "\n",
    "$$\n",
    "f(\\mathbf{z}) \n",
    "~ = ~ \\frac{1}{(\\sqrt{2\\pi})^2} \\exp(-\\frac{1}{2}\\mathbf{z}^T \\mathbf{z})\n",
    "$$\n",
    "\n",
    "The key point to keep in mind:\n",
    "\n",
    "**When $\\mathbf{Z}$ is i.i.d. standard normal, the quadratic in the exponent of the density function is $\\frac{1}{2}\\mathbf{z}^T\\mathbf{z}$. That is, the quadratic is half the dot product of $\\mathbf{z}$ with itself.**\n",
    "\n",
    "Because $Z_1$ and $Z_2$ are i.i.d. standard normal, the covariance matrix of $\\mathbf{Z}$ is the two-dimensional identity matrix $\\mathbf{I}_2$, which `SymPy` has chosen to name as follows:"
   ]
  },
  {
   "cell_type": "code",
   "execution_count": null,
   "metadata": {
    "#solution": false,
    "#staff": false,
    "#student": false,
    "collapsed": false,
    "deletable": true,
    "editable": true
   },
   "outputs": [],
   "source": [
    "eye(2)"
   ]
  },
  {
   "cell_type": "markdown",
   "metadata": {
    "#solution": false,
    "#staff": false,
    "#student": false,
    "deletable": true,
    "editable": true
   },
   "source": [
    "After you've stopped laughing, check that `SymPy` gives the right answers for the following. We are using the notation $\\det(\\mathbf{M})$ for the determinant of $\\mathbf{M}$.\n",
    "\n",
    "(i) $\\mathbf{I}_2^{-1}$\n",
    "\n",
    "(ii) $\\det(\\mathbf{I}_2)$\n",
    "\n",
    "(iii) $\\mathbf{z}^T \\mathbf{I}_2^{-1} \\mathbf{z}$\n",
    "\n",
    "For a `SymPy` matrix `mat`:\n",
    "- `mat.T` gives the transpose\n",
    "- `mat.det()` gives the determinant\n",
    "- `mat.inv()` gives the inverse"
   ]
  },
  {
   "cell_type": "code",
   "execution_count": null,
   "metadata": {
    "#solution": false,
    "#staff": false,
    "#student": false,
    "collapsed": true,
    "deletable": true,
    "editable": true
   },
   "outputs": [],
   "source": [
    "\n",
    "# (i)\n",
    "\n",
    "..."
   ]
  },
  {
   "cell_type": "code",
   "execution_count": null,
   "metadata": {
    "#solution": false,
    "#staff": false,
    "#student": false,
    "collapsed": false,
    "deletable": true,
    "editable": true
   },
   "outputs": [],
   "source": [
    "\n",
    "# (ii)\n",
    "\n",
    "..."
   ]
  },
  {
   "cell_type": "code",
   "execution_count": null,
   "metadata": {
    "#solution": false,
    "#staff": false,
    "#student": false,
    "collapsed": true,
    "deletable": true,
    "editable": true
   },
   "outputs": [],
   "source": [
    "\n",
    "# (iii)\n",
    "\n",
    "..."
   ]
  },
  {
   "cell_type": "markdown",
   "metadata": {
    "#solution": false,
    "#staff": false,
    "#student": false,
    "deletable": true,
    "editable": true
   },
   "source": [
    "You showed earlier that we can rewrite the i.i.d. standard normal joint density as\n",
    "\n",
    "$$\n",
    "f(\\mathbf{z}) \n",
    "~ = ~ \\frac{1}{(\\sqrt{2\\pi})^2} \\exp(-\\frac{1}{2}\\mathbf{z}^T \\mathbf{z})\n",
    "$$\n",
    "\n",
    "Now you can write another equivalent form:\n",
    "\n",
    "$$\n",
    "f(\\mathbf{z}) \n",
    "~ = ~ \\frac{1}{(\\sqrt{2\\pi})^2\\sqrt{\\det(\\mathbf{I}_2)}} \\exp(-\\frac{1}{2}\\mathbf{z}^T \\mathbf{I}_2^{-1} \\mathbf{z})\n",
    "$$\n",
    "\n",
    "We say that $\\mathbf{Z}$ is has the **centered bivariate normal distribution with covariance matrix $\\mathbf{I}_2$**. \n",
    "\n",
    "To see why we complicating matters by throwing in a bunch of silly multiplications by 1, continue with the lab."
   ]
  },
  {
   "cell_type": "markdown",
   "metadata": {
    "#solution": false,
    "#staff": false,
    "#student": false,
    "deletable": true,
    "editable": true
   },
   "source": [
    "#newpage\n",
    "\n",
    "## Part 2: Changing Units – The Effect on the Quadratic  ###\n",
    "Let $a$ and $b$ be non-zero constants. Let $V_1 = aZ_1$ and $V_2 = bZ_2$, and let\n",
    "\n",
    "$$\n",
    "\\mathbf{V} ~ = ~ \n",
    "\\begin{bmatrix}\n",
    "V_1 \\\\\n",
    "V_2\n",
    "\\end{bmatrix}\n",
    "$$\n",
    "\n",
    "Let $f_\\mathbf{V}$ be the joint density of $V_1$ and $V_2$. We will say for short that $f_\\mathbf{V}$ is the joint density of $\\mathbf{V}$.\n",
    "\n",
    "The goal of this part of the lab is to begin to write the formula for $f_\\mathbf{V}$ in terms of matrices and to understand the quadratic component.\n",
    "\n",
    "Much of the work in this part can be done easily by hand. But setting up the matrix framework in `SymPy`, as you are being asked to do below, will make some of the subsequent parts easier."
   ]
  },
  {
   "cell_type": "markdown",
   "metadata": {
    "#solution": false,
    "#staff": false,
    "#student": false,
    "deletable": true,
    "editable": true
   },
   "source": [
    "### 2a) Joint Density of a Linear Transformation ###\n",
    "\n",
    "We started the lab with the definition \n",
    "\n",
    "$$\n",
    "f(z_1, z_2) ~ = ~ \\frac{1}{2\\pi} e^{-\\frac{1}{2}(z_1^2 + z_2^2)}\n",
    "$$\n",
    "\n",
    "Fill in the three blanks below by extending the argument for linear change of variable in one dimension. \n",
    "\n",
    "$$\n",
    "f_{\\mathbf{V}}(v_1, v_2) ~ = ~ \n",
    "f \\big{(} \\underline{ ~ (i) ~ }, \\underline{ ~ (ii) ~ } \\big{)} \\cdot \\frac{1}{\\underline{ ~ (iii) ~ }}\n",
    "$$\n",
    "\n",
    "Justify your expression **on paper** by writing a formula for $f_{\\mathbf{V}}(v_1, v_2)$ in terms of $f$, $a$, $b$ and of course $v_1$ and $v_2$. Be careful – make sure that your density can't be negative."
   ]
  },
  {
   "cell_type": "markdown",
   "metadata": {
    "#solution": false,
    "#staff": false,
    "#student": true,
    "deletable": true,
    "editable": true
   },
   "source": [
    "\n",
    "(i)\n",
    "\n",
    "(ii)\n",
    "\n",
    "(iii)"
   ]
  },
  {
   "cell_type": "markdown",
   "metadata": {
    "#solution": false,
    "#staff": false,
    "#student": false,
    "deletable": true,
    "editable": true
   },
   "source": [
    "### 2b) Image and Preimage ###\n",
    "The random vector $\\mathbf{V}$ is a linear transformation of $\\mathbf{Z}$, so $\\mathbf{V} = \\mathbf{A}\\mathbf{Z}$ where $\\mathbf{A}$ is a matrix of coefficients.\n",
    "\n",
    "On the space of possible values, let vectors $\\mathbf{z}$ and $\\mathbf{v}$ be such that\n",
    "\n",
    "$$\n",
    "\\mathbf{v} ~ = ~ \\mathbf{A}\\mathbf{z}\n",
    "$$\n",
    "\n",
    "We will call $\\mathbf{v}$ the *image* of $\\mathbf{z}$ under the linear tranformation by $\\mathbf{A}$, and we will call $\\mathbf{z}$ the *preimage* of $\\mathbf{v}$.\n",
    "\n",
    "Informally, $\\mathbf{z}$ is the point that leads to $\\mathbf{v}$ via the linear transformation $\\mathbf{A}$.\n",
    "\n",
    "In this exercise you will establish the relation between the preimage and the quadratic in the exponent. First, run the cell below to `declare` some variables."
   ]
  },
  {
   "cell_type": "code",
   "execution_count": null,
   "metadata": {
    "#solution": false,
    "#staff": false,
    "#student": false,
    "collapsed": false,
    "deletable": true,
    "editable": true
   },
   "outputs": [],
   "source": [
    "declare('a')\n",
    "declare('b')\n",
    "declare('v_1')\n",
    "declare('v_2')"
   ]
  },
  {
   "cell_type": "markdown",
   "metadata": {
    "#solution": false,
    "#staff": false,
    "#student": false,
    "deletable": true,
    "editable": true
   },
   "source": [
    "You can use `Matrix` to create a matrix by rows, providing a list of lists as the argument, as follows. \n",
    "\n",
    "Here is a matrix with just one row. Notice the contrast with the way of producing a column."
   ]
  },
  {
   "cell_type": "code",
   "execution_count": null,
   "metadata": {
    "#solution": false,
    "#staff": false,
    "#student": false,
    "collapsed": false,
    "deletable": true,
    "editable": true
   },
   "outputs": [],
   "source": [
    "Matrix([[1,2]]), Matrix([1, 2])"
   ]
  },
  {
   "cell_type": "code",
   "execution_count": null,
   "metadata": {
    "#solution": false,
    "#staff": false,
    "#student": false,
    "collapsed": false,
    "deletable": true,
    "editable": true
   },
   "outputs": [],
   "source": [
    "Matrix([[1, 2], [3, 4]])"
   ]
  },
  {
   "cell_type": "markdown",
   "metadata": {
    "#solution": false,
    "#staff": false,
    "#student": false,
    "deletable": true,
    "editable": true
   },
   "source": [
    "Create the matrix $\\mathbf{A}$ in `SymPy`. Call it `coeffs` as a reminder that it contains the coefficients of the linear transformation."
   ]
  },
  {
   "cell_type": "code",
   "execution_count": null,
   "metadata": {
    "#solution": false,
    "#staff": false,
    "#student": false,
    "collapsed": true,
    "deletable": true,
    "editable": true
   },
   "outputs": [],
   "source": [
    "\n",
    "coeffs = ...\n",
    "coeffs"
   ]
  },
  {
   "cell_type": "markdown",
   "metadata": {
    "#solution": false,
    "#staff": false,
    "#student": false,
    "deletable": true,
    "editable": true
   },
   "source": [
    "Remember that you have already defined\n",
    "$\n",
    "\\mathbf{z} ~ = ~ \n",
    "\\begin{bmatrix}\n",
    "z_1 \\\\\n",
    "z_2\n",
    "\\end{bmatrix}\n",
    "$\n",
    "\n",
    "Find the image of $\\mathbf{z}$. This is a check to see that your definition of `coeffs` is correct."
   ]
  },
  {
   "cell_type": "code",
   "execution_count": null,
   "metadata": {
    "#solution": false,
    "#staff": false,
    "#student": false,
    "collapsed": true,
    "deletable": true,
    "editable": true
   },
   "outputs": [],
   "source": [
    "\n",
    "image_of_z = ...\n",
    "image_of_z"
   ]
  },
  {
   "cell_type": "markdown",
   "metadata": {
    "#solution": false,
    "#staff": false,
    "#student": false,
    "deletable": true,
    "editable": true
   },
   "source": [
    "Define\n",
    "$\n",
    "\\mathbf{v} ~ = ~ \n",
    "\\begin{bmatrix}\n",
    "v_1 \\\\\n",
    "v_2\n",
    "\\end{bmatrix}\n",
    "$"
   ]
  },
  {
   "cell_type": "code",
   "execution_count": null,
   "metadata": {
    "#solution": false,
    "#staff": false,
    "#student": false,
    "collapsed": true,
    "deletable": true,
    "editable": true
   },
   "outputs": [],
   "source": [
    "\n",
    "v = ...\n",
    "v"
   ]
  },
  {
   "cell_type": "markdown",
   "metadata": {
    "#solution": false,
    "#staff": false,
    "#student": false,
    "deletable": true,
    "editable": true
   },
   "source": [
    "Find the preimage of $\\mathbf{v}$. Make sure your answer is a column vector. You might want to use some scratch paper first."
   ]
  },
  {
   "cell_type": "code",
   "execution_count": null,
   "metadata": {
    "#solution": false,
    "#staff": false,
    "#student": false,
    "collapsed": false,
    "deletable": true,
    "editable": true
   },
   "outputs": [],
   "source": [
    "\n",
    "preimage_of_v = ...\n",
    "preimage_of_v"
   ]
  },
  {
   "cell_type": "markdown",
   "metadata": {
    "#solution": false,
    "#staff": false,
    "#student": false,
    "deletable": true,
    "editable": true
   },
   "source": [
    "Find the dot product of this preimage with itself."
   ]
  },
  {
   "cell_type": "code",
   "execution_count": null,
   "metadata": {
    "#solution": false,
    "#staff": false,
    "#student": false,
    "collapsed": true,
    "deletable": true,
    "editable": true
   },
   "outputs": [],
   "source": [
    "\n",
    "..."
   ]
  },
  {
   "cell_type": "markdown",
   "metadata": {
    "#solution": false,
    "#staff": false,
    "#student": false,
    "deletable": true,
    "editable": true
   },
   "source": [
    "Go back and look at your answer to **2a**. \n",
    "\n",
    "**True or false:**\n",
    "\n",
    "In the formula for the joint density $f_\\mathbf{V}$ at the point $\\mathbf{v}$, the quadratic in the exponent is negative half the dot product of the preimage of $\\mathbf{v}$ with itself."
   ]
  },
  {
   "cell_type": "markdown",
   "metadata": {
    "#solution": false,
    "#staff": false,
    "#student": true,
    "deletable": true,
    "editable": true
   },
   "source": [
    "\n",
    "**Your answer here:**\n"
   ]
  },
  {
   "cell_type": "markdown",
   "metadata": {
    "#solution": false,
    "#staff": false,
    "#student": false,
    "deletable": true,
    "editable": true
   },
   "source": [
    "### 2c) Covariance Matrix of $\\mathbf{V}$ ###\n",
    "\n",
    "Let $\\boldsymbol{\\Sigma}_\\mathbf{V}$ be the covariance matrix of $\\mathbf{V}$. Define $\\boldsymbol{\\Sigma}_\\mathbf{V}$ in terms of $a$ and $b$."
   ]
  },
  {
   "cell_type": "code",
   "execution_count": null,
   "metadata": {
    "#solution": false,
    "#staff": false,
    "#student": false,
    "collapsed": true,
    "deletable": true,
    "editable": true
   },
   "outputs": [],
   "source": [
    "\n",
    "Sigma_V = Matrix([... , ...])\n",
    "Sigma_V"
   ]
  },
  {
   "cell_type": "markdown",
   "metadata": {
    "#solution": false,
    "#staff": false,
    "#student": false,
    "deletable": true,
    "editable": true
   },
   "source": [
    "Find $\\boldsymbol{\\Sigma}_\\mathbf{V}^{-1}$."
   ]
  },
  {
   "cell_type": "code",
   "execution_count": null,
   "metadata": {
    "#solution": false,
    "#staff": false,
    "#student": false,
    "collapsed": false,
    "deletable": true,
    "editable": true
   },
   "outputs": [],
   "source": [
    "\n",
    "..."
   ]
  },
  {
   "cell_type": "markdown",
   "metadata": {
    "#solution": false,
    "#staff": false,
    "#student": false,
    "collapsed": false,
    "deletable": true,
    "editable": true
   },
   "source": [
    "Find $\\mathbf{v}^T \\boldsymbol{\\Sigma}^{-1}_\\mathbf{V} \\mathbf{v}$."
   ]
  },
  {
   "cell_type": "code",
   "execution_count": null,
   "metadata": {
    "#solution": false,
    "#staff": false,
    "#student": false,
    "collapsed": true,
    "deletable": true,
    "editable": true
   },
   "outputs": [],
   "source": [
    "\n",
    "..."
   ]
  },
  {
   "cell_type": "markdown",
   "metadata": {
    "#solution": false,
    "#staff": false,
    "#student": false,
    "deletable": true,
    "editable": true
   },
   "source": [
    "So in the formula for the joint density of $f_\\mathbf{V}$ at the point $\\mathbf{v}$, the quadratic in the exponent can be written as\n",
    "\n",
    "$$\n",
    "-\\frac{1}{2} \\mathbf{v}^T \\boldsymbol{\\Sigma}_\\mathbf{V}^{-1} \\mathbf{v}\n",
    "$$\n",
    "\n",
    "This form is useful because it is expressed directly in terms of $\\mathbf{v}$ and not the preimage. "
   ]
  },
  {
   "cell_type": "markdown",
   "metadata": {
    "#solution": false,
    "#staff": false,
    "#student": false,
    "deletable": true,
    "editable": true
   },
   "source": [
    "#newpage\n",
    "\n",
    "## Part 3. Changing Units: The Effect on the Constant of Integration ##\n",
    "To complete the formula for $f_\\mathbf{V}$, we need the constant of integration.\n",
    "\n",
    "Recall from your linear algebra class that in two dimensions, the determinant of a matrix is the area of the parallelogram formed by the images of the two unit vectors under the transformation by that matrix.\n",
    "\n",
    "Let's confirm this for the transformation in Part 2.\n",
    "\n",
    "### 3a) Transformation of the Unit Square ###\n",
    "Define the two unit vectors. Remember that they should be column vectors."
   ]
  },
  {
   "cell_type": "code",
   "execution_count": null,
   "metadata": {
    "#solution": false,
    "#staff": false,
    "#student": false,
    "collapsed": true,
    "deletable": true,
    "editable": true
   },
   "outputs": [],
   "source": [
    "\n",
    "uv_1 = ...\n",
    "uv_2 = ...\n",
    "uv_1, uv_2"
   ]
  },
  {
   "cell_type": "markdown",
   "metadata": {
    "#solution": false,
    "#staff": false,
    "#student": false,
    "deletable": true,
    "editable": true
   },
   "source": [
    "Find the images of the unit vectors under the tranformation by `coeffs`."
   ]
  },
  {
   "cell_type": "code",
   "execution_count": null,
   "metadata": {
    "#solution": false,
    "#staff": false,
    "#student": false,
    "collapsed": true,
    "deletable": true,
    "editable": true
   },
   "outputs": [],
   "source": [
    "\n",
    "image_1 = ...\n",
    "image_2 = ...\n",
    "image_1, image_2"
   ]
  },
  {
   "cell_type": "markdown",
   "metadata": {
    "#solution": false,
    "#staff": false,
    "#student": false,
    "deletable": true,
    "editable": true
   },
   "source": [
    "For $a=2$ and $b=3$, here is the unit square and the resulting parallelogram (which is in this case a rectangle). The area of the unit square has gone up by a factor of $ab = 6$."
   ]
  },
  {
   "cell_type": "code",
   "execution_count": null,
   "metadata": {
    "#solution": false,
    "#staff": false,
    "#student": false,
    "collapsed": false,
    "deletable": true,
    "editable": true
   },
   "outputs": [],
   "source": [
    "unit_square_to_rectangle()"
   ]
  },
  {
   "cell_type": "markdown",
   "metadata": {
    "#solution": false,
    "#staff": false,
    "#student": false,
    "deletable": true,
    "editable": true
   },
   "source": [
    "### 3b) Two Related Determinants ###\n",
    "For the transformation $\\mathbf{V} = \\mathbf{AZ}$ of Part 2, \n",
    "\n",
    "$$\n",
    "\\boldsymbol{\\Sigma}_\\mathbf{V} ~ = ~ \\mathbf{AA}^T\n",
    "$$\n",
    "\n",
    "and if $\\mathbf{z}$ is the preimage of $\\mathbf{v}$ then\n",
    "\n",
    "$$\n",
    "\\mathbf{z}^T\\mathbf{z} ~ = ~ \\mathbf{v}^T (\\mathbf{A^TA})^{-1} \\mathbf{v}\n",
    "~ = ~ \\mathbf{v}^T \\boldsymbol{\\Sigma}_\\mathbf{V}^{-1} \\mathbf{v}\n",
    "$$\n",
    "\n",
    "You can check these facts algebraically on scratch paper using the `coeffs` and `Sigma_V` matrices that you defined in Part 2. Or you can wait till we prove more general versions in class.\n",
    "\n",
    "Use properties of determinants and the first fact above to explain why $\\det(\\boldsymbol{\\Sigma}_\\mathbf{V}) = (\\det(\\mathbf{A}))^2$."
   ]
  },
  {
   "cell_type": "markdown",
   "metadata": {
    "#solution": false,
    "#staff": false,
    "#student": true,
    "deletable": true,
    "editable": true
   },
   "source": [
    "\n",
    "**Your answer here:**"
   ]
  },
  {
   "cell_type": "markdown",
   "metadata": {
    "#solution": false,
    "#staff": false,
    "#student": false,
    "deletable": true,
    "editable": true
   },
   "source": [
    "Find $\\det(\\boldsymbol{\\Sigma}_\\mathbf{V})$ in the cell below."
   ]
  },
  {
   "cell_type": "code",
   "execution_count": null,
   "metadata": {
    "#solution": false,
    "#staff": false,
    "#student": false,
    "collapsed": true,
    "deletable": true,
    "editable": true
   },
   "outputs": [],
   "source": [
    "\n",
    "..."
   ]
  },
  {
   "cell_type": "markdown",
   "metadata": {
    "#solution": false,
    "#staff": false,
    "#student": false,
    "deletable": true,
    "editable": true
   },
   "source": [
    "Now look at what you put in Blank (iii) of **2a**, and fill in the blanks below.\n",
    "\n",
    "I filled Blank (iii) of **2a** with the $\\underline{~~~~~~~~~~~~~~~~}$ \n",
    "of the determinant of $\\mathbf{A}$, which is the same as the \n",
    "$\\underline{~~~~~~~~~~~~~~~~}$ \n",
    "of the determinant of $\\boldsymbol{\\Sigma_\\mathbf{V}}$."
   ]
  },
  {
   "cell_type": "markdown",
   "metadata": {
    "#solution": false,
    "#staff": false,
    "#student": true,
    "deletable": true,
    "editable": true
   },
   "source": [
    "\n",
    "**Your answer here:**\n",
    "\n"
   ]
  },
  {
   "cell_type": "markdown",
   "metadata": {
    "#solution": false,
    "#staff": false,
    "#student": false,
    "deletable": true,
    "editable": true
   },
   "source": [
    "### 3c) A Reparametrization ###\n",
    "\n",
    "Your work in Parts 2 and 3 has shown that\n",
    "\n",
    "$$\n",
    "f_\\mathbf{V}(\\mathbf{v}) ~ = ~ \\frac{1}{(\\sqrt{2\\pi})^2 \\sqrt{\\det(\\boldsymbol{\\Sigma}_\\mathbf{V})} } \\exp \\big{(} -\\frac{1}{2} \\mathbf{v}^T \\boldsymbol{\\Sigma}_\\mathbf{V}^{-1} \\mathbf{v} \\big{)}\n",
    "$$\n",
    "\n",
    "The joint density has been expressed in terms of the parameter $\\boldsymbol{\\Sigma}$, the covariance matrix. We say that $\\mathbf{V}$ has the **centered bivariate normal distribution with covariance matrix $\\boldsymbol{\\Sigma}_\\mathbf{V}$**.\n",
    "\n",
    "Confirm that the formula at the end of Part 1 is a special case of this one.\n",
    "\n",
    "This way of expressing the joint density in terms of the covariance matrix extends to higher dimensions. The formula is exactly the same."
   ]
  },
  {
   "cell_type": "markdown",
   "metadata": {
    "#solution": false,
    "#staff": false,
    "#student": false,
    "deletable": true,
    "editable": true
   },
   "source": [
    "### 3d) Visualization ###\n",
    "Run the cell below to see graphs of $f$ and $f_\\mathbf{V}$. As in **3a**, we have set $a=2$ and $b=3$. The bottom left panel shows 10 points picked independently according to $f$. The bottom right panel shows those 10 points transformed to create the corresponding 10 replications from $f_\\mathbf{V}$.\n",
    "\n",
    "As you know, $f$ has circular symmetry – its level sets are circles. Those circles get transformed into ellipses whose axes are along the $v_1$ and $v_2$ axes. That is why the level sets $f_\\mathbf{V}$ are ellipses. Move the slider (slowly!) to the right to see the elongated shape."
   ]
  },
  {
   "cell_type": "code",
   "execution_count": null,
   "metadata": {
    "#solution": false,
    "#staff": false,
    "#student": false,
    "collapsed": false,
    "deletable": true,
    "editable": true
   },
   "outputs": [],
   "source": [
    "z_to_v(2, 3, n=10)"
   ]
  },
  {
   "cell_type": "markdown",
   "metadata": {
    "#solution": false,
    "#staff": false,
    "#student": false,
    "deletable": true,
    "editable": true
   },
   "source": [
    "#newpage\n",
    "\n",
    "## Part 4: Introducing Dependence ##"
   ]
  },
  {
   "cell_type": "markdown",
   "metadata": {
    "#solution": false,
    "#staff": false,
    "#student": false,
    "deletable": true,
    "editable": true
   },
   "source": [
    "Let $Z_1$ and $Z_2$ be i.i.d. standard normal as before. Now Let $W_1 = Z_1$ and $W_2 = aZ_1 + bZ_2$. As before, both $a$ and $b$ are non-zero constants. \n",
    "\n",
    "Let \n",
    "$\\mathbf{W} = \n",
    "\\begin{bmatrix}\n",
    "W_1 \\\\\n",
    "W_2\n",
    "\\end{bmatrix}\n",
    "$. Our goal is to find the joint density $f_\\mathbf{W}$ at the generic point $\\mathbf{w} = \n",
    "\\begin{bmatrix}\n",
    "w_1 \\\\\n",
    "w_2\n",
    "\\end{bmatrix}\n",
    "$.\n",
    "\n",
    "### 4a) Marginals and Covariance ###\n",
    "\n",
    "Are the marginal distributions of $W_1$ and $W_2$ normal? Why or why not?"
   ]
  },
  {
   "cell_type": "markdown",
   "metadata": {
    "#solution": false,
    "#staff": false,
    "#student": true,
    "deletable": true,
    "editable": true
   },
   "source": [
    "\n",
    "**Your answer here:**\n",
    "\n"
   ]
  },
  {
   "cell_type": "markdown",
   "metadata": {
    "#solution": false,
    "#staff": false,
    "#student": false,
    "deletable": true,
    "editable": true
   },
   "source": [
    "Find the covariance matrix $\\boldsymbol{\\Sigma}_\\mathbf{W}$ of the random vector $\\mathbf{W}$."
   ]
  },
  {
   "cell_type": "code",
   "execution_count": null,
   "metadata": {
    "#solution": false,
    "#staff": false,
    "#student": false,
    "collapsed": true,
    "deletable": true,
    "editable": true
   },
   "outputs": [],
   "source": [
    "\n",
    "Sigma_W = Matrix([..., ...])\n",
    "Sigma_W"
   ]
  },
  {
   "cell_type": "markdown",
   "metadata": {
    "#solution": false,
    "#staff": false,
    "#student": false,
    "deletable": true,
    "editable": true
   },
   "source": [
    "Could $W_1$ and $W_2$ be independent? Explain your answer."
   ]
  },
  {
   "cell_type": "markdown",
   "metadata": {
    "#solution": false,
    "#staff": false,
    "#student": true,
    "deletable": true,
    "editable": true
   },
   "source": [
    "\n",
    "**Your answer here:**\n",
    "\n"
   ]
  },
  {
   "cell_type": "markdown",
   "metadata": {
    "#solution": false,
    "#staff": false,
    "#student": false,
    "deletable": true,
    "editable": true
   },
   "source": [
    "### 4b) The Quadratic ###\n",
    "\n",
    "By the same logic as in **2a**,\n",
    "$$\n",
    "f_\\mathbf{W}(\\mathbf{w}) ~ = ~ Cf(\\mathbf{z})\n",
    "$$\n",
    "where $\\mathbf{z}$ is the preimage of $\\mathbf{w}$ and $C$ is a positive constant.\n",
    "\n",
    "We know that the quadratic in the exponent of $f(\\mathbf{z})$ is $\\frac{1}{2}\\mathbf{z}^T\\mathbf{z}$. In this exercise you will express that quadratic in terms of $\\mathbf{w}$ and $\\boldsymbol{\\Sigma}_\\mathbf{W}$.\n",
    "\n",
    "$\\mathbf{W} = \\mathbf{AZ}$ for some matrix $\\mathbf{A}$. Define $\\mathbf{A}$ in the cell below; call it `coeffs` as before."
   ]
  },
  {
   "cell_type": "code",
   "execution_count": null,
   "metadata": {
    "#solution": false,
    "#staff": false,
    "#student": false,
    "collapsed": true,
    "deletable": true,
    "editable": true
   },
   "outputs": [],
   "source": [
    "\n",
    "coeffs = ...\n",
    "coeffs"
   ]
  },
  {
   "cell_type": "markdown",
   "metadata": {
    "#solution": false,
    "#staff": false,
    "#student": false,
    "deletable": true,
    "editable": true
   },
   "source": [
    "Check that your matrix is correct by finding the image of $\\mathbf{z}$ under the transformation by the matrix."
   ]
  },
  {
   "cell_type": "code",
   "execution_count": null,
   "metadata": {
    "#solution": false,
    "#staff": false,
    "#student": false,
    "collapsed": true,
    "deletable": true,
    "editable": true
   },
   "outputs": [],
   "source": [
    "\n",
    "..."
   ]
  },
  {
   "cell_type": "markdown",
   "metadata": {
    "#solution": false,
    "#staff": false,
    "#student": false,
    "deletable": true,
    "editable": true
   },
   "source": [
    "Now run the cell below to define\n",
    "$$\n",
    "\\mathbf{w} ~ = ~ \n",
    "\\begin{bmatrix}\n",
    "w_1 \\\\\n",
    "w_2\n",
    "\\end{bmatrix}\n",
    "$$"
   ]
  },
  {
   "cell_type": "code",
   "execution_count": null,
   "metadata": {
    "#solution": false,
    "#staff": false,
    "#student": false,
    "collapsed": false,
    "deletable": true,
    "editable": true
   },
   "outputs": [],
   "source": [
    "declare('w_1')\n",
    "declare('w_2')\n",
    "w = Matrix([w_1, w_2])\n",
    "w"
   ]
  },
  {
   "cell_type": "markdown",
   "metadata": {
    "#solution": false,
    "#staff": false,
    "#student": false,
    "deletable": true,
    "editable": true
   },
   "source": [
    "Find the preimage of $\\mathbf{w}$."
   ]
  },
  {
   "cell_type": "code",
   "execution_count": null,
   "metadata": {
    "#solution": false,
    "#staff": false,
    "#student": false,
    "collapsed": true,
    "deletable": true,
    "editable": true
   },
   "outputs": [],
   "source": [
    "\n",
    "preimage = ...\n",
    "preimage"
   ]
  },
  {
   "cell_type": "markdown",
   "metadata": {
    "#solution": false,
    "#staff": false,
    "#student": false,
    "deletable": true,
    "editable": true
   },
   "source": [
    "Find the dot product of the preimage with itself. The quadratic in the exponent of the joint density function is 1/2 times this dot product. "
   ]
  },
  {
   "cell_type": "code",
   "execution_count": null,
   "metadata": {
    "#solution": false,
    "#staff": false,
    "#student": false,
    "collapsed": true,
    "deletable": true,
    "editable": true
   },
   "outputs": [],
   "source": [
    "\n",
    "preimage_dotprod = ...\n",
    "preimage_dotprod"
   ]
  },
  {
   "cell_type": "markdown",
   "metadata": {
    "#solution": false,
    "#staff": false,
    "#student": false,
    "deletable": true,
    "editable": true
   },
   "source": [
    "As in Part 2, this dot product is equal to $\\mathbf{w}^T \\boldsymbol{\\Sigma}_\\mathbf{W}^{-1} \\mathbf{w}$. This is called a *quadratic form*. \n",
    "\n",
    "Compute the quadratic form, and don't get anxious if it doesn't look like the output of the cell above. Algebraic expressions can be written in many equivalent ways."
   ]
  },
  {
   "cell_type": "code",
   "execution_count": null,
   "metadata": {
    "#solution": false,
    "#staff": false,
    "#student": false,
    "collapsed": true,
    "deletable": true,
    "editable": true
   },
   "outputs": [],
   "source": [
    "\n",
    "quad_form = ...\n",
    "quad_form"
   ]
  },
  {
   "cell_type": "markdown",
   "metadata": {
    "#solution": false,
    "#staff": false,
    "#student": false,
    "deletable": true,
    "editable": true
   },
   "source": [
    "The function `rearrange_1` saves you the trouble of simplifying the algebra. Run the two cells below and compare the outputs."
   ]
  },
  {
   "cell_type": "code",
   "execution_count": null,
   "metadata": {
    "#solution": false,
    "#staff": false,
    "#student": false,
    "collapsed": false,
    "deletable": true,
    "editable": true
   },
   "outputs": [],
   "source": [
    "rearrange_1(preimage_dotprod)"
   ]
  },
  {
   "cell_type": "code",
   "execution_count": null,
   "metadata": {
    "#solution": false,
    "#staff": false,
    "#student": false,
    "collapsed": false,
    "deletable": true,
    "editable": true
   },
   "outputs": [],
   "source": [
    "rearrange_1(quad_form)"
   ]
  },
  {
   "cell_type": "markdown",
   "metadata": {
    "#solution": false,
    "#staff": false,
    "#student": false,
    "deletable": true,
    "editable": true
   },
   "source": [
    "What you have shown thus far is that\n",
    "$$\n",
    "f_\\mathbf{W}(\\mathbf{w}) ~ = ~ C \\exp (-\\frac{1}{2} \\mathbf{w}^T \\boldsymbol{\\Sigma}_\\mathbf{W}^{-1} \\mathbf{w})\n",
    "$$"
   ]
  },
  {
   "cell_type": "markdown",
   "metadata": {
    "#solution": false,
    "#staff": false,
    "#student": false,
    "deletable": true,
    "editable": true
   },
   "source": [
    "### 4c) The Constant of Integration ###\n",
    "As in Part 3, the constant $C$ has two factors. One factor is $(1/\\sqrt{2\\pi})^2$. The other is $1/s$ where $s$ is the area of the parallelogram formed by the transformed unit vectors.\n",
    "\n",
    "Remember that the transformation is determined by the matrix `coeffs`, and that the unit vectors are called `uv_1` and `uv_2`."
   ]
  },
  {
   "cell_type": "code",
   "execution_count": null,
   "metadata": {
    "#solution": false,
    "#staff": false,
    "#student": false,
    "collapsed": false,
    "deletable": true,
    "editable": true
   },
   "outputs": [],
   "source": [
    "coeffs, uv_1, uv_2"
   ]
  },
  {
   "cell_type": "markdown",
   "metadata": {
    "#solution": false,
    "#staff": false,
    "#student": false,
    "deletable": true,
    "editable": true
   },
   "source": [
    "Find the images of the unit vectors under the linear transformation."
   ]
  },
  {
   "cell_type": "code",
   "execution_count": null,
   "metadata": {
    "#solution": false,
    "#staff": false,
    "#student": false,
    "collapsed": true,
    "deletable": true,
    "editable": true
   },
   "outputs": [],
   "source": [
    "\n",
    "image_1 = ...\n",
    "image_2 = ...\n",
    "image_1, image_2"
   ]
  },
  {
   "cell_type": "markdown",
   "metadata": {
    "#solution": false,
    "#staff": false,
    "#student": false,
    "deletable": true,
    "editable": true
   },
   "source": [
    "The figure below shows the two image vectors and the resulting parallelogram in the case $a=3$ and $b=1.5$."
   ]
  },
  {
   "cell_type": "code",
   "execution_count": null,
   "metadata": {
    "#solution": false,
    "#staff": false,
    "#student": false,
    "collapsed": false,
    "deletable": true,
    "editable": true
   },
   "outputs": [],
   "source": [
    "unit_square_to_parallelogram()"
   ]
  },
  {
   "cell_type": "markdown",
   "metadata": {
    "#solution": false,
    "#staff": false,
    "#student": false,
    "deletable": true,
    "editable": true
   },
   "source": [
    "Fill in the blank (it's fine to assume $a$ and $b$ are positive):\n",
    "\n",
    "If we define the \"base\" of the parallelogram to be a vertical side of length b, then the \"height\" of the red parallelogram is always equal to $\\underline{~~~~~~~~}$."
   ]
  },
  {
   "cell_type": "markdown",
   "metadata": {
    "#solution": false,
    "#staff": false,
    "#student": true,
    "deletable": true,
    "editable": true
   },
   "source": [
    "\n",
    "**Your answer here:**\n",
    "\n"
   ]
  },
  {
   "cell_type": "markdown",
   "metadata": {
    "#solution": false,
    "#staff": false,
    "#student": false,
    "deletable": true,
    "editable": true
   },
   "source": [
    "Find $\\det(\\boldsymbol{\\Sigma}_\\mathbf{W})$."
   ]
  },
  {
   "cell_type": "code",
   "execution_count": null,
   "metadata": {
    "#solution": false,
    "#staff": false,
    "#student": false,
    "collapsed": true,
    "deletable": true,
    "editable": true
   },
   "outputs": [],
   "source": [
    "\n",
    "..."
   ]
  },
  {
   "cell_type": "markdown",
   "metadata": {
    "#solution": false,
    "#staff": false,
    "#student": false,
    "deletable": true,
    "editable": true
   },
   "source": [
    "**True or False:** The area of the parallelogram is $\\sqrt{\\det(\\boldsymbol{\\Sigma}_\\mathbf{W})}$."
   ]
  },
  {
   "cell_type": "markdown",
   "metadata": {
    "#solution": false,
    "#staff": false,
    "#student": true,
    "deletable": true,
    "editable": true
   },
   "source": [
    "\n",
    "**Your answer here:**\n"
   ]
  },
  {
   "cell_type": "markdown",
   "metadata": {
    "#solution": false,
    "#staff": false,
    "#student": false,
    "deletable": true,
    "editable": true
   },
   "source": [
    "### 4d) The Joint Density ###\n",
    "You have shown that $\\mathbf{W}$ has the **centered bivariate normal density with covariance matrix $\\boldsymbol{\\Sigma}_\\mathbf{W}$** given by\n",
    "\n",
    "$$\n",
    "f_\\mathbf{W}(\\mathbf{w}) ~ = ~ \\frac{1}{(\\sqrt{2\\pi})^2 \\sqrt{\\det(\\boldsymbol{\\Sigma}_\\mathbf{W})} } \\exp \\big{(} -\\frac{1}{2} \\mathbf{w}^T \\boldsymbol{\\Sigma}_\\mathbf{W}^{-1} \\mathbf{w} \\big{)}\n",
    "$$\n",
    "\n",
    "Run the cell below for graphs of $f$ and $f_\\mathbf{W}$. As in **4c**, we have set $a=3$ and $b=1.5$. Circles get transformed to ellipses as before, but now the axes of the ellipses are at an angle to the $w_1$ and $w_2$ axes."
   ]
  },
  {
   "cell_type": "code",
   "execution_count": null,
   "metadata": {
    "#solution": false,
    "#staff": false,
    "#student": false,
    "collapsed": false,
    "deletable": true,
    "editable": true
   },
   "outputs": [],
   "source": [
    "z_to_w(3, 1.5, n=10)"
   ]
  },
  {
   "cell_type": "markdown",
   "metadata": {
    "#solution": false,
    "#staff": false,
    "#student": false,
    "deletable": true,
    "editable": true
   },
   "source": [
    "At this point you should be pretty confident that if we took some other centered linear transformation of $\\mathbf{Z}$, that too would have a joint density of the form that we have developed. We will do the general calculation in class. Because you have done this lab, you will understand what the pieces of the formula mean."
   ]
  },
  {
   "cell_type": "markdown",
   "metadata": {
    "#solution": false,
    "#staff": false,
    "#student": false,
    "deletable": true,
    "editable": true
   },
   "source": [
    "## Endnote: $n$ Dimensions ##\n",
    "We will discuss the details in class, but here is a summary that should come as no surprise.\n",
    "\n",
    "Let $\\mathbf{X} = \n",
    "\\begin{bmatrix}\n",
    "X_1 \\\\\n",
    "X_2 \\\\\n",
    "\\vdots \\\\\n",
    "X_n\n",
    "\\end{bmatrix}\n",
    "$ be a random vector.\n",
    "\n",
    "- For a symmetric positive definite $n \\times n$ matrix $\\boldsymbol{\\Sigma}$, the random vector $\\mathbf{X}$ has the centered multivariate normal distribution with covariance matrix $\\boldsymbol{\\Sigma}$ if the joint density function is given by\n",
    "\n",
    "$$\n",
    "f_{\\mathbf{X}}(\\mathbf{x}) ~ = ~ \\frac{1}{(\\sqrt{2\\pi})^n \\sqrt{\\det(\\boldsymbol{\\Sigma})} } \\exp \\big{(} -\\frac{1}{2} \\mathbf{x}^T \\boldsymbol{\\Sigma}^{-1} \\mathbf{x} \\big{)}\n",
    "$$\n",
    "\n",
    "- Multivariate normal variables with mean vector $\\boldsymbol{\\mu}$ and covariance matrix $\\boldsymbol{\\Sigma}$ are just $Y_1, Y_2, \\ldots, Y_n$ where $Y_i = X_i + \\boldsymbol{\\mu}[i]$. Shifting doesn't change covariances or volumes. So\n",
    "\n",
    "$$\n",
    "f_{\\mathbf{Y}}(\\mathbf{y}) ~ = ~ f_{\\mathbf{X}}(\\mathbf{y} - \\boldsymbol{\\mu})\n",
    "~ = ~ \\frac{1}{(\\sqrt{2\\pi})^n \\sqrt{\\det(\\boldsymbol{\\Sigma})} } \\exp \\big{(} -\\frac{1}{2} (\\mathbf{y} - \\boldsymbol{\\mu})^T \\boldsymbol{\\Sigma}^{-1} (\\mathbf{y} - \\boldsymbol{\\mu}) \\big{)}\n",
    "$$\n",
    "\n",
    "We will see that if $\\mathbf{X}$ is multivariate normal then all the marginals are normal, as is the conditional distribution of any of the coordinates given any of the others. However, it is possible to construct $\\mathbf{X}$ such that all the marginals are normal but the joint density is not multivariate normal."
   ]
  },
  {
   "cell_type": "markdown",
   "metadata": {
    "#solution": false,
    "#staff": false,
    "#student": false,
    "deletable": true,
    "editable": true
   },
   "source": [
    "## Conclusion ##\n",
    "You have learned:\n",
    "- how to use `SymPy` for integration and linear algebra\n",
    "- the formula for the multivariate normal joint density\n",
    "- where the pieces of the formula come from\n",
    "- what the joint density surface looks like in two dimensions\n",
    "- how the covariance matrix is related to the matrix of coefficients of the linear transformation"
   ]
  },
  {
   "cell_type": "code",
   "execution_count": null,
   "metadata": {
    "#solution": false,
    "#staff": false,
    "#student": false,
    "collapsed": true,
    "deletable": true,
    "editable": true
   },
   "outputs": [],
   "source": [
    "import gsExport\n",
    "gsExport.generateSubmission(\"Lab_10.ipynb\")"
   ]
  }
 ],
 "metadata": {
  "anaconda-cloud": {},
  "checksums": [
   "b0aefbc0a2143213357738234b5b70f0",
   "3d5bc308777b311bc6e1236a1bab1e2e",
   "f4db06dd08c69f04284999a27f6b3d43",
   "9a5fb16bac4055090e1a4fab51a1fcff",
   "265fbaae4af4c959f2b5a98d9fde8ca3",
   "a6cedd7e0857c88f1d824fddd5a6c98c",
   "3e7705a3dfc541e4a40c2fbe3352b44c",
   "f507030ee9e3e1d3fb26aec2d691897c",
   "e9f01de1957a922b7f1b3a10a252f9f2",
   "5c5d3147fae28af9597674c3c9497bd8",
   "d8baa157b4d1df16b0531fbd926e93db",
   "1c36ddde39f2b4a184f9b890f5aba540",
   "3224db1eedaa8f2e2fa58597d7c1c38f",
   "4e74d999d97b4aec2741417d8e8254e7",
   "af93f2ab7da473408f9710c10bc9a493",
   "679330abe3588a090906f30072ee027c",
   "88707c543e4ce1c70d1b9b455d271b3d",
   "23e1815a82a00ab44bac255b375bc8a8",
   "37834993034afaa1102785c504ca748a",
   "af6eff3d5e0f9e3b1d7ec516a4c0b829",
   "2877ff27e8158cf5eaaf47c5de1e5f7e",
   "4f9760fafa68b2af7a403f73e6994208",
   "10d12704ad04f8a2b38a849f82b268dd",
   "9d36403bf7c8f716121af7364c26ba9c",
   "870c57e6aa3aa8eb5fe5dee2650999b8",
   "6716898ebc08ee7ce3d7bf4280f33773",
   "23d1d17b2b7a19f3b779c97b0da729f4",
   "4efa4749598a29a65b005da1aa295d67",
   "2f43b42fd833d1e77420a8dae7419000",
   "adeca5b6b473e15da28d0291582e02ea",
   "2a92caf98e64c64c492f31f8ff41d133",
   "7b7b7f47a51a4b1c1b2c393e049bebee",
   "6178d7990e0e19323f67adfbf4b5bab2",
   "89d63f166823eee810feb9cf5fd43a55",
   "ba85086343acb009f0f9129b7d56d39b",
   "c694cefe367e1a7d44f2063be1ecfc34",
   "7ba3bf311b89307d15a3d74fcdf1161c",
   "a43860572b2995d17a43c1a632576247",
   "78110593d2c7e146d0062a07de5a6127",
   "7f4e750825ff23c9efa37a25abd6741a",
   "960c2816d1ed81a277b22f9b394eac83",
   "5d16c34da240c5ca1fb99f909f4e8224",
   "f6258a146317770557e1eec2f378b631",
   "37917c9cbc8a9af27160ad97045b03b7",
   "b87b55a61103fdea7f4167f5ea724ebc",
   "18a1644ad6f74de14c700d0248fd7abf",
   "d4c77e9b3a95ed7f93642ea628bd1d5a",
   "1e41a6fc880bbecbbe91fd59888f81cf",
   "bcef5c95e6be69ca4caecd26784ad0ad",
   "9dad95aa1028872116fb8daf6043a23f",
   "76276f64628cb1119abd0930e8f818a9",
   "7ac7328447a5d6a1a480e1a13eae02e1",
   "bc94950668261718e1f2df8085de4940",
   "2f43b42fd833d1e77420a8dae7419000",
   "b227359b02a80d2dbeb6c95822fa1680",
   "3e4e798bebee02accabb5a87e5bbf985",
   "f5c421063a86f59b1a966ecb90faf2ad",
   "166746185543ebae31a67b4b06093766",
   "234f3f7ec6cc3db82bda63e00c37200d",
   "2f43b42fd833d1e77420a8dae7419000",
   "62320dbb3e232fac5a7984c9562b919f",
   "2f43b42fd833d1e77420a8dae7419000",
   "8095845cababed4960f44b0271c545c4",
   "d11ca13c0769bcc9275eea94b9e81e2b",
   "77cf53175481c440ce3ceab55f4ecf71",
   "0a3116ffe7fe4d7ae8079a2534f84576",
   "fd93a1abbd1ea662152b79cdf69afa03",
   "ac2f7112fbee78ad00eee7f4a75bc940",
   "eea2f412d05a9634ebe1d8157a878406",
   "8e63c7254c41940f9a7f3598f0befaff",
   "3e4e798bebee02accabb5a87e5bbf985",
   "535a52dddfa81a06ea31cf5162c8bff3",
   "2f43b42fd833d1e77420a8dae7419000",
   "3ffb0ade2c07d473ca536e51a0038827",
   "3e4e798bebee02accabb5a87e5bbf985",
   "d28eeca241c5d06fb35f43a8f2292f6f",
   "9678d0fc8cedce91c0074bf8abfcb6ba",
   "96937580ed29adbbb8c495cec3aad22c",
   "77ae061856bfd6b10918a0630c97764d",
   "447dc9e09cd29555e22be470f17d7820",
   "3e4e798bebee02accabb5a87e5bbf985",
   "3f5ec18b7e1bf5261995426155c38c81",
   "a446d00061da4f9ab86d45206fd2bb1f",
   "6d8daa29d52a3c52e5b1c2d59ac5cedf",
   "3e4e798bebee02accabb5a87e5bbf985",
   "7d1e6280805787d87fe19d460cad3e2e",
   "18a1644ad6f74de14c700d0248fd7abf",
   "7fcdffdfb40f3d75e11b21ed652051b6",
   "2f43b42fd833d1e77420a8dae7419000",
   "372edc868e598e8d49d7343a38f65b68",
   "5608dffba979f018a870dee16593ba12",
   "e4e51b595a2d46ad8b4cf6aba1916063",
   "b38351dd00d349a54817aa0c062388e2",
   "b4ff7c922dcad63e7e456079730f87d1",
   "073737037a8fd11e8d2058c411181c35",
   "beeda6aa9057347ed5f61b4025a65a38",
   "a671c94161202b1525a009ccfca25151",
   "f971b5fdff26628d6fb17f7ce375ec51",
   "43c13d67b3719f7ee40458956db76b61",
   "b35f7d9de65a44c9e0e1019a8cdaebda",
   "93c0fc6b3bfaee63b9aa79cf30eea4c5",
   "dc8f41857448b482b31aef3b1ad99d35",
   "244ebb5e51a7ace016a3b5178c625633",
   "8151e814f95f52014b3612827f30f6f3",
   "fd93a1abbd1ea662152b79cdf69afa03",
   "dd5b71304df9febe7391b52e31deb4f1",
   "747a63947503a5e2e03a5997d80a1da0",
   "edab3920537d2589fb7b555a8d154dad",
   "3e4e798bebee02accabb5a87e5bbf985",
   "80f0eceb4be9a000be76137b89901ccb",
   "2f43b42fd833d1e77420a8dae7419000",
   "c1e46950e801d25ace07cee38b67089c",
   "3e4e798bebee02accabb5a87e5bbf985",
   "5c1d882e4fb308df801272b32ffafb6c",
   "20a426c0afd439c3effdf7f70e83e8b9",
   "8d1aa60f21a98671f20abb6b08de839c",
   "296f18b28ba4f838abd9d2de61103121",
   "746eb45aea5557592b563b414b939e7a",
   "a9784df44881c440dd4ebca870785559"
  ],
  "kernelspec": {
   "display_name": "Python 3",
   "language": "python",
   "name": "python3"
  },
  "language_info": {
   "codemirror_mode": {
    "name": "ipython",
    "version": 3
   },
   "file_extension": ".py",
   "mimetype": "text/x-python",
   "name": "python",
   "nbconvert_exporter": "python",
   "pygments_lexer": "ipython3",
   "version": "3.5.2"
  },
  "number_of_pagebreaks": 4
 },
 "nbformat": 4,
 "nbformat_minor": 0
}
