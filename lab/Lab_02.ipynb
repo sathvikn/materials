{
 "cells": [
  {
   "cell_type": "markdown",
   "metadata": {
    "deletable": true,
    "editable": true
   },
   "source": [
    "<table align=\"left\" style=\"border-style: hidden\" class=\"table\"> <tr> <td class=\"col-md-2\"><img style=\"float\" src=\"http://prob140.org/assets/icon256.png\" alt=\"Prob140 Logo\" style=\"width: 120px;\"/></td><td><div align=\"left\"><h3 style=\"margin-top: 0;\">Probability for Data Science</h3><h4 style=\"margin-top: 20px;\">UC Berkeley, Spring 2018</h4><p>Ani Adhikari</div></td></tr></table><!-- not in pdf -->"
   ]
  },
  {
   "cell_type": "code",
   "execution_count": null,
   "metadata": {
    "#solution": false,
    "#staff": false,
    "#student": false,
    "collapsed": true,
    "deletable": true,
    "editable": true
   },
   "outputs": [],
   "source": [
    "# SETUP\n",
    "\n",
    "import numpy as np\n",
    "from datascience import *\n",
    "from prob140 import *\n",
    "\n",
    "# These lines do some fancy plotting magic\n",
    "import matplotlib\n",
    "%matplotlib inline\n",
    "import matplotlib.pyplot as plt\n",
    "plt.style.use('fivethirtyeight')\n",
    "\n",
    "# These lines make warnings look nicer\n",
    "import warnings\n",
    "warnings.simplefilter('ignore', FutureWarning)\n",
    "warnings.simplefilter('ignore', DeprecationWarning)\n",
    "\n",
    "# Useful for probability calculations\n",
    "from scipy import stats\n",
    "from scipy import misc"
   ]
  },
  {
   "cell_type": "code",
   "execution_count": null,
   "metadata": {
    "#solution": false,
    "#staff": false,
    "#student": false,
    "collapsed": true,
    "deletable": true,
    "editable": true
   },
   "outputs": [],
   "source": [
    "# Standard deck of cards\n",
    "\n",
    "ranks = np.append(np.arange(2, 11), np.array(['Jack', 'Queen', 'King', 'Ace']))\n",
    "\n",
    "suits = ['\\u2660', '\\u2663', '\\u2661', '\\u2662']\n",
    "\n",
    "deck = Table().values('Suit', suits, 'Rank', ranks).move_to_start('Rank')"
   ]
  },
  {
   "cell_type": "markdown",
   "metadata": {
    "#solution": false,
    "#staff": false,
    "#student": false,
    "deletable": true,
    "editable": true
   },
   "source": [
    "# Lab 2: Five-Card Poker #\n",
    "Simple random sampling (sampling uniformly at random without replacement) is a natural scheme for sampling from a finite population. Data science applications aside, simple random sampling happens every time a hand of cards is dealt from a well shuffled deck. In this lab we will study aspects of simple random sampling in the context of poker, a card game. \n",
    "\n",
    "Several of the discoveries you will make in this lab, especially those in Parts 3 and 4, will have obvious generalizations when you change the parameters. So the lab isn't just about poker, but poker is the primary setting.\n",
    "\n",
    "What you'll do in this lab:\n",
    "- Use SciPy to find hypergeometric probabilities and numbers of combinations\n",
    "- Deal yourself some poker hands and learn which ones are valued more highly than others\n",
    "- Work out why some hands are more valuable\n",
    "- Study the distribution of the count of a specified rank in a hand\n",
    "- Study the joint distribution of the counts of two specified ranks in a hand"
   ]
  },
  {
   "cell_type": "markdown",
   "metadata": {
    "#solution": false,
    "#staff": false,
    "#student": false,
    "deletable": true,
    "editable": true
   },
   "source": [
    "## Part 1: Using SciPy ##\n",
    "We will start with some functions that make numerical probability calculations easy. `SciPy` is a system for scientific computing, based on Python. Its modules `misc` and `stats` are useful for math and probability calculations.\n",
    "\n",
    "#### Number of Combinations ####\n",
    "You know that if you have a population of size $N$ and you take a simple random sample of size $n$, then there are ${N \\choose n}$ possible samples. \n",
    "\n",
    "For integers $0 \\le n \\le N$, `misc.comb(N, n)` evaluates to ${N \\choose n}$. \n",
    "\n",
    "Annoyingly, sometimes you get a float instead of an integer, due to the method of computation.\n",
    "\n",
    "If you are bothered by the decimals you can use `misc.comb(N, n, exact=True)` for the integer value.\n",
    "\n",
    "Combinatorial terms can get large very quickly, but in this lab you won't have to worry about that.\n",
    "\n",
    "#### Hypergeometric Probabilities ###\n",
    "Because of the simple random sampling scheme, all ${N \\choose n}$ possible samples are equally likely. Now suppose that among the $N$ elements of the population, $G$ are good according to some precise definition of \"good\". Then you know that\n",
    "\n",
    "$$\n",
    "P(k \\text{ good elements in the sample}) ~ = ~ \n",
    "\\frac{ {G \\choose k}{{N-G} \\choose {n-k}} }{ {N \\choose n} }\n",
    "$$\n",
    "\n",
    "following the standard interpretation that \"$k$ good elements\" means \"exactly $k$ good elements.\"\n",
    "\n",
    "These are impressively called *hypergeometric probabilities* because the terms are related to the hypergeometric series of mathematics. Scary terminology notwithstanding, what is being calculated is straightforward: the chance of getting a specified number of good elements in a simple random sample.\n",
    "\n",
    "In the calculation above, $k$ is the desired number of good elements specified in the event. The population size $N$, the population count of good elements $G$, and the sample size $n$ are constants of the sampling scheme and are called *parameters*. \n",
    "\n",
    "`stats.hypergeom.pmf(k, N, G, n)` evaluates to the probability above. The `pmf` part stands for \"probability mass function\".\n",
    "\n",
    "**Warning**: Be careful when you read `SciPy` documentation for `hypergeom`. Their notation uses some of the same letters as we are using, to mean different things. It can therefore be horribly confusing. \n",
    "\n",
    "Just remember the call as:\n",
    "\n",
    "`stats.hypergeom.pmf(k, population_size, num_good_in_population, sample_size)`\n",
    "\n",
    "#### Hypergeometric Distributions ####\n",
    "If $X$ is the number of good elements in the sample, then $P(X = k)$ is the hypergeometric probability above, and $X$ is said to have the *hypergeometric distribution with parameters $N$, $G$, and $n$.* When you see that, you should say in your head, \"$X$ is the number of good elements in a simple random sample with the listed parameters.\"\n",
    "\n",
    "By using a list or array for `k`, instead of a single integer, you can get all the corresponding hypergeometric probabilities by using the same call as above. The sampling scheme and hence the parameters stay fixed.\n",
    "\n",
    "#### Example ####\n",
    "Suppose a class has 100 students of whom 40 are seniors, and suppose you take a simple random sample of 25 students from the class. Then the chance that you get 10 seniors in the sample is\n",
    "\n",
    "$$\n",
    "\\frac{ {{40} \\choose {10}}{{60} \\choose {15}} }{ {{100} \\choose {25}} }\n",
    "$$\n",
    "\n",
    "which can be calculated in the two ways below."
   ]
  },
  {
   "cell_type": "code",
   "execution_count": null,
   "metadata": {
    "#solution": false,
    "#staff": false,
    "#student": false,
    "collapsed": false,
    "deletable": true,
    "editable": true
   },
   "outputs": [],
   "source": [
    "misc.comb(40, 10) * misc.comb(60, 15) / misc.comb(100, 25)"
   ]
  },
  {
   "cell_type": "code",
   "execution_count": null,
   "metadata": {
    "#solution": false,
    "#staff": false,
    "#student": false,
    "collapsed": false,
    "deletable": true,
    "editable": true
   },
   "outputs": [],
   "source": [
    "stats.hypergeom.pmf(10, 100, 40, 25)"
   ]
  },
  {
   "cell_type": "markdown",
   "metadata": {
    "#solution": false,
    "#staff": false,
    "#student": false,
    "deletable": true,
    "editable": true
   },
   "source": [
    "If $X$ is the number of seniors in the sample, then $X$ has the hypergeometric distribution with parameters 100, 40, and 25. Here are all the probabilities in the distribution followed by a confirmation that it is indeed a distribution."
   ]
  },
  {
   "cell_type": "code",
   "execution_count": null,
   "metadata": {
    "#solution": false,
    "#staff": false,
    "#student": false,
    "collapsed": false,
    "deletable": true,
    "editable": true
   },
   "outputs": [],
   "source": [
    "k = np.arange(26)\n",
    "stats.hypergeom.pmf(k, 100, 40, 25)"
   ]
  },
  {
   "cell_type": "code",
   "execution_count": null,
   "metadata": {
    "#solution": false,
    "#staff": false,
    "#student": false,
    "collapsed": false,
    "deletable": true,
    "editable": true
   },
   "outputs": [],
   "source": [
    "sum(stats.hypergeom.pmf(k, 100, 40, 25))"
   ]
  },
  {
   "cell_type": "markdown",
   "metadata": {
    "#solution": false,
    "#staff": false,
    "#student": false,
    "deletable": true,
    "editable": true
   },
   "source": [
    "Now it's your turn to use these functions. The exercises in this part are in the context of cookies, not poker, with apologies for making you hungry.\n",
    "\n",
    "**In a box of 36 cookies, 12 are chocolate chip, 18 are oatmeal raisin, and the rest are snickerdoodles. Select a simple random sample of 20 cookies.**"
   ]
  },
  {
   "cell_type": "markdown",
   "metadata": {
    "#solution": false,
    "#staff": false,
    "#student": false,
    "deletable": true,
    "editable": true
   },
   "source": [
    "### 1a) ###\n",
    "In each cell, use `misc.comb` and arithmetic operations to find the quantity described.\n",
    "\n",
    "(i) the total number of samples"
   ]
  },
  {
   "cell_type": "code",
   "execution_count": null,
   "metadata": {
    "#solution": false,
    "#staff": false,
    "#student": true,
    "collapsed": true,
    "deletable": true,
    "editable": true
   },
   "outputs": [],
   "source": [
    "..."
   ]
  },
  {
   "cell_type": "markdown",
   "metadata": {
    "#solution": false,
    "#staff": false,
    "#student": false,
    "deletable": true,
    "editable": true
   },
   "source": [
    "(ii) the number of samples that have no snickerdoodles"
   ]
  },
  {
   "cell_type": "code",
   "execution_count": null,
   "metadata": {
    "#solution": false,
    "#staff": false,
    "#student": true,
    "collapsed": true,
    "deletable": true,
    "editable": true
   },
   "outputs": [],
   "source": [
    "..."
   ]
  },
  {
   "cell_type": "markdown",
   "metadata": {
    "#solution": false,
    "#staff": false,
    "#student": false,
    "deletable": true,
    "editable": true
   },
   "source": [
    "(iii) the number of samples that have equal numbers of chocolate chip and oatmeal raisin cookies"
   ]
  },
  {
   "cell_type": "code",
   "execution_count": null,
   "metadata": {
    "#solution": false,
    "#staff": false,
    "#student": true,
    "collapsed": true,
    "deletable": true,
    "editable": true
   },
   "outputs": [],
   "source": [
    "..."
   ]
  },
  {
   "cell_type": "markdown",
   "metadata": {
    "#solution": false,
    "#staff": false,
    "#student": false,
    "deletable": true,
    "editable": true
   },
   "source": [
    "(iv) the chance of getting equal numbers of chocolate chip and oatmeal raisin cookies"
   ]
  },
  {
   "cell_type": "code",
   "execution_count": null,
   "metadata": {
    "#solution": false,
    "#staff": false,
    "#student": true,
    "collapsed": true,
    "deletable": true,
    "editable": true
   },
   "outputs": [],
   "source": [
    "..."
   ]
  },
  {
   "cell_type": "markdown",
   "metadata": {
    "#solution": false,
    "#staff": false,
    "#student": false,
    "deletable": true,
    "editable": true
   },
   "source": [
    "### 1b) ###\n",
    "This is a brief workout with `stats.hypergeom.pmf`. It's a good idea to go back to the start of Part 1 where the details were provided, to remind yourself the types of input and the order of the arguments. \n",
    "\n",
    "Find:\n",
    "\n",
    "(i) the chance that there is 1 snickerdoodle in the sample"
   ]
  },
  {
   "cell_type": "code",
   "execution_count": null,
   "metadata": {
    "#solution": false,
    "#staff": false,
    "#student": true,
    "collapsed": false,
    "deletable": true,
    "editable": true
   },
   "outputs": [],
   "source": [
    "stats.hypergeom.pmf(...)"
   ]
  },
  {
   "cell_type": "markdown",
   "metadata": {
    "#solution": false,
    "#staff": false,
    "#student": false,
    "deletable": true,
    "editable": true
   },
   "source": [
    "(ii) the chance that the sample has more than 4 chocolate chip cookies"
   ]
  },
  {
   "cell_type": "code",
   "execution_count": null,
   "metadata": {
    "#solution": false,
    "#staff": false,
    "#student": true,
    "collapsed": true,
    "deletable": true,
    "editable": true
   },
   "outputs": [],
   "source": [
    "..."
   ]
  },
  {
   "cell_type": "markdown",
   "metadata": {
    "#solution": false,
    "#staff": false,
    "#student": false,
    "deletable": true,
    "editable": true
   },
   "source": [
    "Note that if you had been asked to calculate the above probability by hand, using the complement rule would have been quicker than the direct method. With a computational system such as the one we are using, it doesn't make much difference."
   ]
  },
  {
   "cell_type": "markdown",
   "metadata": {
    "#solution": false,
    "#staff": false,
    "#student": false,
    "deletable": true,
    "editable": true
   },
   "source": [
    "#newpage"
   ]
  },
  {
   "cell_type": "markdown",
   "metadata": {
    "#solution": false,
    "#staff": false,
    "#student": false,
    "deletable": true,
    "editable": true
   },
   "source": [
    "## Part 2: Classification of Poker Hands ##\n",
    "That's enough of hypothetical cookies. It's time for you to deal some cards. \n",
    "\n",
    "In a standard deck of 52 cards, each card has three attributes – suit, color, and rank.\n",
    "- There are 26 black cards, and 26 red cards which we show here as colorless.\n",
    "- There are 13 cards in each of four suits: hearts ($\\heartsuit$) and diamonds ($\\diamondsuit$) are red, and spades ($\\spadesuit$) and clubs ($\\clubsuit$) are black.\n",
    "- Within each suit, the 13 cards are ranked 2, 3, 4, 5, 6, 7, 8, 9, 10, Jack, Queen, King, Ace in ascending order of value.\n",
    "\n",
    "You can think of the table `deck` as a standard deck, one card per row. The spades are displayed below."
   ]
  },
  {
   "cell_type": "code",
   "execution_count": null,
   "metadata": {
    "#solution": false,
    "#staff": false,
    "#student": false,
    "collapsed": false,
    "deletable": true,
    "editable": true
   },
   "outputs": [],
   "source": [
    "deck.show(13)"
   ]
  },
  {
   "cell_type": "markdown",
   "metadata": {
    "#solution": false,
    "#staff": false,
    "#student": false,
    "deletable": true,
    "editable": true
   },
   "source": [
    "A *five-card poker hand* consists of 5 cards dealt at random without replacement from the deck. Each hand can be classified according to the attributes of the cards in it. \n",
    "\n",
    "Some hands are more valuable than others. Here is the ranking from highest to lowest.\n",
    "- **Royal flush**: 10, Jack, Queen, King, Ace of the same suit\n",
    "- **Straight flush**: five consecutive ranks, all of the same suit, not a royal flush\n",
    "- **Four of a kind**: *aaaab* for any two ranks *a* and *b*\n",
    "- **Full house**: *aaabb* for any two ranks *a* and *b*\n",
    "- **Flush**: five cards of the same suit but not a royal flush or a straight flush\n",
    "- **Straight**: five consecutive ranks, not all of the same suit\n",
    "- **Three of a kind**: *aaabc* for any three ranks *a*, *b*, and *c*\n",
    "- **Two pair**: *aabbc* for any three ranks *a*, *b*, and *c*\n",
    "- **One pair**: *aabcd* for any four ranks *a*, *b*, *c*, and *d*\n",
    "- **High card**: None of the above; if all players have these, they have to compare the highest ranked card in each hand"
   ]
  },
  {
   "cell_type": "markdown",
   "metadata": {
    "#solution": false,
    "#staff": false,
    "#student": false,
    "deletable": true,
    "editable": true
   },
   "source": [
    "### 2a) ###\n",
    "The Table method `sample` draws uniformly from the rows of a table. If `tbl` is a table and `n` is a positive integer, `tbl.sample(n, with_replacement=False)` creates a table whose rows are a simple random sample of `n` rows of `tbl`.\n",
    "\n",
    "In each of the four cells below, deal a poker hand. In the comment line below the code, say what kind of hand it is, based on the classification above. If you get a \"high card\" hand, identify the highest card in the hand."
   ]
  },
  {
   "cell_type": "code",
   "execution_count": null,
   "metadata": {
    "#solution": false,
    "#staff": false,
    "#student": true,
    "collapsed": false,
    "deletable": true,
    "editable": true
   },
   "outputs": [],
   "source": [
    "# Hand 1\n",
    "\n",
    "deck.sample(...)\n",
    "\n",
    "#"
   ]
  },
  {
   "cell_type": "code",
   "execution_count": null,
   "metadata": {
    "#solution": false,
    "#staff": false,
    "#student": true,
    "collapsed": true,
    "deletable": true,
    "editable": true
   },
   "outputs": [],
   "source": [
    "# Hand 2"
   ]
  },
  {
   "cell_type": "code",
   "execution_count": null,
   "metadata": {
    "#solution": false,
    "#staff": false,
    "#student": true,
    "collapsed": true,
    "deletable": true,
    "editable": true
   },
   "outputs": [],
   "source": [
    "# Hand 3"
   ]
  },
  {
   "cell_type": "code",
   "execution_count": null,
   "metadata": {
    "#solution": false,
    "#staff": false,
    "#student": true,
    "collapsed": true,
    "deletable": true,
    "editable": true
   },
   "outputs": [],
   "source": [
    "# Hand 4"
   ]
  },
  {
   "cell_type": "markdown",
   "metadata": {
    "#solution": false,
    "#staff": false,
    "#student": false,
    "deletable": true,
    "editable": true
   },
   "source": [
    "What was the best hand you got?"
   ]
  },
  {
   "cell_type": "markdown",
   "metadata": {
    "#solution": false,
    "#staff": false,
    "#student": true,
    "deletable": true,
    "editable": true
   },
   "source": [
    "\n",
    "** Your answer here. **"
   ]
  },
  {
   "cell_type": "markdown",
   "metadata": {
    "#solution": false,
    "#staff": false,
    "#student": false,
    "deletable": true,
    "editable": true
   },
   "source": [
    "### 2b) ###\n",
    "Find the total number of five-card poker hands."
   ]
  },
  {
   "cell_type": "code",
   "execution_count": null,
   "metadata": {
    "#solution": false,
    "#staff": false,
    "#student": true,
    "collapsed": true,
    "deletable": true,
    "editable": true
   },
   "outputs": [],
   "source": [
    "# total number of poker hands\n",
    "\n",
    "..."
   ]
  },
  {
   "cell_type": "markdown",
   "metadata": {
    "#solution": false,
    "#staff": false,
    "#student": false,
    "deletable": true,
    "editable": true
   },
   "source": [
    "That's a lot of poker hands. Each of the hands falls into one of the categories described above. The rarer the category, the higher its value. For example, there are only four possible royal flushes – one for each suit – so royal flush is the most valuable. [Wikipedia's list of poker hands](https://en.wikipedia.org/wiki/List_of_poker_hands) includes the number of hands of each kind. Skim the page but ignore \"five of a kind\" because our deck doesn't have a joker card.\n",
    "\n",
    "In the rest of this part of the lab, you will find the numbers of hands in some of the categories above. Counts for some of the other categories were covered in discussion section. "
   ]
  },
  {
   "cell_type": "markdown",
   "metadata": {
    "#solution": false,
    "#staff": false,
    "#student": false,
    "deletable": true,
    "editable": true
   },
   "source": [
    "### 2c) Straight Flush ###\n",
    "A straight flush has been defined above as both a straight (five consecutive cards) and a flush (all of the same suit), but not a royal flush. By this definition, how many straight flush hands are there? It will help to notice that the ranks in any straight are fixed once you know the highest ranked card in the straight."
   ]
  },
  {
   "cell_type": "markdown",
   "metadata": {
    "#solution": false,
    "#staff": false,
    "#student": true,
    "deletable": true,
    "editable": true
   },
   "source": [
    "\n",
    "** Your answer here. **"
   ]
  },
  {
   "cell_type": "markdown",
   "metadata": {
    "#solution": false,
    "#staff": false,
    "#student": false,
    "deletable": true,
    "editable": true
   },
   "source": [
    "**Note:** Some definitions of the straight flush include the royal flush. Others allow aces to be both high and low, that is, \"Ace 2 3 4 5\" as well as \"10 J Q K A\" are straights. We aren't including either of those, but Wikipedia does include them and thus has a higher count than ours."
   ]
  },
  {
   "cell_type": "markdown",
   "metadata": {
    "#solution": false,
    "#staff": false,
    "#student": false,
    "deletable": true,
    "editable": true
   },
   "source": [
    "### 2d) Full House ###\n",
    "Scroll down the Wikipedia page till you find the Full House section and the place where it says that there are 3,744 possible full house hands. In the cell below, show the calculation that leads to this result. Run the cell and confirm that your calculation is correct."
   ]
  },
  {
   "cell_type": "code",
   "execution_count": null,
   "metadata": {
    "#solution": false,
    "#staff": false,
    "#student": true,
    "collapsed": false,
    "deletable": true,
    "editable": true
   },
   "outputs": [],
   "source": [
    "# Number of possible full house hands\n",
    "\n",
    "..."
   ]
  },
  {
   "cell_type": "markdown",
   "metadata": {
    "#solution": false,
    "#staff": false,
    "#student": false,
    "deletable": true,
    "editable": true
   },
   "source": [
    "### 2e) Three of a Kind ###\n",
    "\"Three of a kind\" is less valuable than full house. How many possible \"three of a kind\" hands are there? Show the calculation in the cell below and run the cell."
   ]
  },
  {
   "cell_type": "code",
   "execution_count": null,
   "metadata": {
    "#solution": false,
    "#staff": false,
    "#student": true,
    "collapsed": true,
    "deletable": true,
    "editable": true
   },
   "outputs": [],
   "source": [
    "# three of a kind\n",
    "\n",
    "..."
   ]
  },
  {
   "cell_type": "markdown",
   "metadata": {
    "#solution": false,
    "#staff": false,
    "#student": false,
    "deletable": true,
    "editable": true
   },
   "source": [
    "Does your answer agree with the count according to Wikipedia? Explain how you came up with the calculation in the code cell above."
   ]
  },
  {
   "cell_type": "markdown",
   "metadata": {
    "#solution": false,
    "#staff": false,
    "#student": true,
    "deletable": true,
    "editable": true
   },
   "source": [
    "\n",
    "** Your answer here **"
   ]
  },
  {
   "cell_type": "markdown",
   "metadata": {
    "#solution": false,
    "#staff": false,
    "#student": false,
    "deletable": true,
    "editable": true
   },
   "source": [
    "In the same way, with some careful counting, you can verify the counts (and hence the relative value) of all the different kinds of poker hands."
   ]
  },
  {
   "cell_type": "markdown",
   "metadata": {
    "#solution": false,
    "#staff": false,
    "#student": false,
    "deletable": true,
    "editable": true
   },
   "source": [
    "#newpage"
   ]
  },
  {
   "cell_type": "markdown",
   "metadata": {
    "#solution": false,
    "#staff": false,
    "#student": false,
    "deletable": true,
    "editable": true
   },
   "source": [
    "## Part 3: Aces ##\n",
    "In Part 2, poker hands were classified according to all their attributes. Now you will take a more careful look at just the count of cards of one specified rank in a hand. We will use the ace as the specified rank, but the results apply to any other rank as well.\n",
    "\n",
    "The main goal of this part of the lab is to visualize the distribution of the number of aces in a  5-card poker hand. \n",
    "\n",
    "The `prob140` library has methods that allow you to quickly draw a histogram of the probability distribution of an integer-valued random variable. For a random variable $X$ whose possible values are in `values_array` with the corresponding probabilities in the array `probs_array`, the assignment \n",
    "\n",
    "`dist_object = Table().values(values_array).probability(probs_array)`\n",
    "\n",
    "creates a \"distribution object\" we have named `dist_object`, containing the distribution of $X$. Then `Plot(dist_object)` draws the histogram."
   ]
  },
  {
   "cell_type": "markdown",
   "metadata": {
    "#solution": false,
    "#staff": false,
    "#student": false,
    "deletable": true,
    "editable": true
   },
   "source": [
    "### 3a) ###\n",
    "Find the chance of getting 1 ace in a poker hand. Do the calculation in two ways, one in each of the cells below."
   ]
  },
  {
   "cell_type": "code",
   "execution_count": null,
   "metadata": {
    "#solution": false,
    "#staff": false,
    "#student": true,
    "collapsed": true,
    "deletable": true,
    "editable": true
   },
   "outputs": [],
   "source": [
    "# Use only misc.comb and arithmetic operations\n",
    "..."
   ]
  },
  {
   "cell_type": "code",
   "execution_count": null,
   "metadata": {
    "#solution": false,
    "#staff": false,
    "#student": true,
    "collapsed": true,
    "deletable": true,
    "editable": true
   },
   "outputs": [],
   "source": [
    "# Use only stats.hypergeom.pmf\n",
    "..."
   ]
  },
  {
   "cell_type": "markdown",
   "metadata": {
    "#solution": false,
    "#staff": false,
    "#student": false,
    "deletable": true,
    "editable": true
   },
   "source": [
    "### 3b) ###\n",
    "Let $X$ be the number of aces in a poker hand. Fill in and run the cell below so the final result is the probability histogram of $X$. Make sure that the bar at $X = 1$ is consistent with your answer to **3a**."
   ]
  },
  {
   "cell_type": "code",
   "execution_count": null,
   "metadata": {
    "#solution": false,
    "#staff": false,
    "#student": true,
    "collapsed": true,
    "deletable": true,
    "editable": true
   },
   "outputs": [],
   "source": [
    "# Array of possible values of X\n",
    "k = ...\n",
    "\n",
    "# Array/list of the corresponding probabilities\n",
    "aces_probs = ...\n",
    "\n",
    "# Distribution object consisting of the distribution of X\n",
    "aces_dist = ...\n",
    "\n",
    "# Probability histogram of X\n",
    "\n",
    "..."
   ]
  },
  {
   "cell_type": "markdown",
   "metadata": {
    "#solution": false,
    "#staff": false,
    "#student": false,
    "deletable": true,
    "editable": true
   },
   "source": [
    "### 3c) ###\n",
    "For comparison, draw the probability histogram of the number of red cards in a poker hand."
   ]
  },
  {
   "cell_type": "code",
   "execution_count": null,
   "metadata": {
    "#solution": false,
    "#staff": false,
    "#student": true,
    "collapsed": true,
    "deletable": true,
    "editable": true
   },
   "outputs": [],
   "source": [
    "..."
   ]
  },
  {
   "cell_type": "markdown",
   "metadata": {
    "#solution": false,
    "#staff": false,
    "#student": false,
    "deletable": true,
    "editable": true
   },
   "source": [
    "Explain the difference between the shape of this histogram and the one in part **b**. "
   ]
  },
  {
   "cell_type": "markdown",
   "metadata": {
    "#solution": false,
    "#staff": false,
    "#student": true,
    "deletable": true,
    "editable": true
   },
   "source": [
    "\n",
    "** Your answer here **"
   ]
  },
  {
   "cell_type": "markdown",
   "metadata": {
    "#solution": false,
    "#staff": false,
    "#student": false,
    "deletable": true,
    "editable": true
   },
   "source": [
    "### 3d) ###\n",
    "While it's often easy to compare shapes by just a glance at a pair of histograms, you have to look more closely to make numerical comparisons. Drawing both histograms on the same horizontal axis is often revealing.\n",
    "\n",
    "`Plots(variable_name_1, dist_object_1, variable_name_2, dist_object_2)`\n",
    "\n",
    "draws overlaid histograms of the two probability distributions in the arguments. Choose the strings `variable_name_1` and `variable_name_2` to be short but descriptive of the corresponding variables.\n",
    "\n",
    "Overlay the histograms in parts **b** and **c**. Call one of the variables `Number of Aces` and the other variable `Number of Reds`."
   ]
  },
  {
   "cell_type": "code",
   "execution_count": null,
   "metadata": {
    "#solution": false,
    "#staff": false,
    "#student": true,
    "collapsed": true,
    "deletable": true,
    "editable": true
   },
   "outputs": [],
   "source": [
    "..."
   ]
  },
  {
   "cell_type": "markdown",
   "metadata": {
    "#solution": false,
    "#staff": false,
    "#student": false,
    "deletable": true,
    "editable": true
   },
   "source": [
    "**Prediction intervals:** Based on the graph above (and no other calculation) fill in the blanks below. Fill in the first blank with either \"aces\" or \"red cards\", and each of the other blanks with an integer. If there is more than one correct set of choices, provide all of them.\n",
    "\n",
    "There is about 95% chance that the number of $\\underline{~~~~~~~~~~~~~~~~}$ in the professor's next 5-card poker hand will be either $\\underline{~~~~~~~~~~~}$ or $\\underline{~~~~~~~~~~~}$."
   ]
  },
  {
   "cell_type": "markdown",
   "metadata": {
    "#solution": false,
    "#staff": false,
    "#student": true,
    "deletable": true,
    "editable": true
   },
   "source": [
    "\n",
    "** Your answer here **"
   ]
  },
  {
   "cell_type": "markdown",
   "metadata": {
    "#solution": false,
    "#staff": false,
    "#student": false,
    "deletable": true,
    "editable": true
   },
   "source": [
    "#newpage"
   ]
  },
  {
   "cell_type": "markdown",
   "metadata": {
    "#solution": false,
    "#staff": false,
    "#student": false,
    "deletable": true,
    "editable": true
   },
   "source": [
    "## Part 4: Aces and Kings ##\n",
    "This part of the lab examines the joint distribution of the counts of two ranks in the hand. We have used aces and kings but the results apply to any pair of ranks."
   ]
  },
  {
   "cell_type": "markdown",
   "metadata": {
    "#solution": false,
    "#staff": false,
    "#student": false,
    "deletable": true,
    "editable": true
   },
   "source": [
    "### 4a) ###\n",
    "Let $X$ be the number of aces and $Y$ the number of kings in a five-card poker hand. Get some scratch paper and figure out:\n",
    "- How to describe all the possible values of $(X, Y)$\n",
    "- $P(X = x, Y = y)$ for each possible value $(x, y)$\n",
    "\n",
    "Now define a function `joint_prob` that takes arguments $x$ and $y$ and returns $P(X = x, Y = y)$."
   ]
  },
  {
   "cell_type": "code",
   "execution_count": null,
   "metadata": {
    "#solution": false,
    "#staff": false,
    "#student": true,
    "collapsed": false,
    "deletable": true,
    "editable": true
   },
   "outputs": [],
   "source": [
    "\n",
    "def joint_prob(x, y):\n",
    "    return ..."
   ]
  },
  {
   "cell_type": "markdown",
   "metadata": {
    "#solution": false,
    "#staff": false,
    "#student": false,
    "deletable": true,
    "editable": true
   },
   "source": [
    "What should `joint_prob(4, 2)` be? Explain in the Markdown cell and then run the code cell to confirm."
   ]
  },
  {
   "cell_type": "markdown",
   "metadata": {
    "#solution": false,
    "#staff": false,
    "#student": true,
    "deletable": true,
    "editable": true
   },
   "source": [
    "\n",
    "** Your answer here **"
   ]
  },
  {
   "cell_type": "code",
   "execution_count": null,
   "metadata": {
    "#solution": false,
    "#staff": false,
    "#student": true,
    "collapsed": false,
    "deletable": true,
    "editable": true
   },
   "outputs": [],
   "source": [
    "\n",
    "joint_prob(4, 2)"
   ]
  },
  {
   "cell_type": "markdown",
   "metadata": {
    "#solution": false,
    "#staff": false,
    "#student": false,
    "deletable": true,
    "editable": true
   },
   "source": [
    "You know what the total of all the probabilities in the joint distribution of $X$ and $Y$ should be. Use the cell below to confirm that the sum of `joint_prob(x, y)` over all `x` and `y` is indeed what it should be. There are many ways of writing the code; whichever you use, make sure that the last line evaluates to the sum."
   ]
  },
  {
   "cell_type": "code",
   "execution_count": null,
   "metadata": {
    "#solution": false,
    "#staff": false,
    "#student": true,
    "collapsed": false,
    "deletable": true,
    "editable": true
   },
   "outputs": [],
   "source": [
    "\n",
    "..."
   ]
  },
  {
   "cell_type": "markdown",
   "metadata": {
    "#solution": false,
    "#staff": false,
    "#student": false,
    "deletable": true,
    "editable": true
   },
   "source": [
    "### 4b) ###\n",
    "The cell below uses `joint_prob` to create and display a joint distribution table for $X$ (`Aces`) and $Y$ (`Kings`). All you have to do is fill in the blank to set the possible values of each of $X$ and $Y$."
   ]
  },
  {
   "cell_type": "code",
   "execution_count": null,
   "metadata": {
    "#solution": false,
    "#staff": false,
    "#student": true,
    "collapsed": false,
    "deletable": true,
    "editable": true
   },
   "outputs": [],
   "source": [
    "\n",
    "k = np.arange(...)\n",
    "two_ranks_tbl = Table().values(\"Aces\", k, \"Kings\", k).probability_function(joint_prob)\n",
    "two_ranks = two_ranks_tbl.to_joint()\n",
    "\n",
    "two_ranks"
   ]
  },
  {
   "cell_type": "markdown",
   "metadata": {
    "#solution": false,
    "#staff": false,
    "#student": false,
    "deletable": true,
    "editable": true
   },
   "source": [
    "Use the table to find numerical values of the following probabilities.\n",
    "\n",
    "(i) $P(\\text{1 ace and 1 king})$\n",
    "\n",
    "(ii) $P(\\text{2 cards of one of the two ranks and none of the other})$"
   ]
  },
  {
   "cell_type": "markdown",
   "metadata": {
    "#solution": false,
    "#staff": false,
    "#student": true,
    "deletable": true,
    "editable": true
   },
   "source": [
    "\n",
    "** Your answer here **"
   ]
  },
  {
   "cell_type": "markdown",
   "metadata": {
    "#solution": false,
    "#staff": false,
    "#student": false,
    "deletable": true,
    "editable": true
   },
   "source": [
    "You can use joint distribution tables created by the `prob140` library to find other distributions as well. For example, if `joint_dist` is a joint distribution table of variables labeled `V` and `W`, then:\n",
    "\n",
    "`joint_dist.both_marginals()` displays the joint distribution table along with the two marginals\n",
    "\n",
    "`joint_dist.conditional_dist(V, W)` displays a table of the conditional distribution of $V$ given each value of $W$, and the marginal distribution of $W$."
   ]
  },
  {
   "cell_type": "markdown",
   "metadata": {
    "#solution": false,
    "#staff": false,
    "#student": false,
    "deletable": true,
    "editable": true
   },
   "source": [
    "### 4c) ###\n",
    "For each of the statements (i), (ii), and (iii), say whether it is true or false and explain your choice. As before, $X$ is the number of aces and $Y$ the number of kings in a five-card poker hand.\n",
    "\n",
    "(i) $X = Y$\n",
    "\n",
    "(ii) $X = Y$ in distribution\n",
    "\n",
    "(iii) $X$ and $Y$ are not equal in distribution"
   ]
  },
  {
   "cell_type": "markdown",
   "metadata": {
    "#solution": false,
    "#staff": false,
    "#student": true,
    "deletable": true,
    "editable": true
   },
   "source": [
    "\n",
    "** Your answer here **"
   ]
  },
  {
   "cell_type": "markdown",
   "metadata": {
    "#solution": false,
    "#staff": false,
    "#student": false,
    "deletable": true,
    "editable": true
   },
   "source": [
    "Complete the line of code below to display a table that supports your choices above."
   ]
  },
  {
   "cell_type": "code",
   "execution_count": null,
   "metadata": {
    "#solution": false,
    "#staff": false,
    "#student": true,
    "collapsed": false,
    "deletable": true,
    "editable": true
   },
   "outputs": [],
   "source": [
    "\n",
    "two_ranks..."
   ]
  },
  {
   "cell_type": "markdown",
   "metadata": {
    "#solution": false,
    "#staff": false,
    "#student": false,
    "deletable": true,
    "editable": true
   },
   "source": [
    "### 4d) ###\n",
    "Display the conditional distribution of the number of aces in the hand for each given value of the number of kings in the hand."
   ]
  },
  {
   "cell_type": "code",
   "execution_count": null,
   "metadata": {
    "#solution": false,
    "#staff": false,
    "#student": true,
    "collapsed": true,
    "deletable": true,
    "editable": true
   },
   "outputs": [],
   "source": [
    "..."
   ]
  },
  {
   "cell_type": "markdown",
   "metadata": {
    "#solution": false,
    "#staff": false,
    "#student": false,
    "deletable": true,
    "editable": true
   },
   "source": [
    "The table should show that $P(X = 1 \\mid Y = 3) \\approx 15.6\\%$. Use the division rule and the appropriate elements in the tables in parts **b** and **c** to confirm that this conditional probability has been computed correctly."
   ]
  },
  {
   "cell_type": "code",
   "execution_count": null,
   "metadata": {
    "#solution": false,
    "#staff": false,
    "#student": true,
    "collapsed": true,
    "deletable": true,
    "editable": true
   },
   "outputs": [],
   "source": [
    "... / ..."
   ]
  },
  {
   "cell_type": "markdown",
   "metadata": {
    "#solution": false,
    "#staff": false,
    "#student": false,
    "deletable": true,
    "editable": true
   },
   "source": [
    "### 4e) ###\n",
    "Focus on the row that displays **the conditional distribution of the number of aces given that there are two kings in the hand**. Like all the others in the table, this conditional distribution has been calculated using the joint distribution of the number of aces and the number of kings in the hand.\n",
    "\n",
    "But there is a way of coming up with the conditional distribution directly, without using the joint distribution. Think about the symmetries in simple random samples and about how the condition \"two kings in the hand\" restricts the outcome space. Figure out how to use this to find $P(\\text{hand has 1 ace} \\mid \\text{2 kings in the hand})$. Then use the same idea to write one line of code that generates all the probabilities in the conditional distribution of the number of aces given two kings."
   ]
  },
  {
   "cell_type": "code",
   "execution_count": null,
   "metadata": {
    "#solution": false,
    "#staff": false,
    "#student": true,
    "collapsed": true,
    "deletable": true,
    "editable": true
   },
   "outputs": [],
   "source": [
    "..."
   ]
  },
  {
   "cell_type": "markdown",
   "metadata": {
    "#solution": false,
    "#staff": false,
    "#student": false,
    "collapsed": true,
    "deletable": true,
    "editable": true
   },
   "source": [
    "\n",
    "\n",
    "If the probabilities in your answer agree with the corresponding line of the table in part **d**, congratulations. Not only have you discovered a good approach to conditioning in the context of simple random sampling, you're done with this lab!"
   ]
  },
  {
   "cell_type": "markdown",
   "metadata": {
    "#solution": false,
    "#staff": false,
    "#student": false,
    "deletable": true,
    "editable": true
   },
   "source": [
    "### Conclusion ###\n",
    "What you have learned in this lab, apart from some details about poker:\n",
    "- The `stats` and `misc` modules of SciPy make it easy to compute probabilities numerically.\n",
    "- Counting isn't always as easy as 1-2-3; you have to be careful to avoid double counting or leaving out elements that should be counted.\n",
    "- Shapes of hypergeometric distributions can vary quite markedly depending on the parameters.\n",
    "- Joint, marginal, and conditional distributions are related in straightforward ways based on the multiplication, addition, and division rules.\n",
    "- Symmetries in simple random sampling help to simplify calculations."
   ]
  },
  {
   "cell_type": "markdown",
   "metadata": {
    "#solution": false,
    "#staff": false,
    "#student": false,
    "deletable": true,
    "editable": true
   },
   "source": [
    "## Submission Instructions\n",
    "\n",
    "1. **Save your notebook using File > Save and Checkpoint.**\n",
    "2. Run the cell below to generate a pdf file.\n",
    "3. Download the pdf file and confirm that none of your work is missing or cut off.\n",
    "4. Submit the assignment to Lab_02b on Gradescope. Use the entry code \"9GEKKD\" if you haven't already joined the class."
   ]
  },
  {
   "cell_type": "code",
   "execution_count": null,
   "metadata": {
    "#solution": false,
    "#staff": false,
    "#student": false,
    "collapsed": true,
    "deletable": true,
    "editable": true
   },
   "outputs": [],
   "source": [
    "import gsExport\n",
    "gsExport.generateSubmission(\"Lab_02.ipynb\")"
   ]
  }
 ],
 "metadata": {
  "anaconda-cloud": {},
  "checksums": [
   "b0aefbc0a2143213357738234b5b70f0",
   "f2607eca2bf906d101db9eabb620bb26",
   "d560dee47ca3ce4c8ebaa36393861d55",
   "8641961797153ffd81129fae7cb86337",
   "b21c63fa8c346f10e9f1dca0bbda8285",
   "3a56477180c6166f1bf82980ff76b8c5",
   "5526d395e7ee353008fa6a8b4e67dc1d",
   "e9256c95bbfffde31e5b28f666a8fa76",
   "3725eb8575b2b2624dc048487fc186a9",
   "2b0348b615f00d1658fd4fca3ce81404",
   "b4b96149822dba5fa921ce4fc4535ea2",
   "8273e9c5b59ffc9999097cf12150cb86",
   "2f43b42fd833d1e77420a8dae7419000",
   "f679e855369c69c0558ccafa7d85876c",
   "2f43b42fd833d1e77420a8dae7419000",
   "ad35a4b5d3d1bd5ad92a30d8e6956dc7",
   "2f43b42fd833d1e77420a8dae7419000",
   "6c237d13614d57738ef4319ee92d95f8",
   "2f43b42fd833d1e77420a8dae7419000",
   "e71e809392c318b8650c2d4292b72ecf",
   "7b55d7d533c23514e347809ecf17e628",
   "87318a4efc519b88e523eae21d98585b",
   "2f43b42fd833d1e77420a8dae7419000",
   "18ea27b8c5f80f49ba2d93f0146762f8",
   "640061103a186fd26f59746dd4d6de57",
   "8d691fcb7a6f234e707a227cb74f003c",
   "89f9224203fed03c504b2343e0ed2a12",
   "99526493f45acc09d8bf3f7d2f7c6816",
   "1b6c7fc41698eca788421227a89b5310",
   "cb4c691a444c8e992d7bd89a452e260f",
   "20f7b2ea1e8ab232beb27f0dbe8396b2",
   "eb5df9e39f2483df743da5aae8909d0d",
   "675f2fad1a7e30d6cd1094af6a9643b8",
   "7065ec90d85718f357d4f46673774394",
   "3a76d7cce4e9ecdb4fe70737e7879960",
   "11d293a59143ff09807414f10f543ea7",
   "efe2ecd5e7b4dd3eaeff9c1320b7862d",
   "2da11a78ea3c4add0e69879aee1e3fc8",
   "f9d41e898d3e56456682d0fb1fa73c46",
   "3a76d7cce4e9ecdb4fe70737e7879960",
   "1f46253cf4a2d11f0a9f2ad944bd0df8",
   "92c77b63919ecab23c94608fd51fd917",
   "384786f79b828a9c1b0ff7940d9b3cf6",
   "ba091f2d7f2ad2e4830db0adfd33443e",
   "322e95444b1401ac7f316aabf80a88c4",
   "1c4a64f63d44cde4a92d35bbbe298e7c",
   "0de20b93bb878d597e59213991465648",
   "acabc0109340eb5e4d80324962004e3e",
   "640061103a186fd26f59746dd4d6de57",
   "f6757405d9b7ab82a82ad4ae5e33aa2a",
   "6cffddc5d35f06a1503b25f05070ec0c",
   "7b3c2d32a5aa6f4758d3e63b9da1bdeb",
   "bce2776c614fc9cabd715fb25e9f1ca0",
   "ca43194132970987deb5523aaa5569c0",
   "cee3ffeeac8241f95a0f0aa1b06e912b",
   "c868b6745c5156f928f61f15abd7375b",
   "2f43b42fd833d1e77420a8dae7419000",
   "c233ea297771c24271873c0db2a70788",
   "0de20b93bb878d597e59213991465648",
   "d0cdac8e841679585a00d9d2e5068063",
   "2f43b42fd833d1e77420a8dae7419000",
   "4b39ee8cdaca910729dc4c7a5ec3201b",
   "0de20b93bb878d597e59213991465648",
   "640061103a186fd26f59746dd4d6de57",
   "f6ab6d04c0cff4328d08b2ee6e9c904b",
   "260e4ce19b2cebbd9a6fc67189197ac3",
   "d824297c12daa1c8f948d20046ee081d",
   "62cfe15867b46938fb9505001a10a296",
   "0de20b93bb878d597e59213991465648",
   "33b9fb4ddc2d19ded4f27294889c2c9f",
   "ba669d1ed414458c86fadd4634c5767d",
   "2f43b42fd833d1e77420a8dae7419000",
   "9251932c3a146c1d03d24eb200be4074",
   "3af93c9a409f781a3cdaf5fbd613487e",
   "bd30a7bff09e92835fbbe7cbec8f6608",
   "0de20b93bb878d597e59213991465648",
   "cd9a95245a37153535bcc44e8989178b",
   "b87355faf0b08ea91a56bd80d70363bc",
   "0de20b93bb878d597e59213991465648",
   "5e057b4c7a2343f46e28af8be79ce9ce",
   "fb8298a48cca921a4cb17d30fe213c84",
   "283f70f21507b0cbc6e45354f1cad328",
   "2f43b42fd833d1e77420a8dae7419000",
   "7514272672b3d062b3f706f02a773803",
   "e8562fdc6502a1a425f806ed6856ded7",
   "64e8a87cf534940d0b6f5f795feb065b",
   "2f43b42fd833d1e77420a8dae7419000",
   "1873b98ac82bce32b05ebf84598ad396",
   "4db0c0f011c046513317dd356d806912",
   "b4d48ffe4499bd116b18f817cdc0b479",
   "f235c35e14cf7b4d28020f5bff60d815"
  ],
  "kernelspec": {
   "display_name": "Python 3",
   "language": "python",
   "name": "python3"
  },
  "language_info": {
   "codemirror_mode": {
    "name": "ipython",
    "version": 3
   },
   "file_extension": ".py",
   "mimetype": "text/x-python",
   "name": "python",
   "nbconvert_exporter": "python",
   "pygments_lexer": "ipython3",
   "version": "3.5.2"
  },
  "number_of_pagebreaks": 3
 },
 "nbformat": 4,
 "nbformat_minor": 0
}
