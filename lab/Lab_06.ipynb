{
 "cells": [
  {
   "cell_type": "markdown",
   "metadata": {
    "deletable": true,
    "editable": true
   },
   "source": [
    "<table align=\"left\" style=\"border-style: hidden\" class=\"table\"> <tr> <td class=\"col-md-2\"><img style=\"float\" src=\"http://prob140.org/assets/icon256.png\" alt=\"Prob140 Logo\" style=\"width: 120px;\"/></td><td><div align=\"left\"><h3 style=\"margin-top: 0;\">Probability for Data Science</h3><h4 style=\"margin-top: 20px;\">UC Berkeley, Spring 2018</h4><p>Ani Adhikari</div></td></tr></table><!-- not in pdf -->"
   ]
  },
  {
   "cell_type": "code",
   "execution_count": null,
   "metadata": {
    "#solution": false,
    "#staff": false,
    "#student": false,
    "collapsed": true,
    "deletable": true,
    "editable": true
   },
   "outputs": [],
   "source": [
    "from datascience import *\n",
    "from prob140 import *     \n",
    "import numpy as np\n",
    "import pickle"
   ]
  },
  {
   "cell_type": "code",
   "execution_count": null,
   "metadata": {
    "#solution": false,
    "#staff": false,
    "#student": false,
    "collapsed": true,
    "deletable": true,
    "editable": true
   },
   "outputs": [],
   "source": [
    "# Run this code\n",
    "\n",
    "import itertools as it\n",
    "from collections import Counter\n",
    "\n",
    "def clean_string(string):\n",
    "    \"\"\"\n",
    "    Cleans an input string by replacing all newlines with spaces, and then\n",
    "    removing all letters not in *allowable_letters*\n",
    "    \"\"\"\n",
    "    string = string.replace(\"\\n\",\" \")\n",
    "    return \"\".join([i for i in string.lower().strip() if i in allowable_letters])\n",
    "\n",
    "def load_bigrams(text):\n",
    "    \"\"\"\n",
    "    Takes a string which has already been cleaned, and returns a dictionary\n",
    "    of conditional bigram probabilities\n",
    "    \n",
    "    cond_bigram[(a,b)] = P(X_{n+1} = b | X_{n} = a)\n",
    "    \n",
    "    Uses Laplace smoothing with size $1$, to remove zero transition probabilities\n",
    "    \"\"\"\n",
    "    bigram_counter = Counter(list(it.product(allowable_letters, repeat=2)))\n",
    "    gram_counter = Counter(allowable_letters*len(allowable_letters))\n",
    "    for l1, l2 in zip(text,text[1:]):\n",
    "        bigram_counter[(l1, l2)] += 1\n",
    "        gram_counter[l1] += 1\n",
    "    cond_bigram = {k:v/gram_counter[k[0]] for k,v in bigram_counter.items()}\n",
    "    return cond_bigram\n",
    "    \n",
    "def bigram_from_file(filename):\n",
    "    \"\"\"\n",
    "    Given a filename, this reads it, cleans it, and returns the conditional bigram\n",
    "    \"\"\"\n",
    "    file_text = open(filename).read()\n",
    "    file_text = clean_string(file_text)\n",
    "    return load_bigrams(file_text)\n",
    "\n",
    "def reverse_cipher(cipher):\n",
    "    return {v:k for k, v in cipher.items()}\n",
    "\n",
    "def print_differences(cipher1, cipher2):\n",
    "    for k in cipher1:\n",
    "        if cipher1[k] != cipher2[k]:\n",
    "            print(\"%s: %s  %s\"%(k,cipher1[k], cipher2[k]))\n",
    "            \n",
    "def num_errors(cipher, encoded_text, original_text):\n",
    "    decoded = np.array(list(decode_text(encoded_text, cipher)))\n",
    "    original = np.array(list(original_text))\n",
    "    num_errors = np.count_nonzero(decoded != original)\n",
    "    return num_errors\n",
    "\n",
    "def get_secret_text(student_id):\n",
    "    with open('Lab_06_data/secret_strings.p', 'rb') as f:\n",
    "        texts = pickle.load(f)\n",
    "    return texts[student_id % 14]"
   ]
  },
  {
   "cell_type": "markdown",
   "metadata": {
    "#solution": false,
    "#staff": false,
    "#student": false,
    "deletable": true,
    "editable": true
   },
   "source": [
    "# Lab 6: Code Breaking by MCMC #"
   ]
  },
  {
   "cell_type": "markdown",
   "metadata": {
    "#solution": false,
    "#staff": false,
    "#student": false,
    "deletable": true,
    "editable": true
   },
   "source": [
    "Cryptography is the study of algorithms used to encode and decode messages. Markov Chain Monte Carlo (MCMC) methods have been successfully used to decode messages encrypted using substitution codes and also [more complex](http://probability.ca/jeff/ftpdir/decipherart.pdf) encryption methods. In this lab you will apply MCMC and the Metropolis algorithm to decode English text that has been encrypted by a substitution code.\n",
    "\n",
    "The lab is based on the paper [The Markov Chain Monte Carlo Revolution](https://math.uchicago.edu/~shmuel/Network-course-readings/MCMCRev.pdf) by [Persi Diaconis](https://en.wikipedia.org/wiki/Persi_Diaconis). It was presented at the 25th anniversary celebrations of MSRI up the hill, and appeared in the Bulletin of the American Mathematical Society in November 2008. The code is based on [Simulation and Solving Substitution Codes](http://www-users.york.ac.uk/~sbc502/decode.pdf) written by [Stephen Connor](https://www.york.ac.uk/maths/staff/stephen-connor/) in 2003.\n",
    "\n",
    "Recall that in class we worked with a tiny alphabet and a short message that had been encoded using a substitution code. We used a Markov chain model and a scoring system to choose the decoder that had the highest score. That is, we chose the decoder that had the highest likelihood given the message. \n",
    "\n",
    "Because the alphabet was small, we were able to list all the decoders and their corresponding scores. When the alphabet is large, making an exhaustive list of all possible decoders and scores is not feasible. That's where the Monte Carlo part of the algorithm comes in. The idea is to choose decoders at random using an algorithm that favors good decoders over bad ones.\n",
    "\n",
    "In this lab you will work with an alphabet consisting of all 26 English letters as well as a space character that will have a special status. Before you begin, please review Sections [11.3](https://textbook.prob140.org/notebooks-md/11_03_Code_Breaking.html) (Code Breaking) and [11.4](https://textbook.prob140.org/notebooks-md/11_04_Markov_Chain_Monte_Carlo.html) (Markov Chain Monte Carlo) of the textbook. The lab follows those sections closely.\n",
    "\n",
    "Unlike all the other labs, this lab is not divided into parts. It's just one small project. You will learn how to:\n",
    "- Apply a decoder to encoded text\n",
    "- Use transformations for improved numerical accuracy\n",
    "- Implement the Metropolis algorithm \n",
    "- Decode a message encrypted by a substitution code\n",
    "\n",
    "The programming needed for this lab is more complex than what can reasonably be expected based on Data 8 background, so much of it has been done for you. Those of you who have more extensive Python knowledge might be interested in looking at the details.\n",
    "\n",
    "Please start by running all the cells above this one."
   ]
  },
  {
   "cell_type": "markdown",
   "metadata": {
    "#solution": false,
    "#staff": false,
    "#student": false,
    "deletable": true,
    "editable": true
   },
   "source": [
    "## Alphabet and Bigrams ##\n",
    "The text that you are going to decode was written in English. For data on the frequencies of all the different bigrams in English, we will start by counting all the bigrams in *War and Peace* by Tolstoy. That is one of the longest novels in English (actually in Russian, but we are using an English translation from Project Gutenberg) and is often used as a \"corpus\" or body of language on which to base analyses of other text.\n",
    "\n",
    "To keep the calculations manageable, we will restrict ourselves to a 27-character alphabet, consisiting of the 26 lower case letters and a space. The cell below places all 27 in a list."
   ]
  },
  {
   "cell_type": "code",
   "execution_count": null,
   "metadata": {
    "#solution": false,
    "#staff": false,
    "#student": false,
    "collapsed": true,
    "deletable": true,
    "editable": true
   },
   "outputs": [],
   "source": [
    "allowable_letters = list(\"abcdefghijklmnopqrstuvwxyz \")"
   ]
  },
  {
   "cell_type": "markdown",
   "metadata": {
    "#solution": false,
    "#staff": false,
    "#student": false,
    "deletable": true,
    "editable": true
   },
   "source": [
    "In the cell below, we find the relative frequencies of all bigrams in War and Peace and place them in the dictionary `wp_bigrams`. You don't need to know what a dictionary is. It's fine to imagine it containing the same information as a Table that has a column with the bigrams and another column with the relative frequencies. "
   ]
  },
  {
   "cell_type": "code",
   "execution_count": null,
   "metadata": {
    "#solution": false,
    "#staff": false,
    "#student": false,
    "collapsed": true,
    "deletable": true,
    "editable": true
   },
   "outputs": [],
   "source": [
    "wp_bigrams = bigram_from_file(\"Lab_06_data/warandpeace.txt\")"
   ]
  },
  {
   "cell_type": "markdown",
   "metadata": {
    "#solution": false,
    "#staff": false,
    "#student": false,
    "deletable": true,
    "editable": true
   },
   "source": [
    "### 1. Transition Matrix ###\n",
    "As in class, the model is that the sequence of characters in the text is a Markov chain. The state space of the chain is the alphabet of 27 characters. Of course the text has other punctuation, but we are stripping all of it. We are also replacing upper case letters by lower case.\n",
    "\n",
    "Construct the transition matrix for this Markov chain based on the relative frequencies in `wp_bigrams` defined above.\n",
    "\n",
    "We have started the code off for you by defining the transition function `wp_transition`. Use `allowable_letters` in your definition."
   ]
  },
  {
   "cell_type": "code",
   "execution_count": null,
   "metadata": {
    "#solution": false,
    "#staff": false,
    "#student": true,
    "collapsed": true,
    "deletable": true,
    "editable": true
   },
   "outputs": [],
   "source": [
    "def wp_transition(a, b):\n",
    "    if (a, b) in wp_bigrams:\n",
    "        return wp_bigrams[(a, b)]\n",
    "    return 0\n",
    "\n",
    "wp_bigram_mc = ...\n",
    "wp_bigram_mc"
   ]
  },
  {
   "cell_type": "markdown",
   "metadata": {
    "#solution": false,
    "#staff": false,
    "#student": false,
    "deletable": true,
    "editable": true
   },
   "source": [
    "## Decoders ##\n",
    "\n",
    "As you know, when a substitution code has been used for encryption, a decoder is a permutation of the alphabet. We apply this permutation to our encoded text in order to generate the decoded text.\n",
    "\n",
    "We will be representing the decoder as a Python dictionary. Here is an example of how a dictionary works, using a three-letter alphabet 'a', 'b', 'c'.\n",
    "\n",
    "If the decoder is ['b', 'c', 'a'] then the substitutions for decoding the encrypted message are\n",
    "\n",
    "$$\n",
    "a \\to b ~~~~~~~~ b \\to c ~~~~~~~~ c \\to a\n",
    "$$\n",
    "\n",
    "This decoder written as a dictionary dictionary looks like this:\n",
    "\n",
    "    simple_decoder = {'a':'b','b':'c','c':a'}\n",
    "\n",
    "To access a value in the decoder, use the method `.get`. For example, to access the translation of *a*, use\n",
    "    \n",
    "    simple_decoder.get('a')"
   ]
  },
  {
   "cell_type": "code",
   "execution_count": null,
   "metadata": {
    "#solution": false,
    "#staff": false,
    "#student": false,
    "collapsed": false,
    "deletable": true,
    "editable": true
   },
   "outputs": [],
   "source": [
    "simple_decoder = {'a':'b', 'b':'c', 'c':'a'}\n",
    "simple_decoder.get('a')"
   ]
  },
  {
   "cell_type": "markdown",
   "metadata": {
    "#solution": false,
    "#staff": false,
    "#student": false,
    "deletable": true,
    "editable": true
   },
   "source": [
    "### Keeping Spaces Intact ###\n",
    "We are assuming that our substitution code keeps spaces unchanged. Letters can precede and follow spaces, but spaces will be fixed points in the encoding permutation. \n",
    "\n",
    "So our decoder must keep spaces unchanged as well. The following cell defines a function called `random_decoder` which will randomly generate a decoder. It will operate on the 26 letters, omitting the space.\n",
    "\n",
    "Run the cell below. The function `random_decoder` constructs a random permutation of the alphabet and places it in a dictionary to make it a decoder."
   ]
  },
  {
   "cell_type": "code",
   "execution_count": null,
   "metadata": {
    "#solution": false,
    "#staff": false,
    "#student": false,
    "collapsed": true,
    "deletable": true,
    "editable": true
   },
   "outputs": [],
   "source": [
    "decoder_letters = np.array(list(\"abcdefghijklmnopqrstuvwxyz\")) \n",
    "# We don't operate on spaces\n",
    "\n",
    "identity_decoder = \\\n",
    "    {letter:letter for letter in decoder_letters}\n",
    "\n",
    "# Random starting decoder\n",
    "def random_decoder():\n",
    "    \"\"\" Random decoder \"\"\"\n",
    "    new_letters = decoder_letters.copy()\n",
    "    np.random.shuffle(new_letters)\n",
    "    return {orig:new for orig,new in zip(decoder_letters, new_letters)}\n"
   ]
  },
  {
   "cell_type": "markdown",
   "metadata": {
    "#solution": false,
    "#staff": false,
    "#student": false,
    "deletable": true,
    "editable": true
   },
   "source": [
    "#newpage\n",
    "\n",
    "### 2. Applying a Decoder ###\n",
    "\n",
    "Define a function `decode_text` that takes as its arguments a string to be decoded and the decoder. It should return the decoded string.\n",
    "\n",
    "Remember that we are only decoding alphabetical characters. If a character is not in the decoder (e.g. a space), leave the character alone."
   ]
  },
  {
   "cell_type": "code",
   "execution_count": null,
   "metadata": {
    "#solution": false,
    "#staff": false,
    "#student": true,
    "collapsed": true,
    "deletable": true,
    "editable": true
   },
   "outputs": [],
   "source": [
    "\n",
    "def decode_text(string, decoder):\n",
    "    new_string = \"\"\n",
    "    \n",
    "    for char in string:\n",
    "        if char in decoder:\n",
    "            new_letter = ...\n",
    "        else:\n",
    "            new_letter = ...\n",
    "        \n",
    "        # Now we append the letter to the back of the new string\n",
    "        new_string = new_string + new_letter\n",
    "        \n",
    "    return new_string"
   ]
  },
  {
   "cell_type": "markdown",
   "metadata": {
    "#solution": false,
    "#staff": false,
    "#student": false,
    "deletable": true,
    "editable": true
   },
   "source": [
    "#newpage\n",
    "\n",
    "## Metropolis Algorithm: Proposal Chain ##\n",
    "The Metropolis algorithm we will use is essentially the same as the one defined in class and proved to converge to the correct distribution. There is one tweak to increase computatational accuracy, and another to deal with spaces. You shouldn't worry about either of them.\n",
    "\n",
    "Please refer to Section [11.4](https://textbook.prob140.org/notebooks-md/11_04_Markov_Chain_Monte_Carlo.html) of the textbook for the notation being used below.\n",
    "\n",
    "- The state space $S$ of the proposal chain is the set of all 26! possible decoders, that is, all 26! possible permutations of letters.\n",
    "\n",
    "- The proposal transition matrix $Q$ is chosen as follows. Given that the chain is at decoder $i$, pick another decoder by randomly swapping two elements of $i$. Thus for any two decoders $i$ and $j$,\n",
    "\n",
    "\\begin{equation}\n",
    "Q(i, j) = \n",
    " \\begin{cases}\n",
    " \\frac{1}{\\binom{26}{2}} & \\text{if } i \\text{ and } j \\text{ differ in exactly two places} \\\\\n",
    "0 & \\text{otherwise}\n",
    " \\end{cases}\n",
    "\\end{equation}\n",
    "\n",
    "Notice that $Q$ is symmetric, as required by the algorithm.\n",
    "\n",
    "**Note:** This proposal chain is not aperiodic. But it doesn't have to be. As discussed in class, the process in the algorithm uses the proposal chain as well as randomization, and is both irreducible and aperiodic by construction."
   ]
  },
  {
   "cell_type": "markdown",
   "metadata": {
    "#solution": false,
    "#staff": false,
    "#student": false,
    "deletable": true,
    "editable": true
   },
   "source": [
    "### 3a) Irreducibility ###\n",
    "The state space of the proposal chain is large. Run the cell below to see how large."
   ]
  },
  {
   "cell_type": "code",
   "execution_count": null,
   "metadata": {
    "#solution": false,
    "#staff": false,
    "#student": false,
    "collapsed": false,
    "deletable": true,
    "editable": true
   },
   "outputs": [],
   "source": [
    "np.math.factorial(26)"
   ]
  },
  {
   "cell_type": "markdown",
   "metadata": {
    "#solution": false,
    "#staff": false,
    "#student": false,
    "deletable": true,
    "editable": true
   },
   "source": [
    "The proposal chain has to be irreducible and have a symmetric transition matrix. We have shown above that $Q$ is symmetric. Explain why the proposal chain is irreducible."
   ]
  },
  {
   "cell_type": "markdown",
   "metadata": {
    "#solution": false,
    "#staff": false,
    "#student": false,
    "deletable": true,
    "editable": true
   },
   "source": [
    "**Your answer here.**"
   ]
  },
  {
   "cell_type": "markdown",
   "metadata": {
    "#solution": false,
    "#staff": false,
    "#student": false,
    "deletable": true,
    "editable": true
   },
   "source": [
    "### 3b) Making a Proposal to Move ###\n",
    "\n",
    "Define the function `generate_proposed_decoder` which takes an existing decoder and returns a new decoder as follows: it randomly picks two different letters of the alphabet and swaps the decoding for those letters.\n",
    "\n",
    "For example, if we have the decoder `{'a':'b','b':'c','c':a'}` and decide to swap `a` and `b`, our new decoder should be `{'a':'c','b':'b','c':a'}`. \n",
    "\n",
    "There are several different ways you can use Python to draw random samples. In this instance we recommend `np.random.choice`. It takes two arguments:\n",
    "- a list from which to sample uniformly at random with replacement\n",
    "- the number of times to sample\n",
    "\n",
    "The optional argument `replace=False` leads to simple random sampling.\n",
    "\n",
    "It returns an array consisting of the sampled elements."
   ]
  },
  {
   "cell_type": "code",
   "execution_count": null,
   "metadata": {
    "#solution": false,
    "#staff": false,
    "#student": true,
    "collapsed": true,
    "deletable": true,
    "editable": true
   },
   "outputs": [],
   "source": [
    "def generate_proposed_decoder(decoder):\n",
    "    new_decoder = decoder.copy()\n",
    "    \n",
    "    \n",
    "    letter1 = ...\n",
    "    letter2 = ...\n",
    "    \n",
    "    new_value_of_letter1 = ...\n",
    "    new_value_of_letter2 = ...\n",
    "\n",
    "    # This code replaces the value of letter1 and letter2 \n",
    "    # with new_value_of_letter1 and new_value_of_letter2\n",
    "    new_decoder[letter1] = new_value_of_letter1\n",
    "    new_decoder[letter2] = new_value_of_letter2\n",
    "    return new_decoder\n"
   ]
  },
  {
   "cell_type": "markdown",
   "metadata": {
    "#solution": false,
    "#staff": false,
    "#student": false,
    "deletable": true,
    "editable": true
   },
   "source": [
    "## The Target Distribution $\\pi$ ##\n",
    "\n",
    "For letters $x_1$ and $x_2$, let $B(x_1, x_2)$ be the $(x_1, x_2)$th entry in the bigram transition matrix. Suppose the decoded text consists of the characters $x_0, x_1, \\ldots , x_n$. Recall from class that we defined the *score* of the corresponding decoder $i$ to be\n",
    "\n",
    "$$\n",
    "s(i) = \\prod_{k=0}^{n-1}B_i(x_k, x_{k+1})\n",
    "$$\n",
    "\n",
    "We would like Decoder $i$ to appear among our randomly selected decoders with target probability $\\pi(i)$, where $\\pi(i)$ is the likelihood of $i$ given the data. As we saw in class, the likelihood $\\pi(i)$ is proportional to $s(i)$ but we don't know the constant of proportionality. However, for any two decoders $i$ and $j$, we can calculate the ratio\n",
    "\n",
    "$$\n",
    "\\frac{\\pi(j)}{\\pi(i)} = \\frac{s(j)}{s(i)}\n",
    "$$\n",
    "\n",
    "Here's a tweak to what was done in class. When the string is long, the score of any decoder is going to be very small. This causes problems with numerical accuracy. So we will work with the log-score instead, that is, with the $\\log$ of the score. \n",
    "\n",
    "$$\n",
    "\\log(s(i)) = \\sum_{k=0}^{n-1} \\log(B_i(x_k, x_{k+1}))\n",
    "$$\n"
   ]
  },
  {
   "cell_type": "markdown",
   "metadata": {
    "#solution": false,
    "#staff": false,
    "#student": false,
    "deletable": true,
    "editable": true
   },
   "source": [
    "#newpage\n",
    "\n",
    "### 4. Log Probability of Path ###\n",
    "\n",
    "Define a function `log_prob_path` that takes two arguments:\n",
    "- a string `message` that is a sequence of letters \n",
    "- the bigram transition matrix of a `MarkovChain` `mc` \n",
    "\n",
    "and returns the log of the probability of the path `message` taken by `mc`, given that the first character of `message` is the initial state of the path.\n",
    "\n",
    "Though `mc.prob_of_path` returns the probability of the path, don't use `np.log(mc.prob_of_path)`. Each path has very small probability, so the numbers will round too soon and your computations might be inaccurate.\n",
    "\n",
    "Instead, you can use the function [`mc.log_prob_of_path`](https://probability.gitlab.io/prob140/_autosummary/prob140.MarkovChain.log_prob_of_path.html#prob140.MarkovChain.log_prob_of_path). This takes as its first argument the starting character of the string, and as its next argument a list or array containing the characters in the rest of the string. It returns the log of the probability of the path, conditional on the starting character.\n",
    "\n",
    "Some string methods will be helpful:\n",
    "\n",
    "* string[0] returns the first letter of a string. For example:\n",
    "```python\n",
    ">>> x = 'HELLO'\n",
    ">>> x[0]\n",
    "'H'\n",
    "```\n",
    "* string[1:] returns everything except the first letter of a string. For example:\n",
    "```python\n",
    ">>> x[1:]\n",
    "'ELLO'\n",
    "```\n",
    "* list(string) splits the string into a list of its characters. This was used above to generate `allowable_letters`."
   ]
  },
  {
   "cell_type": "code",
   "execution_count": null,
   "metadata": {
    "#solution": false,
    "#staff": false,
    "#student": true,
    "collapsed": true,
    "deletable": true,
    "editable": true
   },
   "outputs": [],
   "source": [
    "def log_prob_path(string, bigram_mc):\n",
    "    start = ...\n",
    "    \n",
    "    path = list(...)\n",
    "    \n",
    "    return bigram_mc.log_prob_of_path(start, path)"
   ]
  },
  {
   "cell_type": "markdown",
   "metadata": {
    "#solution": false,
    "#staff": false,
    "#student": false,
    "deletable": true,
    "editable": true
   },
   "source": [
    "#newpage\n",
    "\n",
    "### 5. Log Score of Decoder ###\n",
    "\n",
    "Define a function `log_score` that takes the following arguments:\n",
    "\n",
    "- an encrypted string\n",
    "- a decoder\n",
    "- a bigram transition matrix\n",
    "\n",
    "The function should decode the encrypted string using the decoder, and return the log score of the decoder.\n",
    "\n",
    "Use the functions `decode_text` and `log_prob_path` that you wrote earlier."
   ]
  },
  {
   "cell_type": "code",
   "execution_count": null,
   "metadata": {
    "#solution": false,
    "#staff": false,
    "#student": true,
    "collapsed": true,
    "deletable": true,
    "editable": true
   },
   "outputs": [],
   "source": [
    "def log_score(string, decoder, bigrams):\n",
    "    return ..."
   ]
  },
  {
   "cell_type": "markdown",
   "metadata": {
    "#solution": false,
    "#staff": false,
    "#student": false,
    "deletable": true,
    "editable": true
   },
   "source": [
    "### Acceptance Ratios ###\n",
    "The Metropolis algorithm creates a new chain with $\\pi$ as its limit distribution. Recall that if the new chain is at $i$, then the the decision about whether or not to accept a transition to a new state $j$ depends on the ratio $r(i, j)$ defined by\n",
    "\n",
    "$$\n",
    "r(i, j) ~ = ~ \\frac{\\pi(j)}{\\pi(i)} ~ = ~ \\frac{s(j)}{s(i)}\n",
    "$$\n",
    "\n",
    "Because we are working with log scores and not the scores themselves, every statement that we made in class about scores has to be rewritten in terms of log scores. Observe that\n",
    "\n",
    "$$\n",
    "\\frac{s(j)}{s(i)} = e^{\\log(\\frac{s(j)}{s(i)})} = e^{\\log(s(j)) - \\log(s(i))}\n",
    "$$\n",
    "\n",
    "Since the algorithm involves comparing $r(i, j)$ to 1, note that\n",
    "\n",
    "$$\n",
    "\\frac{s(j)}{s(i)} < 1 ~~~ \\iff ~~~ s(j) < s(i) ~~~ \\iff ~~~\n",
    "\\log(s(j)) < \\log(s(i)) \n",
    "$$\n",
    "\n",
    "because $\\log$ is an increasing function."
   ]
  },
  {
   "cell_type": "markdown",
   "metadata": {
    "#solution": false,
    "#staff": false,
    "#student": false,
    "deletable": true,
    "editable": true
   },
   "source": [
    "#newpage\n",
    "\n",
    "## Implementing the Metropolis Algorithm ##"
   ]
  },
  {
   "cell_type": "markdown",
   "metadata": {
    "#solution": false,
    "#staff": false,
    "#student": false,
    "deletable": true,
    "editable": true
   },
   "source": [
    "### 6. An Encoded Message ###\n",
    "\n",
    "Enter your student id in the cell below to access your secret encoded message. By the end of the lab, you should be able to decode your string."
   ]
  },
  {
   "cell_type": "code",
   "execution_count": null,
   "metadata": {
    "#solution": false,
    "#staff": false,
    "#student": true,
    "collapsed": true,
    "deletable": true,
    "editable": true
   },
   "outputs": [],
   "source": [
    "student_id = ...\n",
    "secret_text = get_secret_text(student_id)\n",
    "secret_text"
   ]
  },
  {
   "cell_type": "markdown",
   "metadata": {
    "#solution": false,
    "#staff": false,
    "#student": false,
    "deletable": true,
    "editable": true
   },
   "source": [
    "#newpage\n",
    "\n",
    "### 7. Implementation ###\n",
    "\n",
    "Define the function `metropolis` which will take as its arguments:\n",
    "\n",
    "- the encrypted text, as a string\n",
    "- the transition matrix of bigrams\n",
    "- the number of repetitions for running the Metropolis algorithm \n",
    "\n",
    "The function should return the decoder that it arrives at after performing the Metropolis algorithm the specified number of times. \n",
    "\n",
    "If the number of repetitions is large, you know from class that the distribution of this random decoder is close to the desired distribution $\\pi$ which is the likelihood distribution of the decoder given the data. Therefore you expect to end up with a decoder that has a high likelihood compared to the other decoders.\n",
    "\n",
    "Between iterations, you should keep track of the following variables:\n",
    "\n",
    "1. `bestDecoder`: the decoder that has the highest log score\n",
    "2. `bestScore`: the log score associated with the bestDecoder\n",
    "3. `decoder`: the decoder that you are currently working with\n",
    "4. `lastScore`: the log score of the current decoder\n",
    "\n",
    "In each iteration, you should do the following:\n",
    "\n",
    "1. Generate a new decoder based on the current decoder; the \"new\" decoder might be the same as the current one.\n",
    "2. Calculate the log score of your new decoder.\n",
    "3. **Important:** Follow the Metropolis algorithm to decide whether or not to move to a new decoder.\n",
    "4. If the new decoder's log score is the best seen so far, update `bestScore` and `bestDecoder`"
   ]
  },
  {
   "cell_type": "code",
   "execution_count": null,
   "metadata": {
    "#solution": false,
    "#staff": false,
    "#student": true,
    "collapsed": true,
    "deletable": true,
    "editable": true
   },
   "outputs": [],
   "source": [
    "import time\n",
    "\n",
    "def p_coin(p):\n",
    "    \"\"\"\n",
    "    Flips a coin that comes up heads with probability p\n",
    "    and returns 1 if Heads, 0 if Tails\n",
    "    \"\"\"\n",
    "    return np.random.random() < p\n",
    "\n",
    "\n",
    "def metropolis(string_to_decode, bigrams, reps):\n",
    "    decoder = random_decoder() # Starting decoder\n",
    "    \n",
    "    bestDecoder = decoder\n",
    "    bestScore = log_score(string_to_decode, bestDecoder, bigrams)\n",
    "    \n",
    "    lastScore = bestScore\n",
    "    \n",
    "    for rep in np.arange(reps):\n",
    "        \n",
    "        # This will print out our progress\n",
    "        if rep*10%reps == 0: # Repeat every 10%\n",
    "            time.sleep(.01)\n",
    "            decoded_text = decode_text(\\\n",
    "                           string_to_decode, bestDecoder)[:40]\n",
    "            print('Score: %.00f \\t Guess: %s'%(bestScore, decoded_text))\n",
    "            \n",
    "        #########################\n",
    "        # Your code starts here #\n",
    "        #########################\n",
    "        proposed_decoder = ...\n",
    "        log_s_orig = ...\n",
    "        log_s_new = ...\n",
    "        \n",
    "        if log_s_new > log_s_orig or p_coin(np.e**(log_s_new - log_s_orig)): \n",
    "            # If better than before or p-coin flip works\n",
    "            \n",
    "            ...\n",
    "            \n",
    "            if log_s_new > bestScore:\n",
    "                ...\n",
    "    return bestDecoder"
   ]
  },
  {
   "cell_type": "markdown",
   "metadata": {
    "#solution": false,
    "#staff": false,
    "#student": false,
    "deletable": true,
    "editable": true
   },
   "source": [
    "#newpage\n",
    "\n",
    "## Running It ##\n",
    "\n",
    "The text you are going to first encrypt and then decode is taken from [Winston Churchill's speech](https://en.wikipedia.org/wiki/We_shall_fight_on_the_beaches) to the House of Commons on 4 June 1940. Naturally, it contains upper case letters and punctuation that we have not included in our alphabet. In the cell below, the function `clean_string` strips out all the punctuation and replaces upper case letters by the corresponding lower case letters."
   ]
  },
  {
   "cell_type": "code",
   "execution_count": null,
   "metadata": {
    "#solution": false,
    "#staff": false,
    "#student": false,
    "collapsed": false,
    "deletable": true,
    "editable": true
   },
   "outputs": [],
   "source": [
    "ogtext = \"\"\"\n",
    "I have, myself, full confidence that if all do their duty, if nothing is neglected, \n",
    "and if the best arrangements are made, as they are being made, we shall prove ourselves \n",
    "once again able to defend our Island home, to ride out the storm of war, and to outlive \n",
    "the menace of tyranny, if necessary for years, if necessary alone. At any rate, that is \n",
    "what we are going to try to do. That is the resolve of His Majesty’s Government-every man \n",
    "of them. That is the will of Parliament and the nation. \n",
    "\"\"\"\n",
    "original_string = clean_string(ogtext)\n",
    "encoding_cipher = random_decoder()\n",
    "string_to_decode = decode_text(original_string,encoding_cipher)\n",
    "string_to_decode\n"
   ]
  },
  {
   "cell_type": "markdown",
   "metadata": {
    "#solution": false,
    "#staff": false,
    "#student": false,
    "deletable": true,
    "editable": true
   },
   "source": [
    "### 8a) Finding the Decoder ###\n",
    "Run the following cell to generate your decoder. You may have to run the cell a couple of times to get the correct decoder."
   ]
  },
  {
   "cell_type": "code",
   "execution_count": null,
   "metadata": {
    "#solution": false,
    "#staff": false,
    "#student": false,
    "collapsed": false,
    "deletable": true,
    "editable": true
   },
   "outputs": [],
   "source": [
    "new_decoder = metropolis(string_to_decode, wp_bigram_mc, 10000) "
   ]
  },
  {
   "cell_type": "markdown",
   "metadata": {
    "#solution": false,
    "#staff": false,
    "#student": false,
    "deletable": true,
    "editable": true
   },
   "source": [
    "Run the cell below to decode the entire string."
   ]
  },
  {
   "cell_type": "code",
   "execution_count": null,
   "metadata": {
    "#solution": false,
    "#staff": false,
    "#student": true,
    "collapsed": true,
    "deletable": true,
    "editable": true
   },
   "outputs": [],
   "source": [
    "decode_text(string_to_decode, new_decoder)"
   ]
  },
  {
   "cell_type": "markdown",
   "metadata": {
    "#solution": false,
    "#staff": false,
    "#student": false,
    "deletable": true,
    "editable": true
   },
   "source": [
    "### 8b) Decoding Your Secret Message\n",
    "\n",
    "`secret_text` contains your customized, secret message. Use MCMC to decode it."
   ]
  },
  {
   "cell_type": "code",
   "execution_count": null,
   "metadata": {
    "#solution": false,
    "#staff": false,
    "#student": true,
    "collapsed": true,
    "deletable": true,
    "editable": true
   },
   "outputs": [],
   "source": [
    "secret_decoder = metropolis(...)\n",
    "decode_text(secret_text, secret_decoder)"
   ]
  },
  {
   "cell_type": "markdown",
   "metadata": {
    "#solution": false,
    "#staff": false,
    "#student": false,
    "deletable": true,
    "editable": true
   },
   "source": [
    "## Conclusion ##\n",
    "What you have learned:\n",
    "- How to implement the Metropolis algorithm to decode text encrypted by a substitution code, with simplifying assumptions about spaces, capitalization, and punctuation\n",
    "- MCMC works\n",
    "- Abstract concepts such as balance and convergence of $n$-step transition matrices are remarkable in their own right and also have powerful applications"
   ]
  },
  {
   "cell_type": "code",
   "execution_count": null,
   "metadata": {
    "#solution": false,
    "#staff": false,
    "#student": false,
    "collapsed": true,
    "deletable": true,
    "editable": true
   },
   "outputs": [],
   "source": [
    "import gsExport\n",
    "gsExport.generateSubmission(\"Lab_05.ipynb\")"
   ]
  }
 ],
 "metadata": {
  "anaconda-cloud": {},
  "checksums": [
   "b0aefbc0a2143213357738234b5b70f0",
   "57130892082326b789df284c76c7a65e",
   "cc3f6987f44c36bc562026de39c6db2f",
   "3c6a6e8864fc6d9f33c08aec2dd209c7",
   "091c9a475b6e0d2d8093b31ea92980f5",
   "8544cf93f155a487e42db6937a7d3cc4",
   "c1912f16f311b1d93153155b717e36be",
   "ba3cb46122e0a1ce6a5e62a763b58ae5",
   "d18b7575f3284c8c1e12ef7fa169402a",
   "7bb7363184d3b43f53aa41be8117c12a",
   "6496d78f35dd22b8f498c56c77868861",
   "5fc5ac6e718726a8eb13785e58b65f83",
   "dd1a3684b3f691f41f85e497bc4f97c3",
   "7ba6b6a02e0decf859d7df4c3b92f841",
   "e58cd49f9f0de75b020d38233fe095bc",
   "79f19d425575e8bca827c6d1cba072f5",
   "1d946f9e91b7dc0b99104ce32f007045",
   "cc84f51d06acf51ff86ba74eb01f1624",
   "38a854824c1dffabc817751dd932e4b5",
   "204bc14dc80044594fff85a06b9c388d",
   "aa08ee3f50be4498435e2cc9a23eefcc",
   "3a76d7cce4e9ecdb4fe70737e7879960",
   "e761255a9f69c9bd5c805fb7556d85c1",
   "3d2cf5e2ee4ed3cb69328aac8a9f5ae9",
   "4935e4c05382820168d9e1ab98fc4419",
   "2012c40107d4a4bdcbdff3ce683d9b78",
   "a0a9754a3de78df8ef6d1c3fa6518607",
   "1c097a533ebd3dd9c13e1398eb99b1cf",
   "b11366b6a257036392bc9f5720bdc9bf",
   "9d982859faeb25fbb13bc60f21d44fb9",
   "03df3942359a8599687f75e6210e2870",
   "e13289620cf7ad9374fb864d2d5f99dc",
   "416472516a05995c34c20841635b7531",
   "6afeb82c626279e3e1e9947fabd1498a",
   "cae9305f071f5f5e235d97d9e7b370b6",
   "d5226816a5b83c54b1dfb7635dc0d4b1",
   "bc67157562aa1610ccf2c46552dca23a",
   "173a3ab396f52dbde9d8bf37418c905e",
   "be2d62c6138ec4854efbb7714c2037fd",
   "c12dee123fcf85747921585f7e211e4a",
   "fb19e0eb13cfd3b6ce245572e7583e4d",
   "a3cefce8d1cefec9fdebebf4da1d1474",
   "3b96e6b115f11148b4909943469818d0",
   "d668949aacb91bf6c5ecff37dc3e1643",
   "f95acc40400e688533693d5a43fe420c"
  ],
  "kernelspec": {
   "display_name": "Python 3",
   "language": "python",
   "name": "python3"
  },
  "language_info": {
   "codemirror_mode": {
    "name": "ipython",
    "version": 3
   },
   "file_extension": ".py",
   "mimetype": "text/x-python",
   "name": "python",
   "nbconvert_exporter": "python",
   "pygments_lexer": "ipython3",
   "version": "3.5.2"
  },
  "number_of_pagebreaks": 7
 },
 "nbformat": 4,
 "nbformat_minor": 2
}
