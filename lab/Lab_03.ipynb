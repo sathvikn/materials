{
 "cells": [
  {
   "cell_type": "markdown",
   "metadata": {
    "deletable": true,
    "editable": true
   },
   "source": [
    "<table align=\"left\" style=\"border-style: hidden\" class=\"table\"> <tr> <td class=\"col-md-2\"><img style=\"float\" src=\"http://prob140.org/assets/icon256.png\" alt=\"Prob140 Logo\" style=\"width: 120px;\"/></td><td><div align=\"left\"><h3 style=\"margin-top: 0;\">Probability for Data Science</h3><h4 style=\"margin-top: 20px;\">UC Berkeley, Spring 2018</h4><p>Ani Adhikari</div></td></tr></table><!-- not in pdf -->"
   ]
  },
  {
   "cell_type": "code",
   "execution_count": null,
   "metadata": {
    "#solution": false,
    "#staff": false,
    "#student": false,
    "collapsed": true,
    "deletable": true,
    "editable": true
   },
   "outputs": [],
   "source": [
    "# SETUP\n",
    "\n",
    "import numpy as np\n",
    "from datascience import *\n",
    "from prob140 import *\n",
    "\n",
    "# These lines do some fancy plotting magic\n",
    "import matplotlib\n",
    "%matplotlib inline\n",
    "import matplotlib.pyplot as plt\n",
    "plt.style.use('fivethirtyeight')\n",
    "\n",
    "# These lines make warnings look nicer\n",
    "import warnings\n",
    "warnings.simplefilter('ignore', FutureWarning)\n",
    "warnings.simplefilter('ignore', DeprecationWarning)\n",
    "\n",
    "\n",
    "# Useful for probability calculations\n",
    "from scipy import stats\n",
    "from scipy import misc\n",
    "\n",
    "# Imports for interactive widgets\n",
    "from ipywidgets import interact, interactive, fixed, interact_manual\n",
    "import ipywidgets as widgets"
   ]
  },
  {
   "cell_type": "markdown",
   "metadata": {
    "#solution": false,
    "#staff": false,
    "#student": false,
    "deletable": true,
    "editable": true
   },
   "source": [
    "# Lab 3: Total Variation #\n",
    "Poisson distributions are often used as approximations to distributions of counts of rare events. In particular, the Poisson $(1)$ distribution can be used to approximate the distribution of a random count that has 1 as its most likely value.\n",
    "\n",
    "In class we studied two situations in which probabilities converge to those in a Poisson distribution. One was binomial probabilities for large $n$ and small $p$, and the other was the probability of a specified number of matches in the matching problem.\n",
    "\n",
    "In this lab we will look at the entire binomial $(n, 1/n)$ distribution as well as the exact distribution of the number of matches, and compare them with their Poisson $(1)$ approximations. We will make the comparisons visually and also by a numerical measure of the distance between two distributions. In doing so we will find an upper bound for the amount of error in probability calculations when we approximate one distribution by another.\n",
    "\n",
    "What you will learn:\n",
    "- The definition of total variation distance (TVD) and its interpretation in terms of the amount of error in approximating probabilities\n",
    "- Properties of the TVD between the binomial $(n, 1/n)$ and Poisson $(1)$ distributions as $n$ gets large\n",
    "- The computation of the exact distribution of the number of fixed points (matches) of a random permutation\n",
    "- Properties of the TVD between the distribution of the number of matches and the Poisson $(1)$ distribution"
   ]
  },
  {
   "cell_type": "markdown",
   "metadata": {
    "#solution": false,
    "#staff": false,
    "#student": false,
    "deletable": true,
    "editable": true
   },
   "source": [
    "## Part 1: Total Variation Distance ##"
   ]
  },
  {
   "cell_type": "markdown",
   "metadata": {
    "#solution": false,
    "#staff": false,
    "#student": false,
    "deletable": true,
    "editable": true
   },
   "source": [
    "Suppose you have two probability distributions on the same set of possible values $x_1, x_2, \\ldots , x_n$. Let the two distributions be $b_1, b_2, \\ldots, b_n$ and $g_1, g_2, \\ldots, g_n$, where for each $i$ the $b$-distribution assigns probability $b_i$ to the value $x_i$ and the $g$-distribution assigns probability $g_i$.\n",
    "\n",
    "The *total variation distance* between the two distributions is defined by\n",
    "\n",
    "$$\n",
    "tvd(b, g) = \n",
    "\\frac{1}{2} \\sum_{i=1}^n |b_i - g_i| \n",
    "$$\n",
    "\n",
    "The choice of notation comes from the blue and gold colors you will see in overlaid histograms below."
   ]
  },
  {
   "cell_type": "markdown",
   "metadata": {
    "#solution": false,
    "#staff": false,
    "#student": false,
    "deletable": true,
    "editable": true
   },
   "source": [
    "### 1a) Visualization ###\n",
    "Run the cell to display a histogram of the binomial $(10, 1/10)$ distribution. Notice how the probabilities are concentrated on the low values. This is a signal to start thinking about Poisson approximations, even though the number of trials $n = 10$ isn't very large."
   ]
  },
  {
   "cell_type": "code",
   "execution_count": null,
   "metadata": {
    "#solution": false,
    "#staff": false,
    "#student": false,
    "collapsed": false,
    "deletable": true,
    "editable": true
   },
   "outputs": [],
   "source": [
    "n = 10                                    # number of trials\n",
    "\n",
    "k = range(n+1)                            # possible values\n",
    "binom_probs = stats.binom.pmf(k, n, 1/n)  # probabilities\n",
    "\n",
    "# Create a distribution object\n",
    "binom_dist = Table().values(k).probability(binom_probs)\n",
    "\n",
    "# Visualize\n",
    "Plot(binom_dist)\n",
    "plt.title('Binomial (10, 1/10) Distribution');"
   ]
  },
  {
   "cell_type": "markdown",
   "metadata": {
    "#solution": false,
    "#staff": false,
    "#student": false,
    "deletable": true,
    "editable": true
   },
   "source": [
    "Roughly stated, a theorem we proved in class says that if $n$ is large and $p$ is small, then the binomial $(n, p)$ probabilities look like Poisson $(np)$ probabilities. Even though 10 isn't very large, compare the binomial $(10, 1/10)$ and Poisson $(1)$ distributions. Run the cell below to display the Poisson $(1)$ histogram."
   ]
  },
  {
   "cell_type": "code",
   "execution_count": null,
   "metadata": {
    "#solution": false,
    "#staff": false,
    "#student": false,
    "collapsed": false,
    "deletable": true,
    "editable": true
   },
   "outputs": [],
   "source": [
    "poisson_1_probs = stats.poisson.pmf(k, 1)\n",
    "poisson_1_dist = Table().values(k).probability(poisson_1_probs)\n",
    "Plot(poisson_1_dist)\n",
    "plt.title('Poisson (1) Distribution');"
   ]
  },
  {
   "cell_type": "markdown",
   "metadata": {
    "#solution": false,
    "#staff": false,
    "#student": false,
    "deletable": true,
    "editable": true
   },
   "source": [
    "This is the fundamental distribution of this lab, so take a good look at it. Notice the two modes, at 0 and 1. Notice also that even though the possible values are all the non-negative integers, virtually all the probability is concentrated in the 0 through 5 range.\n",
    "\n",
    "The binomial $(10, 1/10)$ and Poisson $(1)$ distributions do resemble each other but not very closely. Run the cell below to draw overlaid histograms."
   ]
  },
  {
   "cell_type": "code",
   "execution_count": null,
   "metadata": {
    "#solution": false,
    "#staff": false,
    "#student": false,
    "collapsed": false,
    "deletable": true,
    "editable": true
   },
   "outputs": [],
   "source": [
    "Plots('Binomial (10, 1/10)', binom_dist, 'Poisson (1)', poisson_1_dist)"
   ]
  },
  {
   "cell_type": "markdown",
   "metadata": {
    "#solution": false,
    "#staff": false,
    "#student": false,
    "deletable": true,
    "editable": true
   },
   "source": [
    "The total variation distance between the two distributions is the total amount by which the areas of the blue bars exceed those of the corresponding gold bars. That's exactly equal to the total amount by which the gold bars exceed the blue.\n",
    "\n",
    "This is almost apparent from the definition of total variation distance, and you will prove it in homework. Just assume it for now as you did in Data 8. It's an intuitively reasonable measure of the difference between two distributions."
   ]
  },
  {
   "cell_type": "markdown",
   "metadata": {
    "#solution": false,
    "#staff": false,
    "#student": false,
    "deletable": true,
    "editable": true
   },
   "source": [
    "### 1b) Computing TVD ###\n",
    "Define a function `tvd` that takes two arrays and returns the total variation distance between them. It's fine to assume that both of the input arrays are probability distributions; you don't have to include code to check that they are non-negative and each sums to 1."
   ]
  },
  {
   "cell_type": "code",
   "execution_count": null,
   "metadata": {
    "#solution": false,
    "#staff": false,
    "#student": true,
    "collapsed": true,
    "deletable": true,
    "editable": true
   },
   "outputs": [],
   "source": [
    "\n",
    "def tvd(b, g):\n",
    "    return ..."
   ]
  },
  {
   "cell_type": "markdown",
   "metadata": {
    "#solution": false,
    "#staff": false,
    "#student": false,
    "deletable": true,
    "editable": true
   },
   "source": [
    "When the two arrays are $b = [0.4, 0.3, 0.2, 0.1]$ and $g = [0.25, 0.25, 0.25, 0.25]$, the histograms look like this:"
   ]
  },
  {
   "cell_type": "code",
   "execution_count": null,
   "metadata": {
    "#solution": false,
    "#staff": false,
    "#student": false,
    "collapsed": false,
    "deletable": true,
    "editable": true
   },
   "outputs": [],
   "source": [
    "b = make_array(0.4, 0.3, 0.2, 0.1)\n",
    "g = make_array(0.25, 0.25, 0.25, 0.25)\n",
    "k = np.arange(4)\n",
    "blue_dist = Table().values(k).probability(b)\n",
    "gold_dist = Table().values(k).probability(g)\n",
    "Plots('Non-uniform', blue_dist, 'Uniform', gold_dist)"
   ]
  },
  {
   "cell_type": "markdown",
   "metadata": {
    "#solution": false,
    "#staff": false,
    "#student": false,
    "deletable": true,
    "editable": true
   },
   "source": [
    "Calculate the TVD mentally. Then run the cell below to confirm that your function `tvd` is working correctly."
   ]
  },
  {
   "cell_type": "code",
   "execution_count": null,
   "metadata": {
    "#solution": false,
    "#staff": false,
    "#student": true,
    "collapsed": true,
    "deletable": true,
    "editable": true
   },
   "outputs": [],
   "source": [
    "tvd(make_array(0.4, 0.3, 0.2, 0.1), make_array(0.25, 0.25, 0.25, 0.25))"
   ]
  },
  {
   "cell_type": "markdown",
   "metadata": {
    "#solution": false,
    "#staff": false,
    "#student": false,
    "deletable": true,
    "editable": true
   },
   "source": [
    "### 1c) Another Way of Interpreting TVD ###\n",
    "Thus far, our interpretation of total variation distance has been essentially geometric: the amount by which the blue bars exceed the gold. There is an equivalent interpretation in terms of probabilities that makes it easier to understand what the numerical value of the distance is telling us.\n",
    "\n",
    "Suppose you have a finite set of possible values, and a choice of two probability distributions to use for finding probabilities. For example, the choices might be the exact distribution of a random variable and an approximate distribution. \n",
    "\n",
    "**The total variation distance between the two distributions is the biggest difference you can possibly get if you compute the probability of an event using each of the two distributions.**\n",
    "\n",
    "Formally, if $S$ is the space of all possible values, then the total variation distance between the blue and gold distributions is equal to\n",
    "\n",
    "$$\n",
    "\\max\\{ \\big{\\lvert} P_{blue}(A) - P_{gold}(A) \\big{\\rvert} : A \\subseteq S\\}\n",
    "$$\n",
    "\n",
    "This can be shown in a few straightforward steps and you will do that in homework. For this lab, just accept it and think about the TVD as follows.\n",
    "\n",
    "Suppose you want to approximate the binomial $(1000, 0.0025)$ distribution by a Poisson distribution. Which Poisson distribution will you use? Create two numpy arrays (using functions from the `stats` package) representing the Binomial (1000, 0.0025) distribution and your chosen Poisson distribution. Once you have decided that, use your function `tvd` to compute the total variation distance between the two distributions. \n",
    "\n",
    "**Note:** Don't worry that the Poisson distribution has an infinite set of possible values and the values of the binomial distribution only go up to 1000. Just restrict the Poisson to go up to 1000 and no further. You know that when $p$ is small, the Binomial $(n, p)$ distribution and its Poisson approximation only have a few bars with any significant probability, and they're all at the low end of the possible values."
   ]
  },
  {
   "cell_type": "code",
   "execution_count": null,
   "metadata": {
    "#solution": false,
    "#staff": false,
    "#student": true,
    "collapsed": true,
    "deletable": true,
    "editable": true
   },
   "outputs": [],
   "source": [
    "binom_probs = ...\n",
    "poisson_probs = ...\n",
    "tvd(...)"
   ]
  },
  {
   "cell_type": "markdown",
   "metadata": {
    "#solution": false,
    "#staff": false,
    "#student": false,
    "deletable": true,
    "editable": true
   },
   "source": [
    "### Interpretation ###\n",
    "If $X$ has the binomial $(1000, 0.0025)$ distribution, and for some set $A$ you find $P(X \\in A)$ using the Poisson approximation instead of the exact binomial distribution, then your approximation will be off by at most the TVD you have calculated.\n",
    "\n",
    "Small TVD, small error. You knew that intuitively already, but now you can quantify it more sharply.\n",
    "\n",
    "See what happens if you approximate the same binomial $(1000, 0.0025)$ probabilities by a different Poisson distribution than the one you chose. Run the cell below and drag the slider to the value of the Poisson parameter you chose above. Then, drag the slider to a slightly different parameter. See what happens to the TVD and hence to the amount of error in approximating probabilities."
   ]
  },
  {
   "cell_type": "code",
   "execution_count": null,
   "metadata": {
    "#solution": false,
    "#staff": false,
    "#student": true,
    "collapsed": true,
    "deletable": true,
    "editable": true
   },
   "outputs": [],
   "source": [
    "interact(lambda mu: print('tvd:', tvd(stats.binom.pmf(range(1001), 1000, 0.0025), stats.poisson.pmf(range(1001), mu))), \n",
    "         mu=widgets.FloatSlider(min=2., max=3., step=0.01, value=2.));"
   ]
  },
  {
   "cell_type": "markdown",
   "metadata": {
    "#solution": false,
    "#staff": false,
    "#student": false,
    "deletable": true,
    "editable": true
   },
   "source": [
    "#newpage"
   ]
  },
  {
   "cell_type": "markdown",
   "metadata": {
    "#solution": false,
    "#staff": false,
    "#student": false,
    "deletable": true,
    "editable": true
   },
   "source": [
    "## Part 2: The Binomial $(n, 1/n)$ Distribution ##\n",
    "We proved in lecture that if $n \\to \\infty$ and $p_n \\to 0$ so that $np_n \\to \\mu > 0$, then for each $k$ the binomial $(n, p_n)$ probability of $k$ converges to the Poisson $(\\mu)$ probability of $k$.\n",
    "\n",
    "Let $p_n = 1/n$ in the statement above. Then for each $k$, the binomial $(n, 1/n)$ probability of $k$ converges to the Poisson $(1)$ probability of $k$. \n",
    "\n",
    "In Part 1 of the lab you compared the binomial $(10, 1/10)$ distribution and the Poisson $(1)$ distribution. We will now extend that by comparing the binomial $(n, 1/n)$ distribution and the Poisson $(1)$ distribution using total variation distance."
   ]
  },
  {
   "cell_type": "markdown",
   "metadata": {
    "#solution": false,
    "#staff": false,
    "#student": false,
    "deletable": true,
    "editable": true
   },
   "source": [
    "### 2a) TVD between Binomial $(n, 1/n)$ and Poisson $(1)$ ###\n",
    "Define a function `binomial_poisson_tvd` that takes $n$ as its argument and returns the total variation distance between the binomial $(n, 1/n)$ and Poisson $(1)$ distributions. As before, it's fine to compute the Poisson $(1)$ probabilities only on 0 through $n$, the possible values of the binomial."
   ]
  },
  {
   "cell_type": "code",
   "execution_count": null,
   "metadata": {
    "#solution": false,
    "#staff": false,
    "#student": true,
    "collapsed": true,
    "deletable": true,
    "editable": true
   },
   "outputs": [],
   "source": [
    "\n",
    "def binomial_poisson_tvd(n):\n",
    "    ..."
   ]
  },
  {
   "cell_type": "markdown",
   "metadata": {
    "#solution": false,
    "#staff": false,
    "#student": false,
    "deletable": true,
    "editable": true
   },
   "source": [
    "As a check to see if your function is working correctly, run the cell below. The output should be about 1%."
   ]
  },
  {
   "cell_type": "code",
   "execution_count": null,
   "metadata": {
    "#solution": false,
    "#staff": false,
    "#student": true,
    "collapsed": true,
    "deletable": true,
    "editable": true
   },
   "outputs": [],
   "source": [
    "binomial_poisson_tvd(30)"
   ]
  },
  {
   "cell_type": "markdown",
   "metadata": {
    "#solution": false,
    "#staff": false,
    "#student": false,
    "deletable": true,
    "editable": true
   },
   "source": [
    "### 2b) Visualization ###\n",
    "Extend `tvd_table` below with a column labeled `'Binomial (n, 1/n)'` that contains the TVD between the binomial $(n, 1/n)$ and Poisson $(1)$ distributions, where in each row $n$ is given by the entry in Column 0."
   ]
  },
  {
   "cell_type": "code",
   "execution_count": null,
   "metadata": {
    "#solution": false,
    "#staff": false,
    "#student": true,
    "collapsed": true,
    "deletable": true,
    "editable": true
   },
   "outputs": [],
   "source": [
    "\n",
    "tvd_table = Table().with_column('n', np.arange(5, 101))\n",
    "\n",
    "tvds = tvd_table...\n",
    "\n",
    "tvd_table = tvd_table...\n",
    "\n",
    "tvd_table"
   ]
  },
  {
   "cell_type": "markdown",
   "metadata": {
    "#solution": false,
    "#staff": false,
    "#student": false,
    "deletable": true,
    "editable": true
   },
   "source": [
    "Now draw a graph of the TVD as a function of $n$."
   ]
  },
  {
   "cell_type": "code",
   "execution_count": null,
   "metadata": {
    "#solution": false,
    "#staff": false,
    "#student": true,
    "collapsed": true,
    "deletable": true,
    "editable": true
   },
   "outputs": [],
   "source": [
    "\n",
    "...\n",
    "plt.title('TVD between Binomial (n, 1/n) and Poisson (1)');"
   ]
  },
  {
   "cell_type": "markdown",
   "metadata": {
    "#solution": false,
    "#staff": false,
    "#student": false,
    "deletable": true,
    "editable": true
   },
   "source": [
    "Notice how sharply the function drops. Fill in the blanks (the code cell below might help):\n",
    "\n",
    "For $n$ about $\\underline{~~~~~~~~~~~~~~~~}$ or more, Poisson $(1)$ approximations to binomial $(n, 1/n)$ probabilities will be off by at most 0.5%. "
   ]
  },
  {
   "cell_type": "markdown",
   "metadata": {
    "#solution": false,
    "#staff": false,
    "#student": true,
    "deletable": true,
    "editable": true
   },
   "source": [
    "\n",
    "**Your answer here**"
   ]
  },
  {
   "cell_type": "code",
   "execution_count": null,
   "metadata": {
    "#solution": false,
    "#staff": false,
    "#student": false,
    "collapsed": false,
    "deletable": true,
    "editable": true
   },
   "outputs": [],
   "source": [
    "tvd_table.where(1, are.between(...))"
   ]
  },
  {
   "cell_type": "markdown",
   "metadata": {
    "#solution": false,
    "#staff": false,
    "#student": false,
    "deletable": true,
    "editable": true
   },
   "source": [
    "You can use total variation distance to help answer the question, \"How large does $n$ have to be before I can use the Poisson $(1)$ approximation to the binomial $(n, 1/n)$ distribution?\" \n",
    "\n",
    "- First decide how much error you are prepared to tolerate in your approximations. \n",
    "- Then use `tvd_table` (or an extended one with larger values of $n$) to find the smallest $n$ for which the TVD is below your threshold error. \n",
    "- For that $n$ or larger, the error in your Poisson $(1)$ probability approximations will be below your threshold."
   ]
  },
  {
   "cell_type": "markdown",
   "metadata": {
    "#solution": false,
    "#staff": false,
    "#student": false,
    "deletable": true,
    "editable": true
   },
   "source": [
    "#newpage"
   ]
  },
  {
   "cell_type": "markdown",
   "metadata": {
    "#solution": false,
    "#staff": false,
    "#student": false,
    "deletable": true,
    "editable": true
   },
   "source": [
    "## Part 3: Fixed Points of a Random Permutation ##\n",
    "\n",
    "Let $M_n$ be the number of fixed points in a random permutation of $1, 2, 3, \\ldots, n$. You can think of $M_n$ as the number of matches when $n$ letters labeled 1 through $n$ are permuted randomly into $n$ envelopes labeled 1 through $n$.\n",
    "\n",
    "[You know](https://textbook.prob140.org/notebooks-md/5_03_The_Matching_Problem.html) that the distribution of $M$ is given by \n",
    "$$\n",
    "P(M_n = k) ~ = ~ \n",
    "\\frac{1}{k!} \\cdot \\big{(} 1 - \\frac{1}{1!} + \\frac{1}{2!} - \\frac{1}{3!} + \\cdots (-1)^{n-k}\\frac{1}{(n-k)!} \\big{)} \\\\\n",
    "$$\n",
    "for $0 \\le k \\le n$.\n",
    "\n",
    "If $n$ is large, you know that for each fixed $k$ we have the approximation \n",
    "$$\n",
    "P(M_n = k) ~ \\approx ~ \\frac{e^{-1}}{k!}\n",
    "$$ \n",
    "\n",
    "These are the terms in the Poisson $(1)$ distribution.\n",
    "\n",
    "In this part of the lab you will compare the distribution of $M_n$ with its Poisson $(1)$ approximation, both visually and by studying the total variation distance between the two distributions."
   ]
  },
  {
   "cell_type": "markdown",
   "metadata": {
    "#solution": false,
    "#staff": false,
    "#student": false,
    "deletable": true,
    "editable": true
   },
   "source": [
    "### 3a) Computing $P(M_n = k)$ ###\n",
    "Complete the function `prob_matches` defined below which takes $k$ and $n$ as its arguments and returns $P(M_n = k)$.\n",
    "\n",
    "Use array operations. It is helpful that `misc.factorial(integer_array)` results in an array consisting of the factorials of all the integers in `integer_array`. The module `misc` has already been imported."
   ]
  },
  {
   "cell_type": "code",
   "execution_count": null,
   "metadata": {
    "#solution": false,
    "#staff": false,
    "#student": true,
    "collapsed": true,
    "deletable": true,
    "editable": true
   },
   "outputs": [],
   "source": [
    "\n",
    "def prob_matches(k, n):\n",
    "    x_even = np.arange(0, n-k+1, 2)\n",
    "    x_odd = np.arange(1, n-k+1, 2)\n",
    "    \n",
    "    \n",
    "    return ..."
   ]
  },
  {
   "cell_type": "markdown",
   "metadata": {
    "#solution": false,
    "#staff": false,
    "#student": false,
    "deletable": true,
    "editable": true
   },
   "source": [
    "To confirm that your function is working correctly, think about what $P(M_n = n-1)$ should be, and then run the cell below to check."
   ]
  },
  {
   "cell_type": "code",
   "execution_count": null,
   "metadata": {
    "#solution": false,
    "#staff": false,
    "#student": true,
    "collapsed": true,
    "deletable": true,
    "editable": true
   },
   "outputs": [],
   "source": [
    "prob_matches(99, 100)"
   ]
  },
  {
   "cell_type": "markdown",
   "metadata": {
    "#solution": false,
    "#staff": false,
    "#student": false,
    "deletable": true,
    "editable": true
   },
   "source": [
    "For further confirmation, run the cell below to compare the output of the function to its Poisson $(1)$ approximation."
   ]
  },
  {
   "cell_type": "code",
   "execution_count": null,
   "metadata": {
    "#solution": false,
    "#staff": false,
    "#student": true,
    "collapsed": true,
    "deletable": true,
    "editable": true
   },
   "outputs": [],
   "source": [
    "prob_matches(5, 100), stats.poisson.pmf(5, 1)"
   ]
  },
  {
   "cell_type": "markdown",
   "metadata": {
    "#solution": false,
    "#staff": false,
    "#student": false,
    "deletable": true,
    "editable": true
   },
   "source": [
    "Once you are confident your function works, run the following cell. As the Poisson approximation would predict, the two values should be close. Explain why the exact values are almost the same. (Hint: Think about how much they should differ by)"
   ]
  },
  {
   "cell_type": "code",
   "execution_count": null,
   "metadata": {
    "#solution": false,
    "#staff": false,
    "#student": true,
    "collapsed": true,
    "deletable": true,
    "editable": true
   },
   "outputs": [],
   "source": [
    "prob_matches(0, 100), prob_matches(1, 100)"
   ]
  },
  {
   "cell_type": "markdown",
   "metadata": {
    "#solution": false,
    "#staff": false,
    "#student": true,
    "deletable": true,
    "editable": true
   },
   "source": [
    "\n",
    "**Your answer here**"
   ]
  },
  {
   "cell_type": "markdown",
   "metadata": {
    "#solution": false,
    "#staff": false,
    "#student": false,
    "deletable": true,
    "editable": true
   },
   "source": [
    "Run the cell below and explain what you see using the Poisson approximation."
   ]
  },
  {
   "cell_type": "code",
   "execution_count": null,
   "metadata": {
    "#solution": false,
    "#staff": false,
    "#student": true,
    "collapsed": true,
    "deletable": true,
    "editable": true
   },
   "outputs": [],
   "source": [
    "prob_matches(5, 100), prob_matches(5, 1000)"
   ]
  },
  {
   "cell_type": "markdown",
   "metadata": {
    "#solution": false,
    "#staff": false,
    "#student": true,
    "deletable": true,
    "editable": true
   },
   "source": [
    "\n",
    "**Your answer here**"
   ]
  },
  {
   "cell_type": "markdown",
   "metadata": {
    "#solution": false,
    "#staff": false,
    "#student": false,
    "deletable": true,
    "editable": true
   },
   "source": [
    "### 3b) The Distribution of $M_n$ ###\n",
    "Use `prob_matches` to define a function `match_dist` that takes $n$ as its argument and returns an array consisting of the probabilities $P(M_n = k)$ for $0 \\le k \\le n$. "
   ]
  },
  {
   "cell_type": "code",
   "execution_count": null,
   "metadata": {
    "#solution": false,
    "#staff": false,
    "#student": true,
    "collapsed": true,
    "deletable": true,
    "editable": true
   },
   "outputs": [],
   "source": [
    "..."
   ]
  },
  {
   "cell_type": "markdown",
   "metadata": {
    "#solution": false,
    "#staff": false,
    "#student": false,
    "deletable": true,
    "editable": true
   },
   "source": [
    "The expression `match_dist(100)[0:11]` evaluates to an array consisting of the elements 0 through 10 of `match_dist(100)`. Explain what the output of the cell below tells you about the distribution of $M_n$. As with most questions about random variables, start by thinking about the possible values of $M_n$."
   ]
  },
  {
   "cell_type": "code",
   "execution_count": null,
   "metadata": {
    "#solution": false,
    "#staff": false,
    "#student": true,
    "collapsed": true,
    "deletable": true,
    "editable": true
   },
   "outputs": [],
   "source": [
    "sum(match_dist(100)[0:11])"
   ]
  },
  {
   "cell_type": "markdown",
   "metadata": {
    "#solution": false,
    "#staff": false,
    "#student": true,
    "deletable": true,
    "editable": true
   },
   "source": [
    "\n",
    "**Your answer here.**"
   ]
  },
  {
   "cell_type": "markdown",
   "metadata": {
    "#solution": false,
    "#staff": false,
    "#student": false,
    "deletable": true,
    "editable": true
   },
   "source": [
    "What does the histogram below display? Which histogram in Part 1 does it resemble?"
   ]
  },
  {
   "cell_type": "code",
   "execution_count": null,
   "metadata": {
    "#solution": false,
    "#staff": false,
    "#student": false,
    "collapsed": false,
    "deletable": true,
    "editable": true
   },
   "outputs": [],
   "source": [
    "k = np.arange(11)\n",
    "match_100 = match_dist(100)[0:11]\n",
    "match_100_dist = Table().values(k).probability(match_100)\n",
    "Plot(match_100_dist)"
   ]
  },
  {
   "cell_type": "markdown",
   "metadata": {
    "#solution": false,
    "#staff": false,
    "#student": true,
    "deletable": true,
    "editable": true
   },
   "source": [
    "\n",
    "**Your answer here.**\n"
   ]
  },
  {
   "cell_type": "markdown",
   "metadata": {
    "#solution": false,
    "#staff": false,
    "#student": false,
    "deletable": true,
    "editable": true
   },
   "source": [
    "### 3c) Total Variation Distance ###\n",
    "Use the `stats` module and functions you have already defined in this lab to define a new function `matches_poisson_tvd` that takes $n$ as its argument and returns the total variation distance between the distribution of $M_n$ and the Poisson $(1)$ distribution."
   ]
  },
  {
   "cell_type": "code",
   "execution_count": null,
   "metadata": {
    "#solution": false,
    "#staff": false,
    "#student": true,
    "collapsed": true,
    "deletable": true,
    "editable": true
   },
   "outputs": [],
   "source": [
    "\n",
    "def matches_poisson_tvd(n):\n",
    "    \n",
    "    \n",
    "    return ..."
   ]
  },
  {
   "cell_type": "markdown",
   "metadata": {
    "#solution": false,
    "#staff": false,
    "#student": false,
    "deletable": true,
    "editable": true
   },
   "source": [
    "Extend `tvd_tables` defined in **2b** with a column labeled `'Matches (n)'` that contains the total variation distance between the exact distribution of the number of matches and its Poisson $(1)$ approximation. As before, in each row $n$ is given by the entry in Column 0."
   ]
  },
  {
   "cell_type": "code",
   "execution_count": null,
   "metadata": {
    "#solution": false,
    "#staff": false,
    "#student": true,
    "collapsed": true,
    "deletable": true,
    "editable": true
   },
   "outputs": [],
   "source": [
    "tvds = tvd_table...\n",
    "..."
   ]
  },
  {
   "cell_type": "markdown",
   "metadata": {
    "#solution": false,
    "#staff": false,
    "#student": false,
    "deletable": true,
    "editable": true
   },
   "source": [
    "Plot the two TVDs (binomial/Poisson and matching/Poisson) as functions of $n$ on the same graph."
   ]
  },
  {
   "cell_type": "code",
   "execution_count": null,
   "metadata": {
    "#solution": false,
    "#staff": false,
    "#student": true,
    "collapsed": true,
    "deletable": true,
    "editable": true
   },
   "outputs": [],
   "source": [
    "..."
   ]
  },
  {
   "cell_type": "markdown",
   "metadata": {
    "#solution": false,
    "#staff": false,
    "#student": false,
    "deletable": true,
    "editable": true
   },
   "source": [
    "To see why the new plot falls so steeply, look back at the formula for $P(M_n = k)$ given at the beginning of this part of the lab. It's essentially the same as the Poisson $(1)$ probability function, except that the infinite sum of $e^{-1}$ has been replaced by a partial sum. For large $n$ and small $k$, there's not much difference between the two. For large $k$ the chance is close to 0 anyway.\n",
    "\n",
    "Look at the table below for numerical confirmation of the steep drop."
   ]
  },
  {
   "cell_type": "code",
   "execution_count": null,
   "metadata": {
    "#solution": false,
    "#staff": false,
    "#student": false,
    "collapsed": false,
    "deletable": true,
    "editable": true
   },
   "outputs": [],
   "source": [
    "tvd_table"
   ]
  },
  {
   "cell_type": "markdown",
   "metadata": {
    "#solution": false,
    "#staff": false,
    "#student": false,
    "deletable": true,
    "editable": true
   },
   "source": [
    "If $n \\ge 10$ you might as well use the Poisson $(1)$ distribution for the number of matches."
   ]
  },
  {
   "cell_type": "markdown",
   "metadata": {
    "#solution": false,
    "#staff": false,
    "#student": false,
    "deletable": true,
    "editable": true
   },
   "source": [
    "## Conclusion ##\n",
    "What you have learned in this lab:\n",
    "- If you use an approximation to the distribution of $X$, then the total variation distance between the exact and approximate distributions measures the worst error you can make in approximating probabilities of events determined by $X$. You didn't prove that in the lab but you will for homeowrk.\n",
    "- The total variation distance between the binomial $(n, 1/n)$ and Poisson $(1)$ distributions falls sharply as a function of $n$ and is below 1% even for moderate values of $n$.\n",
    "- The total variation distance between the distribution of the number of matches in a random permutation of $n$ elements and its Poisson $(1)$ approximation falls even more sharply. By about 10 elements or so, you might as well use the Poisson distribution for the number of matches.\n",
    "- The random variables in this lab all have possible values 0 through $n$. That's a large number of possible values when $n$ is large, and the approximating Poisson distribution has infinitely many possible values. But no matter how large $n$ is, the *probable* values are in a very small range – 0 through about 8 or 10 – because all the distributions are roughly Poisson (1)."
   ]
  },
  {
   "cell_type": "markdown",
   "metadata": {
    "#solution": false,
    "#staff": false,
    "#student": false,
    "collapsed": true,
    "deletable": true,
    "editable": true
   },
   "source": [
    "## Submission Instructions\n",
    "\n",
    "1. **Save your notebook using File > Save and Checkpoint.**\n",
    "2. Run the cell below to generate a pdf file.\n",
    "3. Download the pdf file and confirm that none of your work is missing or cut off.\n",
    "4. Submit the assignment to Lab_03b on Gradescope.\n",
    "\n",
    "#### Logistics \n",
    "\n",
    "1. Examine the generated pdf before uploading to make sure that it contains all of your work.\n",
    "2. When submitting to Gradescope, select the pages of your upload corresponding to each question. \n",
    "3. If you encounter any difficulties when submitting or exporting your assignment, please make a private Piazza post **before the deadline**. \n",
    "\n",
    "### **We will not grade assignments which do not have pages selected for each question or were submitted after the deadline.** "
   ]
  },
  {
   "cell_type": "code",
   "execution_count": null,
   "metadata": {
    "#solution": false,
    "#staff": false,
    "#student": false,
    "collapsed": true,
    "deletable": true,
    "editable": true
   },
   "outputs": [],
   "source": [
    "import gsExport\n",
    "gsExport.generateSubmission(\"Lab_03.ipynb\")"
   ]
  }
 ],
 "metadata": {
  "anaconda-cloud": {},
  "checksums": [
   "b0aefbc0a2143213357738234b5b70f0",
   "1bd05bcd2ff4c54d73a87b081f67bfe8",
   "58d99a476b06cfb6d7b0ab635ee00e85",
   "215ed6c8654224bcdb429ca58d5e7135",
   "4fb206b23cca8f1941265599b0f0f320",
   "e1c3f8829b6e7fae6adc02615b60a50d",
   "f574a28ce01e40f21192c10030534412",
   "82e91e4fd1c6c2d4e83661cd2b7516e7",
   "2568afdaf57c4b446585d2b5dcf3faa8",
   "e7c55d10fe96b5db67eb1bc1b280b862",
   "b15d8069cc8fc1268435a1c27c718aa5",
   "823fd6328e44d0701bb15f2382ab21f8",
   "db621be3887ca59306ebbf8ef727c4b2",
   "b182444b425e530aebac0b1429b8d999",
   "dd794f506fbb1e55483d6ba8c620c167",
   "5d641c73fa604f84c3d41d23750ed1da",
   "c0125a6ddcffa9a6525c1d3f5d9715ca",
   "a322812c7a1b35c946339539896f0897",
   "9b8aa69f5aa7156e597c87aec81b569f",
   "6f329217f09b840d18cce1da49064b89",
   "cd5d76de90299fdd26db07a8a6f4ac43",
   "4c9e3bf0ffddb3f56d60f27cf4552f45",
   "640061103a186fd26f59746dd4d6de57",
   "de32160314eff2ee5a1f73e21952ea82",
   "d4e4b8f0f4afa5ac62070d6d20815c63",
   "6c7a9f86b1f43bcbfc8fffe49634afff",
   "f79e1e80e397407f431dcc3328e6c5d0",
   "e3d21feaca36597a71831c656315cad5",
   "4f660547b82a02ebcd631b4b6eefda44",
   "abe7e728ba3b9ea9453ff260d012b675",
   "6fd1945cb3e3eb19600f80b574922e49",
   "6ffc1f0498e2ef6453f3176c7c457fab",
   "f00a0a62aaf01f3b9e1ee377383713fd",
   "0de20b93bb878d597e59213991465648",
   "e781a4085f42a37e68276b2d693bcacc",
   "c86f1168e282ea11d282fec805409ce3",
   "640061103a186fd26f59746dd4d6de57",
   "9110663f4e5e3691563f16f332342dc2",
   "8092349582bed5f256ba754ab4cc1fd7",
   "6c38060921d0644aa07c96678cb142d8",
   "61eabfbb6c12528de4cb52a76fa50a81",
   "1c9082e82d8238d32d369f3533ca5e8c",
   "9e53649092b35c8fc7ec5f9ae87baa8d",
   "6d7fe73ebc69045e959388c448593aab",
   "c6e707422be76d3674d27edf00e9ec99",
   "b9b9cba3588e3769333618b5f4f304d6",
   "0de20b93bb878d597e59213991465648",
   "7f361197ab89dbfd2c8922a52318b4ac",
   "3ad40e342bc342c928f112dd0fec6fc6",
   "0de20b93bb878d597e59213991465648",
   "04476631f67afa31b5fafe5aff09193c",
   "2f43b42fd833d1e77420a8dae7419000",
   "eca5a973db2a9c44d4043ca1731ba4d4",
   "25df0da9d04ff98129e0a93242a87af4",
   "3a76d7cce4e9ecdb4fe70737e7879960",
   "c8883e612bc690fd2539441bef8fd115",
   "38f4d0ae6029753b7c70d9a33eb4cced",
   "3a76d7cce4e9ecdb4fe70737e7879960",
   "f9a43c90ba3e8c7a6eee6d8a084d01a2",
   "84345fe8b33728de27e76a86fff66b15",
   "f60a7d49a2f7dfe80f7cdf05b7b8646e",
   "5203c782a716c29c5ad8070981fc5b74",
   "06bf8b4d192d43b0fed1769adbf76cc3",
   "2f43b42fd833d1e77420a8dae7419000",
   "0d116d1170042b4b0224cd3a414f3529",
   "d541ec8dec887a76a818d1623be5bb36",
   "fc3730e0640efb2bdffeb580d7f60175",
   "131bb702473542ecd54a46279576eef5",
   "fed5caf3a7e9073658a274ddd3998182",
   "a17335dbd6d738f9691328c02a7393cc"
  ],
  "kernelspec": {
   "display_name": "Python 3",
   "language": "python",
   "name": "python3"
  },
  "language_info": {
   "codemirror_mode": {
    "name": "ipython",
    "version": 3
   },
   "file_extension": ".py",
   "mimetype": "text/x-python",
   "name": "python",
   "nbconvert_exporter": "python",
   "pygments_lexer": "ipython3",
   "version": "3.5.2"
  },
  "number_of_pagebreaks": 2
 },
 "nbformat": 4,
 "nbformat_minor": 1
}
