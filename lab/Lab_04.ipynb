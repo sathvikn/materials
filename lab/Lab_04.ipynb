{
 "cells": [
  {
   "cell_type": "markdown",
   "metadata": {
    "deletable": true,
    "editable": true
   },
   "source": [
    "<table align=\"left\" style=\"border-style: hidden\" class=\"table\"> <tr> <td class=\"col-md-2\"><img style=\"float\" src=\"http://prob140.org/assets/icon256.png\" alt=\"Prob140 Logo\" style=\"width: 120px;\"/></td><td><div align=\"left\"><h3 style=\"margin-top: 0;\">Probability for Data Science</h3><h4 style=\"margin-top: 20px;\">UC Berkeley, Spring 2018</h4><p>Ani Adhikari</div></td></tr></table><!-- not in pdf -->"
   ]
  },
  {
   "cell_type": "code",
   "execution_count": null,
   "metadata": {
    "#solution": false,
    "#staff": false,
    "#student": false,
    "collapsed": true,
    "deletable": true,
    "editable": true
   },
   "outputs": [],
   "source": [
    "# SETUP\n",
    "\n",
    "import itertools\n",
    "import numpy as np\n",
    "from datascience import *\n",
    "from prob140 import *\n",
    "\n",
    "# These lines do some fancy plotting magicdef _remove_gaps(domain, prob):\n",
    "import matplotlib\n",
    "%matplotlib inline\n",
    "import matplotlib.pyplot as plt\n",
    "plt.style.use('fivethirtyeight')\n",
    "\n",
    "# These lines make warnings look nicer\n",
    "import warnings\n",
    "warnings.simplefilter('ignore', FutureWarning)\n",
    "\n",
    "# Useful for probability calculations\n",
    "from scipy import stats\n",
    "from scipy import misc"
   ]
  },
  {
   "cell_type": "code",
   "execution_count": null,
   "metadata": {
    "#solution": false,
    "#staff": false,
    "#student": false,
    "collapsed": true,
    "deletable": true,
    "editable": true
   },
   "outputs": [],
   "source": [
    "def _remove_gaps(domain, prob):\n",
    "    \"\"\"\n",
    "    domain must be sorted\n",
    "    \"\"\"\n",
    "    new_probs = []\n",
    "    index = 0\n",
    "    max_value = max(domain)\n",
    "    for i in range(max_value + 1):\n",
    "        if i < domain[index]:\n",
    "            new_probs.append(0)\n",
    "        else:\n",
    "            new_probs.append(prob[index])\n",
    "            index += 1\n",
    "    return np.array(new_probs)"
   ]
  },
  {
   "cell_type": "code",
   "execution_count": null,
   "metadata": {
    "#solution": false,
    "#staff": false,
    "#student": false,
    "collapsed": true,
    "deletable": true,
    "editable": true
   },
   "outputs": [],
   "source": [
    "def plot_tails(dist, tick_distance=0.05):\n",
    "    \"\"\"\n",
    "    Plots the tails of a discrete distribution. All values must be non-negative integers.\n",
    "    \n",
    "    Parameters\n",
    "    ----------\n",
    "    dist : Table\n",
    "        2-column distribution.\n",
    "    tick_distance : float (optional)\n",
    "        Minimum distance between yticks (Default: 0.05).    \n",
    "    \"\"\"\n",
    "    _domain, _prob = dist.sort(0).columns\n",
    "    assert all(_domain == _domain.astype(int)), 'Values must be integer.'\n",
    "    assert all(_domain >= 0), 'Tail sum only works for non-negative values'\n",
    "    \n",
    "    left_align = 0\n",
    "    \n",
    "    new_probs = _remove_gaps(_domain, _prob)\n",
    "    max_value = _domain[-1]\n",
    "    show_cdf = not(0 in new_probs)\n",
    "\n",
    "\n",
    "    colors = list(itertools.islice(itertools.cycle(dist.chart_colors), int(max_value) + 1))\n",
    "    cumprob = np.cumsum(new_probs)\n",
    "    for i in range(1, max_value + 1):\n",
    "        if i:\n",
    "            plt.fill_between([left_align, i + left_align], cumprob[i - 1], cumprob[i], alpha=0.7, color=colors[i])\n",
    "        else:\n",
    "            plt.fill_between([left_align, i + left_align], cumprob[i], alpha=0.7, color=colors[i])            \n",
    "    \n",
    "    for p in cumprob:\n",
    "        plt.plot([left_align, max_value + 1], [p, p], color='k', linewidth=2)\n",
    "    plt.plot([left_align, max_value + 1], [0, 0], color='k', linewidth=2)\n",
    "    plt.vlines(np.arange(max_value + 2), 0, 1, linewidth=2)\n",
    "    plt.bar(np.arange(max_value + 1), cumprob, width=1, alpha=0.15, color='lightblue', align='edge')\n",
    "    \n",
    "    step = int(max_value / 15) + 1\n",
    "    xticks = np.arange(0, max_value + 2, step)\n",
    "    if show_cdf:\n",
    "        space = max_value / 5\n",
    "    \n",
    "        for i in range(0, max_value + 1):\n",
    "            plt.plot([-1 - space, 0 - space], [cumprob[i], cumprob[i]], color='k', linewidth=2)\n",
    "            if i:\n",
    "                plt.fill_between([-1 - space, 0 - space], cumprob[i - 1], cumprob[i], alpha=0.7, color=colors[i])\n",
    "            else:\n",
    "                plt.fill_between([-1 - space, 0 - space], cumprob[i], alpha=0.7, color=colors[i])\n",
    "        plt.plot([-1 - space, -space, -space, -1 - space, -1 - space], [0, 0, 1, 1, 0], color='k', linewidth=2)\n",
    "        plt.xlim(-1.55 - space, max_value + 1.05)\n",
    "        plt.xticks(np.append(-space - 0.5, xticks), np.append('Dist', xticks))\n",
    "    else:\n",
    "        plt.xticks(xticks, xticks)\n",
    "    \n",
    "    ax = plt.gca()\n",
    "    ax.grid(False)\n",
    "    plt.ylim(-.05, 1.05)\n",
    "    \n",
    "    yticks = [1]\n",
    "    for p in cumprob[::-1]:\n",
    "        if p <= yticks[-1] - tick_distance:\n",
    "            yticks.append(p)\n",
    "    plt.yticks(yticks)\n",
    "    ax.spines['left'].set_position(('data', -0.05))\n",
    "\n",
    "    plt.title('CDF and Tails')"
   ]
  },
  {
   "cell_type": "code",
   "execution_count": null,
   "metadata": {
    "#solution": false,
    "#staff": false,
    "#student": false,
    "collapsed": false,
    "deletable": true,
    "editable": true
   },
   "outputs": [],
   "source": [
    "def plot_sample(p_array, s, m):\n",
    "    \"\"\"\n",
    "    Plots a dot plot sampled s times from p_array.\n",
    "    \n",
    "    Parameters\n",
    "    ----------\n",
    "    p_array : array\n",
    "        An array of probabilities corresponding to p_0, ..., p_n.\n",
    "    s : int\n",
    "        Sample size.\n",
    "    m : int\n",
    "        Highlighted value.\n",
    "    \"\"\"\n",
    "    assert s % 2 == 1, 's must be odd.'\n",
    "    n = len(p_array)\n",
    "    samples = sorted(np.random.choice(np.array(n), size=s, p=p_array))\n",
    "    counts = _remove_gaps(*np.unique(samples, return_counts=True))\n",
    "    for i in range(n):\n",
    "        if i < len(counts):\n",
    "            x = [i] * counts[i]\n",
    "            y = np.arange(counts[i])\n",
    "            if i == m:\n",
    "                color = 'k'\n",
    "                plt.vlines(i, -1, max(10, max(counts)), linewidth=1, color='blue', lw=2, label='m')\n",
    "            else:\n",
    "                color = 'k'\n",
    "            plt.scatter(x, y, color=color, s=40)\n",
    "    median_value = samples[s // 2]\n",
    "    plt.axhline(-1, color='k')\n",
    "    plt.xlim(-0.5, n - 0.5)\n",
    "    ax = plt.gca()\n",
    "    ax.set_xticks(np.arange(n))\n",
    "    ax.set_yticks([])\n",
    "    ax.grid(False)\n",
    "    plt.ylim(-1, max(10, max(counts)))\n",
    "    plt.legend()\n",
    "    if median_value > m:\n",
    "        print('Sample median is greater than m.')\n",
    "    else:\n",
    "        print('Sample median is not greater than m.')\n",
    "    plt.title('Sample Median')\n"
   ]
  },
  {
   "cell_type": "markdown",
   "metadata": {
    "#solution": false,
    "#staff": false,
    "#student": false,
    "collapsed": true,
    "deletable": true,
    "editable": true
   },
   "source": [
    "# Lab 4: Expectations of Discrete Order Statistics #\n",
    "Additivity is a powerful property of expectation: you have seen several examples in which writing a random variable as a sum of simpler variables has led to a simple calculation of its expected value. But other methods are needed for finding the expectations of random variables that can't easily be written as sums. \n",
    "\n",
    "Using the basic definition of expectation is one such method, and it works well when you can easily write down the distribution of the random variable and have the computational tools to work out the resulting sum. However, distributions aren't always strightforward to write down.\n",
    "\n",
    "This lab is about expectations of a class of random variables that don't have natural representations as sums of simpler variables. These variables, called *order statistics*, can be thought of as the elements of a random sample arranged in increasing order. We will work with just two of them:\n",
    "- the minimum\n",
    "- the median\n",
    "\n",
    "You have used the sample median as a statistic in Data 8. How big is a random sample median expected to be? By the end of this lab you will have an answer to this question. \n",
    "\n",
    "The corresponding question for the sample mean has an easy answer by additivity: the expectation of a random sample mean is the population mean. But additivity isn't very helpful for medians as medians aren't easy to think of as sums. A different approach is needed. \n",
    "\n",
    "What you will learn in this lab:\n",
    "- What tail probabilities are, and what they have to do with expectation\n",
    "- How to use tail probabilities to find expectations of the minimum and median values of random samples\n",
    "- What the distribution of the sample median looks like when the sample is large\n",
    "\n",
    "\n",
    "Let's start out by noticing a clever way of finding the expectation of a non-negative integer valued random variable."
   ]
  },
  {
   "cell_type": "markdown",
   "metadata": {
    "#solution": false,
    "#staff": false,
    "#student": false,
    "deletable": true,
    "editable": true
   },
   "source": [
    "## Part 1: Tail Probabilities ##\n",
    "Let $X$ be a random variable with values $0, 1, 2, 3, \\ldots, N$ for some fixed integer $N$. As you know, the cumulative distribution function (cdf) of $X$ is the function $F$ defined by\n",
    "$$\n",
    "F(x) ~ = ~ P(X \\le x) \n",
    "$$\n",
    "for all $x$.\n",
    "\n",
    "Define the *tail probability function* $T$ by\n",
    "\n",
    "$$\n",
    "T(x) ~ = ~ P(X > x) ~ = ~ 1 - F(x)\n",
    "$$\n",
    "for all $x$.\n",
    "\n",
    "Here is the probability histogram of a random variable with distribution `example_dist`. The gold area is equal to $F(4)$ and the blue area is $T(4)$."
   ]
  },
  {
   "cell_type": "code",
   "execution_count": null,
   "metadata": {
    "#solution": false,
    "#staff": false,
    "#student": false,
    "collapsed": false,
    "deletable": true,
    "editable": true
   },
   "outputs": [],
   "source": [
    "example_vals = np.arange(8)\n",
    "example_probs = make_array(0.05, 0.1, 0.2, 0.25, 0.15, 0.12, 0.08, 0.05)\n",
    "\n",
    "example_dist = Table().values(example_vals).probability(example_probs)\n",
    "\n",
    "Plot(example_dist, event = np.arange(5))\n",
    "\n",
    "plt.title('Gold Area = $F(4)$, Blue Area = $T(4)$');"
   ]
  },
  {
   "cell_type": "markdown",
   "metadata": {
    "#solution": false,
    "#staff": false,
    "#student": false,
    "deletable": true,
    "editable": true
   },
   "source": [
    "The goal of this part of the lab is for you to discover a relation between the tail probabilities and the expectation of $X$, when $X$ has a finite number of non-negative integer values.\n",
    "\n",
    "For simplicty of notation, define $p_i = P(X = i)$ for $0 \\le i \\le N$. Then $p_i \\ge 0$ for all $i$, $\\sum_{i=0}^N p_i = 1$, and\n",
    "\n",
    "$$\n",
    "E(X) ~ = ~ p_1 + 2p_2 + 3p_3 + \\cdots + Np_N\n",
    "$$"
   ]
  },
  {
   "cell_type": "markdown",
   "metadata": {
    "#solution": false,
    "#staff": false,
    "#student": false,
    "deletable": true,
    "editable": true
   },
   "source": [
    "### 1a) Computing Tail Probabilities ###\n",
    "For a random variable $X$ with possible values $0, 1, 2, \\ldots, N$ as above, we will use the term \"probability array\" for an array consisting of the sequence $p_0, p_1, \\ldots, p_N$. \n",
    "\n",
    "Define a function `tails` that takes the probability array as its argument and returns an array of all the tail probabilities."
   ]
  },
  {
   "cell_type": "code",
   "execution_count": null,
   "metadata": {
    "#solution": false,
    "#staff": false,
    "#student": true,
    "collapsed": true,
    "deletable": true,
    "editable": true
   },
   "outputs": [],
   "source": [
    "\n",
    "def tails(prob_array):\n",
    "    return ..."
   ]
  },
  {
   "cell_type": "markdown",
   "metadata": {
    "#solution": false,
    "#staff": false,
    "#student": false,
    "deletable": true,
    "editable": true
   },
   "source": [
    "Suppose $p_0 = 0.3$, $p_1 = 0.5$, and $p_2 = 0.2$, and let `probs` be the array [0.3, 0.5, 0.2].\n",
    "\n",
    "What should `tails(probs).item(0)` and `tails(probs).item(2)` evaluate to? Check that they work out as they should."
   ]
  },
  {
   "cell_type": "code",
   "execution_count": null,
   "metadata": {
    "#solution": false,
    "#staff": false,
    "#student": false,
    "collapsed": false,
    "deletable": true,
    "editable": true
   },
   "outputs": [],
   "source": [
    "probs = make_array(0.3, 0.5, 0.2)\n",
    "\n",
    "tails(probs).item(0), tails(probs).item(2)"
   ]
  },
  {
   "cell_type": "markdown",
   "metadata": {
    "#solution": false,
    "#staff": false,
    "#student": false,
    "deletable": true,
    "editable": true
   },
   "source": [
    "### 1b) Expectation and the Tails ###\n",
    "Here is the distribution of a random variable $X$."
   ]
  },
  {
   "cell_type": "code",
   "execution_count": null,
   "metadata": {
    "#solution": false,
    "#staff": false,
    "#student": false,
    "collapsed": false,
    "deletable": true,
    "editable": true
   },
   "outputs": [],
   "source": [
    "values_X = np.arange(5)\n",
    "probs_X = make_array(0.3, 0.35, 0.2, 0.1, 0.05)\n",
    "dist_X = Table().values(values_X).probability(probs_X)\n",
    "dist_X"
   ]
  },
  {
   "cell_type": "markdown",
   "metadata": {
    "#solution": false,
    "#staff": false,
    "#student": false,
    "deletable": true,
    "editable": true
   },
   "source": [
    "The `prob140` method `ev` operates on a Distribution object and returns the expectation. Run the cell below to get $E(X)$."
   ]
  },
  {
   "cell_type": "code",
   "execution_count": null,
   "metadata": {
    "#solution": false,
    "#staff": false,
    "#student": false,
    "collapsed": false,
    "deletable": true,
    "editable": true
   },
   "outputs": [],
   "source": [
    "dist_X.ev()"
   ]
  },
  {
   "cell_type": "markdown",
   "metadata": {
    "#solution": false,
    "#staff": false,
    "#student": false,
    "collapsed": true,
    "deletable": true,
    "editable": true
   },
   "source": [
    "Run the cell below. The colorful bar on the left hand side of the figure shows the probabilities $p_0, p_1, p_2, p_3$, and $p_4$ as areas of rectangles stacked vertically, with $p_0$ on the bottom, $p_1$ above that, $p_2$ above $p_1$, and so on.\n",
    "\n",
    "The figure on the right is a rectangle of height 1. As its title says, the figure displays the cdf and tail probabilities of $X$. Identify which part is the cdf and which are the tail probabilities. That is, for each integer $x$ in the range 0 through 4, locate the area representing $F(x)$ and also the corresponding $T(x)$. You don't have to write out an answer, but you might find some scratch paper helpful."
   ]
  },
  {
   "cell_type": "code",
   "execution_count": null,
   "metadata": {
    "#solution": false,
    "#staff": false,
    "#student": false,
    "collapsed": false,
    "deletable": true,
    "editable": true
   },
   "outputs": [],
   "source": [
    "plot_tails(dist_X)"
   ]
  },
  {
   "cell_type": "markdown",
   "metadata": {
    "#solution": false,
    "#staff": false,
    "#student": false,
    "deletable": true,
    "editable": true
   },
   "source": [
    "Now look at the regions showing the tail probabilities $T(0)$ through $T(4)$, and look again at the formula for $E(X)$ given earlier in this part of the lab. How can you get $E(X)$ by using the tails probabilities, with no subtraction or multiplication?\n",
    "\n",
    "Once you have figured it out, complete the cell below so that the line of code evaluates to the expectation that you computed in the previous cell."
   ]
  },
  {
   "cell_type": "code",
   "execution_count": null,
   "metadata": {
    "#solution": false,
    "#staff": false,
    "#student": true,
    "collapsed": true,
    "deletable": true,
    "editable": true
   },
   "outputs": [],
   "source": [
    "\n",
    "...(tails(probs_X))"
   ]
  },
  {
   "cell_type": "markdown",
   "metadata": {
    "#solution": false,
    "#staff": false,
    "#student": false,
    "deletable": true,
    "editable": true
   },
   "source": [
    "### 1c) A New Formula for Expectation ###\n",
    "For a random variable $X$ with values $0, 1, 2, \\ldots, N$ and probability array $[p_0, p_1, \\ldots, p_N]$, define a function `ev_by_tails` that takes the probability array as its argument and returns $E(X)$ using the method you discovered in part **b**. Use the function `tails` you defined in part **a**."
   ]
  },
  {
   "cell_type": "code",
   "execution_count": null,
   "metadata": {
    "#solution": false,
    "#staff": false,
    "#student": true,
    "collapsed": true,
    "deletable": true,
    "editable": true
   },
   "outputs": [],
   "source": [
    "\n",
    "def ev_by_tails(prob_array):\n",
    "    return ..."
   ]
  },
  {
   "cell_type": "markdown",
   "metadata": {
    "#solution": false,
    "#staff": false,
    "#student": false,
    "deletable": true,
    "editable": true
   },
   "source": [
    "If the distribution of $X$ is uniform on $0, 1, 2, 3, 4$, then what should $E(X)$ be? Run the cell below to make sure your function does the right thing."
   ]
  },
  {
   "cell_type": "code",
   "execution_count": null,
   "metadata": {
    "#solution": false,
    "#staff": false,
    "#student": false,
    "collapsed": false,
    "deletable": true,
    "editable": true
   },
   "outputs": [],
   "source": [
    "ev_by_tails((1/5) * np.ones(5))"
   ]
  },
  {
   "cell_type": "markdown",
   "metadata": {
    "#solution": false,
    "#staff": false,
    "#student": false,
    "deletable": true,
    "editable": true
   },
   "source": [
    "### 1d) When Some $p_i$'s are Zero ###\n",
    "\n",
    "Stacking the probabilities vertically is problematic when some of the $p_i$'s are 0, because you can't see where the 0's are in the stack. But the cdf (and hence the tails) can be plotted just fine.\n",
    "\n",
    "Here is an example of a distribution in which $p_0 = 0$. Notice that the yellow bar shows $p_1$, and confirm that you understand the rest of the figure as well. You don't have to write anything.\n",
    "\n",
    "Also notice that since the possible values of $Y$ are $1, 2, 3$, the expectation $E(Y)$ has to be greater than 1. This is apparent from the figure, but not so apparent from the basic formula for expectation without a little calculation."
   ]
  },
  {
   "cell_type": "code",
   "execution_count": null,
   "metadata": {
    "#solution": false,
    "#staff": false,
    "#student": false,
    "collapsed": false,
    "deletable": true,
    "editable": true
   },
   "outputs": [],
   "source": [
    "values_Y = np.arange(4)\n",
    "probs_Y = make_array(0, 0.25, 0.5, 0.25)\n",
    "dist_Y = Table().values(values_Y).probability(probs_Y)\n",
    "\n",
    "plot_tails(dist_Y)"
   ]
  },
  {
   "cell_type": "markdown",
   "metadata": {
    "#solution": false,
    "#staff": false,
    "#student": false,
    "deletable": true,
    "editable": true
   },
   "source": [
    "Run the cell below to confirm that that your function `ev_by_tails` does the right thing in this case too."
   ]
  },
  {
   "cell_type": "code",
   "execution_count": null,
   "metadata": {
    "#solution": false,
    "#staff": false,
    "#student": false,
    "collapsed": false,
    "deletable": true,
    "editable": true
   },
   "outputs": [],
   "source": [
    "dist_Y.ev(), ev_by_tails(probs_Y)"
   ]
  },
  {
   "cell_type": "markdown",
   "metadata": {
    "#solution": false,
    "#staff": false,
    "#student": false,
    "deletable": true,
    "editable": true
   },
   "source": [
    "Here is another example; this time $p_2 = 0$. "
   ]
  },
  {
   "cell_type": "code",
   "execution_count": null,
   "metadata": {
    "#solution": false,
    "#staff": false,
    "#student": false,
    "collapsed": false,
    "deletable": true,
    "editable": true
   },
   "outputs": [],
   "source": [
    "values_Z = np.arange(4)\n",
    "probs_Z = make_array(0.25, 0.5, 0, 0.25)\n",
    "dist_Z = Table().values(values_Z).probability(probs_Z)\n",
    "\n",
    "plot_tails(dist_Z)"
   ]
  },
  {
   "cell_type": "markdown",
   "metadata": {
    "#solution": false,
    "#staff": false,
    "#student": false,
    "deletable": true,
    "editable": true
   },
   "source": [
    "Run the cell below to confirm that the calculation of the expectation works out by both methods."
   ]
  },
  {
   "cell_type": "code",
   "execution_count": null,
   "metadata": {
    "#solution": false,
    "#staff": false,
    "#student": false,
    "collapsed": false,
    "deletable": true,
    "editable": true
   },
   "outputs": [],
   "source": [
    "dist_Z.ev(), ev_by_tails(probs_Z)"
   ]
  },
  {
   "cell_type": "markdown",
   "metadata": {
    "#solution": false,
    "#staff": false,
    "#student": false,
    "deletable": true,
    "editable": true
   },
   "source": [
    "What you have discovered visually is called the *tail sum formula* for expectation. The top of page 172 of the text by Pitman has an algebraic proof that mirrors your observations.\n",
    "\n",
    "The tail sum formula provides a simple way of finding the expectation of a non-negative integer valued random variable, by adding the tail probabilities. \n",
    "\n",
    "The rest of the lab consists of applications of this method to find expectations of random variables for which the tail probabilities are easier to calculate than the distribution."
   ]
  },
  {
   "cell_type": "markdown",
   "metadata": {
    "#solution": false,
    "#staff": false,
    "#student": false,
    "deletable": true,
    "editable": true
   },
   "source": [
    "#newpage\n",
    "\n",
    "## Part 2: Sample Minimum ##\n",
    "Let $X_1, X_2, \\ldots, X_n$ be i.i.d., each with possible values $0, 1, 2 \\ldots N$. Let $S$ be the smallest of the $n$ sampled values, that is,\n",
    "\n",
    "$$\n",
    "S ~ = ~ \\min\\{X_1, X_2, \\ldots , X_n\\}\n",
    "$$\n",
    "\n",
    "Let $T_S$ be the tail probability function of $S$, that is, for all $x$ let $T_S(x) = P(S > x)$. \n",
    "\n",
    "Let $T_X$ be the tail probability function of $X_1$. Earlier in the course you have seen that there is a simple relation between $T_S$, $T_X$, and $n$. Get a piece of scratch paper and remind yourself of that relation."
   ]
  },
  {
   "cell_type": "markdown",
   "metadata": {
    "#solution": false,
    "#staff": false,
    "#student": false,
    "deletable": true,
    "editable": true
   },
   "source": [
    "### 2a) Expectation of the Sample Minimum ###\n",
    "Define a function `expected_sample_min` that takes the probability array of $X_1$ as the first argument and $n$ as the second, and returns $E(S)$. Use the function `tails` that you defined in Part 1."
   ]
  },
  {
   "cell_type": "code",
   "execution_count": null,
   "metadata": {
    "#solution": false,
    "#staff": false,
    "#student": true,
    "collapsed": true,
    "deletable": true,
    "editable": true
   },
   "outputs": [],
   "source": [
    "\n",
    "def expected_sample_min(prob_array, n):\n",
    "    return ..."
   ]
  },
  {
   "cell_type": "markdown",
   "metadata": {
    "#solution": false,
    "#staff": false,
    "#student": false,
    "deletable": true,
    "editable": true
   },
   "source": [
    "The expectation of the minimum of two rolls of a die is about 2.53, as you should check by hand when you get a chance. Run the cell below to confirm that your function `exepected_min` agrees, but first figure out why there's a 0 in the probability array."
   ]
  },
  {
   "cell_type": "code",
   "execution_count": null,
   "metadata": {
    "#solution": false,
    "#staff": false,
    "#student": false,
    "collapsed": false,
    "deletable": true,
    "editable": true
   },
   "outputs": [],
   "source": [
    "expected_sample_min(np.append(0, (1/6)*np.ones(6)), 2)"
   ]
  },
  {
   "cell_type": "markdown",
   "metadata": {
    "#solution": false,
    "#staff": false,
    "#student": false,
    "deletable": true,
    "editable": true
   },
   "source": [
    "### 2b) Sample Minimum Household Size ###\n",
    "The website Statista provides the [distributions of household sizes](https://www.statista.com/statistics/242189/disitribution-of-households-in-the-us-by-household-size/) in the United States, for various years. Go to the website and notice their choice of stacked bars representing the proportions of households of different sizes. Notice also:\n",
    "- No household has 0 members, so the bottom bar (blue) represents households with one member.\n",
    "- The distributions have been *truncated* at 7. That is, the last category of sizes is \"7 or more\". This truncation could markedly affect the calculation of average household size, so we won't do that. However, it will have little effect on the minimum household size in the sample and on the sample median. \n",
    "\n",
    "Let's start with the 2016 distribution. We'll call the final category \"7 persons\", not \"7 or more\". So everything we do using these proportions will be an approximation, not an exact value.\n",
    "\n",
    "First, run the cell below for some cleanup to compensate for the fact that the proportions provided don't quite add up to 1. The array `hh_size_2016` is the household size probability array for 2016: there are no households with 0 members, roughly 28% with 1 member, and so on. We have just normalized Statista's proportions by the total and rounded the results."
   ]
  },
  {
   "cell_type": "code",
   "execution_count": null,
   "metadata": {
    "#solution": false,
    "#staff": false,
    "#student": false,
    "collapsed": false,
    "deletable": true,
    "editable": true
   },
   "outputs": [],
   "source": [
    "statista = make_array(0.2813, 0.3401, 0.1544, 0.1293, 0.06, 0.0224, 0.0127)\n",
    "hh_size_2016 = np.append(0, statista)\n",
    "hh_size_2016 = np.round(hh_size_2016/sum(hh_size_2016), 6)\n",
    "hh_size_2016"
   ]
  },
  {
   "cell_type": "markdown",
   "metadata": {
    "#solution": false,
    "#staff": false,
    "#student": false,
    "deletable": true,
    "editable": true
   },
   "source": [
    "Find the expected minimum household size in a random sample of 100 households."
   ]
  },
  {
   "cell_type": "code",
   "execution_count": null,
   "metadata": {
    "#solution": false,
    "#staff": false,
    "#student": true,
    "collapsed": true,
    "deletable": true,
    "editable": true
   },
   "outputs": [],
   "source": [
    "\n",
    "expected_sample_min(...)"
   ]
  },
  {
   "cell_type": "markdown",
   "metadata": {
    "#solution": false,
    "#staff": false,
    "#student": false,
    "deletable": true,
    "editable": true
   },
   "source": [
    "Does the answer agree with your intuition? Explain"
   ]
  },
  {
   "cell_type": "markdown",
   "metadata": {
    "#solution": false,
    "#staff": false,
    "#student": true,
    "deletable": true,
    "editable": true
   },
   "source": [
    "\n",
    "**Your answer here.**"
   ]
  },
  {
   "cell_type": "markdown",
   "metadata": {
    "#solution": false,
    "#staff": false,
    "#student": false,
    "deletable": true,
    "editable": true
   },
   "source": [
    "Now do the same using the 1970 distribution. We have set up the 1970 household size probability array."
   ]
  },
  {
   "cell_type": "code",
   "execution_count": null,
   "metadata": {
    "#solution": false,
    "#staff": false,
    "#student": false,
    "collapsed": false,
    "deletable": true,
    "editable": true
   },
   "outputs": [],
   "source": [
    "hh_size_1970 = np.append(0, make_array(.17, .29, .17, .16, .1, .06, .05))"
   ]
  },
  {
   "cell_type": "code",
   "execution_count": null,
   "metadata": {
    "#solution": false,
    "#staff": false,
    "#student": true,
    "collapsed": true,
    "deletable": true,
    "editable": true
   },
   "outputs": [],
   "source": [
    "\n",
    "..."
   ]
  },
  {
   "cell_type": "markdown",
   "metadata": {
    "#solution": false,
    "#staff": false,
    "#student": false,
    "deletable": true,
    "editable": true
   },
   "source": [
    "#newpage\n",
    "\n",
    "## Part 3: Sample Median ##\n",
    "We will analyze the sample median in the straightforward case where the sample size $2n+1$ is odd and \"the median\" is defined as the $(n+1)$st value when the sample is sorted in ascending order. The $(n+1)$st is the right item to pick out, because $2n+1 = n + 1 + n$.\n",
    "\n",
    "This sample median is formally known as the *$(n+1)$st order statistic* of the sample.\n",
    "\n",
    "The example below will help clarify the definition."
   ]
  },
  {
   "cell_type": "code",
   "execution_count": null,
   "metadata": {
    "#solution": false,
    "#staff": false,
    "#student": false,
    "collapsed": false,
    "deletable": true,
    "editable": true
   },
   "outputs": [],
   "source": [
    "# 7 = 2*3 + 1\n",
    "\n",
    "sample_7 = make_array(23, 81, 34, 13, 56, 27, 26)\n",
    "sample_7_median = np.sort(sample_7).item(3)       # item(3) is the 4th item\n",
    "sample_7_median"
   ]
  },
  {
   "cell_type": "markdown",
   "metadata": {
    "#solution": false,
    "#staff": false,
    "#student": false,
    "deletable": true,
    "editable": true
   },
   "source": [
    "### 3a) The Event \"Sample Median $ > m$\" ###\n",
    "Start by visualizing what has to happen for the sample median to be larger than a given value. The function `plot_sample` takes three arguments:\n",
    "- a probability array of our usual form $[p_0, p_1, \\ldots, p_N]$\n",
    "- an odd numbered sample size $s$\n",
    "- a value of $m$\n",
    "\n",
    "It displays a dot plot of an i.i.d. sample of size $s$ drawn from the probability array (remember that the possible values are $0, 1, \\ldots, N$). The vertical blue line is at $m$. The statement above the plot says whether or not the sample median is greater than $m$.\n",
    "\n",
    "Run the cell below several times just as written. Each time, count how many dots are on the right of the vertical line, and note whether or not the median is bigger than $m$. Then change $m$ and $s$ and run it again a few times, but don't go too crazy with the changes."
   ]
  },
  {
   "cell_type": "code",
   "execution_count": null,
   "metadata": {
    "#solution": false,
    "#staff": false,
    "#student": false,
    "collapsed": false,
    "deletable": true,
    "editable": true
   },
   "outputs": [],
   "source": [
    "plot_sample(hh_size_1970, 7, 2)"
   ]
  },
  {
   "cell_type": "markdown",
   "metadata": {
    "#solution": false,
    "#staff": false,
    "#student": false,
    "deletable": true,
    "editable": true
   },
   "source": [
    "Fill in the blank with the appropriate phrase:\n",
    "\n",
    "The median of a sample of size $2n+1$ is bigger than $m$ if and only if $\\underline{~~~~~~~~~~~~~~~~}$ of the sampled elements are bigger than $m$."
   ]
  },
  {
   "cell_type": "markdown",
   "metadata": {
    "#solution": false,
    "#staff": false,
    "#student": true,
    "deletable": true,
    "editable": true
   },
   "source": [
    "\n",
    "**Your answer here.**"
   ]
  },
  {
   "cell_type": "markdown",
   "metadata": {
    "#solution": false,
    "#staff": false,
    "#student": false,
    "deletable": true,
    "editable": true
   },
   "source": [
    "### 3b) Tails of the Sample Median ###\n",
    "Let $X_1, X_2, \\ldots , X_{2n+1}$ be i.i.d., each with possible values $0, 1, 2, \\ldots, N$, c.d.f $F_X$, and tail probability function $T_X$. \n",
    "\n",
    "Let $M$ be the median of $X_1, X_2, \\ldots, X_{2n+1}$, as defined above. Let $T_M$ be the tail probability function of $M$.\n",
    "\n",
    "Fill in the first blank below with the name of a famous distribution and the appropriate parameters. Fill in the second blank with an integer. **Explain your choices.**\n",
    "\n",
    "For an integer $m$ in the range 0 through $N$, $T_M(m)$ is equal to the probability that a random variable with $\\underline{~~~~~~~~~~~~~~~~~~~~~}$ distribution is greater than $\\underline{~~~~~~~~~~~~}$.\n",
    "\n",
    "[Hint: Use part **a**. Define the $X$'s as trials and figure out how to define \"success\".]\n",
    "\n",
    "Typographical note: You can type T_M for $T_M$ and T_X for $T_X$."
   ]
  },
  {
   "cell_type": "markdown",
   "metadata": {
    "#solution": false,
    "#staff": false,
    "#student": true,
    "deletable": true,
    "editable": true
   },
   "source": [
    "\n",
    "** Your answer here.**\n"
   ]
  },
  {
   "cell_type": "markdown",
   "metadata": {
    "#solution": false,
    "#staff": false,
    "#student": false,
    "deletable": true,
    "editable": true
   },
   "source": [
    "### 3c) Expectation of the Sample Median ###\n",
    "Define a function `expected_sample_median` that takes as its arguments a probability array of the form $[p_0, p_1, \\ldots, p_N]$ and a sample size, and returns:\n",
    "- the string `'For this calculation, the sample size has to be an odd number.'` if the sample size is even\n",
    "- the expectation of the median of an i.i.d. sample of the given size from the given array, if the sample size is odd\n",
    "\n",
    "You're going to need the function `tails` you defined in **1a**, and an expression for $n$ in terms of $s = 2n+1$. "
   ]
  },
  {
   "cell_type": "code",
   "execution_count": null,
   "metadata": {
    "#solution": false,
    "#staff": false,
    "#student": true,
    "collapsed": true,
    "deletable": true,
    "editable": true
   },
   "outputs": [],
   "source": [
    "\n",
    "def expected_sample_median(prob_array, s):\n",
    "    if s % 2 > 0:\n",
    "        return ...\n",
    "    else:\n",
    "        return ..."
   ]
  },
  {
   "cell_type": "markdown",
   "metadata": {
    "#solution": false,
    "#staff": false,
    "#student": false,
    "deletable": true,
    "editable": true
   },
   "source": [
    "Run the cell below to confirm that your function is doing the right thing. It uses the probability array `probs_X` from **1b**."
   ]
  },
  {
   "cell_type": "code",
   "execution_count": null,
   "metadata": {
    "#solution": false,
    "#staff": false,
    "#student": false,
    "collapsed": false,
    "deletable": true,
    "editable": true
   },
   "outputs": [],
   "source": [
    "expected_sample_median(probs_X, 10)"
   ]
  },
  {
   "cell_type": "markdown",
   "metadata": {
    "#solution": false,
    "#staff": false,
    "#student": false,
    "deletable": true,
    "editable": true
   },
   "source": [
    "If the sample size is 1, then there's just one element $X_1$ in the sample, and that's the median. So if the sample size is 1 then $M = X_1$ and hence $E(M) = E(X_1)$. \n",
    "\n",
    "The cell below uses the probability array `probs_X` from **1b**. Check that your function does the right thing in the cell below; the value you should get is in **1b**."
   ]
  },
  {
   "cell_type": "code",
   "execution_count": null,
   "metadata": {
    "#solution": false,
    "#staff": false,
    "#student": false,
    "collapsed": false,
    "deletable": true,
    "editable": true
   },
   "outputs": [],
   "source": [
    "expected_sample_median(probs_X, 1)"
   ]
  },
  {
   "cell_type": "markdown",
   "metadata": {
    "#solution": false,
    "#staff": false,
    "#student": false,
    "deletable": true,
    "editable": true
   },
   "source": [
    "### 3d) Sample Median Household Size ###"
   ]
  },
  {
   "cell_type": "markdown",
   "metadata": {
    "#solution": false,
    "#staff": false,
    "#student": false,
    "deletable": true,
    "editable": true
   },
   "source": [
    "Find the expectation of the median household size in a random sample of 25 households taken in 2016."
   ]
  },
  {
   "cell_type": "code",
   "execution_count": null,
   "metadata": {
    "#solution": false,
    "#staff": false,
    "#student": true,
    "collapsed": true,
    "deletable": true,
    "editable": true
   },
   "outputs": [],
   "source": [
    "\n",
    "..."
   ]
  },
  {
   "cell_type": "markdown",
   "metadata": {
    "#solution": false,
    "#staff": false,
    "#student": false,
    "deletable": true,
    "editable": true
   },
   "source": [
    "Do the same for a random sample of 25 households in 1970."
   ]
  },
  {
   "cell_type": "code",
   "execution_count": null,
   "metadata": {
    "#solution": false,
    "#staff": false,
    "#student": true,
    "collapsed": true,
    "deletable": true,
    "editable": true
   },
   "outputs": [],
   "source": [
    "\n",
    "..."
   ]
  },
  {
   "cell_type": "markdown",
   "metadata": {
    "#solution": false,
    "#staff": false,
    "#student": false,
    "deletable": true,
    "editable": true
   },
   "source": [
    "#newpage\n",
    "\n",
    "## Part 4: Median of a Large Sample ##\n",
    "Now take a look at what happens to the sample median when the sample size increases."
   ]
  },
  {
   "cell_type": "markdown",
   "metadata": {
    "#solution": false,
    "#staff": false,
    "#student": false,
    "deletable": true,
    "editable": true
   },
   "source": [
    "### 4a) Guessing the Sample Median ###\n",
    "If someone took a large random sample from the population of U.S. households in 2016, roughly what would you expect the median household size in the sample to be? Why?\n",
    "\n",
    "Remember that we are using the array `hh_size_2016` as the distribution of household sizes."
   ]
  },
  {
   "cell_type": "code",
   "execution_count": null,
   "metadata": {
    "#solution": false,
    "#staff": false,
    "#student": false,
    "collapsed": false,
    "deletable": true,
    "editable": true
   },
   "outputs": [],
   "source": [
    "hh_size_2016"
   ]
  },
  {
   "cell_type": "markdown",
   "metadata": {
    "#solution": false,
    "#staff": false,
    "#student": true,
    "deletable": true,
    "editable": true
   },
   "source": [
    "\n",
    "**Your answer here.**"
   ]
  },
  {
   "cell_type": "markdown",
   "metadata": {
    "#solution": false,
    "#staff": false,
    "#student": false,
    "deletable": true,
    "editable": true
   },
   "source": [
    "Answer the same question (you don't have to write out your answer) for the 1970 distribution, and then look at the vertical scale on the [visualization in the source](https://www.statista.com/statistics/242189/disitribution-of-households-in-the-us-by-household-size/) of the data. Make sure your answers to this exercise are consistent with what you see there."
   ]
  },
  {
   "cell_type": "markdown",
   "metadata": {
    "#solution": false,
    "#staff": false,
    "#student": false,
    "deletable": true,
    "editable": true
   },
   "source": [
    "### 4b) Plotting the Expected Sample Median ###\n",
    "Define a function `exp_median_2016` that takes an odd sample size $s$ as its argument and returns the expected median size of an i.i.d. sample of $s$ housedholds from the distribution specified by `hh_size_2016`. Just re-use the relevant code from **3c**."
   ]
  },
  {
   "cell_type": "code",
   "execution_count": null,
   "metadata": {
    "#solution": false,
    "#staff": false,
    "#student": true,
    "collapsed": true,
    "deletable": true,
    "editable": true
   },
   "outputs": [],
   "source": [
    "\n",
    "def exp_median_2016(s):\n",
    "    return ..."
   ]
  },
  {
   "cell_type": "markdown",
   "metadata": {
    "#solution": false,
    "#staff": false,
    "#student": false,
    "deletable": true,
    "editable": true
   },
   "source": [
    "Complete the cell below to generate a plot of the expected sample median as a function of sample size. "
   ]
  },
  {
   "cell_type": "code",
   "execution_count": null,
   "metadata": {
    "#solution": false,
    "#staff": false,
    "#student": true,
    "collapsed": false,
    "deletable": true,
    "editable": true
   },
   "outputs": [],
   "source": [
    "\n",
    "exp_median_tbl = Table().with_column('Sample Size', np.arange(1, 1000, 2))\n",
    "exp_medians = exp_median_tbl...\n",
    "exp_median_tbl = exp_median_tbl.with_column('Expected Sample Median, 2016', exp_medians)\n",
    "exp_median_tbl.scatter(0)"
   ]
  },
  {
   "cell_type": "markdown",
   "metadata": {
    "#solution": false,
    "#staff": false,
    "#student": false,
    "deletable": true,
    "editable": true
   },
   "source": [
    "Is the graph consistent with your answer to part **a**?"
   ]
  },
  {
   "cell_type": "markdown",
   "metadata": {
    "#solution": false,
    "#staff": false,
    "#student": true,
    "deletable": true,
    "editable": true
   },
   "source": [
    "\n",
    "**Your answer here.**"
   ]
  },
  {
   "cell_type": "markdown",
   "metadata": {
    "#solution": false,
    "#staff": false,
    "#student": false,
    "deletable": true,
    "editable": true
   },
   "source": [
    "Now include the corresponding data from 1970 as well."
   ]
  },
  {
   "cell_type": "code",
   "execution_count": null,
   "metadata": {
    "#solution": false,
    "#staff": false,
    "#student": true,
    "collapsed": true,
    "deletable": true,
    "editable": true
   },
   "outputs": [],
   "source": [
    "\n",
    "def exp_median_1970(s):\n",
    "    return ...\n",
    "\n",
    "exp_medians = exp_median_tbl...\n",
    "exp_median_tbl = exp_median_tbl.with_column('Expected Sample Median, 1970', exp_medians)\n",
    "exp_median_tbl.scatter(0)"
   ]
  },
  {
   "cell_type": "markdown",
   "metadata": {
    "#solution": false,
    "#staff": false,
    "#student": false,
    "deletable": true,
    "editable": true
   },
   "source": [
    "### 4c) Distribution of the Median of a Large Sample ###\n",
    "In **3d** you found the expected median of a sample of size 25 from the 2016 distribution.\n",
    "\n",
    "Complete the cell below to display the histogram of an empirical distribution of 20,000 simulated values of the median of an i.i.d. random sample of size 25 taken from the household size distribution of 2016. \n",
    "\n",
    "Helpful methods:\n",
    "- The `prob140` Table method [`sample_from_dist`](https://probability.gitlab.io/prob140/_autosummary/prob140.Table.sample_from_dist.html#prob140.Table.sample_from_dist)\n",
    "- np.median, which computes the median of an odd-numbered set exactly as we are doing here\n",
    "- The `prob_140` method [`emp_dist`](https://probability.gitlab.io/prob140/tutorial.html#empirical-distributions)"
   ]
  },
  {
   "cell_type": "code",
   "execution_count": null,
   "metadata": {
    "#solution": false,
    "#staff": false,
    "#student": true,
    "collapsed": true,
    "deletable": true,
    "editable": true
   },
   "outputs": [],
   "source": [
    "\n",
    "# Simulated median of n iid draws\n",
    "\n",
    "# A Distribution object\n",
    "hh_2016_dist = Table().values(range(8)).probability(hh_size_2016) \n",
    "\n",
    "n = 25\n",
    "repetitions = 20000\n",
    "\n",
    "medians = ...\n",
    "for i in range(...):\n",
    "    sample = hh_2016_dist...\n",
    "    medians = np.append(medians, np.median(sample))\n",
    "\n",
    "print('IID Sample Size ', str(n))\n",
    "print('Average of', str(repetitions), 'Sample Medians =', str(np.mean(medians)))\n",
    "\n",
    "..."
   ]
  },
  {
   "cell_type": "markdown",
   "metadata": {
    "#solution": false,
    "#staff": false,
    "#student": false,
    "deletable": true,
    "editable": true
   },
   "source": [
    "First check that the empirical average of all the simulated medians is close to the expected value you got in **3d**.\n",
    "\n",
    "Next note that even with a sample size of just 25, the sample median is overwhelmingly likely to be what you think it should be. You're welcome to increase the sample size (make sure it's still odd, for comparability) and re-run the cell to see what happens.\n",
    "\n",
    "Note the **difference between sample means and sample medians when drawing from a discrete distribution**: As the sample size increases, the distribution of the sample mean becomes roughly normal by the Central Limit Theorem as you saw in Data 8, but the distribution of the sample median puts almost all its mass on one or two points.\n",
    "\n",
    "The cdf of the underlying distribution of 1970 households is pretty close to 0.5 at 2, though it actually crosses 0.5 at 3. This leads to the distribution of the sample median being less clustered than its 2016 counterpart when the sample size is small to moderate.\n",
    "\n",
    "Copy-paste the code from the cell above, keep n at 25, change 2016 to 1970, and see what happens."
   ]
  },
  {
   "cell_type": "code",
   "execution_count": null,
   "metadata": {
    "#solution": false,
    "#staff": false,
    "#student": true,
    "collapsed": true,
    "deletable": true,
    "editable": true
   },
   "outputs": [],
   "source": [
    "\n",
    "..."
   ]
  },
  {
   "cell_type": "markdown",
   "metadata": {
    "#solution": false,
    "#staff": false,
    "#student": false,
    "deletable": true,
    "editable": true
   },
   "source": [
    "## Conclusion ##\n",
    "What you have learned in this lab:\n",
    "- An alternative approach to finding expectations of some random variables that don't have good representations as sums\n",
    "- The *tail sum formula* for the expectation of a non-negative integer valued random variable\n",
    "- The use of the tail sum formula in finding the expectation of the minimum of an i.i.d. sample from a population of non-negative integers\n",
    "- A duality between the tail of the median of an i.i.d. sample and the tail of a well known distribution\n",
    "- The use of this duality and the tail sum formula in finding the expectation of the median of an i.i.d. sample\n",
    "- When the sample is large, the distribution of the sample median is very likely to be concentrated at one or two values around where the cdf of the underlying population crosses 0.5"
   ]
  },
  {
   "cell_type": "markdown",
   "metadata": {
    "#solution": false,
    "#staff": false,
    "#student": false,
    "deletable": true,
    "editable": true
   },
   "source": [
    "## Submission Instructions\n",
    "\n",
    "1. **Save your notebook using File > Save and Checkpoint.**\n",
    "2. Run the cell below to generate a pdf file.\n",
    "3. Download the pdf file and confirm that none of your work is missing or cut off.\n",
    "4. Submit the assignment to Lab_04b on Gradescope.\n",
    "\n",
    "#### Logistics \n",
    "\n",
    "1. Examine the generated pdf before uploading to make sure that it contains all of your work.\n",
    "2. When submitting to Gradescope, select the pages of your upload corresponding to each question. \n",
    "3. If you encounter any difficulties when submitting or exporting your assignment, please make a private Piazza post **before the deadline**. \n",
    "\n",
    "### **We will not grade assignments which do not have pages selected for each question or were submitted after the deadline.** "
   ]
  },
  {
   "cell_type": "code",
   "execution_count": null,
   "metadata": {
    "#solution": false,
    "#staff": false,
    "#student": false,
    "collapsed": true,
    "deletable": true,
    "editable": true
   },
   "outputs": [],
   "source": [
    "import gsExport\n",
    "gsExport.generateSubmission(\"Lab_04.ipynb\")"
   ]
  }
 ],
 "metadata": {
  "anaconda-cloud": {},
  "checksums": [
   "b0aefbc0a2143213357738234b5b70f0",
   "3b7138eab8b63bc3f38b9c9897588fb9",
   "37c843d8f59f4eaf13adb53f3b3bef71",
   "6e363ccca9ee018167ac723488d90507",
   "75cb026e63cf13f1dcb0fd2e638878f0",
   "ca1cb70d497d561b9ad3a5c58685860b",
   "caa51c50df6f7c0be22fa6ca4077d123",
   "f076d2e7bd3e4fbf0c2ac770568447e6",
   "b03c96f09a9748e78ac43f54f566c890",
   "25dd6252d66373fba37d75bc54fda790",
   "6362fc532ed0742cad01fbcc8230c408",
   "39c31928ab6022aabda8f545731d86b9",
   "dd5f60afd48a3601faf95757dbb81b8f",
   "01ee2c7a4be89b9c9096bfebedb06649",
   "ed2c78c9814ec81185ca9fbfe9238fc1",
   "e76cac4111c8ed3c875e376a8a83f6be",
   "9215abdba1924e5e8cca7b2601106877",
   "163ab89d7682c0e3b8e1ddc6ef328014",
   "a11573cd3cadd725517c88689879694f",
   "5451b36ae7f515801eb2c16ef59a1600",
   "a806d7dd5f6caef55958f42731449aa3",
   "a0a8154ab673c7e2db552d5620f80b6c",
   "f8aaa527521eed4a4e9e4bbfbc4a3562",
   "02dd8cb44d3a8fc01b209b67c0884871",
   "611c2f41af4c9a78553a10f8841fa8d2",
   "4367ff12b721462e4c0ba95f397a8a35",
   "09875b384e0261b4e3b69e90c7d5fb2c",
   "301741c11a82d6a6b90ca5b234fa667d",
   "a629efffad22685268e2b76766cd2f6b",
   "5ea70632f219efaecedb2c0118a40ec0",
   "1969221b51764bb26c238bb3a2e53829",
   "43a15fd12fb98d6120175dda2953444e",
   "26c98a2fa074045831ef6d7e7376c20e",
   "b9e43c4ef07142bebc1bc3e0daf0f599",
   "796479bcd329c45585d71f06c3eb1309",
   "16ad590034e8acf7f4f9d362f530a05d",
   "9eabf5054106941d675fd7f9c8433b9b",
   "62efcb5cbf1b66f845072fd38e3fb7ea",
   "82b162214dff44651f7cfa91f269b64a",
   "371b705c0d343b0d9bdc31a3aa7d2ebf",
   "f2ee59a17f58a8947fbd9cd30117b1fa",
   "459eebace5f6a46cd7ab639877486052",
   "d0f17896231f71cae19aead1e7419424",
   "3b6b8def4ccd7dd294c76ca07a1d2368",
   "3a76d7cce4e9ecdb4fe70737e7879960",
   "d7f96b55b817083e122da9c2a1953748",
   "4055baeb9be3af626e71b30869a6a678",
   "2f43b42fd833d1e77420a8dae7419000",
   "2b6c9caf8d9f10aecca623d019b8de1a",
   "64dc5c3b4a0fd0333462b63ffa295958",
   "b0f4af5b011cf27acb323053abc1d870",
   "bdc5e1527aa7e571b3ca099a2666c3c4",
   "502d5e6f0ba098fe3799e3f8d9fe0e6c",
   "3a76d7cce4e9ecdb4fe70737e7879960",
   "a136c74206eac5c6cc80986b14c49840",
   "3a76d7cce4e9ecdb4fe70737e7879960",
   "5bf4ed0fbd16c325ad4d38e9aa15aeda",
   "8dabf3b09dafabab8d2c96b59e3fe41b",
   "afc242627e1b0c8faf0f30a862986633",
   "a72a5f221fca6d075ff7bf33efa8d7d7",
   "17d186bb115401eda80262e9744a0713",
   "bb1116b8ec987320dc543764ce0ea5f9",
   "ce684803586b96e35dd184d05af9800c",
   "d45feb2c6a4b058d2a8e8c7f9086271e",
   "2f43b42fd833d1e77420a8dae7419000",
   "ec6b15c0b0cff8950dbc266ff2e1cd0f",
   "2f43b42fd833d1e77420a8dae7419000",
   "3dd9fa4eea59bb37fb3996cb1e55a87d",
   "952b392452ca85175e0e096bbf21505e",
   "68644427736ef7a029ecaa5a8cad0efb",
   "3a76d7cce4e9ecdb4fe70737e7879960",
   "bf15f3964ceec42351563e0c2eef3b43",
   "f0f42566ab2545962e3143ee99208d0e",
   "f8062b805b166ac461f9723dc33a4b5b",
   "afb76af93de8b2d640213e017d244510",
   "e1100ff5a7edf88948b035cf07bce577",
   "670ed50ec248d095b4987b4b1aaa98c5",
   "3a76d7cce4e9ecdb4fe70737e7879960",
   "64e22428337c1503cdfd6ca06e607d23",
   "64125dd13d3d1e5ac89c659d80e1485e",
   "0b6929247b0b52d213a0b42158f73a1c",
   "13af9acdbfa4ea825c7cf2ed2f43efc7",
   "46c5b7221fb799f4aa723e9874f1cbf5",
   "2f43b42fd833d1e77420a8dae7419000",
   "d548e4b3c5eca803a858fe1dd627c48f",
   "0deba3f6883972041bdaa21af7664ae0",
   "17c3f21c40f6a4b051b5b5a44b190ff7"
  ],
  "kernelspec": {
   "display_name": "Python 3",
   "language": "python",
   "name": "python3"
  },
  "language_info": {
   "codemirror_mode": {
    "name": "ipython",
    "version": 3
   },
   "file_extension": ".py",
   "mimetype": "text/x-python",
   "name": "python",
   "nbconvert_exporter": "python",
   "pygments_lexer": "ipython3",
   "version": "3.5.2"
  },
  "number_of_pagebreaks": 3
 },
 "nbformat": 4,
 "nbformat_minor": 0
}
