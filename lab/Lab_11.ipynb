{
 "cells": [
  {
   "cell_type": "markdown",
   "metadata": {},
   "source": [
    "<table align=\"left\" style=\"border-style: hidden\" class=\"table\"> <tr> <td class=\"col-md-2\"><img style=\"float\" src=\"http://prob140.org/assets/icon256.png\" alt=\"Prob140 Logo\" style=\"width: 120px;\"/></td><td><div align=\"left\"><h3 style=\"margin-top: 0;\">Probability for Data Science</h3><h4 style=\"margin-top: 20px;\">UC Berkeley, Spring 2018</h4><p>Ani Adhikari</div></td></tr></table><!-- not in pdf -->"
   ]
  },
  {
   "cell_type": "code",
   "execution_count": 3,
   "metadata": {
    "#solution": false,
    "#staff": false,
    "#student": false
   },
   "outputs": [],
   "source": [
    "from datascience import *\n",
    "from prob140 import *\n",
    "import matplotlib.pyplot as plt\n",
    "plt.style.use(\"fivethirtyeight\")\n",
    "%matplotlib inline\n",
    "import numpy as np\n",
    "from scipy import stats\n",
    "import ipywidgets as widgets\n",
    "from ipywidgets import interact"
   ]
  },
  {
   "cell_type": "markdown",
   "metadata": {
    "#solution": false,
    "#staff": false,
    "#student": false
   },
   "source": [
    "# Lab 11: Chinese Restaurant Process, Part I #"
   ]
  },
  {
   "cell_type": "markdown",
   "metadata": {
    "#solution": false,
    "#staff": false,
    "#student": false
   },
   "source": [
    "In this lab you will analyze a stochastic model for *clustering*, which is a process of visualizing and organizing data based on similarities between sampled individuals. Methods of identifying clusters have applications in a wide variety of areas. Here are just a few examples.\n",
    "\n",
    "- Criminology: locations where a type of crime occurs\n",
    "- Marketing: customers who share preferences\n",
    "- Biology: populations segmented by patterns in genes\n",
    "- Natural Language Processing: words grouped by similarity of meaning or grammatical properties\n",
    "\n",
    "One commonly used model is *k-means clustering*, which assumes that the data are continuous numerical variables and that the number of clusters in the population is known to be $k$. By contrast, the *Chinese Restuarant Process* is a discrete time stochastic process that can be used as a model for clustering and does not assume a fixed number of clusters. Instead, the clusters evolve randomly as individuals enter, according to a specified probabilistic structure. The data could be categorical or numerical.\n",
    "\n",
    "The Chinese Restaurant Process is an example of a *generative Bayesian model* which specifies the probabilstic rules by which the process evolves and in which the representation itself evolves as more data come in.\n",
    "\n",
    "**History:** The process has its origins in the work of [Warren Ewens](https://en.wikipedia.org/wiki/Warren_Ewens) in the early 1970's, in particular the [Ewens Sampling Formula](https://en.wikipedia.org/wiki/Ewens%27s_sampling_formula) of population genetics. Since then, the development of the theory of the stochastic process and its use in machine learning has been very much a Berkeley enterprise: Jim Pitman, David Aldous, and Mike Jordan are among the people involved. The restaurant analogy is due to Jim Pitman and our late colleague Lester Dubins, during one of their regular cafe meetings decades ago. Though there is a popular story that they came up with it while eating at a Chinese restaurant, in fact they were at the Strada on Bancroft and College. "
   ]
  },
  {
   "cell_type": "markdown",
   "metadata": {
    "#solution": false,
    "#staff": false,
    "#student": false
   },
   "source": [
    "**What you will learn:**\n",
    "We have distributed the analysis across two labs so that you can reasonably complete it and have time to think about the ideas. In each lab, part of the analysis will be by simulation and part by probability calculations. The first lab involves only discrete distributions. The second lab will contain long run analysis involving connections made in class between the beta and binomial distributions.\n",
    "\n",
    "In this class we will focus on understanding the probability model. You can then go on to other classes that discuss how to fit the model to data.\n",
    "\n",
    "This lab is about the distribution of the total number of clusters observed in a fixed amount of time. This theory helps answer questions like these, about $n$ observations:\n",
    "- How many different animal species do you expect to see?\n",
    "- What is the distribution of the number of different types of documents that you will have?\n",
    "- What is the chance that everybody is retweeting the same tweet?\n",
    "\n",
    "You will simulate a Chinese Restaurant process and find the empirical distribution of the number of tables. You will also find the mean and SD of the number of tables, both empirically and analytically."
   ]
  },
  {
   "cell_type": "markdown",
   "metadata": {
    "#solution": false,
    "#staff": false,
    "#student": false
   },
   "source": [
    "## The Process ##\n",
    "In keeping with the Chinese Restaurant analogy, think of clusters as groups of people sitting at the same table. We will only consider occupied tables, so the number of tables is equal to the number of clusters. \n",
    "\n",
    "The process evolves according to the following rules.\n",
    "- There is a positive parameter $\\theta$.\n",
    "- People enter the restaurant one at a time.\n",
    "- Person 1 enters and sits at a table which we will call Table 1.\n",
    "- Each subsequent person \n",
    "    - either joins an existing table with probability proportional to the number of people already at that table, or\n",
    "    - starts a new table with probability proportional to $\\theta$.\n",
    "- People choose tables independently of each other.\n",
    "\n",
    "Don't worry about running out of room. The restaurant has infinite capacity and each table is infinitely large. You can imagine infinitely many such tables at the start, or imagine new tables appearing magically each time a person's random choice is to start a new table. We prefer the second image because it consists only of the occupied tables.\n",
    "\n",
    "Note that the tables are not numbered at the start. We number them according to their order of formation. Thus Table 1 is the table at which Person 1 sits. Table 2 is the next new table to be formed. We can't say exactly who starts it, because that's random. Table 3 is the third new table to be formed. And so on.\n",
    "\n",
    "To visualiaze the process, run the cell below. It simulates 100 people arriving according to a Chinese Restaurant process with some value of $\\theta$. Move the slider slowly at first, so that you can see the people coming in one at a time. Run the cell several times; the value of $\\theta$ changes each time, and you will see quite a bit of variation in the results."
   ]
  },
  {
   "cell_type": "code",
   "execution_count": 2,
   "metadata": {
    "#solution": false,
    "#staff": false,
    "#student": false
   },
   "outputs": [
    {
     "data": {
      "application/vnd.jupyter.widget-view+json": {
       "model_id": "acd56ae736544510942214cce2100927",
       "version_major": 2,
       "version_minor": 0
      },
      "text/html": [
       "<p>Failed to display Jupyter Widget of type <code>interactive</code>.</p>\n",
       "<p>\n",
       "  If you're reading this message in the Jupyter Notebook or JupyterLab Notebook, it may mean\n",
       "  that the widgets JavaScript is still loading. If this message persists, it\n",
       "  likely means that the widgets JavaScript library is either not installed or\n",
       "  not enabled. See the <a href=\"https://ipywidgets.readthedocs.io/en/stable/user_install.html\">Jupyter\n",
       "  Widgets Documentation</a> for setup instructions.\n",
       "</p>\n",
       "<p>\n",
       "  If you're reading this message in another frontend (for example, a static\n",
       "  rendering on GitHub or <a href=\"https://nbviewer.jupyter.org/\">NBViewer</a>),\n",
       "  it may mean that your frontend doesn't currently support widgets.\n",
       "</p>\n"
      ],
      "text/plain": [
       "interactive(children=(IntSlider(value=1, continuous_update=False, description='n', min=1), Output()), _dom_classes=('widget-interact',))"
      ]
     },
     "metadata": {},
     "output_type": "display_data"
    }
   ],
   "source": [
    "visualize_cr()"
   ]
  },
  {
   "cell_type": "markdown",
   "metadata": {
    "#solution": false,
    "#staff": false,
    "#student": false
   },
   "source": [
    "In Parts 1 and 2 below, you will write the code to simulate the Chinese Restaurant process. In Parts 3 through 5 you will study the distribution of the total number of occupied tables after $N$ people have been seated. In other words, you will study the distribution of the number of clusters produced by this process when it has run for $N$ steps."
   ]
  },
  {
   "cell_type": "markdown",
   "metadata": {
    "#solution": false,
    "#staff": false,
    "#student": false
   },
   "source": [
    "## Part 1: Steps towards Simulation ##\n",
    "Start by running the cell below to set the parameter $\\theta$."
   ]
  },
  {
   "cell_type": "code",
   "execution_count": 4,
   "metadata": {
    "#solution": false,
    "#staff": false,
    "#student": false
   },
   "outputs": [],
   "source": [
    "theta = 1"
   ]
  },
  {
   "cell_type": "markdown",
   "metadata": {
    "#solution": false,
    "#staff": false,
    "#student": false
   },
   "source": [
    "The goal is to create an array `people` that shows the number of people at each table. If there are 10 people, of whom 6 are at Table 1, 3 at Table 2, and 1 at Table 3, then the array created should be [6, 3, 1]. \n",
    "\n",
    "All entries in the array must be positive. The length of the array will be the total number of tables formed, which is random.\n",
    "\n",
    "The cell below starts off the array `people` when the first person enters at sits at Table 1. Run the cell. "
   ]
  },
  {
   "cell_type": "code",
   "execution_count": 5,
   "metadata": {
    "#solution": false,
    "#staff": false,
    "#student": false
   },
   "outputs": [],
   "source": [
    "people = make_array(1)"
   ]
  },
  {
   "cell_type": "markdown",
   "metadata": {
    "#solution": false,
    "#staff": false,
    "#student": false
   },
   "source": [
    "To help code the selection of the next person who enters, we will also keep track of the labels of the tables formed, in the array `tables`. That will be an array of consecutive integers starting at 1. If `people` is [6, 3, 1] then `tables` is [1, 2, 3]. If `people` is [10] then `tables` is [1]. \n",
    "\n",
    "Run the cell below to create `tables` when just one person is in the system."
   ]
  },
  {
   "cell_type": "code",
   "execution_count": 6,
   "metadata": {
    "#solution": false,
    "#staff": false,
    "#student": false
   },
   "outputs": [],
   "source": [
    "tables = make_array(1)"
   ]
  },
  {
   "cell_type": "markdown",
   "metadata": {
    "#solution": false,
    "#staff": false,
    "#student": false
   },
   "source": [
    "To write the code below it might help you to keep the array [6, 3, 1] in mind as an example of what `people` might look like after 10 people are seated."
   ]
  },
  {
   "cell_type": "markdown",
   "metadata": {
    "#solution": false,
    "#staff": false,
    "#student": false
   },
   "source": [
    "### a) ###\n",
    "How can you use `people` to determine how many people are already seated when a new person comes in? Assign this to `n` in the cell below. Your code should work not just for the \"starter\" array `people` created above, but for any `people` array that shows the number of people at each table."
   ]
  },
  {
   "cell_type": "code",
   "execution_count": null,
   "metadata": {
    "#solution": false,
    "#staff": false,
    "#student": true,
    "collapsed": true
   },
   "outputs": [],
   "source": [
    "n = ..."
   ]
  },
  {
   "cell_type": "markdown",
   "metadata": {
    "#solution": false,
    "#staff": false,
    "#student": false
   },
   "source": [
    "### b) ###\n",
    "Use `tables` to create an array that contains the choices of tables that the next newly entering person will have, by filling out the cell below. There are no probabilities involved, yet. Just create an array of choices, that is, all the possible tables at which the new person could sit."
   ]
  },
  {
   "cell_type": "code",
   "execution_count": null,
   "metadata": {
    "#solution": false,
    "#staff": false,
    "#student": true,
    "collapsed": true
   },
   "outputs": [],
   "source": [
    "# What is the label of the new table that this person might start?\n",
    "new_table = ...\n",
    "\n",
    "# tbl_choices is the array of all possible table choices that this new person has:\n",
    "tbl_choices = ..."
   ]
  },
  {
   "cell_type": "markdown",
   "metadata": {
    "#solution": false,
    "#staff": false,
    "#student": false
   },
   "source": [
    "### c) ###\n",
    "The array `tbl_choices` contains all the possible tables the new person can select. Create an array `tbl_probs` containing the corresponding probabilities of selection. That is, the $i$th element of `tbl_probs` should be the probability that the new person selects the $i$th element of tbl_choices."
   ]
  },
  {
   "cell_type": "code",
   "execution_count": null,
   "metadata": {
    "#solution": false,
    "#staff": false,
    "#student": true,
    "collapsed": true
   },
   "outputs": [],
   "source": [
    "# Array of probabilities of selecting the different tables\n",
    "tbl_probs = ..."
   ]
  },
  {
   "cell_type": "markdown",
   "metadata": {
    "#solution": false,
    "#staff": false,
    "#student": false
   },
   "source": [
    "Do a ballpark check that `tbl_probs` is a probability distribution, by running the cell below."
   ]
  },
  {
   "cell_type": "code",
   "execution_count": 10,
   "metadata": {
    "#solution": false,
    "#staff": false,
    "#student": false
   },
   "outputs": [
    {
     "data": {
      "text/plain": [
       "1.0"
      ]
     },
     "execution_count": 10,
     "metadata": {},
     "output_type": "execute_result"
    }
   ],
   "source": [
    "sum(tbl_probs)"
   ]
  },
  {
   "cell_type": "markdown",
   "metadata": {
    "#solution": false,
    "#staff": false,
    "#student": false
   },
   "source": [
    "### d) ###\n",
    "Now make the new person's choice of table, and assign it to the name `choice`. Use `np.random.choice` to do so. The call `np.random.choice(values, p = probabilities)` makes one random draw from the distribution with possible values in the array `values` and the corresponding probabilities in the array `probabilities`.\n",
    "\n",
    "One technicality: You have to force the choice to be of the `int` type, because you will have to use it as an array index."
   ]
  },
  {
   "cell_type": "code",
   "execution_count": null,
   "metadata": {
    "#solution": false,
    "#staff": false,
    "#student": true,
    "collapsed": true
   },
   "outputs": [],
   "source": [
    "# The random choice made by the new person\n",
    "\n",
    "choice = int(...)"
   ]
  },
  {
   "cell_type": "markdown",
   "metadata": {
    "#solution": false,
    "#staff": false,
    "#student": false
   },
   "source": [
    "### e) ###\n",
    "Write code that updates `tables` and `people` appropriately based on the choice made in Part (d). Ask yourself the following questions before writing your code:\n",
    "- Under what circumstances should `tables` be updated, and how should it be updated?\n",
    "- Under what circumstances should `people` be updated, and how should it be updated?\n",
    "\n",
    "Your code can use any of the quantities calculated in earlier cells: `theta`, `people`, `tables`, `new_table`, `tbl_choices`, `tbl_probs`, `choice`.\n",
    "\n",
    "After you run the cell, both `tables` and `people` should be consistent with `choice`. If you need to trouble-shoot, remember to Run All Above first, so that all the variables get reset."
   ]
  },
  {
   "cell_type": "code",
   "execution_count": null,
   "metadata": {
    "#solution": false,
    "#staff": false,
    "#student": true,
    "collapsed": true
   },
   "outputs": [],
   "source": []
  },
  {
   "cell_type": "markdown",
   "metadata": {
    "#solution": false,
    "#staff": false,
    "#student": false
   },
   "source": [
    "Run the cell below to check that your code gives consistent answers for Person 2."
   ]
  },
  {
   "cell_type": "code",
   "execution_count": 13,
   "metadata": {
    "#solution": false,
    "#staff": false,
    "#student": false
   },
   "outputs": [
    {
     "data": {
      "text/plain": [
       "(2, array([1, 2]), array([1, 1]))"
      ]
     },
     "execution_count": 13,
     "metadata": {},
     "output_type": "execute_result"
    }
   ],
   "source": [
    "# Person 2's choice of table\n",
    "\n",
    "choice, tables, people"
   ]
  },
  {
   "cell_type": "markdown",
   "metadata": {
    "#solution": false,
    "#staff": false,
    "#student": false
   },
   "source": [
    "## Part 2: Code the Simulation ##"
   ]
  },
  {
   "cell_type": "markdown",
   "metadata": {
    "#solution": false,
    "#staff": false,
    "#student": false
   },
   "source": [
    "### a) ###\n",
    "Collect the code in Part 1 and use it to define a function `cr` that takes `N` and `theta` as its arguments, runs the Chinese Restaurant Process till `N` people have been seated, and returns an array of the number of people at each table in the order of table formation.\n",
    "\n",
    "- If you call your function with the arguments 1 and any positive $\\theta$, it should return the array [1]. That represents the one person seated at Table 1.\n",
    "- If you call your function with the arguments 2 and any positive $\\theta$, it should return either the array [2] if both people sit at Table 1, or [1, 1] if Person 2 starts a new table.\n",
    "- If you call your function with the arguments 3 and any positive $\\theta$, then it should return one of the following arrays: [3], [2, 1], [1, 2], [1, 1, 1].\n",
    "- And so on."
   ]
  },
  {
   "cell_type": "code",
   "execution_count": null,
   "metadata": {
    "#solution": false,
    "#staff": false,
    "#student": true,
    "collapsed": true
   },
   "outputs": [],
   "source": []
  },
  {
   "cell_type": "markdown",
   "metadata": {
    "#solution": false,
    "#staff": false,
    "#student": false
   },
   "source": [
    "### b) ###\n",
    "Perform a basic ballpark check that your function is working right: run the cell below and say whether the expression is evaluating to the right answer."
   ]
  },
  {
   "cell_type": "code",
   "execution_count": 15,
   "metadata": {
    "#solution": false,
    "#staff": false,
    "#student": false
   },
   "outputs": [
    {
     "data": {
      "text/plain": [
       "1000.0"
      ]
     },
     "execution_count": 15,
     "metadata": {},
     "output_type": "execute_result"
    }
   ],
   "source": [
    "sum(cr(1000, 1))"
   ]
  },
  {
   "cell_type": "markdown",
   "metadata": {
    "#solution": false,
    "#staff": false,
    "#student": false
   },
   "source": [
    "## Part 3: Run the Process ##"
   ]
  },
  {
   "cell_type": "markdown",
   "metadata": {
    "#solution": false,
    "#staff": false,
    "#student": false
   },
   "source": [
    "### a) ###\n",
    "Run the process with $\\theta = 1$ and 100 people. Display the simulated results a table that has two columns:\n",
    "- `Table`: The labels of the occupied tables, in order of formation, so that the first entry is 1 and the last entry is the number of tables at the end of the run.\n",
    "- `People at Table`: The number of people seated at the corresponding table.\n",
    "\n",
    "Run the cell several times to get a sense of the variability of the results."
   ]
  },
  {
   "cell_type": "code",
   "execution_count": null,
   "metadata": {
    "#solution": false,
    "#staff": false,
    "#student": true,
    "collapsed": true
   },
   "outputs": [],
   "source": [
    "N = 100\n",
    "theta = 1\n",
    "\n",
    "...\n",
    "...\n",
    "simulated_process = Table().with_columns(\n",
    "    'Table', ...,\n",
    "    'People at Table', ...\n",
    ")\n",
    "\n",
    "simulated_process.show()"
   ]
  },
  {
   "cell_type": "markdown",
   "metadata": {
    "#solution": false,
    "#staff": false,
    "#student": false
   },
   "source": [
    "### b) ### \n",
    "\n",
    "Now, pass your results into `visualize_cr` to visualize the process."
   ]
  },
  {
   "cell_type": "code",
   "execution_count": null,
   "metadata": {
    "#solution": false,
    "#staff": false,
    "#student": true,
    "collapsed": true
   },
   "outputs": [],
   "source": [
    "visualize_cr(cr(N, theta))"
   ]
  },
  {
   "cell_type": "markdown",
   "metadata": {
    "#solution": false,
    "#staff": false,
    "#student": false
   },
   "source": [
    "### c) ###\n",
    "Repeat Part (b) for varying values of $N$ and $\\theta$. Be sure to try $N = 100, 1000$, and $10000$ with $\\theta = 0.5, 1,$ and $2$. Keep your eye on the number of tables as well as the distribution of people across tables."
   ]
  },
  {
   "cell_type": "code",
   "execution_count": null,
   "metadata": {
    "#solution": false,
    "#staff": false,
    "#student": true,
    "collapsed": true
   },
   "outputs": [],
   "source": []
  },
  {
   "cell_type": "markdown",
   "metadata": {
    "#solution": false,
    "#staff": false,
    "#student": false
   },
   "source": [
    "### d) ###\n",
    "Give a brief qualitative description of what you have seen in the simulations for $N = 100$ and $\\theta = 0.5, 1$, and $2$. Address questions such as:\n",
    "- Are there lots of tables, not many, or is it not possible to tell?\n",
    "- Is the distribution of the number of people pretty uniform across the tables? If not, describe what you see about the number of big and small clusters.\n",
    "- In what way does $\\theta$ make a difference? Or is it not possible to tell?"
   ]
  },
  {
   "cell_type": "markdown",
   "metadata": {
    "#solution": false,
    "#staff": false,
    "#student": true
   },
   "source": [
    "\n",
    "**Your answer here**"
   ]
  },
  {
   "cell_type": "markdown",
   "metadata": {
    "#solution": false,
    "#staff": false,
    "#student": false
   },
   "source": [
    "## Part 4: Empirical Distribution of the Number of Tables ##"
   ]
  },
  {
   "cell_type": "markdown",
   "metadata": {
    "#solution": false,
    "#staff": false,
    "#student": false
   },
   "source": [
    "### a) ###\n",
    "\n",
    "Define a function `num_tables` that takes `N`, `theta`, and `repetitions` (the number of times to simulate the process) as its arguments. In each repetition, the function runs the Chinese Restaurant Process with `N` people and counts the number of tables occupied by those people once they are all seated. The function should return an array of length `repetitions` consisting of the simulated table counts."
   ]
  },
  {
   "cell_type": "code",
   "execution_count": 15,
   "metadata": {
    "#solution": false,
    "#staff": false,
    "#student": true,
    "collapsed": true
   },
   "outputs": [],
   "source": [
    "def num_tables(N, theta, repetitions):\n",
    "    ...\n",
    "    ...\n",
    "    return tbls"
   ]
  },
  {
   "cell_type": "markdown",
   "metadata": {
    "#solution": false,
    "#staff": false,
    "#student": false
   },
   "source": [
    "### b) ###\n",
    "Draw the empirical histogram of the number of tables, in the case $N = 100$ and $\\theta = 1$, based on 2000 repetitions. Be prepared to wait as the simulation chugs."
   ]
  },
  {
   "cell_type": "code",
   "execution_count": null,
   "metadata": {
    "#solution": false,
    "#staff": false,
    "#student": true,
    "collapsed": true
   },
   "outputs": [],
   "source": [
    "N = 100\n",
    "theta = 1\n",
    "...\n",
    "Plot(emp_dist(simulated_table_counts))\n",
    "plt.xlabel('Number of Tables');"
   ]
  },
  {
   "cell_type": "markdown",
   "metadata": {
    "#solution": false,
    "#staff": false,
    "#student": false
   },
   "source": [
    "###  c) ###\n",
    "Draw the empirical histogram of the number of tables in the case $N = 100$ and $\\theta = 0.5$, based on 2000 repetitions. "
   ]
  },
  {
   "cell_type": "code",
   "execution_count": null,
   "metadata": {
    "#solution": false,
    "#staff": false,
    "#student": true,
    "collapsed": true
   },
   "outputs": [],
   "source": []
  },
  {
   "cell_type": "markdown",
   "metadata": {
    "#solution": false,
    "#staff": false,
    "#student": false
   },
   "source": [
    "### d) ###\n",
    "Draw the empirical histogram of the number of tables in the case $N = 100$ and $\\theta = 2$, based on 2000 repetitions. Save the array of simulated values because you will need it in Part 5."
   ]
  },
  {
   "cell_type": "code",
   "execution_count": null,
   "metadata": {
    "#solution": false,
    "#staff": false,
    "#student": true,
    "collapsed": true
   },
   "outputs": [],
   "source": []
  },
  {
   "cell_type": "markdown",
   "metadata": {
    "#solution": false,
    "#staff": false,
    "#student": false
   },
   "source": [
    "### e) ###\n",
    "Are the empirical histograms above consistent with the your answers to Part 3(d)? "
   ]
  },
  {
   "cell_type": "markdown",
   "metadata": {
    "#solution": false,
    "#staff": false,
    "#student": true
   },
   "source": [
    "\n",
    "**Your answer here**"
   ]
  },
  {
   "cell_type": "markdown",
   "metadata": {
    "#solution": false,
    "#staff": false,
    "#student": false,
    "collapsed": true
   },
   "source": [
    "## Part 5: Expectation and SD of the Number of Tables ##"
   ]
  },
  {
   "cell_type": "markdown",
   "metadata": {
    "#solution": false,
    "#staff": false,
    "#student": false
   },
   "source": [
    "### a) (on paper)###\n",
    "Fix a positive integer $N$ and suppose the process is run till $N$ people have been seated. Let $T_N$ be the number of tables. Find $E(T_N)$.\n",
    "\n",
    "[It is helpful to note that the number of tables is equal to the number of people who started new tables.]"
   ]
  },
  {
   "cell_type": "markdown",
   "metadata": {
    "#solution": false,
    "#staff": false,
    "#student": false
   },
   "source": [
    "### b) ###\n",
    "Calculate your answer in Part (a) in the case $\\theta = 2$ and $N = 100$, and compare it with the mean of the simulated values in Part 4(d)."
   ]
  },
  {
   "cell_type": "code",
   "execution_count": null,
   "metadata": {
    "#solution": false,
    "#staff": false,
    "#student": true,
    "collapsed": true
   },
   "outputs": [],
   "source": []
  },
  {
   "cell_type": "code",
   "execution_count": 47,
   "metadata": {
    "#solution": false,
    "#staff": false,
    "#student": false
   },
   "outputs": [
    {
     "data": {
      "text/plain": [
       "(8.414, 8.39455701547726)"
      ]
     },
     "execution_count": 47,
     "metadata": {},
     "output_type": "execute_result"
    }
   ],
   "source": [
    "simulated_mean = np.mean(simulated_table_counts)\n",
    "\n",
    "def calc_E_T_n(N, theta):\n",
    "    E_T_n = 0\n",
    "    for n in range(1, N + 1):\n",
    "        E_T_n += theta / (n - 1 + theta)\n",
    "    return E_T_n\n",
    "\n",
    "simulated_mean, calc_E_T_n(100, 2)"
   ]
  },
  {
   "cell_type": "markdown",
   "metadata": {
    "#solution": false,
    "#staff": false,
    "#student": true
   },
   "source": [
    "\n",
    "**Type your answer here**"
   ]
  },
  {
   "cell_type": "markdown",
   "metadata": {
    "#solution": false,
    "#staff": false,
    "#student": false
   },
   "source": [
    "### c) ###\n",
    "The sum $\\sum_{i=1}^k 1/i$ grows slowly with $k$, and is roughly $\\log(k)$ for large $k$. Set $\\theta = 2$. On the same graph, plot as a function of $N$ in the range 100 to 5000:\n",
    "- Your answer to Part (a).\n",
    "- $\\theta \\log(N)$.\n",
    "\n",
    "The graphs should justify the statement, \"The number of tables grows like $\\theta \\log(N)$, to a rough approximation.\""
   ]
  },
  {
   "cell_type": "code",
   "execution_count": null,
   "metadata": {
    "#solution": false,
    "#staff": false,
    "#student": true,
    "collapsed": true
   },
   "outputs": [],
   "source": []
  },
  {
   "cell_type": "markdown",
   "metadata": {
    "#solution": false,
    "#staff": false,
    "#student": false
   },
   "source": [
    "### d) (on paper)###\n",
    "For $N$ any positive integer and $\\theta > 0$, find $SD(T_N)$. "
   ]
  },
  {
   "cell_type": "markdown",
   "metadata": {
    "#solution": false,
    "#staff": false,
    "#student": false
   },
   "source": [
    "### e) ###\n",
    "Calculate your answer in Part (d) in the case $\\theta = 2$ and $N = 100$, and compare it with the SD of the simulated values in Part 4(d)."
   ]
  },
  {
   "cell_type": "code",
   "execution_count": null,
   "metadata": {
    "#solution": false,
    "#staff": false,
    "#student": true,
    "collapsed": true
   },
   "outputs": [],
   "source": []
  },
  {
   "cell_type": "markdown",
   "metadata": {
    "#solution": false,
    "#staff": false,
    "#student": false,
    "collapsed": true
   },
   "source": [
    "$T_n$ is said to have a [Poisson Binomial](https://en.wikipedia.org/wiki/Poisson_binomial_distribution) distribution. The shape of the histograms should remind you of both the binomial and the Poisson histograms."
   ]
  },
  {
   "cell_type": "markdown",
   "metadata": {
    "#solution": false,
    "#staff": false,
    "#student": false
   },
   "source": [
    "## Conclusion ##\n",
    "What you have learned:\n",
    "- The assumptions of a clustering model in which individuals aren't labeled by type ahead of time and the number of clusters is unknown\n",
    "- How to simulate data under this model\n",
    "- An empirical approximation to the distribution of the total number of clusters\n",
    "- Exact values of the mean and SD of the number of clusters, and the rate at which the mean grows"
   ]
  },
  {
   "cell_type": "code",
   "execution_count": null,
   "metadata": {
    "#solution": false,
    "#staff": false,
    "#student": false
   },
   "outputs": [],
   "source": [
    "import gsExport\n",
    "gsExport.generateSubmission(\"Lab_11.ipynb\")"
   ]
  }
 ],
 "metadata": {
  "anaconda-cloud": {},
  "checksums": [
   "b0aefbc0a2143213357738234b5b70f0",
   "9affefe8ae3c7314d1edab81dbb1b9b4",
   "a3ef1978bbfdc6794891cb60d02ce4b4",
   "9268307fe88bccecf76ba78028f9ff79",
   "85005fecd4483333bd2bced4f820e40b",
   "e67e0ff3baac6bd09e1781de705b0c1e",
   "f2de394ebc27de88aaf38cbeab20d682",
   "bea9c288dd85cd4535dff62383a48da2",
   "13c887204b23800c225116b230cc912a",
   "cb497f787498d4ad968d6ebb655c13b5",
   "02a3e2adadbcd4d605799b47eb0de789",
   "c713e997e3291f0f609542a53ed864e7",
   "009c86fdd909adeaf82b24eb615969c6",
   "2966e15d007e6648109a989b66000024",
   "58d03dc146031aeba216cfc829af77f8",
   "55f03ff4a4a7c96740e59ba4d079ef61",
   "de991113d6a3e08218b3722ba4fea0f2",
   "fcf6bd598c90f3ba9a9c7ce536004465",
   "b325ac7ef862152a25ff68ac7cb70323",
   "a57bdfb5d3f306c3c657b63c474835d4",
   "34066d3809ebf76dbc14b94690eeaec5",
   "cf8d3e6baf6d72d7959bc6c916ca4558",
   "493bd6ca29e968453825cebbcd1080d4",
   "94ab48e71eadb01b935b65e1874ac62c",
   "922d72801955e8124f8af66d79bb87e4",
   "e26b9bf05f880228940bf2cd914577df",
   "d41d8cd98f00b204e9800998ecf8427e",
   "9ca4005a41385bcd90803bc2843cc78c",
   "070a8af2aec68b49481197279bb9b0d9",
   "7dc48af5b716ff7bf6482534ba77de39",
   "6babceb32429344efbd26c87bdd9d8be",
   "d41d8cd98f00b204e9800998ecf8427e",
   "3275be589b448cbad6d04d05312bf600",
   "308fe69f2f7085d2fcf54f138b58ff19",
   "76fa6685cbd7cc3d42be5cc7342d57d2",
   "231732f0ff8f01895bab3e2dd4d0ba85",
   "7afb84d63514a78cdc365435d23f7628",
   "9872fe796464d0c17130adf41a486f21",
   "528756151ffb4a68c3fd61299cd61927",
   "61d71b7ea432daa0400d0515faa17ecc",
   "d41d8cd98f00b204e9800998ecf8427e",
   "19b635df82bf2cf3203827f2c3b80b1e",
   "0de20b93bb878d597e59213991465648",
   "fc0bcf5c6e50a7bc9668b24841e5970f",
   "d154b8d0c58d14f906f000e6107018af",
   "eb1e6c42c3f7db68917c54ab13e088e7",
   "ad1f283497b9c3d9c8ab2bfdb4675e5f",
   "4146cf0488daa1d5ea79713285d46e02",
   "d72da9bb8aeb2136f9ded8b06f126690",
   "d41d8cd98f00b204e9800998ecf8427e",
   "1ea5867066fd886a51cba2dca3014152",
   "d41d8cd98f00b204e9800998ecf8427e",
   "1d82d5ba260d7a02f0e30f84aafb1222",
   "0de20b93bb878d597e59213991465648",
   "f63c917a25e6cf0d6b8bc9b7ca926154",
   "cc55552fd19b6c417d3a0afff1920589",
   "63f39a75fd4934dafe3d708cb97a8a1a",
   "d41d8cd98f00b204e9800998ecf8427e",
   "639f31286e1a60b174a96559ed43e497",
   "f0a24ca68edd689b85506f194461f018",
   "75318fa45bac8b8e47d06439b1b2ad37",
   "d41d8cd98f00b204e9800998ecf8427e",
   "c7bbd0bdc5e455dfc77358513b273d17",
   "71122f2ea9d3455a8662f7261bbf38e1",
   "d41d8cd98f00b204e9800998ecf8427e",
   "248cbb16760c667788e212dca67acbae",
   "c94e986794650559a180c18bd0e79c39",
   "7ed4de0b2d4c4992525335d56218b4f9"
  ],
  "kernelspec": {
   "display_name": "Python 3",
   "language": "python",
   "name": "python3"
  },
  "language_info": {
   "codemirror_mode": {
    "name": "ipython",
    "version": 3
   },
   "file_extension": ".py",
   "mimetype": "text/x-python",
   "name": "python",
   "nbconvert_exporter": "python",
   "pygments_lexer": "ipython3",
   "version": "3.6.4"
  },
  "number_of_pagebreaks": 0
 },
 "nbformat": 4,
 "nbformat_minor": 1
}
