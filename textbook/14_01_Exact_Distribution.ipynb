{
 "cells": [
  {
   "cell_type": "code",
   "execution_count": 1,
   "metadata": {
    "collapsed": true
   },
   "outputs": [],
   "source": [
    "# HIDDEN\n",
    "from datascience import *\n",
    "from prob140 import *\n",
    "import numpy as np\n",
    "import matplotlib.pyplot as plt\n",
    "plt.style.use('fivethirtyeight')\n",
    "%matplotlib inline\n",
    "from scipy import stats"
   ]
  },
  {
   "cell_type": "markdown",
   "metadata": {},
   "source": [
    "## Exact Distribution ##"
   ]
  },
  {
   "cell_type": "markdown",
   "metadata": {},
   "source": [
    "We already know how to find the distribution of the sum of any two discrete random variables. \n",
    "\n",
    "$$\n",
    "P(X+Y = k) = \\sum_j P(X=j, Y=k-j)\n",
    "$$\n",
    "\n",
    "If $X$ and $Y$ are independent, this simplifies to become the *discrete convolution formula*:\n",
    "\n",
    "$$\n",
    "P(X+Y = k) = \\sum_j P(X=j)P(Y=k-j)\n",
    "$$\n",
    "\n",
    "By induction, we can extend this to the sum of any finite number of independent variables. \n",
    "\n",
    "So in principle, we know how to find the distribution of the sum of $n$ independent random variables for $n > 1$. However, this method can be hard to put into practice for large $n$. \n",
    "\n",
    "In this section we examine another way of approaching the problem of finding the distribution of a sum. It is easier to automate, as you will see, though it too comes up against computational barriers eventually."
   ]
  },
  {
   "cell_type": "markdown",
   "metadata": {},
   "source": [
    "### Probability Generating Function ###\n",
    "Let $X$ be a random variable with possible values $0, 1, 2, \\ldots, N$ for\n",
    "some fixed integer $N$. For brevity, let $p_k = P(X = k)$ for $k$ in the range 0 through $N$.\n",
    "\n",
    "Define the *probability generating function* (pgf) of $X$ as\n",
    "\n",
    "$$\n",
    "G_X(s) ~  = ~ \\sum_{k=0}^N p_ks^k, ~~~ -\\infty < s < \\infty\n",
    "$$\n",
    "\n",
    "For the extension to random variables with infinitely many non-negative integer values, see the Technical Note at the end of the section.\n",
    "\n",
    "The definition above says that for any $s$,\n",
    "$$\n",
    "G_X(s) ~ = ~ p_0 + p_1s + p_2s^2 + p_3s^3 + \\cdots + p_Ns^N\n",
    "$$\n",
    "\n",
    "You can see that $G_X$ is a polynomial of degree $N$, and that the coefficient of $s^k$ is $p_k = P(X=k)$.\n",
    "\n",
    "So if you were given the pgf of a random variable, you could read off the distribution of the random variable by simply listing all the powers and the corresponding coefficients.\n",
    "\n",
    "To see how this might help us find the distribution of a sum, observe that for every $s$, the value $G_X(s)$ is an expectation:\n",
    "\n",
    "$$\n",
    "G_X(s) ~ = ~ \\sum_{k=0}^N s^kP(X=k) ~ = ~ E(s^X)\n",
    "$$\n",
    "\n",
    "Therefore, if $X$ and $Y$ are independent non-negative integer valued random variables, then for every $s$,\n",
    "\n",
    "$$\n",
    "G_{X+Y}(s) ~ = ~ E(s^{X+Y}) ~ = ~ E(s^X s^Y) ~ = ~ E(s^X)E(s^Y)\n",
    "~ = ~ G_X(s)G_Y(s)\n",
    "$$\n",
    "\n",
    "We have used the fact that for independent random variables, the expectation of the product is the product of the expectations. \n",
    "\n",
    "The result says that the pgf of the sum of two independent random variables is the product of the two pgfs. This extends easily to more than two random variables and yields a simple formula for the pgf of the sum of i.i.d. variables."
   ]
  },
  {
   "cell_type": "markdown",
   "metadata": {},
   "source": [
    "### PGF of the Sum of an IID Sample ###\n",
    "Let $X_1, X_2, \\ldots, X_n$ be i.i.d. with a distribution on $0, 1, 2, \\ldots, N$. Let $S_n = X_1 + X_2 + \\cdots + X_n$. Then the probability generating function of $S_n$ is\n",
    "\n",
    "$$\n",
    "G_{S_n}(s) ~ = ~ \\big{(}G_{X_1}(s)\\big{)}^n, ~~~ -\\infty < s < \\infty\n",
    "$$\n",
    "\n",
    "Because $G_{X_1}$ is a polynomial of degree $N$, $G_{S_n}$ is a polynomial of degree $nN$. As with any pgf, the coefficient of $s^k$ is the chance of $k$. That is, for every $k$ in the range 0 through $nN$,\n",
    "\n",
    "$$\n",
    "P(S_n = k) = \\text{coefficient of } s^k \\text{ in } G_{S_n}(s)\n",
    "$$\n",
    "\n",
    "We now have an algorithm for finding the distribution of $S_n$.\n",
    "\n",
    "- Start with the pgf of $X_1$.\n",
    "- Raise it to the power $n$. That's the pgf of $S_n$.\n",
    "- Read the distribution of $S_n$ off the pgf.\n",
    "\n",
    "Wonderful! We're done! Except that actually doing this involves raising a polynomial to a power. That is a daunting task if the power is large.\n",
    "\n",
    "Fortunately, as you will see in the next section, `NumPy` comes to our rescue with a set of polynomial methods."
   ]
  },
  {
   "cell_type": "markdown",
   "metadata": {
    "collapsed": true
   },
   "source": [
    "**Technical Note.** We have defined the probability generating function for random variables that have finitely many non-negative integer values. The definition can be extended to random variables that have infinitely many non-negative integer values. But in that case the pgf is an infinite series and we have to be careful about convergence. Typically the pgf is defined only on the domain $|s| \\le 1$ so that it converges."
   ]
  },
  {
   "cell_type": "code",
   "execution_count": null,
   "metadata": {
    "collapsed": true
   },
   "outputs": [],
   "source": []
  }
 ],
 "metadata": {
  "kernelspec": {
   "display_name": "Python [Root]",
   "language": "python",
   "name": "Python [Root]"
  },
  "language_info": {
   "codemirror_mode": {
    "name": "ipython",
    "version": 3
   },
   "file_extension": ".py",
   "mimetype": "text/x-python",
   "name": "python",
   "nbconvert_exporter": "python",
   "pygments_lexer": "ipython3",
   "version": "3.5.2"
  }
 },
 "nbformat": 4,
 "nbformat_minor": 0
}
