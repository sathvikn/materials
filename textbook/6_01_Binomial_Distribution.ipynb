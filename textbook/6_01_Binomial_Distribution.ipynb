{
 "cells": [
  {
   "cell_type": "code",
   "execution_count": 6,
   "metadata": {
    "collapsed": true
   },
   "outputs": [],
   "source": [
    "# HIDDEN\n",
    "from datascience import *\n",
    "from prob140 import *\n",
    "import numpy as np\n",
    "import matplotlib.pyplot as plt\n",
    "plt.style.use('fivethirtyeight')\n",
    "%matplotlib inline\n",
    "import math\n",
    "from scipy import stats"
   ]
  },
  {
   "cell_type": "markdown",
   "metadata": {},
   "source": [
    "## The Binomial Distribution ##"
   ]
  },
  {
   "cell_type": "markdown",
   "metadata": {},
   "source": [
    "Let $X_1, X_2, \\ldots , X_n$ be i.i.d. Bernoulli $(p)$ random variables and let $S_n = X_1 + X_2 \\ldots + X_n$. That's a formal way of saying:\n",
    "- Suppose you have a fixed number $n$ of success/failure trials; and\n",
    "- the trials are independent; and\n",
    "- on each trial, the probability of success is $p$.\n",
    "- Let $S_n$ be the total number of successes.\n",
    "\n",
    "The first goal of this section is to find the distribution of $S_n$. \n",
    "\n",
    "In the example that we fixed our minds on earlier, we are counting the number of sixes in 7 rolls of a die. The 7 rolls are independent of each other, the chance of \"success\" (getting a six) is $1/6$ on each trial, and $S_7$ is the number of sixes.\n",
    "\n",
    "The first step in finding the distribution of any random variable is to identify the possible values of the variable. In $n$ trials, the smallest number of successes you can have is 0 and the largest is $n$. So the set of possible values of $S_n$ is $\\{0, 1, 2, \\ldots , n\\}$.\n",
    "\n",
    "Thus the number of sixes in 7 rolls can be any integer in the 0 through 7 range. Let's find $P(S_7 = 3)$.\n",
    "\n",
    "Partition the event $\\{S_7 = 3\\}$ into the different ways it can happen. One way can be denoted SSSFFFF, where S denotes \"success\" (or \"six\"), and F denotes failure. Another is SFFSSFF. And so on.\n",
    "\n",
    "Now notice that \n",
    "\n",
    "$$\n",
    "P(\\text{SSSFFFF}) = \n",
    "\\big{(}\\frac{1}{6}\\big{)}^3 \\big{(}\\frac{5}{6}\\big{)}^4\n",
    "= P(\\text{SFFSSFF})\n",
    "$$\n",
    "by independence. Indeed, any sequence of three S's and four F's has the same probability. So by the addition rule,\n",
    "\n",
    "\\begin{align*}\n",
    "P(S_7 = 3) &= \\text{(number of sequences that have three S and four F)} \\cdot \\big{(}\\frac{1}{6}\\big{)}^3 \\big{(}\\frac{5}{6}\\big{)}^4 \\\\ \\\\\n",
    "&= \\binom{7}{3} \\big{(}\\frac{1}{6}\\big{)}^3 \\big{(}\\frac{5}{6}\\big{)}^4\n",
    "\\end{align*}\n",
    "\n",
    "because $\\binom{7}{3}$ counts the number of ways you can choose 3 places out of 7 in which to put the symbol S, with the remaining 4 places being filled with F.\n",
    "\n",
    "An analogous argument leads us to one of the most important distributions in probability theory."
   ]
  },
  {
   "cell_type": "markdown",
   "metadata": {},
   "source": [
    "### The Binomial $(n, p)$ Distribution ###\n",
    "Let $S_n$ be the number of successes in $n$ independent Bernoulli $(p)$ trials. Then $S_n$ has the *binomial distribution with parameters $n$ and $p$*, defined by\n",
    "\n",
    "$$\n",
    "P(S_n = k) = \\binom{n}{k} p^k (1-p)^{n-k}, ~~~ k = 0, 1, \\ldots, n\n",
    "$$\n",
    "\n",
    "Parameters of a distribution are constants associated with it. The Bernoulli $(p)$ distribution has parameter $p$. The binomial distribution defined above has parameters $n$ and $p$ and is referred to as the binomial $(n, p)$ distribution for short. You should check that the Bernoulli $(p)$ distribution is the same as the binomial $(1, p)$ distribution.\n",
    "\n",
    "Before we get going on calculations with the binomial distribution, let's make a few observations.\n",
    "\n",
    "- The functional form of the probabilities is symmetric in successes and failures, because\n",
    "\n",
    "$$\n",
    "P(S_n = k) = \\frac{n!}{k!(n-k)!} p^k (1-p)^{n-k}, ~~~ k = 0, 1, \\ldots, n\n",
    "$$\n",
    "\n",
    "That's \"number of trials factorial; divided by number of successes factorial times number of failures factorial; times the probability of success to the power number of successes; times the probability of failure to the power number of failures.\"\n",
    "\n",
    "- The formula makes sense for the edge cases $k=0$ and $k=n$. We can calculate $P(S_n = 0)$ without any of the machinery developed above. It's the chance of no successes, which is the chance of all failures, which is $(1-p)^n$. Our formula says\n",
    "$$\n",
    "P(S_n = 0) = \\frac{n!}{0!(n-0)!} p^0 (1-p)^{n-0} = (1-p)^n\n",
    "$$\n",
    "after all the dust clears in the formula; the first two factors are both 1. You can check that $P(S_n = n) = p^n$, the\n",
    "chance that all the trials are successes.\n",
    "\n",
    "Remember that $0! = 1$ by definition. In part, it is defined that way to make the formula for $\\binom{n}{k}$ work out correctly when $k=0$. \n",
    "\n",
    "- The probabilities in the distribution sum to 1. To see this, recall that for any two numbers $a$ and $b$,\n",
    "\n",
    "\\begin{align*}\n",
    "(a+b)^2 &= a^2 + 2ab + b^2 \\\\\n",
    "(a+b)^3 &= a^3 + 3a^2b + 3ab^2 + b^3 \\\\\n",
    "\\ldots \\\\\n",
    "(a+b)^n &= \\sum_{k=0}^n \\binom{n}{k} a^k b^{n-k}\n",
    "\\end{align*}\n",
    "\n",
    "by the *binomial expansion* of $(a+b)^n$. The numbers $\\binom{n}{k}$ are the elements of Pascal's triangle, as you will have seen in a math class.\n",
    "\n",
    "Plug in $a = p$ and $b = 1-p$ and notice that the terms in the sum are exactly the binomial probabilities we defined above. So the sum of the probabilities is\n",
    "\n",
    "$$\n",
    "\\sum_{k=0}^n \\binom{n}{k} p^k (1-p)^{n-k}\n",
    "~ = ~ \\big{(} p + (1-p) \\big{)}^n ~ = ~ 1^n ~ = ~ 1\n",
    "$$"
   ]
  },
  {
   "cell_type": "markdown",
   "metadata": {},
   "source": [
    "### Binomial Probabilities in Python ###\n",
    "`SciPy` is a system for scientific computing, based on Python. The `stats` submodule of `scipy` does numerous calculations in probability and statistics. We will be importing it at the start of every notebook from now on."
   ]
  },
  {
   "cell_type": "code",
   "execution_count": 1,
   "metadata": {
    "collapsed": true
   },
   "outputs": [],
   "source": [
    "from scipy import stats"
   ]
  },
  {
   "cell_type": "markdown",
   "metadata": {},
   "source": [
    "The function `stats.binom.pmf` takes three arguments: $k$, $n$, and $p$, in that order. It returns the numerical value of $P(S_n = k)$ For short, we will say that the function returns the binomial $(n, p)$ probability of $k$.\n",
    "\n",
    "The acronym \"pmf\" stands for \"probability mass function\" which as we have noted earlier is sometimes used as another name for the distribution of a variable that has finitely many values.\n",
    "\n",
    "The chance of 3 sixes in 7 rolls of a die is\n",
    "$\\binom{7}{3}(1/6)^3(5/6)^4$ by the binomial formula, which works out to about 8% by the calculation below."
   ]
  },
  {
   "cell_type": "code",
   "execution_count": 2,
   "metadata": {
    "collapsed": false
   },
   "outputs": [
    {
     "data": {
      "text/plain": [
       "0.078142861225422938"
      ]
     },
     "execution_count": 2,
     "metadata": {},
     "output_type": "execute_result"
    }
   ],
   "source": [
    "stats.binom.pmf(3, 7, 1/6)"
   ]
  },
  {
   "cell_type": "markdown",
   "metadata": {},
   "source": [
    "You can also specify an array or list of values of $k$, and `stats.binom.pmf` will return an array consisting of all their probabilities."
   ]
  },
  {
   "cell_type": "code",
   "execution_count": 3,
   "metadata": {
    "collapsed": false
   },
   "outputs": [
    {
     "data": {
      "text/plain": [
       "array([ 0.23442858,  0.07814286,  0.01562857])"
      ]
     },
     "execution_count": 3,
     "metadata": {},
     "output_type": "execute_result"
    }
   ],
   "source": [
    "stats.binom.pmf([2, 3, 4], 7, 1/6)"
   ]
  },
  {
   "cell_type": "markdown",
   "metadata": {},
   "source": [
    "Thus to find $P(2 \\le S_7 \\le 4)$, you can use"
   ]
  },
  {
   "cell_type": "code",
   "execution_count": 4,
   "metadata": {
    "collapsed": false
   },
   "outputs": [
    {
     "data": {
      "text/plain": [
       "0.32820001714677649"
      ]
     },
     "execution_count": 4,
     "metadata": {},
     "output_type": "execute_result"
    }
   ],
   "source": [
    "sum(stats.binom.pmf([2, 3, 4], 7, 1/6))"
   ]
  },
  {
   "cell_type": "markdown",
   "metadata": {},
   "source": [
    "### Binomial Histograms ###\n",
    "To visualize binomial distributions we will use the `prob140` method `Plot`, by first using `stats.binom.pmf` to calculate the binomial probabilities. The cell below plots the distribution of $S_7$ above. Notice how we start by specifying all the possible values of $S_7$ in the array `k`."
   ]
  },
  {
   "cell_type": "code",
   "execution_count": 7,
   "metadata": {
    "collapsed": false
   },
   "outputs": [
    {
     "data": {
      "image/png": "[encoded data removed]",
      "text/plain": [
       "<matplotlib.figure.Figure at 0x115aa7240>"
      ]
     },
     "metadata": {},
     "output_type": "display_data"
    }
   ],
   "source": [
    "n = 7\n",
    "p = 1/6\n",
    "k = np.arange(n+1)\n",
    "binom_7_1_6 = stats.binom.pmf(k, n, p)\n",
    "binom_7_1_6_dist = Table().values(k).probability(binom_7_1_6)\n",
    "Plot(binom_7_1_6_dist)"
   ]
  },
  {
   "cell_type": "markdown",
   "metadata": {},
   "source": [
    "Not surprisingly, the graph shows that in 7 rolls of a die you are most likely to get around 1 six.\n",
    "\n",
    "This distribution is not symmetric, as you would expect. But something interesting happens to the distribution of the number of sixes when you increase the number of rolls."
   ]
  },
  {
   "cell_type": "code",
   "execution_count": 8,
   "metadata": {
    "collapsed": false
   },
   "outputs": [
    {
     "data": {
      "image/png": "[encoded data removed]",
      "text/plain": [
       "<matplotlib.figure.Figure at 0x117ec3400>"
      ]
     },
     "metadata": {},
     "output_type": "display_data"
    }
   ],
   "source": [
    "n = 600\n",
    "p = 1/6\n",
    "k = np.arange(n+1)\n",
    "binom_600_1_6 = stats.binom.pmf(k, n, p)\n",
    "binom_600_1_6_dist = Table().values(k).probability(binom_600_1_6)\n",
    "Plot(binom_600_1_6_dist)"
   ]
  },
  {
   "cell_type": "markdown",
   "metadata": {},
   "source": [
    "This distribution is close to symmetric, even though the die has only a 1/6 chance of showing a six.\n",
    "\n",
    "Also notice that while the the *possible* values of the number of sixes range from 0 to 600, the *probable* values are in a much smaller range. The `plt.xlim` function allows us to zoom in on the probable values. The semicolon is just to prevent Python giving us a message that clutters up the graph. The `edges=True` option forces `Plot` to draw lines separating the bars; by default, it stops doing that if the number of bars is large."
   ]
  },
  {
   "cell_type": "code",
   "execution_count": 13,
   "metadata": {
    "collapsed": false
   },
   "outputs": [
    {
     "data": {
      "image/png": "[encoded data removed]",
      "text/plain": [
       "<matplotlib.figure.Figure at 0x1180cf400>"
      ]
     },
     "metadata": {},
     "output_type": "display_data"
    }
   ],
   "source": [
    "Plot(binom_600_16_dist, edges=True)\n",
    "plt.xlim(70, 130);"
   ]
  },
  {
   "cell_type": "markdown",
   "metadata": {},
   "source": [
    "But the binomial $(n, p)$ distribution doesn't always look bell shaped if $n$ is large.\n",
    "\n",
    "Something quite different happens if for example your random variable is the number of successes in 600 independent trials that have probability 1/600 of success on each trial. Then the distribution of the number of successes is binomial $(600, 1/600)$, which looks like this:"
   ]
  },
  {
   "cell_type": "code",
   "execution_count": 9,
   "metadata": {
    "collapsed": false
   },
   "outputs": [
    {
     "data": {
      "image/png": "[encoded data removed]",
      "text/plain": [
       "<matplotlib.figure.Figure at 0x1182ea898>"
      ]
     },
     "metadata": {},
     "output_type": "display_data"
    }
   ],
   "source": [
    "n = 600\n",
    "p = 1/600\n",
    "k = np.arange(n+1)\n",
    "binom_600_1_600 = stats.binom.pmf(k, n, p)\n",
    "binom_600_1_600_dist = Table().values(k).probability(binom_600_1_600)\n",
    "Plot(binom_600_1_600_dist)"
   ]
  },
  {
   "cell_type": "markdown",
   "metadata": {},
   "source": [
    "We really can't see that at all! Let's zoom in. When we set the limits on the horizontal axis, we have to account for the bar at 0 being centered at the 0 and hence starting at -0.5."
   ]
  },
  {
   "cell_type": "code",
   "execution_count": 8,
   "metadata": {
    "collapsed": false
   },
   "outputs": [
    {
     "data": {
      "image/png": "[encoded data removed]",
      "text/plain": [
       "<matplotlib.figure.Figure at 0x117d5e320>"
      ]
     },
     "metadata": {},
     "output_type": "display_data"
    }
   ],
   "source": [
    "Plot(binom_600_1_600_dist, edges=True)\n",
    "plt.xlim(-1, 10);"
   ]
  },
  {
   "cell_type": "markdown",
   "metadata": {},
   "source": [
    "Now you can see that in 600 independent trials with probability 1/600 of success on each trial, you are most likely to get no successes or 1 success. There is some chance that you get 2 through 4 successes, but the chance of any number of successes greater than 4 is barely visible on the scale of the graph.\n",
    "\n",
    "Clearly, the shape of the histogram is determined by both $n$ and $p$. We will study the shape carefully in an upcoming section. But first let's see some numerical examples of using the binomial distribution."
   ]
  },
  {
   "cell_type": "code",
   "execution_count": null,
   "metadata": {
    "collapsed": true
   },
   "outputs": [],
   "source": []
  }
 ],
 "metadata": {
  "anaconda-cloud": {},
  "kernelspec": {
   "display_name": "Python [Root]",
   "language": "python",
   "name": "Python [Root]"
  },
  "language_info": {
   "codemirror_mode": {
    "name": "ipython",
    "version": 3
   },
   "file_extension": ".py",
   "mimetype": "text/x-python",
   "name": "python",
   "nbconvert_exporter": "python",
   "pygments_lexer": "ipython3",
   "version": "3.5.2"
  }
 },
 "nbformat": 4,
 "nbformat_minor": 0
}
