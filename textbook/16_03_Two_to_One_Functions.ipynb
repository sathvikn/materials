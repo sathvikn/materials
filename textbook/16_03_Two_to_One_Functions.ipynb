{
 "cells": [
  {
   "cell_type": "code",
   "execution_count": 1,
   "metadata": {
    "collapsed": true
   },
   "outputs": [],
   "source": [
    "# HIDDEN\n",
    "from datascience import *\n",
    "from prob140 import *\n",
    "import numpy as np\n",
    "import matplotlib.pyplot as plt\n",
    "plt.style.use('fivethirtyeight')\n",
    "%matplotlib inline\n",
    "import math\n",
    "from scipy import stats"
   ]
  },
  {
   "cell_type": "markdown",
   "metadata": {},
   "source": [
    "## Two-to-One Functions ##"
   ]
  },
  {
   "cell_type": "markdown",
   "metadata": {},
   "source": [
    "Let $X$ have density $f_X$. As you have seen, the random variable $Y = X^2$ comes up frequently in calculations. Thus far, all we have needed is $E(Y)$ which can be found by the formula for the expectation of a non-linear function of $X$. To find the density of $Y$, we can't directly use the change of variable formula of the previous section because the function $g(x) = x^2$ is not monotone. It is two-to-one because both $\\sqrt{x}$ and $-\\sqrt{x}$ have the same square.\n",
    "\n",
    "In this section we will find the density of $Y$ by developing a modification of the change of variable formula for the density of a monotone function of $X$. The modification extends in a straightforward manner to other two-to-one functions and also to many-to-one functions."
   ]
  },
  {
   "cell_type": "markdown",
   "metadata": {},
   "source": [
    "### Density of $Y = X^2$ ###\n",
    "If $X$ can take both positive and negative values, we have to account for the fact that there are two mutually exclusive ways in which the event $\\{ Y \\in dy \\}$ can happen: either $X$ has to be near the positive square root of $y$ or near the negative square root of $y$."
   ]
  },
  {
   "cell_type": "code",
   "execution_count": 26,
   "metadata": {
    "collapsed": false
   },
   "outputs": [
    {
     "data": {
      "image/png": "[encoded data removed]",
      "text/plain": [
       "<matplotlib.figure.Figure at 0x1185baef0>"
      ]
     },
     "metadata": {},
     "output_type": "display_data"
    }
   ],
   "source": [
    "# HIDDEN\n",
    "\n",
    "x = np.arange(-5, 5.01, 0.01)\n",
    "y = x ** 2\n",
    "y_star = 12\n",
    "x_star = y_star ** 0.5\n",
    "neg_x_star = -1 * y_star ** 0.5\n",
    "plt.plot(x, y, color='darkblue', lw=2)\n",
    "plt.plot([0, 0], [0, 25], color='k', lw=1)\n",
    "plt.plot([x_star, x_star], [0, y_star], color='k', lw=2)\n",
    "plt.plot([neg_x_star, neg_x_star], [0, y_star], color='k', lw=2)\n",
    "plt.plot([neg_x_star, x_star], [y_star, y_star], color='k', lw=2)\n",
    "plt.scatter(2, y_star, marker='>', color='red', s=40)\n",
    "plt.scatter(-2, y_star, marker='<', color='red', s=40)\n",
    "plt.scatter(-2, y_star, marker='<', color='red', s=40)\n",
    "plt.scatter(neg_x_star, 5, marker='v', color='red', s=40)\n",
    "plt.scatter(x_star, 5, marker='v', color='red', s=40)\n",
    "plt.ylim(-0.5, 25)\n",
    "plt.xticks(np.arange(-5, 5.1))\n",
    "plt.xlabel('$x$')\n",
    "plt.ylabel('$y$', rotation=0)\n",
    "plt.title('$y = x^2$');"
   ]
  },
  {
   "cell_type": "markdown",
   "metadata": {},
   "source": [
    "So the density of $Y$ at $y$ has two components, as follows. For $y > 0$,\n",
    "\n",
    "$$\n",
    "f_Y(y) ~ = ~ a + b\n",
    "$$\n",
    "where\n",
    "$$\n",
    "a = f_X(x_1)\\cdot \\frac{1}{2x_1} ~~~~ \\text{at } x_1 = \\sqrt{y}\n",
    "$$\n",
    "and\n",
    "$$\n",
    "b = f_X(x_2)\\cdot \\frac{1}{\\vert 2x_2 \\vert} ~~~~ \\text{at } x_2 = -\\sqrt{y}\n",
    "$$\n",
    "\n",
    "We have used $g'(x) = 2x$ when $g(x) = x^2$.\n",
    "\n",
    "For a more formal approach, start with the cdf of $Y$:\n",
    "\n",
    "\\begin{align*}\n",
    "F_Y(y) ~ &= ~ P(Y \\le y) \\\\\n",
    "&= ~ P(\\vert X \\vert \\le \\sqrt{y}) \\\\\n",
    "&= ~ P(-\\sqrt{y} \\le X \\le \\sqrt{y}) \\\\\n",
    "&= ~ F_X(\\sqrt{y}) - F_X(-\\sqrt{y})\n",
    "\\end{align*}\n",
    "\n",
    "Differentiate both sides to get our formula for $f_Y(y)$; keep an eye on the two minus signs in the second term and make sure you combine them correctly.\n",
    "\n",
    "This approach can be extended to any many-to-one function $g$. For every $y$, there will be one component for each value of $x$ such that $g(x) = y$."
   ]
  },
  {
   "cell_type": "markdown",
   "metadata": {},
   "source": [
    "### Square of the Standard Normal ###\n",
    "Let $Z$ be standard normal and let $W = Z^2$. The possible values of $W$ are non-negative. For a possible value $w \\ge 0$, the formula we have derived says that the density of $W$ is given by:\n",
    "\n",
    "\\begin{align*}\n",
    "f_W(w) ~ &= ~ f_Z(\\sqrt{w})\\cdot \\frac{1}{2\\sqrt{w}} ~ + ~ f_Z(-\\sqrt{w})\\cdot \\frac{1}{2\\sqrt{w}} \\\\ \\\\\n",
    "&= ~ \\frac{1}{\\sqrt{2\\pi}} e^{-\\frac{1}{2}w} \\cdot \\frac{1}{2\\sqrt{w}} ~ + ~ \\frac{1}{\\sqrt{2\\pi}} e^{-\\frac{1}{2}w} \\cdot \\frac{1}{2\\sqrt{w}} \\\\ \\\\\n",
    "&= \\frac{1}{\\sqrt{2\\pi}} w^{-\\frac{1}{2}} e^{-\\frac{1}{2}w}\n",
    "\\end{align*}\n",
    "\n",
    "By algebra, the density can be written in an equivalent form that we will use more frequently.\n",
    "\n",
    "$$\n",
    "f_W(w) ~ = ~ \\frac{\\frac{1}{2}^{\\frac{1}{2}}}{\\sqrt{\\pi}} w^{\\frac{1}{2} - 1} e^{-\\frac{1}{2}w}\n",
    "$$\n",
    "\n",
    "This is a member of the family of *gamma* densities that we will study later in the course. In statistics, it is called the *chi squared density with one degree of freedom*."
   ]
  },
  {
   "cell_type": "code",
   "execution_count": null,
   "metadata": {
    "collapsed": true
   },
   "outputs": [],
   "source": []
  }
 ],
 "metadata": {
  "kernelspec": {
   "display_name": "Python [Root]",
   "language": "python",
   "name": "Python [Root]"
  },
  "language_info": {
   "codemirror_mode": {
    "name": "ipython",
    "version": 3
   },
   "file_extension": ".py",
   "mimetype": "text/x-python",
   "name": "python",
   "nbconvert_exporter": "python",
   "pygments_lexer": "ipython3",
   "version": "3.5.2"
  }
 },
 "nbformat": 4,
 "nbformat_minor": 0
}
