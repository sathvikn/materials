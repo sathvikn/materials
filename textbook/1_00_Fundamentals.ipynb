{
 "cells": [
  {
   "cell_type": "code",
   "execution_count": 1,
   "metadata": {
    "collapsed": true
   },
   "outputs": [],
   "source": [
    "# HIDDEN\n",
    "from datascience import *\n",
    "from prob140 import *\n",
    "%matplotlib inline\n",
    "import matplotlib.pyplot as plt\n",
    "plt.style.use('fivethirtyeight')\n",
    "import numpy as np"
   ]
  },
  {
   "cell_type": "markdown",
   "metadata": {},
   "source": [
    "# Fundamentals #"
   ]
  },
  {
   "cell_type": "markdown",
   "metadata": {},
   "source": [
    "Exactly what probabilities are has been the subject of contentious debate. Some people think that probabilities are long-run frequencies that only apply to events that can happen over and over again under identical conditions. Others think that probabilities quantify an individual's subjective degree of uncertainty about events of any kind and can vary across individuals. Still others don't fall rigidly into either of those groups.\n",
    "\n",
    "Arguments about the meaning of probability led the great probabilist [Jimmie Savage](https://en.wikipedia.org/wiki/Leonard_Jimmie_Savage) (1917-1971) to observe caustically that \"[A]s to what probability is ... there has seldom been such complete disagreement and breakdown of communication since the Tower of Babel.\"\n",
    "\n",
    "These days, the divide between frequentists and subjectivists is not as wide as it once was. In Prob140 you are welcome to make your own decision about what you think probabilities mean. \n",
    "\n",
    "Regardless of the philosophical debate, the fundamental ways in which probabilities combine are best understood by thinking about proportions. That's what we will explore in the first two chapters. Let's start by introducing some of the standard terminology of probability theory."
   ]
  },
  {
   "cell_type": "code",
   "execution_count": null,
   "metadata": {
    "collapsed": true
   },
   "outputs": [],
   "source": []
  }
 ],
 "metadata": {
  "anaconda-cloud": {},
  "kernelspec": {
   "display_name": "Python [Root]",
   "language": "python",
   "name": "Python [Root]"
  },
  "language_info": {
   "codemirror_mode": {
    "name": "ipython",
    "version": 3
   },
   "file_extension": ".py",
   "mimetype": "text/x-python",
   "name": "python",
   "nbconvert_exporter": "python",
   "pygments_lexer": "ipython3",
   "version": "3.5.2"
  }
 },
 "nbformat": 4,
 "nbformat_minor": 0
}
