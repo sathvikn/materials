{
 "cells": [
  {
   "cell_type": "code",
   "execution_count": 2,
   "metadata": {
    "collapsed": true
   },
   "outputs": [],
   "source": [
    "# HIDDEN\n",
    "from datascience import *\n",
    "from prob140 import *\n",
    "import numpy as np\n",
    "import matplotlib.pyplot as plt\n",
    "plt.style.use('fivethirtyeight')\n",
    "%matplotlib inline\n",
    "import math\n",
    "from scipy import stats\n",
    "from scipy import misc"
   ]
  },
  {
   "cell_type": "markdown",
   "metadata": {},
   "source": [
    "## Expectations of Functions ##"
   ]
  },
  {
   "cell_type": "markdown",
   "metadata": {},
   "source": [
    "Once we start using random variables as estimators, we will want to see how far the estimate is from a desired value. For example, we might want to see how far a random variable $X$ is from the number 10. That's a function of $X$. Let's call it $Y$. Then\n",
    "\n",
    "$$\n",
    "Y = |X - 10|\n",
    "$$\n",
    "\n",
    "which is not a linear function. To find $E(Y)$, we need a bit more technique. Throughout, we will assume that all the expectations that we are discussing are well defined.\n",
    "\n",
    "This section is about finding the expectation of a function of a random variable whose distribution you know.\n",
    "\n",
    "In what follows, let $X$ be a random variable whose distribution (and hence also expectation) are known."
   ]
  },
  {
   "cell_type": "markdown",
   "metadata": {},
   "source": [
    "### Linear Function Rule ###\n",
    "Let $Y = aX + b$ for some constants $a$ and $b$. In an earlier section we showed that\n",
    "\n",
    "$$\n",
    "E(Y) = aE(X) + b\n",
    "$$\n",
    "\n",
    "This includes the case where $a=0$ and thus $Y$ is just the constant $b$ and thus has expectation $b$."
   ]
  },
  {
   "cell_type": "markdown",
   "metadata": {},
   "source": [
    "### Non-linear Function Rule ###\n",
    "Now let $Y = g(X)$ where $g$ is any numerical function. Remember that $X$ is a function on $\\Omega$. So the function that defines the random variable $Y$ is a *composition*:\n",
    "\n",
    "$$\n",
    "Y(\\omega) = (g \\circ X) (\\omega) ~~~~~~~~~ \\text{for } \\omega \\in \\Omega\n",
    "$$\n",
    "\n",
    "This allows us to write $E(Y)$ in three equivalent ways:\n",
    "\n",
    "#### On the range of $Y$ ####\n",
    "$$\n",
    "E(Y) =  \\sum_{\\text{all }y} yP(Y=y)\n",
    "$$\n",
    "\n",
    "#### On the domain $\\Omega$ ####\n",
    "$$\n",
    "E(Y) = E(g(X)) = \\sum_{\\omega \\in \\Omega} (g \\circ X) (\\omega) P(\\omega)\n",
    "$$\n",
    "\n",
    "#### On the range of $X$ ####\n",
    "$$\n",
    "E(Y) = E(g(X)) = \\sum_{\\text{all }x} g(x)P(X=x)\n",
    "$$\n",
    "\n",
    "As before, it is a straightforward matter of grouping to show that all the forms are equivalent.\n",
    "\n",
    "The first form looks the simplest, but there's a catch: you need to first find $P(Y=y)$. The second form involves an unnecessarily high level of detail.\n",
    "\n",
    "The third form is the one to use. It uses the known distribution of $X$. It says that to find $E(Y)$ where $Y = g(X)$ for some function $g$:\n",
    "- Take a generic value $x$ of $X$.\n",
    "- Apply $g$ to $x$; this $g(x)$ is a generic value of $Y$.\n",
    "- Weight $g(x)$ by $P(X=x)$, which is known.\n",
    "- Do this for all $x$ and add. The sum is $E(Y)$.\n",
    "\n",
    "The crucial thing to note about this method is that **we didn't have to first find the distribution of $Y$**. That saves us a lot of work. Let's see how our method works in some examples."
   ]
  },
  {
   "cell_type": "markdown",
   "metadata": {},
   "source": [
    "### Example 1: $Y = |X-3|$ ###\n",
    "Let $X$ have a distribution we worked with earlier:"
   ]
  },
  {
   "cell_type": "code",
   "execution_count": 3,
   "metadata": {
    "collapsed": false
   },
   "outputs": [
    {
     "data": {
      "text/html": [
       "<table border=\"1\" class=\"dataframe\">\n",
       "    <thead>\n",
       "        <tr>\n",
       "            <th>x</th> <th>P(X=x)</th>\n",
       "        </tr>\n",
       "    </thead>\n",
       "    <tbody>\n",
       "        <tr>\n",
       "            <td>1   </td> <td>0.15  </td>\n",
       "        </tr>\n",
       "    </tbody>\n",
       "        <tr>\n",
       "            <td>2   </td> <td>0.25  </td>\n",
       "        </tr>\n",
       "    </tbody>\n",
       "        <tr>\n",
       "            <td>3   </td> <td>0.3   </td>\n",
       "        </tr>\n",
       "    </tbody>\n",
       "        <tr>\n",
       "            <td>4   </td> <td>0.2   </td>\n",
       "        </tr>\n",
       "    </tbody>\n",
       "        <tr>\n",
       "            <td>5   </td> <td>0.1   </td>\n",
       "        </tr>\n",
       "    </tbody>\n",
       "</table>"
      ],
      "text/plain": [
       "x    | P(X=x)\n",
       "1    | 0.15\n",
       "2    | 0.25\n",
       "3    | 0.3\n",
       "4    | 0.2\n",
       "5    | 0.1"
      ]
     },
     "execution_count": 3,
     "metadata": {},
     "output_type": "execute_result"
    }
   ],
   "source": [
    "x = np.arange(1, 6)\n",
    "probs = make_array(0.15, 0.25, 0.3, 0.2, 0.1)\n",
    "dist = Table().values(x).probability(probs)\n",
    "dist = dist.relabel('Value', 'x').relabel('Probability', 'P(X=x)')\n",
    "dist"
   ]
  },
  {
   "cell_type": "markdown",
   "metadata": {},
   "source": [
    "Let $g$ be the function defined by $g(x) = |x-3|$, and let $Y = g(X)$. In other words, $Y = |X - 3|$. \n",
    "\n",
    "To calculate $E(Y)$, we first have to create a column that transforms the values of $X$ into values of $Y$:"
   ]
  },
  {
   "cell_type": "code",
   "execution_count": 4,
   "metadata": {
    "collapsed": false
   },
   "outputs": [
    {
     "data": {
      "text/html": [
       "<table border=\"1\" class=\"dataframe\">\n",
       "    <thead>\n",
       "        <tr>\n",
       "            <th>x</th> <th>g(x)</th> <th>P(X=x)</th>\n",
       "        </tr>\n",
       "    </thead>\n",
       "    <tbody>\n",
       "        <tr>\n",
       "            <td>1   </td> <td>2   </td> <td>0.15  </td>\n",
       "        </tr>\n",
       "    </tbody>\n",
       "        <tr>\n",
       "            <td>2   </td> <td>1   </td> <td>0.25  </td>\n",
       "        </tr>\n",
       "    </tbody>\n",
       "        <tr>\n",
       "            <td>3   </td> <td>0   </td> <td>0.3   </td>\n",
       "        </tr>\n",
       "    </tbody>\n",
       "        <tr>\n",
       "            <td>4   </td> <td>1   </td> <td>0.2   </td>\n",
       "        </tr>\n",
       "    </tbody>\n",
       "        <tr>\n",
       "            <td>5   </td> <td>2   </td> <td>0.1   </td>\n",
       "        </tr>\n",
       "    </tbody>\n",
       "</table>"
      ],
      "text/plain": [
       "x    | g(x) | P(X=x)\n",
       "1    | 2    | 0.15\n",
       "2    | 1    | 0.25\n",
       "3    | 0    | 0.3\n",
       "4    | 1    | 0.2\n",
       "5    | 2    | 0.1"
      ]
     },
     "execution_count": 4,
     "metadata": {},
     "output_type": "execute_result"
    }
   ],
   "source": [
    "dist_with_Y = dist.with_column('g(x)', np.abs(dist.column('x')-3)).move_to_end('P(X=x)')\n",
    "\n",
    "dist_with_Y"
   ]
  },
  {
   "cell_type": "markdown",
   "metadata": {},
   "source": [
    "To get $E(Y)$, find the appropriate weighed average: multiply the `g(x)` and `P(X=x)` columns, and add. The calculation shows that $E(Y) = 0.95$."
   ]
  },
  {
   "cell_type": "code",
   "execution_count": 6,
   "metadata": {
    "collapsed": false
   },
   "outputs": [
    {
     "data": {
      "text/plain": [
       "0.94999999999999996"
      ]
     },
     "execution_count": 6,
     "metadata": {},
     "output_type": "execute_result"
    }
   ],
   "source": [
    "ev_Y = sum(dist_with_Y.column('g(x)') * dist_with_Y.column('P(X=x)'))\n",
    "ev_Y"
   ]
  },
  {
   "cell_type": "markdown",
   "metadata": {},
   "source": [
    "### Example 2: $Y = \\min(X, 3)$ ###\n",
    "Let $X$ be as above, but now let $Y = \\min(X, 3)$. We want $E(Y)$. What we know is the distribution of $X$:"
   ]
  },
  {
   "cell_type": "code",
   "execution_count": 17,
   "metadata": {
    "collapsed": false
   },
   "outputs": [
    {
     "data": {
      "text/html": [
       "<table border=\"1\" class=\"dataframe\">\n",
       "    <thead>\n",
       "        <tr>\n",
       "            <th>x</th> <th>P(X=x)</th>\n",
       "        </tr>\n",
       "    </thead>\n",
       "    <tbody>\n",
       "        <tr>\n",
       "            <td>1   </td> <td>0.15  </td>\n",
       "        </tr>\n",
       "    </tbody>\n",
       "        <tr>\n",
       "            <td>2   </td> <td>0.25  </td>\n",
       "        </tr>\n",
       "    </tbody>\n",
       "        <tr>\n",
       "            <td>3   </td> <td>0.3   </td>\n",
       "        </tr>\n",
       "    </tbody>\n",
       "        <tr>\n",
       "            <td>4   </td> <td>0.2   </td>\n",
       "        </tr>\n",
       "    </tbody>\n",
       "        <tr>\n",
       "            <td>5   </td> <td>0.1   </td>\n",
       "        </tr>\n",
       "    </tbody>\n",
       "</table>"
      ],
      "text/plain": [
       "x    | P(X=x)\n",
       "1    | 0.15\n",
       "2    | 0.25\n",
       "3    | 0.3\n",
       "4    | 0.2\n",
       "5    | 0.1"
      ]
     },
     "execution_count": 17,
     "metadata": {},
     "output_type": "execute_result"
    }
   ],
   "source": [
    "dist"
   ]
  },
  {
   "cell_type": "markdown",
   "metadata": {},
   "source": [
    "To find $E(Y)$ we can just go row by row and replace the value of $x$ by the value of $\\min(x, 3)$, and then find the weighted average:"
   ]
  },
  {
   "cell_type": "code",
   "execution_count": 18,
   "metadata": {
    "collapsed": false
   },
   "outputs": [
    {
     "data": {
      "text/plain": [
       "2.45"
      ]
     },
     "execution_count": 18,
     "metadata": {},
     "output_type": "execute_result"
    }
   ],
   "source": [
    "ev_Y = 1*0.15 + 2*0.25 + 3*0.3 + 3*0.2 + 3*0.1\n",
    "ev_Y"
   ]
  },
  {
   "cell_type": "markdown",
   "metadata": {},
   "source": [
    "### Example 3: $E(X^2)$ for a Poisson Variable $X$ ###\n",
    "Let $X$ have the Poisson $(\\mu)$ distribution. You will see in the next chapter that it will be useful to know the value of $E(X^2)$. By our non-linear function rule,\n",
    "\n",
    "$$\n",
    "E(X^2) = \\sum_{k=0}^\\infty k^2 e^{-\\mu} \\frac{\\mu^k}{k!}\n",
    "$$\n",
    "\n",
    "This sum turns out to be hard to simplify. The term for $k=0$ is 0. In each term for $k \\ge 1$, one of the $k$'s in the numerator cancels a $k$ in the denominator but the other factor of $k$ in the numerator remains. It would be so nice if that factor $k$ were $k-1$ instead, so it could cancel $k-1$ in the denominator.\n",
    "\n",
    "This motivates the following calculation. No matter what $X$ is, if we know $E(X)$ and can find $E(X(X-1))$, then we can use additivity to find $E(X^2)$ as follows:\n",
    "\n",
    "$$\n",
    "E(X(X-1)) = E(X^2 - X) = E(X^2) - E(X) \n",
    "$$\n",
    "\n",
    "so\n",
    "$$\n",
    "E(X^2) = E(X(X-1)) + E(X)\n",
    "$$\n",
    "\n",
    "Let's see if we can find $E(X(X-1))$ by applying the non-linear function rule.\n",
    "\n",
    "\\begin{align*}\n",
    "E(X(X-1)) &= \\sum_{k=0}^\\infty k(k-1) e^{-\\mu} \\frac{\\mu^k}{k!} \\\\ \\\\\n",
    "&= e^{-\\mu} \\mu^2 \\sum_{k=2}^\\infty \\frac{\\mu^{k-2}}{(k-2)!} \\\\ \\\\\n",
    "&= e^{-\\mu}\\mu^2 e^\\mu \\\\ \\\\\n",
    "&= \\mu^2\n",
    "\\end{align*}\n",
    "\n",
    "We know that $E(X) = \\mu$, so\n",
    "\n",
    "$$\n",
    "E(X^2) = \\mu^2 + \\mu\n",
    "$$\n",
    "\n",
    "Notice that $E(X^2) > (E(X))^2$. This is an instance of a general fact. Later in the course we will see why it matters.\n",
    "\n",
    "For now, as an exercise, see if you can find $E(X(X-1)(X-2))$ and hence $E(X^3)$."
   ]
  },
  {
   "cell_type": "code",
   "execution_count": null,
   "metadata": {
    "collapsed": true
   },
   "outputs": [],
   "source": []
  }
 ],
 "metadata": {
  "anaconda-cloud": {},
  "kernelspec": {
   "display_name": "Python [Root]",
   "language": "python",
   "name": "Python [Root]"
  },
  "language_info": {
   "codemirror_mode": {
    "name": "ipython",
    "version": 3
   },
   "file_extension": ".py",
   "mimetype": "text/x-python",
   "name": "python",
   "nbconvert_exporter": "python",
   "pygments_lexer": "ipython3",
   "version": "3.5.2"
  }
 },
 "nbformat": 4,
 "nbformat_minor": 0
}
