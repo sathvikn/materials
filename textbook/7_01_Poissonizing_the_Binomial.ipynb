{
 "cells": [
  {
   "cell_type": "code",
   "execution_count": 1,
   "metadata": {
    "collapsed": true
   },
   "outputs": [],
   "source": [
    "# HIDDEN\n",
    "from datascience import *\n",
    "from prob140 import *\n",
    "import numpy as np\n",
    "import matplotlib.pyplot as plt\n",
    "plt.style.use('fivethirtyeight')\n",
    "%matplotlib inline\n",
    "import math\n",
    "from scipy import stats"
   ]
  },
  {
   "cell_type": "markdown",
   "metadata": {},
   "source": [
    "## Poissonizing the Binomial ##"
   ]
  },
  {
   "cell_type": "markdown",
   "metadata": {},
   "source": [
    "The families of distributions that data scientists tend to use most are those that arise out of natural assumptions about the randomness in the data. These distribution families also have mathematical properties that give rise to illuminating answers to questions about the data. The binomial and Poisson families are among these.\n",
    "\n",
    "In this section we will study some more properties of the Poisson family, including another remarkable connection that it has with the binomial family."
   ]
  },
  {
   "cell_type": "markdown",
   "metadata": {},
   "source": [
    "### Sums of Independent Poisson Variables ###\n",
    "Let $X$ have the Poisson ($\\mu$) distribution, and let $Y$ independent of $X$ have the Poisson ($\\lambda$) distribution. Then the sum $S = X+Y$ has the Poisson ($\\mu + \\lambda$) distribution.\n",
    "\n",
    "To prove this, first notice that the possible values of $S$ are the non-negative integers.  For a non-negative integer $s$, find $P(S = s)$ by partitioning the event according to values of $X$, keeping in mind that both $X$ and $Y$ have to be non-negative because both are Poisson.\n",
    "\n",
    "\\begin{align*}\n",
    "P(S = s) &= \\sum_{k=0}^s P(X=k, Y=s-k) \\\\\n",
    "&= \\sum_{k=0}^s e^{-\\mu} \\frac{\\mu^k}{k!} \\cdot e^{-\\lambda} \\frac{\\lambda^{s-k}}{(s-k)!} \\\\\n",
    "&= e^{-(\\mu+\\lambda)} \\frac{1}{s!} \\sum_{k=0}^s\n",
    "\\frac{s!}{k!(s-k)!} \\mu^k \\lambda^{s-k} \\\\\n",
    "&= e^{-(\\mu+\\lambda)} \\frac{(\\mu+\\lambda)^s}{s!}\n",
    "\\end{align*}\n",
    "\n",
    "by the binomial expansion of $(\\mu+\\lambda)^s$. This is the Poisson $(\\mu + \\lambda)$ probability formula for the value $s$.\n",
    "\n",
    "One important application of this result is that if $X_1, X_2, \\ldots , X_n$ are i.i.d. Poisson $(\\mu)$ variables, then their sum $X_1 + X_2 + \\ldots + X_n$ has the Poisson $(n\\mu)$ distribution.\n"
   ]
  },
  {
   "cell_type": "markdown",
   "metadata": {},
   "source": [
    "### Randomizing the Number of Bernoulli Trials ###\n",
    "Suppose $N_H$ is the number of heads in 100 tosses of a coin, and $N_T$ the number of tails. Then $N_H$ and $N_T$ are far from independent. They are linear functions of each other because $N_T = 100 - N_H$. \n",
    "\n",
    "The same is true of any fixed number of tosses: if you know the number of heads, then you also know the number of tails. \n",
    "\n",
    "In any fixed number of Bernoulli trials, the number of successes and the number of failures are heavily dependent. If you know one, you know the other.\n",
    "\n",
    "However, something remarkable happens when the *number of trials is itself random and has a Poisson distribution.* After we see what happens, we will be able to understand why it matters.\n",
    "\n",
    "Let $N$ have the Poisson $(\\mu)$ distribution, let $S$ be the number of successes in $N$ i.i.d. Bernoulli $(p)$ trials. More formally: \n",
    "- Given $N = 0$, define $S$ to be 0 with probability 1. Given that there are no trials, there are also no successes.\n",
    "- For $n \\ge 1$, let the conditional distribution of $S$ given $N = n$ be binomial $(n, p)$.\n",
    "\n",
    "Then the joint distribution of $N$ and $S$ is given by:\n",
    "\n",
    "$$\n",
    "P(N=n, S=s) ~ = ~ e^{-\\mu}\\frac{\\mu^n}{n!} \\cdot \n",
    "\\frac{n!}{s!(n-s)!} p^s(1-p)^{n-s}, ~~ 0 \\le s \\le n\n",
    "$$\n",
    "\n",
    "You should check that the formula is correct when $n=0$.\n",
    "\n",
    "We can sum the terms in this joint distribution appropriately to get the marginal distribution of $S$."
   ]
  },
  {
   "cell_type": "markdown",
   "metadata": {},
   "source": [
    "### A Poisson Number of Successes ###\n",
    "The possible values of $S$ are $0, 1, 2, \\ldots $ with no upper limit because there is no upper limit on the possible values of $N$. For $s \\ge 0$,\n",
    "\n",
    "\\begin{align*}\n",
    "P(S = s) &= \\sum_{n=s}^\\infty P(N=n, S=s) \\\\ \\\\\n",
    "&= \\sum_{n=s}^\\infty e^{-\\mu}\\frac{\\mu^n}{n!} \\cdot \n",
    "\\frac{n!}{s!(n-s)!} p^sq^{n-s} ~~~~ \\text{where } q = 1-p \\\\ \\\\\n",
    "&= e^{-\\mu} \\frac{\\mu^sp^s}{s!} \\sum_{n=s}^\\infty\n",
    "\\frac{\\mu^{n-s}q^{n-s}}{(n-s)!} \\\\ \\\\\n",
    "&= e^{-\\mu} \\frac{(\\mu p)^s}{s!} \\sum_{n=s}^\\infty\n",
    "\\frac{(\\mu q)^{n-s}}{(n-s)!} \\\\ \\\\\n",
    "&= e^{-\\mu} \\frac{(\\mu p)^s}{s!} \\sum_{j=0}^\\infty\n",
    "\\frac{(\\mu q)^j}{j!} \\\\ \\\\\n",
    "&= e^{-\\mu} \\frac{(\\mu p)^s}{s!} e^{\\mu q} \\\\ \\\\\n",
    "&= e^{-\\mu p} \\frac{(\\mu p)^s}{s!} ~~ \\text{because } \\mu p+ \\mu q = \\mu\n",
    "\\end{align*}\n",
    "\n",
    "Thus the distribution of $S$ is Poisson with parameter $\\mu p$.\n",
    "\n",
    "Notice what we have just proved. If the number of trials $n$ is fixed, you know that the distribution of the number of successes is binomial $(n, p)$. But if the the number of trials is random with a Poisson $(\\mu)$ distribution, then the distribution of the number of successes is Poisson $(\\mu p)$. This is a major step in *Poissonizing* the binomial.\n",
    "\n",
    "The best is yet to come, but let's take a moment to look at the result numerically. Suppose you run a Poisson $(12)$ number of i.i.d. Bernoulli $(1/3)$ trials. Then the number of trials is most likely to be somewhere around 12, but you can't say exactly what it will be because it's random. What we have shown is that the number of successes is Poisson with parameter $12 \\times \\frac{1}{3} = 4$.\n",
    "\n",
    "The parameter 4 is not hard to understand intuitively. You're most likely to see around 12 trials, and about 1/3 of them are going to be successes, so you're most likely to see around 4 successes."
   ]
  },
  {
   "cell_type": "markdown",
   "metadata": {},
   "source": [
    "### Successes and Failures are Independent ###\n",
    "Yes, you read that right. If you run a Poisson number of i.i.d. Bernoulli trials, then the number of successes and the number of failures are *independent*.\n",
    "\n",
    "Randomizing parameters (in this case the number of trials) can have a drastic effect on the relations between random variables.\n",
    "\n",
    "Let's prove our result, and then we will see a way in which it is used.\n",
    "\n",
    "Suppose as before that we are running $N$ i.i.d. Bernoulli $(p)$ trials, where $N$ has the Poisson $(\\mu)$ distribution. Also as before, let $S$ be the number of successes. \n",
    "\n",
    "Now let $F$ be the number of failures.\n",
    "Then the distribution of $F$ is Poisson $(\\mu q)$ where $q = 1-p$. This follows by redefining \"success\" as \"failure\" in our previous argument.\n",
    "\n",
    "The joint distribution of $S$ and $F$ is\n",
    "\n",
    "\\begin{align*} \n",
    "P(S = s, F = f) &= P(N = s+f, S = s) \\\\ \\\\\n",
    "&= e^{-\\mu} \\frac{\\mu^{s+f}}{(s+f)!} \\frac{(s+f)!}{s!f!} p^s q^f \\\\ \\\\\n",
    "&= \\big{(} e^{-\\mu p} \\frac{ (\\mu p)^s}{s!} \\big{)} \n",
    "\\big{(} e^{-\\mu q} \\frac{ (\\mu q)^f}{f!} \\big{)} \\\\ \\\\\n",
    "&= P(S = s)P(F = f)\n",
    "\\end{align*}\n",
    "\n",
    "This shows that $S$ and $F$ are independent."
   ]
  },
  {
   "cell_type": "markdown",
   "metadata": {},
   "source": [
    "### Summary: Poissonization of the Binomial ###\n",
    "Suppose you run $N$ i.i.d. Bernoulli $(p)$ trials, where $N$ has the Poisson $(\\mu)$ distribution. Let $S$ be the number of successes and $F$ the number of failures, and let $q = 1-p$. Then:\n",
    "- $S$ has the Poisson $(\\mu p)$ distribution.\n",
    "- $F$ has the Poisson $(\\mu q)$ distribution.\n",
    "- $S$ and $F$ are independent.\n",
    "\n",
    "For example, suppose 90% of the individuals in a population are of Class A and 10% are of Class B. Suppose you choose a sample of $N$ people so that $N$ has the Poisson $(20)$ distribution and the choices are i.i.d. Then in your sample, the number of people of Class A has the Poisson $(18)$ distribution, the number in Class B has the Poisson $(2)$ distribution, and the counts in the two classes are independent.\n",
    "\n",
    "Thus for example the chance that each class appears at least five times in your sample is\n",
    "\n",
    "$$\n",
    "\\big{(} \\sum_{i=5}^\\infty e^{-{18}} \\frac{18^i}{i!} \\big{)}\n",
    "\\big{(} \\sum_{j=5}^\\infty e^{-{2}} \\frac{2^j}{j!} \\big{)}\n",
    "~ = ~ \n",
    "\\big{(}1 - \\sum_{i=0}^4 e^{-{18}} \\frac{18^i}{i!} \\big{)}\n",
    "\\big{(}1- \\sum_{j=0}^4 e^{-{2}} \\frac{2^j}{j!} \\big{)}\n",
    "$$\n",
    "\n",
    "Numerically, this is about 5%."
   ]
  },
  {
   "cell_type": "code",
   "execution_count": 2,
   "metadata": {
    "collapsed": false
   },
   "outputs": [
    {
     "data": {
      "text/plain": [
       "0.052648585218160585"
      ]
     },
     "execution_count": 2,
     "metadata": {},
     "output_type": "execute_result"
    }
   ],
   "source": [
    "(1 - stats.poisson.cdf(4, 18))*(1 - stats.poisson.cdf(4, 2))"
   ]
  },
  {
   "cell_type": "markdown",
   "metadata": {},
   "source": [
    "Already remarkable when there are two classes in the population, Poissonization really helps simplify calculations when there are three or more classes, as we will see in the next section."
   ]
  },
  {
   "cell_type": "code",
   "execution_count": null,
   "metadata": {
    "collapsed": true
   },
   "outputs": [],
   "source": []
  }
 ],
 "metadata": {
  "kernelspec": {
   "display_name": "Python [Root]",
   "language": "python",
   "name": "Python [Root]"
  },
  "language_info": {
   "codemirror_mode": {
    "name": "ipython",
    "version": 3
   },
   "file_extension": ".py",
   "mimetype": "text/x-python",
   "name": "python",
   "nbconvert_exporter": "python",
   "pygments_lexer": "ipython3",
   "version": "3.5.2"
  }
 },
 "nbformat": 4,
 "nbformat_minor": 0
}
