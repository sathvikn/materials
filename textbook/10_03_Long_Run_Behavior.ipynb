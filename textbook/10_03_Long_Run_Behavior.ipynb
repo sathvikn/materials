{
 "cells": [
  {
   "cell_type": "code",
   "execution_count": 2,
   "metadata": {
    "collapsed": true
   },
   "outputs": [],
   "source": [
    "# HIDDEN\n",
    "from datascience import *\n",
    "from prob140 import *\n",
    "import numpy as np\n",
    "import matplotlib.pyplot as plt\n",
    "plt.style.use('fivethirtyeight')\n",
    "%matplotlib inline\n",
    "import math\n",
    "from scipy import stats\n",
    "from scipy import misc"
   ]
  },
  {
   "cell_type": "code",
   "execution_count": 7,
   "metadata": {
    "collapsed": false
   },
   "outputs": [],
   "source": [
    "# HIDDEN\n",
    "s = np.arange(1, 6)\n",
    "\n",
    "def refl_walk_probs(i, j):\n",
    "    # staying in the same state\n",
    "    if i-j == 0:\n",
    "        return 0.5\n",
    "    \n",
    "    # moving left or right\n",
    "    elif 2 <= i <= 4:\n",
    "        if abs(i-j) == 1:\n",
    "            return 0.25\n",
    "        else:\n",
    "            return 0\n",
    "        \n",
    "    # moving right from 1\n",
    "    elif i == 1:\n",
    "        if j == 2:\n",
    "            return 0.5\n",
    "        else:\n",
    "            return 0\n",
    "    \n",
    "    # moving left from 5\n",
    "    elif i == 5:\n",
    "        if j == 4:\n",
    "            return 0.5\n",
    "        else:\n",
    "            return 0\n",
    "\n",
    "reflecting_walk = MarkovChain.from_transition_function(s, refl_walk_probs)"
   ]
  },
  {
   "cell_type": "markdown",
   "metadata": {},
   "source": [
    "## Long Run Behavior ##"
   ]
  },
  {
   "cell_type": "markdown",
   "metadata": {},
   "source": [
    "Every irreducible and aperiodic Markov Chain with a finite state space exhibits astonishing regularity after it has run for a while. The proof of the convergence theorem below is beyond the scope of this course, but you have seen the result by computation. All the results are true in greater generality, for some classes of Markov Chains on infinitely many states. \n",
    "\n",
    "### Convergence to Stationarity ###\n",
    "Let $X_0, X_1, \\ldots$ be an irreducible, aperiodic Markov chain on a finite state space $S$. Then for all states $i$ and $j$,\n",
    "\n",
    "$$\n",
    "P_n(i, j) \\to \\pi(j) ~~~ \\text{as } n \\to \\infty\n",
    "$$\n",
    "\n",
    "In other words, for every $i$ and $j$ in $S$, the $n$-step transition probability from $i$ to $j$ converges to a limit that does not depend on $i$. Moreover,\n",
    "\n",
    "- $\\pi(j) > 0$ for all states $j$, and\n",
    "\n",
    "- $\\sum_{j \\in S} \\pi(j) = 1$\n",
    "\n",
    "That is, as $n \\to \\infty$, every row of the $n$-step transition matrix $\\mathbb{P}^n$ converges to the same vector $\\pi$ which is a probability distribution in which all the terms are positive.\n",
    "\n",
    "### Properties of the Limit ###\n",
    "\n",
    "**(i)** The vector $\\pi$ is the unique solution of the *balance equations* $\\pi \\mathbb{P} = \\pi$.\n",
    "\n",
    "**(ii)** If for some $n$ the distribution of $X_n$ is $\\pi$, then the distribution of $X_m$ is also $\\pi$ for all $m > n$. Thus $\\pi$ is called the *stationary* or *steady state* distribution of the chain.\n",
    "\n",
    "**(iii)** For each state $j$, the $j$th entry of the $\\pi$ vector $\\pi(j)$ is the expected long run proportion of time the chain spends at $j$.\n",
    "\n",
    "We will assume that the convergence theorem is true; then the other properties follow rather easily. In the remainder of this section we will establish the properties and see how they are used.\n",
    "\n",
    "### Balance Equations ###\n",
    "Let $n \\ge 0$ and let $i$ and $j$ be two states. Then\n",
    "\n",
    "$$\n",
    "P_{n+1}(i, j) = \\sum_{k \\in S} P_n(i, k)P(k, j)\n",
    "$$\n",
    "\n",
    "Therefore\n",
    "\n",
    "\\begin{align*}\n",
    "\\lim_{n \\to \\infty} P_{n+1}(i, j) &= \\lim_{n \\to \\infty} \\sum_{k \\in S} P_n(i, k)P(k, j) \\\\ \\\\\n",
    "&= \\sum_{k \\in S} \\big{(} \\lim_{n \\to \\infty} P_n(i, k) \\big{)} P(k, j)\n",
    "\\end{align*}\n",
    "\n",
    "We can exchange the limit and the sum because $S$ is finite. Now apply the theorem on convergence to stationarity:\n",
    "\n",
    "$$\n",
    "\\pi(j) = \\sum_{k \\in S} \\pi(k)P(k, j)\n",
    "$$\n",
    "\n",
    "These are called the *balance equations*.\n",
    "\n",
    "In matrix notation, if you think of $\\pi$ as a row vector, these equations become\n",
    "\n",
    "$$\n",
    "\\pi = \\pi \\mathbb{P} ~~~~~ \\text{or, equivalently,} ~~~~~ \\pi\\mathbb{P} = \\pi\n",
    "$$\n",
    "\n",
    "This helps us compute $\\pi$ without taking limits.\n",
    "\n",
    "**Note:** The steady state isn't an element of the state space $S$. It's the condition of the chain after it has been run for a long time. Let's examine this further. "
   ]
  },
  {
   "cell_type": "markdown",
   "metadata": {},
   "source": [
    "### Balance and Steady State ###\n",
    "To see what is being \"balanced\" in these equations, imagine a large number of independent replications of this chain. For example, imagine a large number of particles that are moving among the states 1 through 5 according to the transition probabilities of the sticky reflecting walk, and suppose all the particles are moving at instants 1, 2, 3, $\\ldots$ independently of each other.\n",
    "\n",
    "Then at any instant and for any state $j$, there is some proportion of particles that is leaving $j$, and another proportion that is entering $j$. The balance equations say that those two proportions are equal.\n",
    "\n",
    "Let's check this by looking at the equations again: for any state $j$,\n",
    "\n",
    "$$\n",
    "\\pi(j) = \\sum_{k \\in S} \\pi(k)P(k, j)\n",
    "$$\n",
    "\n",
    "For every $k \\in S$ (including $k=j$), think of $\\pi(k)$ as the proportion of particles leaving state $k$ after the chain has been run a long time. Then the left hand side is the proportion leaving $j$. The generic term in the sum on the right is the proportion that left $k$ at the previous instant and are moving to $j$. The sum is all the particles entering $j$. When the two sides are equal, the chain is *balanced*. \n",
    "\n",
    "The theorem on convergence to stationarity says that the chain approaches balance as $n$ gets large. If it actually achieves balance, that is, if the distribution of $X_n$ is $\\pi$ for some $n$, then it stays balanced. The reason:\n",
    "\n",
    "$$\n",
    "P(X_{n+1} = j) = \\sum_{i \\in S} P(X_n = i)P(i, j) = \\sum_{i \\in S} \\pi(i)P(i, j) = \\pi(j)\n",
    "$$\n",
    "\n",
    "by the balance equations. Now use induction.\n",
    "\n",
    "In particular, if you start the chain with its stationary distribution $\\pi$, then the distribution of $X_n$ is $\\pi$ for every $n$."
   ]
  },
  {
   "cell_type": "markdown",
   "metadata": {},
   "source": [
    "### Uniqueness ###\n",
    "It's not very hard to show that if a probability distribution solves the balance equations, then it has to be $\\pi$, the limit of the marginal distributions of $X_n$. We won't do the proof; it essentially repeats the steps we took to derive the balance equations. You should just be aware that an irreducible, aperiodic, finite state Markov Chain has exactly one stationary distribution.\n",
    "\n",
    "This is particularly helpful if you happen to guess a solution to the balance equations. If the solution that you have guessed is a probability distribution, you have found the stationary distribution of the chain."
   ]
  },
  {
   "cell_type": "markdown",
   "metadata": {},
   "source": [
    "### Expected Long Run Proportion of Time ###\n",
    "Let $j$ be a state, and let $I_m(j)$ be the indicator of the event $\\{X_m = j\\}$. The *proportion of time the chain spends at $j$*, from time 1 through time $n$, is\n",
    "\n",
    "$$\n",
    "\\frac{1}{n} \\sum_{m=1}^n I_m(j)\n",
    "$$\n",
    "\n",
    "Therefore, the *expected proportion of time the chain spends at $j$*, given that it started at $i$, is\n",
    "\n",
    "$$\n",
    "\\frac{1}{n} \\sum_{m=1}^n E(I_m(j) \\mid X_0 = i) \n",
    "= \\frac{1}{n} \\sum_{m=1}^n P(X_m = j \\mid X_0 = i) \n",
    "= \\frac{1}{n} \\sum_{m=1}^n P_m(i, j)\n",
    "$$\n",
    "\n",
    "Now recall a property of convergent sequences of real numbers: If $x_n \\to x$ as $n \\to \\infty$, then the sequence of averages also converges to $x$:\n",
    "$$\n",
    "\\frac{1}{n} \\sum_{m=1}^n x_m \\to x ~~~ \\text{as } n \\to \\infty\n",
    "$$\n",
    "\n",
    "Take $x_n = P_n(i, j)$. Then by the theorem on convergence to stationarity,\n",
    "\n",
    "$$\n",
    "P_n(i, j) \\to \\pi(j) ~~~ \\text{as } n \\to \\infty\n",
    "$$\n",
    "and hence the averages also converge:\n",
    "$$\n",
    "\\frac{1}{n} \\sum_{m=1}^n P_m(i, j) \\to \\pi(j) ~~~ \\text{as } n \\to \\infty\n",
    "$$\n",
    "\n",
    "Thus the long run expected proportion of time the chain spends in state $j$ is $\\pi(j)$, where $\\pi$ is the stationary distribution of the chain."
   ]
  },
  {
   "cell_type": "markdown",
   "metadata": {},
   "source": [
    "### Stationary Distribution of Sticky Reflecting Walk ###\n",
    "We studied this in an earlier section. The transition diagram is\n",
    "\n",
    "![Lazy Circle Walk](trans_refl.png)\n",
    "\n",
    "Here is the transition matrix $\\mathbb{P}$."
   ]
  },
  {
   "cell_type": "code",
   "execution_count": 11,
   "metadata": {
    "collapsed": false
   },
   "outputs": [
    {
     "data": {
      "text/html": [
       "<div>\n",
       "<table border=\"1\" class=\"dataframe\">\n",
       "  <thead>\n",
       "    <tr style=\"text-align: right;\">\n",
       "      <th></th>\n",
       "      <th>1</th>\n",
       "      <th>2</th>\n",
       "      <th>3</th>\n",
       "      <th>4</th>\n",
       "      <th>5</th>\n",
       "    </tr>\n",
       "  </thead>\n",
       "  <tbody>\n",
       "    <tr>\n",
       "      <th>1</th>\n",
       "      <td>0.50</td>\n",
       "      <td>0.50</td>\n",
       "      <td>0.00</td>\n",
       "      <td>0.00</td>\n",
       "      <td>0.00</td>\n",
       "    </tr>\n",
       "    <tr>\n",
       "      <th>2</th>\n",
       "      <td>0.25</td>\n",
       "      <td>0.50</td>\n",
       "      <td>0.25</td>\n",
       "      <td>0.00</td>\n",
       "      <td>0.00</td>\n",
       "    </tr>\n",
       "    <tr>\n",
       "      <th>3</th>\n",
       "      <td>0.00</td>\n",
       "      <td>0.25</td>\n",
       "      <td>0.50</td>\n",
       "      <td>0.25</td>\n",
       "      <td>0.00</td>\n",
       "    </tr>\n",
       "    <tr>\n",
       "      <th>4</th>\n",
       "      <td>0.00</td>\n",
       "      <td>0.00</td>\n",
       "      <td>0.25</td>\n",
       "      <td>0.50</td>\n",
       "      <td>0.25</td>\n",
       "    </tr>\n",
       "    <tr>\n",
       "      <th>5</th>\n",
       "      <td>0.00</td>\n",
       "      <td>0.00</td>\n",
       "      <td>0.00</td>\n",
       "      <td>0.50</td>\n",
       "      <td>0.50</td>\n",
       "    </tr>\n",
       "  </tbody>\n",
       "</table>\n",
       "</div>"
      ],
      "text/plain": [
       "      1     2     3     4     5\n",
       "1  0.50  0.50  0.00  0.00  0.00\n",
       "2  0.25  0.50  0.25  0.00  0.00\n",
       "3  0.00  0.25  0.50  0.25  0.00\n",
       "4  0.00  0.00  0.25  0.50  0.25\n",
       "5  0.00  0.00  0.00  0.50  0.50"
      ]
     },
     "execution_count": 11,
     "metadata": {},
     "output_type": "execute_result"
    }
   ],
   "source": [
    "reflecting_walk"
   ]
  },
  {
   "cell_type": "markdown",
   "metadata": {},
   "source": [
    "The `MarkovChain` method `steady_state` returns the stationary distribution $\\pi$. You saw earlier that this is the limit of the rows of $\\mathbb{P}$."
   ]
  },
  {
   "cell_type": "code",
   "execution_count": 10,
   "metadata": {
    "collapsed": false
   },
   "outputs": [
    {
     "data": {
      "text/html": [
       "<table border=\"1\" class=\"dataframe\">\n",
       "    <thead>\n",
       "        <tr>\n",
       "            <th>Value</th> <th>Probability</th>\n",
       "        </tr>\n",
       "    </thead>\n",
       "    <tbody>\n",
       "        <tr>\n",
       "            <td>1    </td> <td>0.125      </td>\n",
       "        </tr>\n",
       "    </tbody>\n",
       "        <tr>\n",
       "            <td>2    </td> <td>0.25       </td>\n",
       "        </tr>\n",
       "    </tbody>\n",
       "        <tr>\n",
       "            <td>3    </td> <td>0.25       </td>\n",
       "        </tr>\n",
       "    </tbody>\n",
       "        <tr>\n",
       "            <td>4    </td> <td>0.25       </td>\n",
       "        </tr>\n",
       "    </tbody>\n",
       "        <tr>\n",
       "            <td>5    </td> <td>0.125      </td>\n",
       "        </tr>\n",
       "    </tbody>\n",
       "</table>"
      ],
      "text/plain": [
       "Value | Probability\n",
       "1     | 0.125\n",
       "2     | 0.25\n",
       "3     | 0.25\n",
       "4     | 0.25\n",
       "5     | 0.125"
      ]
     },
     "execution_count": 10,
     "metadata": {},
     "output_type": "execute_result"
    }
   ],
   "source": [
    "reflecting_walk.steady_state()"
   ]
  },
  {
   "cell_type": "markdown",
   "metadata": {},
   "source": [
    "We could also solve for $\\pi$ using the balance equations. While this might seem superfluous given that Python has already given us $\\pi$, it is good practice for when transition matrices are larger and not numerical.\n",
    "\n",
    "According to the balance equations,\n",
    "\n",
    "$$\n",
    "\\pi(1) = \\sum_{k=1}^s \\pi(k)P(k, 1)\n",
    "$$\n",
    "\n",
    "That is, we're multiplying $\\pi$ by the `1` column of $\\mathbb{P}$ and adding. So\n",
    "\n",
    "$$\n",
    "\\pi(1) = \\pi(1)\\cdot 0.5 ~ + ~ \\pi(2) \\cdot 0.25 = 0.5\\pi(1) + 0.25\\pi(2)\n",
    "$$\n",
    "\n",
    "Follow the same process to get all five balance equations:\n",
    "\n",
    "\\begin{align*}\n",
    "\\pi(1) &= 0.5\\pi(1) + 0.25\\pi(2) \\\\\n",
    "\\pi(2) &= 0.5\\pi(1) + 0.5\\pi(2) + 0.25\\pi(3) \\\\\n",
    "\\pi(3) &= 0.25\\pi(2) + 0.5\\pi(3) + 0.25\\pi(4) \\\\\n",
    "\\pi(4) &= 0.25\\pi(3) + 0.5\\pi(4) + 0.5\\pi(5) \\\\\n",
    "\\pi(5) &= 0.25\\pi(4) + 0.5\\pi(5)\n",
    "\\end{align*}\n",
    "\n",
    "Some observations make the system easy to solve.\n",
    "- By rearranging the first equation, we get $\\pi(2) = 2\\pi(1)$.\n",
    "- By symmetry, $\\pi(1) = \\pi(5)$ and $\\pi(2) = \\pi (4)$.\n",
    "- Because $\\pi(2) = \\pi(4)$, the equation for $\\pi(3)$ shows that $\\pi(3) = \\pi(2) = \\pi(4)$.\n",
    "\n",
    "So the distribution $\\pi$ is\n",
    "$$\n",
    "\\big{(} \\pi(1), 2\\pi(1), 2\\pi(1), 2\\pi(1), \\pi(1) \\big{)}\n",
    "$$\n",
    "\n",
    "As $\\pi$ is a probability distribution, it sums to 1. Its total is $8\\pi(1)$, so we have\n",
    "\n",
    "$$\n",
    "\\pi = \\big{(} \\frac{1}{8}, \\frac{2}{8}, \\frac{2}{8}, \\frac{2}{8}, \\frac{1}{8} \\big{)}\n",
    "$$\n",
    "\n",
    "This agrees with what we got by using `distribution` for $n=100$. In fact we could just have used the method `steady_state` to get $\\pi$:"
   ]
  },
  {
   "cell_type": "markdown",
   "metadata": {},
   "source": [
    "This implies that in the long run, the lazy reflecting random walk of this section is expected to spend about 12.5% of its time at state 1, 25% of its time at each of states 2, 3, and 4, and the remaining 12.5% of its time at state 5."
   ]
  },
  {
   "cell_type": "markdown",
   "metadata": {
    "collapsed": true
   },
   "source": [
    "### Lazy Random Walk on a Circle ###\n",
    "Now let the state space be five points arranged on a circle. Suppose the process starts at Point 1, and at each step either stays in place with probability 0.5 (and thus is sticky), or moves to one of the two neighboring points with chance 0.25 each, regardless of the other moves. \n",
    "\n",
    "In other words, this walk is just the same as the sticky reflecting walk, except that $1 \\rightarrow 5$ and $5 \\rightarrow 1$ transitions are both possible. This transition behavior can be summed up in a transition diagram. Notice that the transition behavior is the same for all the states.\n",
    "\n",
    "![Lazy Circle Walk](trans_circle.png)\n",
    "\n",
    "At every step, the next move is determined by a random choice from among three options and by the chain's current location, not on how it got to that location. So the process is a Markov chain. Let's call it $X_0, X_1, X_2, \\ldots $ and define its transition matrix."
   ]
  },
  {
   "cell_type": "code",
   "execution_count": 13,
   "metadata": {
    "collapsed": true
   },
   "outputs": [],
   "source": [
    "s = np.arange(1, 6)\n",
    "\n",
    "def circle_walk_probs(i, j):\n",
    "        if i-j == 0:\n",
    "            return 0.5\n",
    "        elif abs(i-j) == 1:\n",
    "            return 0.25\n",
    "        elif abs(i-j) == 4:\n",
    "            return 0.25\n",
    "        else:\n",
    "            return 0   \n",
    "        \n",
    "circle_walk = MarkovChain.from_transition_function(s, circle_walk_probs)"
   ]
  },
  {
   "cell_type": "code",
   "execution_count": 14,
   "metadata": {
    "collapsed": false
   },
   "outputs": [
    {
     "data": {
      "text/html": [
       "<div>\n",
       "<table border=\"1\" class=\"dataframe\">\n",
       "  <thead>\n",
       "    <tr style=\"text-align: right;\">\n",
       "      <th></th>\n",
       "      <th>1</th>\n",
       "      <th>2</th>\n",
       "      <th>3</th>\n",
       "      <th>4</th>\n",
       "      <th>5</th>\n",
       "    </tr>\n",
       "  </thead>\n",
       "  <tbody>\n",
       "    <tr>\n",
       "      <th>1</th>\n",
       "      <td>0.50</td>\n",
       "      <td>0.25</td>\n",
       "      <td>0.00</td>\n",
       "      <td>0.00</td>\n",
       "      <td>0.25</td>\n",
       "    </tr>\n",
       "    <tr>\n",
       "      <th>2</th>\n",
       "      <td>0.25</td>\n",
       "      <td>0.50</td>\n",
       "      <td>0.25</td>\n",
       "      <td>0.00</td>\n",
       "      <td>0.00</td>\n",
       "    </tr>\n",
       "    <tr>\n",
       "      <th>3</th>\n",
       "      <td>0.00</td>\n",
       "      <td>0.25</td>\n",
       "      <td>0.50</td>\n",
       "      <td>0.25</td>\n",
       "      <td>0.00</td>\n",
       "    </tr>\n",
       "    <tr>\n",
       "      <th>4</th>\n",
       "      <td>0.00</td>\n",
       "      <td>0.00</td>\n",
       "      <td>0.25</td>\n",
       "      <td>0.50</td>\n",
       "      <td>0.25</td>\n",
       "    </tr>\n",
       "    <tr>\n",
       "      <th>5</th>\n",
       "      <td>0.25</td>\n",
       "      <td>0.00</td>\n",
       "      <td>0.00</td>\n",
       "      <td>0.25</td>\n",
       "      <td>0.50</td>\n",
       "    </tr>\n",
       "  </tbody>\n",
       "</table>\n",
       "</div>"
      ],
      "text/plain": [
       "      1     2     3     4     5\n",
       "1  0.50  0.25  0.00  0.00  0.25\n",
       "2  0.25  0.50  0.25  0.00  0.00\n",
       "3  0.00  0.25  0.50  0.25  0.00\n",
       "4  0.00  0.00  0.25  0.50  0.25\n",
       "5  0.25  0.00  0.00  0.25  0.50"
      ]
     },
     "execution_count": 14,
     "metadata": {},
     "output_type": "execute_result"
    }
   ],
   "source": [
    "circle_walk"
   ]
  },
  {
   "cell_type": "markdown",
   "metadata": {},
   "source": [
    "Because of the symmetry of the transition behavior, no state should be occupied more than any other state, and hence all the $\\pi(j)$'s should be equal. This is confirmed by `steady_state`."
   ]
  },
  {
   "cell_type": "code",
   "execution_count": 15,
   "metadata": {
    "collapsed": false
   },
   "outputs": [
    {
     "data": {
      "text/html": [
       "<table border=\"1\" class=\"dataframe\">\n",
       "    <thead>\n",
       "        <tr>\n",
       "            <th>Value</th> <th>Probability</th>\n",
       "        </tr>\n",
       "    </thead>\n",
       "    <tbody>\n",
       "        <tr>\n",
       "            <td>1    </td> <td>0.2        </td>\n",
       "        </tr>\n",
       "    </tbody>\n",
       "        <tr>\n",
       "            <td>2    </td> <td>0.2        </td>\n",
       "        </tr>\n",
       "    </tbody>\n",
       "        <tr>\n",
       "            <td>3    </td> <td>0.2        </td>\n",
       "        </tr>\n",
       "    </tbody>\n",
       "        <tr>\n",
       "            <td>4    </td> <td>0.2        </td>\n",
       "        </tr>\n",
       "    </tbody>\n",
       "        <tr>\n",
       "            <td>5    </td> <td>0.2        </td>\n",
       "        </tr>\n",
       "    </tbody>\n",
       "</table>"
      ],
      "text/plain": [
       "Value | Probability\n",
       "1     | 0.2\n",
       "2     | 0.2\n",
       "3     | 0.2\n",
       "4     | 0.2\n",
       "5     | 0.2"
      ]
     },
     "execution_count": 15,
     "metadata": {},
     "output_type": "execute_result"
    }
   ],
   "source": [
    "circle_walk.steady_state()"
   ]
  },
  {
   "cell_type": "code",
   "execution_count": null,
   "metadata": {
    "collapsed": true
   },
   "outputs": [],
   "source": []
  }
 ],
 "metadata": {
  "anaconda-cloud": {},
  "kernelspec": {
   "display_name": "Python [Root]",
   "language": "python",
   "name": "Python [Root]"
  },
  "language_info": {
   "codemirror_mode": {
    "name": "ipython",
    "version": 3
   },
   "file_extension": ".py",
   "mimetype": "text/x-python",
   "name": "python",
   "nbconvert_exporter": "python",
   "pygments_lexer": "ipython3",
   "version": "3.5.2"
  }
 },
 "nbformat": 4,
 "nbformat_minor": 0
}
