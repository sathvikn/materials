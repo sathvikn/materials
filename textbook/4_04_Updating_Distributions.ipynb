{
 "cells": [
  {
   "cell_type": "code",
   "execution_count": 3,
   "metadata": {
    "collapsed": true
   },
   "outputs": [],
   "source": [
    "# HIDDEN\n",
    "from datascience import *\n",
    "from prob140 import *\n",
    "import numpy as np\n",
    "import matplotlib.pyplot as plt\n",
    "plt.style.use('fivethirtyeight')\n",
    "%matplotlib inline"
   ]
  },
  {
   "cell_type": "markdown",
   "metadata": {},
   "source": [
    "## Updating Distributions ##"
   ]
  },
  {
   "cell_type": "markdown",
   "metadata": {},
   "source": [
    "As we saw when we studied Bayes' Rule, conditioning gives us a way of updating our opinions based on new data. Let's see how conditional distributions can be used to represent our opinion about a random parameter, based on data.\n",
    "\n",
    "### Example: A Randomly Picked Coin ###\n",
    "Suppose I have one fair coin and three biased coins. Suppose that each of the biased coins lands heads with chance 0.9. I pick one of the coins at random, toss it twice and tell you the number of heads. What can you say about whether the coin was fair or biased?\n",
    "\n",
    "Before I have told you the number of heads, your *prior* opinion should be that the chance of the fair coin is 0.25 and the chance that the coin is biased is 0.75.\n",
    "\n",
    "The goal of this example is to see how the information about the number of heads affects this opinion.\n",
    "\n",
    "Let $R$ be the probability with which the random coin lands heads. The possible values of $R$ are 0.5 and 0.9, and the prior probability distribution of $R$ is given by the following table."
   ]
  },
  {
   "cell_type": "code",
   "execution_count": 5,
   "metadata": {
    "collapsed": false
   },
   "outputs": [
    {
     "data": {
      "text/html": [
       "<table border=\"1\" class=\"dataframe\">\n",
       "    <thead>\n",
       "        <tr>\n",
       "            <th>Value</th> <th>Probability</th>\n",
       "        </tr>\n",
       "    </thead>\n",
       "    <tbody>\n",
       "        <tr>\n",
       "            <td>0.5  </td> <td>0.25       </td>\n",
       "        </tr>\n",
       "    </tbody>\n",
       "        <tr>\n",
       "            <td>0.9  </td> <td>0.75       </td>\n",
       "        </tr>\n",
       "    </tbody>\n",
       "</table>"
      ],
      "text/plain": [
       "Value | Probability\n",
       "0.5   | 0.25\n",
       "0.9   | 0.75"
      ]
     },
     "execution_count": 5,
     "metadata": {},
     "output_type": "execute_result"
    }
   ],
   "source": [
    "coins = [0.5, 0.9]\n",
    "prior = [0.25, 0.75]\n",
    "Table().values(coins).probability(prior)"
   ]
  },
  {
   "cell_type": "markdown",
   "metadata": {},
   "source": [
    "Let $H$ be the number of heads in the two tosses. Then the joint distribution of $R$ and $H$ consists of terms of the form\n",
    "\n",
    "$$\n",
    "P(R = r, H = h) ~~ \\text{where } r \\in \\{0.5, 0.9\\} \\text{ and }\n",
    "h \\in \\{ 0, 1, 2 \\}\n",
    "$$\n",
    "\n",
    "There are six such terms. Let's work out a couple of them. By the multiplication rule,\n",
    "\n",
    "$$\n",
    "P(R = 0.9, H = 2) = P(R = 0.9)P(H = 2 \\mid R = 0.9)\n",
    "= 0.75 \\cdot 0.9^2 = 0.6075\n",
    "$$\n",
    "\n",
    "The event $\\{H = 1\\}$ happens if either there is a head followed by a tail or a tail followed by a head. So\n",
    "\n",
    "$$\n",
    "P(R = 0.5, H = 1) = P(R = 0.5)P(H = 1 \\mid R = 0.5)\n",
    "= 0.25 [(0.5 \\cdot 0.5) + (0.5 \\cdot 0.5)] = 0.125\n",
    "$$\n",
    "\n",
    "We can use the same kind of reasoning to work out $P(R = r, H = h)$ for all values of $r$ and $h$. \n",
    "\n",
    "Let's do that directly in Python. The function `joint_probs` takes $r$ and $h$ as arguments and returns $P(R = r, H = h)$."
   ]
  },
  {
   "cell_type": "code",
   "execution_count": 7,
   "metadata": {
    "collapsed": true
   },
   "outputs": [],
   "source": [
    "def joint_probs(r, h):\n",
    "    \"\"\"Return P(R = r, H = h)\"\"\"\n",
    "    \n",
    "    # Start with the distribution of the number of heads in two tosses\n",
    "    # of a coin that lands heads with a known chance r;\n",
    "    # these are the chances of h=0, h=1, and h=2\n",
    "    \n",
    "    heads_2_tosses = make_array((1-r)**2, 2*r*(1-r), r**2)\n",
    "    \n",
    "    if r == 0.5:\n",
    "        return 0.25*heads_2_tosses.item(h)\n",
    "    elif r == 0.9:\n",
    "        return 0.75*heads_2_tosses.item(h)"
   ]
  },
  {
   "cell_type": "markdown",
   "metadata": {},
   "source": [
    "We can now use `prob140` methods to construct a joint distribution table for $R$ and $H$, as described in the section on Joint Distributions. Recall that we used `coins` and `prior` to construct the prior distribution of $R$:"
   ]
  },
  {
   "cell_type": "code",
   "execution_count": 8,
   "metadata": {
    "collapsed": false
   },
   "outputs": [
    {
     "data": {
      "text/plain": [
       "([0.5, 0.9], [0.25, 0.75])"
      ]
     },
     "execution_count": 8,
     "metadata": {},
     "output_type": "execute_result"
    }
   ],
   "source": [
    "coins, prior"
   ]
  },
  {
   "cell_type": "code",
   "execution_count": 9,
   "metadata": {
    "collapsed": false
   },
   "outputs": [
    {
     "data": {
      "text/html": [
       "<div>\n",
       "<table border=\"1\" class=\"dataframe\">\n",
       "  <thead>\n",
       "    <tr style=\"text-align: right;\">\n",
       "      <th></th>\n",
       "      <th>R=0.5</th>\n",
       "      <th>R=0.9</th>\n",
       "    </tr>\n",
       "  </thead>\n",
       "  <tbody>\n",
       "    <tr>\n",
       "      <th>H=2</th>\n",
       "      <td>0.0625</td>\n",
       "      <td>0.6075</td>\n",
       "    </tr>\n",
       "    <tr>\n",
       "      <th>H=1</th>\n",
       "      <td>0.1250</td>\n",
       "      <td>0.1350</td>\n",
       "    </tr>\n",
       "    <tr>\n",
       "      <th>H=0</th>\n",
       "      <td>0.0625</td>\n",
       "      <td>0.0075</td>\n",
       "    </tr>\n",
       "  </tbody>\n",
       "</table>\n",
       "</div>"
      ],
      "text/plain": [
       "      R=0.5   R=0.9\n",
       "H=2  0.0625  0.6075\n",
       "H=1  0.1250  0.1350\n",
       "H=0  0.0625  0.0075"
      ]
     },
     "execution_count": 9,
     "metadata": {},
     "output_type": "execute_result"
    }
   ],
   "source": [
    "heads = np.arange(3)\n",
    "joint_tbl = Table().values('R', coins, 'H', heads).probability_function(joint_probs)\n",
    "joint_dist = joint_tbl.to_joint()\n",
    "\n",
    "joint_dist"
   ]
  },
  {
   "cell_type": "markdown",
   "metadata": {},
   "source": [
    "The values of $P(R = 0.9, H = 2)$ and $P(R = 0.5, H = 1)$ agree with those that we calculated directly.\n",
    "\n",
    "Let's check that the marginal of $R$ agrees with the assumption that the coin is picked at random from one fair coin and three biased coins. With no information about the number of heads, the distribution of $R$ should just be the prior. And it is, as you can see in the bottom margin of the table below."
   ]
  },
  {
   "cell_type": "code",
   "execution_count": 11,
   "metadata": {
    "collapsed": false
   },
   "outputs": [
    {
     "data": {
      "text/html": [
       "<div>\n",
       "<table border=\"1\" class=\"dataframe\">\n",
       "  <thead>\n",
       "    <tr style=\"text-align: right;\">\n",
       "      <th></th>\n",
       "      <th>R=0.5</th>\n",
       "      <th>R=0.9</th>\n",
       "    </tr>\n",
       "  </thead>\n",
       "  <tbody>\n",
       "    <tr>\n",
       "      <th>H=2</th>\n",
       "      <td>0.0625</td>\n",
       "      <td>0.6075</td>\n",
       "    </tr>\n",
       "    <tr>\n",
       "      <th>H=1</th>\n",
       "      <td>0.1250</td>\n",
       "      <td>0.1350</td>\n",
       "    </tr>\n",
       "    <tr>\n",
       "      <th>H=0</th>\n",
       "      <td>0.0625</td>\n",
       "      <td>0.0075</td>\n",
       "    </tr>\n",
       "    <tr>\n",
       "      <th>Sum: Marginal of R</th>\n",
       "      <td>0.2500</td>\n",
       "      <td>0.7500</td>\n",
       "    </tr>\n",
       "  </tbody>\n",
       "</table>\n",
       "</div>"
      ],
      "text/plain": [
       "                     R=0.5   R=0.9\n",
       "H=2                 0.0625  0.6075\n",
       "H=1                 0.1250  0.1350\n",
       "H=0                 0.0625  0.0075\n",
       "Sum: Marginal of R  0.2500  0.7500"
      ]
     },
     "execution_count": 11,
     "metadata": {},
     "output_type": "execute_result"
    }
   ],
   "source": [
    "joint_dist.marginal('R')"
   ]
  },
  {
   "cell_type": "markdown",
   "metadata": {},
   "source": [
    "Now suppose I pick the coin (in secret), toss it twice, and tell you the number of heads. Given the value of $H$, what can you say about $R$?\n",
    "\n",
    "To start off, it's a good idea to find the conditional distribution of $R$ given the value of $H$. Here are all those conditional distributions, for different given values of $H$. "
   ]
  },
  {
   "cell_type": "code",
   "execution_count": 13,
   "metadata": {
    "collapsed": false
   },
   "outputs": [
    {
     "data": {
      "text/html": [
       "<div>\n",
       "<table border=\"1\" class=\"dataframe\">\n",
       "  <thead>\n",
       "    <tr style=\"text-align: right;\">\n",
       "      <th></th>\n",
       "      <th>R=0.5</th>\n",
       "      <th>R=0.9</th>\n",
       "      <th>Sum</th>\n",
       "    </tr>\n",
       "  </thead>\n",
       "  <tbody>\n",
       "    <tr>\n",
       "      <th>Dist. of R | H=2</th>\n",
       "      <td>0.093284</td>\n",
       "      <td>0.906716</td>\n",
       "      <td>1.0</td>\n",
       "    </tr>\n",
       "    <tr>\n",
       "      <th>Dist. of R | H=1</th>\n",
       "      <td>0.480769</td>\n",
       "      <td>0.519231</td>\n",
       "      <td>1.0</td>\n",
       "    </tr>\n",
       "    <tr>\n",
       "      <th>Dist. of R | H=0</th>\n",
       "      <td>0.892857</td>\n",
       "      <td>0.107143</td>\n",
       "      <td>1.0</td>\n",
       "    </tr>\n",
       "    <tr>\n",
       "      <th>Marginal of R</th>\n",
       "      <td>0.250000</td>\n",
       "      <td>0.750000</td>\n",
       "      <td>1.0</td>\n",
       "    </tr>\n",
       "  </tbody>\n",
       "</table>\n",
       "</div>"
      ],
      "text/plain": [
       "                     R=0.5     R=0.9  Sum\n",
       "Dist. of R | H=2  0.093284  0.906716  1.0\n",
       "Dist. of R | H=1  0.480769  0.519231  1.0\n",
       "Dist. of R | H=0  0.892857  0.107143  1.0\n",
       "Marginal of R     0.250000  0.750000  1.0"
      ]
     },
     "execution_count": 13,
     "metadata": {},
     "output_type": "execute_result"
    }
   ],
   "source": [
    "joint_dist.conditional_dist('R', 'H')"
   ]
  },
  {
   "cell_type": "markdown",
   "metadata": {},
   "source": [
    "Read this table from the bottom row upwards. Remember that the coin was randomly picked.\n",
    "- If I tell you nothing about the number of heads, all you can tell me about the coin is that there is 25% chance that it is fair and 75% chance that it is a biased coin.\n",
    "- If I tell you that I got 0 heads, your opinion about the coin changes dramatically in favor of the fair coin. The biased coins have a very small chance of producing no heads, so even though one of them was very likely to have been picked, the data tilt the balance in favor of the fair coin.\n",
    "- If I tell you that I got 1 head, you're in a bit of a quandary. The biased coins have a modest chance (18%) of producing 1 head compared to the 50% chance that the fair coin produces 1 head. But the coin picked had a 75% chance of being biased compared to a 25% chance of being fair. The size of these two effects makes you quite uncertain about which kind of coin to lean towards. You have only a slight lean towards 'biased'.\n",
    "- If I tell you that I got 2 heads, your opinion shifts dramatically towards the biased coins. Not only are they very likely to produce two heads, they are also very likely to have been picked."
   ]
  },
  {
   "cell_type": "markdown",
   "metadata": {},
   "source": [
    "### Updating Your Opinion Based on Data ###\n",
    "This is a simple example of something that comes up often in machine learning. \n",
    "- You start out with a *prior* opinion about an unknown quantity. In our case the prior distribution was that the fair coin would be picked with chance 25%.\n",
    "- For every value of the unknown quantity, the data have a *likelihood*. For each of our four coins, we know the likelihood of getting any specified number of heads given that we tossed that coin.\n",
    "- After you see the data, your opinion about the unknown quantity might change, sometimes quite drastically. The change depends on the prior as well as the likelihood.\n",
    "- You can then toss some more, and update your opinion once again based on the number of heads in the new set of tosses."
   ]
  },
  {
   "cell_type": "code",
   "execution_count": null,
   "metadata": {
    "collapsed": true
   },
   "outputs": [],
   "source": []
  }
 ],
 "metadata": {
  "anaconda-cloud": {},
  "kernelspec": {
   "display_name": "Python [Root]",
   "language": "python",
   "name": "Python [Root]"
  },
  "language_info": {
   "codemirror_mode": {
    "name": "ipython",
    "version": 3
   },
   "file_extension": ".py",
   "mimetype": "text/x-python",
   "name": "python",
   "nbconvert_exporter": "python",
   "pygments_lexer": "ipython3",
   "version": "3.5.2"
  }
 },
 "nbformat": 4,
 "nbformat_minor": 0
}
