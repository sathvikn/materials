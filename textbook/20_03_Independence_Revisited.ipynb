{
 "cells": [
  {
   "cell_type": "code",
   "execution_count": 1,
   "metadata": {
    "collapsed": true
   },
   "outputs": [],
   "source": [
    "# HIDDEN\n",
    "from datascience import *\n",
    "from prob140 import *\n",
    "import numpy as np\n",
    "import matplotlib.pyplot as plt\n",
    "plt.style.use('fivethirtyeight')\n",
    "%matplotlib inline\n",
    "import math\n",
    "from scipy import stats"
   ]
  },
  {
   "cell_type": "markdown",
   "metadata": {},
   "source": [
    "## Independence, Revisited ##"
   ]
  },
  {
   "cell_type": "markdown",
   "metadata": {},
   "source": [
    "In this section we will remind ourselves about what can happen to independence when parameters are randomized. First, let's go over some basics."
   ]
  },
  {
   "cell_type": "markdown",
   "metadata": {},
   "source": [
    "### Average Conditional Probabilities ###\n",
    "Let $X$ have density $f_X$ and let $A$ be an event. Then\n",
    "\n",
    "$$\n",
    "P(A, X \\in dx) ~ = ~ P(X \\in dx)P(A \\mid X = x) ~ \\sim ~ f_X(x)dxP(A \\mid X = x)\n",
    "$$\n",
    "So\n",
    "$$\n",
    "P(A) ~ = ~ \\int_{\\text{all x}} P(A, X \\in dx) ~ = ~ \\int_{\\text{all x}} P(A \\mid X = x)f_X(x)dx\n",
    "$$\n",
    "\n",
    "In more compact notation, $P(A) = E(P(A \\mid X))$. This is an example of finding expectation by conditioning."
   ]
  },
  {
   "cell_type": "markdown",
   "metadata": {},
   "source": [
    "### One Toss of a Random Coin ###\n",
    "\n",
    "Let $X$ have any density on the unit interval $(0, 1)$. Think of the value of $X$ as the the probability that a coin lands heads. Toss the coin once. Recall that our definition of \"given $X=p$\" means that\n",
    "\n",
    "$$\n",
    "P(\\text{coin lands heads} \\mid X = p) = p\n",
    "$$\n",
    "\n",
    "Let $X$ have density $f_X$. Then\n",
    "\n",
    "$$\n",
    "P(\\text{coin lands heads}) ~ = ~ \\int_0^1 p \\cdot f_X(p)dp ~ = ~ E(X)\n",
    "$$\n",
    "\n",
    "Thus if $X$ is uniform on $(0, 1)$, then the chance that the coin lands heads is $1/2$. If $X$ has the beta $(r, s)$ distribution then the chance that the coin lands heads is $r/(r+s)$."
   ]
  },
  {
   "cell_type": "markdown",
   "metadata": {},
   "source": [
    "### Two Tosses of the Random Coin ###\n",
    "Let $X$ be uniform on $(0, 1)$. Given $X = p$, toss a $p$-coin twice and observe the results of the tosses. \n",
    "\n",
    "We have just observed that $P(\\text{first toss is a head}) = 1/2$. The first toss behaves like the toss of a fair coin. The same calculation shows that the chance that the second toss is a head (based on no knowledge of the first toss) is also $1/2$.\n",
    "\n",
    "Now let's figure out the chance that both the tosses land heads. We know that $P(\\text{both tosses are heads} \\mid X = p) = p^2$. So\n",
    "\n",
    "$$\n",
    "P(\\text{both tosses are heads}) ~ = ~ \\int_0^1 p^2 \\cdot 1dp ~ = ~ \\frac{1}{3}\n",
    "$$\n",
    "\n",
    "That's *greater than* $1/4$ which is the chance of two heads given that you are tossing a fair coin. **The results of the two tosses are not independent.**\n",
    "\n",
    "Let's see what's going on here. We know that\n",
    "\n",
    "\\begin{align*}\n",
    "P(\\text{both tosses are heads}) ~ &= ~ P(\\text{first toss is a head})\n",
    "P(\\text{second toss is a head} \\mid \\text{first toss is a head}) \\\\\n",
    "&= ~ \\frac{1}{2} P(\\text{second toss is a head} \\mid \\text{first toss is a head})\n",
    "\\end{align*}\n",
    "\n",
    "Therefore\n",
    "$$\n",
    "P(\\text{second toss is a head} \\mid \\text{first toss is a head}) ~ = ~ \\frac{2}{3} ~ > ~ \\frac{1}{2}\n",
    "$$\n",
    "\n",
    "Clearly, knowing that the first toss is a head is telling us something about $X$, which is then reflected is the chance that the second toss is also a head.\n",
    "\n",
    "To quantify this idea, we will find the posterior density of $X$ given that the first toss is a head. Let $A$ be the event that the first toss is heads. The posterior density given this event is proportional to the prior times the likelihood of $A$. Thus it can be calculated as\n",
    "\n",
    "$$\n",
    "f_{X \\vert A} (x) ~ \\propto ~ 1 \\cdot p\n",
    "$$\n",
    "\n",
    "This posterior density of $X$ given that the first toss is a head is not uniform. It rises linearly and puts more of its mass on values near 1 than near 0. \n",
    "\n",
    "This makes sense: given that the first toss is a head, we are more inclined to believe that the coin is biased towards heads than towards tails.\n",
    "\n",
    "The constant of integration is easy to find. The posterior density given that the first toss is a head is $f_{X \\vert A} (p) = 2p$ for $p \\in (0, 1)$"
   ]
  },
  {
   "cell_type": "code",
   "execution_count": 2,
   "metadata": {
    "collapsed": false
   },
   "outputs": [
    {
     "data": {
      "image/png": "[encoded data removed]",
      "text/plain": [
       "<matplotlib.figure.Figure at 0x115975278>"
      ]
     },
     "metadata": {},
     "output_type": "display_data"
    }
   ],
   "source": [
    "# HIDDEN\n",
    "p = np.arange(0, 1, 0.01)\n",
    "plt.plot(p, 2*p, color='darkblue', lw=2)\n",
    "plt.xlim(-0.05, 1.05)\n",
    "plt.ylim(-0.05, 2.05)\n",
    "plt.axes().set_aspect('equal')\n",
    "plt.xlabel('$p$')\n",
    "plt.title('Posterior density of $X$ given that the first toss is a head');"
   ]
  },
  {
   "cell_type": "markdown",
   "metadata": {},
   "source": [
    "To double-check our earlier calculation, we can find $P(\\text{second toss is a head} \\mid \\text{first toss is a head})$ using this posterior density. \n",
    "\n",
    "\\begin{align*}\n",
    "P(\\text{second toss is a head} \\mid \\text{first toss is a head}) \n",
    "~ &= ~ \\int_0^1 p \\cdot 2p \\cdot dp \\\\\n",
    "&= ~ \\frac{2}{3}\n",
    "\\end{align*}\n",
    "\n",
    "This is consistent with our earlier calculation. "
   ]
  },
  {
   "cell_type": "code",
   "execution_count": null,
   "metadata": {
    "collapsed": true
   },
   "outputs": [],
   "source": []
  }
 ],
 "metadata": {
  "kernelspec": {
   "display_name": "Python [Root]",
   "language": "python",
   "name": "Python [Root]"
  },
  "language_info": {
   "codemirror_mode": {
    "name": "ipython",
    "version": 3
   },
   "file_extension": ".py",
   "mimetype": "text/x-python",
   "name": "python",
   "nbconvert_exporter": "python",
   "pygments_lexer": "ipython3",
   "version": "3.5.2"
  }
 },
 "nbformat": 4,
 "nbformat_minor": 0
}
