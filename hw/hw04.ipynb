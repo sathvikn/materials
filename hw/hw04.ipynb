{
 "cells": [
  {
   "cell_type": "markdown",
   "metadata": {},
   "source": [
    "<table align=\"left\" style=\"border-style: hidden\" class=\"table\"> <tr> <td class=\"col-md-2\"><img style=\"float\" src=\"http://prob140.org/assets/icon256.png\" alt=\"Prob140 Logo\" style=\"width: 120px;\"/></td><td><div align=\"left\"><h3 style=\"margin-top: 0;\">Probability for Data Science</h3><h4 style=\"margin-top: 20px;\">UC Berkeley, Spring 2018</h4><p>Ani Adhikari</div></td></tr></table><!-- not in pdf -->"
   ]
  },
  {
   "cell_type": "markdown",
   "metadata": {
    "#solution": false,
    "#staff": false,
    "#student": false
   },
   "source": [
    "# Homework 4 #"
   ]
  },
  {
   "cell_type": "markdown",
   "metadata": {
    "#solution": false,
    "#staff": false,
    "#student": false
   },
   "source": [
    "This week, your homework **only involves written work; there are no coding parts**. It is your responsibility to ensure that your homework is submitted completely and properly to Gradescope. Refer to the bottom of the notebook for submission instructions.\n",
    "\n",
    "#### Rules for Written Homework ####\n",
    "\n",
    "- Every answer should contain a calculation or reasoning. For example, a calculation such as $(1/3)(0.8) + (2/3)(0.7)$ is fine without further explanation or simplification. If we want you to simplify, we'll ask you to. But just ${5 \\choose 2}$ is not fine; write \"we need 2 out of the 5 frogs and they can appear in any order\" or whatever reasoning you used. Reasoning can be brief and abbreviated, e.g. \"product rule\" or \"not mut. excl.\"\n",
    "- You may consult others but you must write up your own answers using your own words, notation, and sequence of steps.\n",
    "- In the interest of saving trees, you do not need to *solve* each question on a new piece of paper. Folding the paper to show just the relevant problem will suffice. To ensure the correct page size, we recommend placing the folded part on a blank page before scanning, or adjusting the page settings on your phone scanning app.\n",
    "- You will submit a scanned PDF to Gradescope. **Each question should *start* on a new PDF page. No page should contain two questions.**"
   ]
  },
  {
   "cell_type": "markdown",
   "metadata": {
    "#solution": false,
    "#staff": false,
    "#student": false
   },
   "source": [
    "## 1. Aces and Face Cards ##\n",
    "A standard deck consists of 52 cards of which 4 are aces, 4 are kings, and 12 (including the four kings) are \"face cards\" (Jacks, Queens, and Kings).\n",
    "\n",
    "Cards are dealt at random without replacement from a standard deck till all the cards have been dealt. \n",
    "\n",
    "Find the expectation of the following. Each can be done with almost no calculation if you use symmetry. \n",
    "\n",
    "**(a)** The number of aces among the first 5 cards\n",
    "\n",
    "**(b)** The number of face cards that *do not* appear among the first 13 cards\n",
    "\n",
    "**(c)** The number of aces among the first 5 cards minus the number of kings among the last 5 cards\n",
    "\n",
    "**(d)** The number of cards before the first ace \n",
    "\n",
    "**(e)** The number of cards strictly in between the first ace and the last ace\n",
    "\n",
    "**(f)** The number of face cards before the first ace"
   ]
  },
  {
   "cell_type": "markdown",
   "metadata": {
    "#solution": false,
    "#staff": false,
    "#student": false
   },
   "source": [
    "## 2. Geometric Distribution ##\n",
    "Consider an infinite sequence of i.i.d. Bernoulli $(p)$ trials, where $0 < p < 1$. To make the problem more concrete, imagine rolling a die over and over again and keeping track of whether or not you see the face with six spots; but solve the problem for a general $p$.\n",
    "\n",
    "Let $T$ be the index of the first trial that results in a success. Then the possible values of $T$ are $1, 2, 3, \\ldots $. In the case of rolling a die till you see a six, if the rolls come out $2,3,3,4,6$ then the value of $T$ is 5.\n",
    "\n",
    "**(a)** Let $q = 1-p$. Explain why $P(T = k) = q^{k-1}p$ for $k \\ge 1$. This is called the *geometric distribution with parameter $p$ on $\\{1, 2, 3, \\ldots \\}$*.\n",
    "\n",
    "**(b)** For a positive integer $k$, let $N_k$ be the number of successes in trials 1 through $k$. Fill in the blank in the identity below and explain your choice.\n",
    "\n",
    "$$\n",
    "P(T > k) = P(N_k = \\underline{ ~~~~~~~~~~~~~ })\n",
    "$$\n",
    "\n",
    "**(c)** Use **(b)** to find $P(T > k)$ with no calculation.\n",
    "\n",
    "**(d)** Use **(c)** and what you discovered in Lab 4 to show that $E(T) = 1/p$."
   ]
  },
  {
   "cell_type": "markdown",
   "metadata": {
    "#solution": false,
    "#staff": false,
    "#student": false
   },
   "source": [
    "## 3. Collecting Distinct Values ##\n",
    "This problem is a workout in finding expectations by using all the tools at your disposal. Some of them have been developed in this homework. If an answer doesn't appear to fit into a formula that has already been proven, it's a very good idea to try to write the variable as a sum of simpler variables.\n",
    "\n",
    "**(a)** A fair die is rolled $n$ times. Find the expected number of times the face with six spots appears.\n",
    "\n",
    "**(b)** A fair die is rolled $n$ times. Find the expected number of faces that *do not* appear, and say what happens to this expectation as $n$ increases.\n",
    "\n",
    "**(c)** Use your answer to **(b)** to find the expected number of distinct faces that *do* appear in $n$ rolls of a die.\n",
    "\n",
    "**(d)** Find the expected number of times you have to roll a die till you have seen all of the faces. This is a version of what is known as the *coupon collector's problem*.\n"
   ]
  },
  {
   "cell_type": "markdown",
   "metadata": {
    "#solution": false,
    "#staff": false,
    "#student": false
   },
   "source": [
    "## 4. Comparing Waiting Times ##\n",
    "A $p$-coin is tossed repeatedly. Let $W_H$ be the number of tosses till the first H, $W_{HH}$ the number of tosses till the first time the pattern HH appears, and $W_{HT}$ the number of tosses till the first time the pattern HT appears.\n",
    "\n",
    "a) Let $p = 1/2$. Explain *without calculation* why $E(W_{HH})$ must be different from $E(W_{HT})$, and say which of the two values is smaller. [Think about what happens when the pattern is *not* completed on the toss following $W_H$.]\n",
    "\n",
    "b) Now let $0 < p < 1$. By conditioning appropriately, find $E(W_{HT})$ in terms of $p$."
   ]
  },
  {
   "cell_type": "markdown",
   "metadata": {
    "#solution": false,
    "#staff": false,
    "#student": false
   },
   "source": [
    "## 5. Understanding Total Variation Distance, Part 1 ##\n",
    "In this exercise and the next, you are going to show that the formula for TVD used in Data 8 and in Lab 3 has an interpretation as a maximum difference of probabilities.\n",
    "\n",
    "We are going to compare two probability distributions $P_{blue}$ and $P_{gold}$ on a finite set of values $S$. Suppose the values are labeled $1, 2, \\ldots, n$. \n",
    "\n",
    "The *total variation distance between $P_{blue}$ and $P_{gold}$* is defined as\n",
    "\n",
    "$$\n",
    "\\| P_{blue} - P_{gold}\\|_{TVD} ~ = ~\n",
    "\\max\\{ \\lvert P_{blue}(A) - P_{gold}(A) \\rvert : A \\subseteq S\\}\n",
    "$$\n",
    "\n",
    "The definition says: For every event $A$, compute how far off $P_{blue}(A)$ is from $P_{gold}(A)$. The TVD is the biggest value among all these differences.\n",
    "\n",
    "That doesn't look at all like what we have been calculating as the TVD starting way back in Data 8. But in fact it's the same thing. It's your job to show how. \n",
    "\n",
    "Before you get started, confirm your understanding of the definition. Suppose you calculate the TVD between two distributions and get 0.003. That says that if you list all possible events and compare their probabilities under the two distributions, the biggest difference you will get is 3/1000. The two distributions are pretty close. \n",
    "\n",
    "The goal of these exercises is to show that this new definition of TVD is equivalent to the calculation we have been doing all along. Let's start by setting up some notation. For each $i$ in $S$, let $P_{blue}(i) = b_i$ and let $P_{gold}(i) = g_i$. If you imagine a bar graph or histogram of each distribution, then $b_i$ is the area of the blue bar at the value $i$, and $g_i$ is the area of the gold bar at $i$.\n",
    "\n",
    "In this notation, our familiar calculation of the TVD is\n",
    "\n",
    "$$\n",
    "\\frac{1}{2} \\sum_{i \\in S} \\lvert b_i - g_i \\rvert\n",
    "$$\n",
    "\n",
    "In this question and the next you will show that \n",
    "\n",
    "$$\n",
    "\\max\\{ \\lvert P_{blue}(A) - P_{gold}(A) \\rvert : A \\subseteq S\\} ~ = ~ \n",
    "\\frac{1}{2} \\sum_{i \\in S} \\lvert b_i - g_i \\rvert\n",
    "$$\n",
    "\n",
    "Three events will be important in the calculations.\n",
    "\n",
    "The set of values for which the blue bars exceed the gold:\n",
    "$$\n",
    "B = \\{i: b_i > g_i\\}\n",
    "$$\n",
    "\n",
    "The set of values for which the gold bars exceed the blue:\n",
    "$$\n",
    "G = \\{i: g_i > b_i\\}\n",
    "$$\n",
    "\n",
    "The set of values for which the blue bars and gold bars are equal:\n",
    "$$\n",
    "E = \\{i: b_i = g_i\\}\n",
    "$$\n",
    "\n",
    "Keep in mind that for any event $A$,\n",
    "$$\n",
    "P_{blue}(A) = \\sum_{i \\in A} b_i ~~~~~~~ \\text{and} ~~~~~~~\n",
    "P_{gold}(A) = \\sum_{i \\in A} g_i\n",
    "$$\n",
    "\n",
    "#### a) ####\n",
    "Find the value of\n",
    "$$\n",
    "\\sum_{i \\in B} b_i ~ + ~ \n",
    "\\sum_{i \\in G} b_i ~ + ~ \n",
    "\\sum_{i \\in E} b_i \n",
    "$$\n",
    "\n",
    "Repeat the calculation after replacing $b_i$ by $g_i$ in all three sums above.\n",
    "\n",
    "Hence show that\n",
    "$$\n",
    "\\sum_{i \\in B} (b_i - g_i) ~ = ~ \\sum_{i \\in G} (g_i - b_i)\n",
    "$$\n",
    "\n",
    "This proves a statement we have made in Data 8 and Lab 3: \"The amount by which the blue bars exceed the gold is the same as the amount by which the gold bars exceed the blue.\" \n",
    "\n",
    "#### b) ####\n",
    "Our usual calculation of TVD is\n",
    "$$\n",
    "\\frac{1}{2} \\sum_{i \\in S} \\lvert b_i - g_i \\rvert\n",
    "$$\n",
    "\n",
    "Partition the sum into two pieces to show that\n",
    "\n",
    "$$\n",
    "\\frac{1}{2} \\sum_{i \\in S} \\lvert b_i - g_i \\rvert ~ = ~\n",
    "\\sum_{i \\in B} (b_i - g_i) ~ = ~ \\sum_{i \\in G} (g_i - b_i)\n",
    "$$\n",
    "\n",
    "This proves another statement we made in Data 8 and Lab 3: \"The TVD is the amount by which the blue bars exceed the gold.\""
   ]
  },
  {
   "cell_type": "markdown",
   "metadata": {
    "#solution": false,
    "#staff": false,
    "#student": false
   },
   "source": [
    "## 6. Understanding Total Variation Distance, Part 2 ###\n",
    "\n",
    "#### a) ####\n",
    "Now let $A$ be any event. Show that \n",
    "$$\n",
    "P_{blue}(A) - P_{gold}(A) ~ = ~ \n",
    "\\sum_{i \\in AB} (b_i - g_i) ~ - ~ \\sum_{i \\in AG} (g_i - b_i)\n",
    "$$\n",
    "\n",
    "Hence show that\n",
    "$$\n",
    "P_{blue}(A) - P_{gold}(A) ~ \\le ~ \n",
    "\\sum_{i \\in AB} (b_i - g_i) ~~~~~~ \\text{and} ~~~~~~\n",
    "P_{gold}(A) - P_{blue}(A) ~ \\le ~ \n",
    "\\sum_{i \\in AG} (g_i - b_i)\n",
    "$$\n",
    "\n",
    "#### b) ####\n",
    "Use the first of the two inequalities in (a) to show that if $P_{blue}(A) - P_{gold}(A) > 0$ then\n",
    "\n",
    "$$\n",
    "\\lvert P_{blue}(A) - P_{gold}(A) \\rvert ~ \\le ~ \\sum_{i \\in B} (b_i - g_i)\n",
    "$$\n",
    "\n",
    "Use the second of the two inequalities in (a) to show that if $P_{blue}(A) - P_{gold}(A) < 0$ then\n",
    "\n",
    "$$\n",
    "\\lvert P_{blue}(A) - P_{gold}(A) \\rvert ~ \\le ~ \\sum_{i \\in G} (g_i - b_i)\n",
    "$$\n",
    "\n",
    "#### c) ####\n",
    "Identify an event for which one of the inequalities in (b) is an equality.\n",
    "\n",
    "Explain why you now have a complete proof of\n",
    "\n",
    "$$\n",
    "\\max\\{ \\lvert P_{blue}(A) - P_{gold}(A) \\rvert : A \\subseteq S\\} ~ = ~ \n",
    "\\frac{1}{2} \\sum_{i \\in S} \\lvert b_i - g_i \\rvert\n",
    "$$\n",
    "\n",
    "That is, our usual calculation of the TVD is equivalent to finding the biggest difference between probabilities assigned by the two distributions to any event."
   ]
  },
  {
   "cell_type": "markdown",
   "metadata": {
    "#solution": false,
    "#staff": false,
    "#student": false
   },
   "source": [
    "## Submission Instructions\n",
    "\n",
    "**For this homework, you are only submitting written work.**\n",
    "\n",
    "#### Logistics \n",
    "\n",
    "1. Use a scanner or scanning app (such as CamScanner) to digitize your written assignments. Do not take pictures using your phone's camera app.\n",
    "2. For code portions, examine the generated pdf before uploading to make sure that it contains all of your work.\n",
    "3. When submitting to Gradescope, select the pages of your upload corresponding to each question. \n",
    "4. If you encounter any difficulties when submitting or exporting your assignment, please make a private Piazza post **before the deadline**. \n",
    "\n",
    "### **We will not grade assignments which do not have pages selected for each question, are illegibly scanned, or are submitted after 8PM.** \n",
    "\n",
    "\n",
    "#### Part A (Written)\n",
    "- Make sure you have at least 6 pages of homework. Each problem should start on a new page; for example,  Problem 1 on page 1, Problem 2 on page 2, etc.\n",
    "- Scan all the pages into a PDF. **Make sure the PDF page size is 8.5 x 11 inches**. It is your responsibility to check that all the work on the scanned pages is legible. You can use any scanner or a phone using applications such as CamScanner. Save the PDF.\n",
    "- Upload the scanned PDF of your work onto Gradescope for the assignment \"HW_04A\". \n",
    "Refer to [this guide](http://gradescope-static-assets.s3-us-west-2.amazonaws.com/help/submitting_hw_guide.pdf) for detailed instructions about scanning and submitting, or consult course staff."
   ]
  }
 ],
 "metadata": {
  "anaconda-cloud": {},
  "checksums": [
   "b0aefbc0a2143213357738234b5b70f0",
   "996208cdfd34f4af0d96d183afb43c47",
   "637af650276a8b11a63d5aa6b3f882d5",
   "128e40625b1f8edf97365b7e6b6c2bce",
   "d4d27ff014f0285f4652338972acd55b",
   "6f35d0d99d9d7356bd4d06e201734aa2",
   "c5d61b703d9cd4b3adde38a843406811",
   "d55ad1d649cce5651299b67957c69f92",
   "ab9638ee65a10a2ad9080fe6f816379b",
   "3b61d123fca57deb51b3a06ccae8534b"
  ],
  "kernelspec": {
   "display_name": "Python 3",
   "language": "python",
   "name": "python3"
  },
  "language_info": {
   "codemirror_mode": {
    "name": "ipython",
    "version": 3
   },
   "file_extension": ".py",
   "mimetype": "text/x-python",
   "name": "python",
   "nbconvert_exporter": "python",
   "pygments_lexer": "ipython3",
   "version": "3.5.2"
  },
  "number_of_pagebreaks": 0,
  "widgets": {
   "state": {},
   "version": "1.1.2"
  }
 },
 "nbformat": 4,
 "nbformat_minor": 1
}
