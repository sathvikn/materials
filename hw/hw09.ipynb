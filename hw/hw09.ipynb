{
 "cells": [
  {
   "cell_type": "markdown",
   "metadata": {},
   "source": [
    "<table align=\"left\" style=\"border-style: hidden\" class=\"table\"> <tr> <td class=\"col-md-2\"><img style=\"float\" src=\"http://prob140.org/assets/icon256.png\" alt=\"Prob140 Logo\" style=\"width: 120px;\"/></td><td><div align=\"left\"><h3 style=\"margin-top: 0;\">Probability for Data Science</h3><h4 style=\"margin-top: 20px;\">UC Berkeley, Spring 2018</h4><p>Ani Adhikari</div></td></tr></table><!-- not in pdf -->"
   ]
  },
  {
   "cell_type": "markdown",
   "metadata": {
    "#solution": false,
    "#staff": false,
    "#student": false
   },
   "source": [
    "# Homework 9 #"
   ]
  },
  {
   "cell_type": "markdown",
   "metadata": {
    "#solution": false,
    "#staff": false,
    "#student": false
   },
   "source": [
    "Your homework has two components: A (written work only) and B (also involving code). Each question or subpart is labeled accordingly. Written work should be completed on paper, and coding questions should be done in the notebook. It is your responsibility to ensure that your homework is submitted completely and properly to Gradescope. Refer to the bottom of the notebook for submission instructions.\n",
    "\n",
    "#### Rules for Written Homework ####\n",
    "\n",
    "- Every answer should contain a calculation or reasoning. For example, a calculation such as $(1/3)(0.8) + (2/3)(0.7)$ is fine without further explanation or simplification. If we want you to simplify, we'll ask you to. But just ${5 \\choose 2}$ is not fine; write \"we need 2 out of the 5 frogs and they can appear in any order\" or whatever reasoning you used. Reasoning can be brief and abbreviated, e.g. \"product rule\" or \"not mut. excl.\"\n",
    "- You may consult others but you must write up your own answers using your own words, notation, and sequence of steps.\n",
    "- In the interest of saving trees, you do not need to *solve* each question on a new piece of paper. Folding the paper to show just the relevant problem will suffice. To ensure the correct page size, we recommend placing the folded part on a blank page before scanning, or adjusting the page settings on your phone scanning app.\n",
    "- You will submit a scanned PDF to Gradescope. **Each question should *start* on a new PDF page. No page should contain two questions.**\n",
    "\n",
    "#### Rules for Coding ####\n",
    "\n",
    "- Do not share, copy, or allow others to copy your code. You may discuss your approach and relevant methods or functions to use.\n",
    "- A code cell (which may contain starter code) is provided for each question or subpart that requires coding. You are free to add additional cells as needed.\n",
    "- You will submit a PDF to Gradescope. See the bottom of the notebook for more instructions.\n",
    "- Here is the Prob140 documentation [guide](https://probability.gitlab.io/prob140/index.html) for your reference."
   ]
  },
  {
   "cell_type": "code",
   "execution_count": 3,
   "metadata": {
    "#solution": false,
    "#staff": false,
    "#student": false,
    "collapsed": true
   },
   "outputs": [],
   "source": [
    "# HIDDEN\n",
    "from datascience import *\n",
    "from prob140 import *\n",
    "import numpy as np\n",
    "import matplotlib.pyplot as plt\n",
    "plt.style.use('fivethirtyeight')\n",
    "%matplotlib inline\n",
    "from scipy import stats"
   ]
  },
  {
   "cell_type": "markdown",
   "metadata": {
    "#solution": false,
    "#staff": false,
    "#student": false,
    "collapsed": true
   },
   "source": [
    "### 1. The Exact Distribution of a Sum ###\n",
    "In this exercise we will use the same shorthand as in the textbook: \"A random variable $W$ has distribution given by the probabilities $p_0, p_1, \\ldots, p_N$\" means that $P(W = i) = p_i$ for $0 \\le i \\le N$ and $\\sum_{i=0}^N p_i = 1$.\n",
    "\n",
    "You have seen in class that in numpy, the `**` operator raises polynomials to a power. To multiply two polynomials, use `*`. As always, feel free to create more code cells as needed.\n",
    "\n",
    "**a) [CODE]** Let $X$ have the distribution given by $p_0 = 0.45$, $p_1 = 0.25$, $p_3 = 0.2$, $p_4 = 0.05$, $p_5 = 0.05$. Construct the pgf of $X$.\n",
    "\n",
    "**b) [CODE]** Let $X_1, X_2, \\ldots, X_8$ be i.i.d. with the same distribution as $X$ in (a). Let $S_X = X_1 + X_2 + \\cdots + X_8$. Use `Plot` to plot the probability histogram of $S_X$. \n",
    "\n",
    "**c) [CODE]** Find $P(S_X = 13)$.\n",
    "\n",
    "**d) [CODE]** Let $Y$ have the uniform distribution on the integers 4 through 8. Let $Y_1, Y_2, \\ldots, Y_{12}$ be i.i.d. with the same distribution as $Y$, and let $S_Y = Y_1 + Y_2 + \\cdots + Y_{12}$. Use `Plot` to plot the histogram of the distribution of $W = S_X + S_Y$.\n",
    "\n",
    "**e) [CODE]** For a `prob140` distribution object `dist`, the expression `dist.ev()` evaluates to the expectation and `dist.sd()` evaluates to the SD. At this point you should already have a distribution object representing $W$, so use these methods to find $E(W)$ and $SD(W)$. To check that you found the right distribution of $W$, use `.ev()` and `.sd()` to find the expectations and SDs of $X$ and $Y$, and then use rules of expectation and variance to find $E(W)$ and $SD(W)$. Confirm that these are the same as what you got from directly using the distribution of $W$. "
   ]
  },
  {
   "cell_type": "code",
   "execution_count": null,
   "metadata": {
    "#solution": false,
    "#staff": false,
    "#student": true,
    "collapsed": true
   },
   "outputs": [],
   "source": [
    "#Answer to 1a\n",
    "\n",
    "dist_X = ... # Construct distribution of X\n",
    "probs_X = ... # Extract array of probabilities for X\n",
    "coeffs_X = ... # flip coefficients\n",
    "pgf_X = ... # PGF of X"
   ]
  },
  {
   "cell_type": "code",
   "execution_count": null,
   "metadata": {
    "#solution": false,
    "#staff": false,
    "#student": true,
    "collapsed": true
   },
   "outputs": [],
   "source": [
    "#Answer to 1b\n",
    "\n",
    "pgf_SX = ... # PGF of S_x\n",
    "coeffs_SX = ... # Coefficients of PGF\n",
    "probs_SX = ... # Probabilities of S_x\n",
    "\n",
    "dist_SX = ... # Distribution object for S_x\n",
    "\n",
    "Plot(dist_SX)"
   ]
  },
  {
   "cell_type": "code",
   "execution_count": 1,
   "metadata": {
    "#solution": false,
    "#staff": false,
    "#student": true
   },
   "outputs": [
    {
     "data": {
      "text/plain": [
       "Ellipsis"
      ]
     },
     "execution_count": 1,
     "metadata": {},
     "output_type": "execute_result"
    }
   ],
   "source": [
    "#Answer to 1c\n",
    "..."
   ]
  },
  {
   "cell_type": "code",
   "execution_count": 1,
   "metadata": {
    "#solution": false,
    "#staff": false,
    "#student": true,
    "collapsed": true
   },
   "outputs": [],
   "source": [
    "\n",
    "#Answer to 1d\n",
    "\n",
    "# The following is provided as a very brief skeleton\n",
    "# The solution uses more lines than are provided in the skeleton\n",
    "# Be sure to refer to your setup for (1a) and (1b)\n",
    "\n",
    "dist_Y = ... # Distribution object for Y\n",
    "pgf_Y = ... # PGF of Y\n",
    "pgf_SY = ... # PGF of S_y\n",
    "pgf_W = ... # PGF of W = S_x + S_y\n",
    "dist_W = ... # Distribution object for W\n",
    "\n",
    "Plot(dist_W)"
   ]
  },
  {
   "cell_type": "code",
   "execution_count": 2,
   "metadata": {
    "#solution": false,
    "#staff": false,
    "#student": true
   },
   "outputs": [
    {
     "name": "stdout",
     "output_type": "stream",
     "text": [
      "E(W) Ellipsis\n",
      "SD(W) Ellipsis\n",
      "E(W) Ellipsis\n",
      "SD(W) Ellipsis\n"
     ]
    }
   ],
   "source": [
    "#Answer to 1e\n",
    "\n",
    "# Use dist_W here\n",
    "print(\"E(W)\", ...)\n",
    "print(\"SD(W)\", ...)\n",
    "\n",
    "# Use dist_X and dist_Y here\n",
    "\n",
    "print(\"E(W)\", ...)\n",
    "print(\"SD(W)\", ...)\n"
   ]
  },
  {
   "cell_type": "markdown",
   "metadata": {
    "#solution": false,
    "#staff": false,
    "#student": false
   },
   "source": [
    "### 2. Another Use of the PGF ###\n",
    "Let $X$ be a random variable with possible values $0, 1, \\ldots, N$ for a fixed $N$, and for $1 \\le i \\le N$ let $p_i = P(X = i)$. Let $G$ be the pgf of $X$, that is, let\n",
    "\n",
    "$$\n",
    "G(s) ~ = ~ p_0 + p_1s + p_2 s^2 + \\cdots + p_N s^N ~~~ -\\infty < s < \\infty\n",
    "$$\n",
    "\n",
    "**a)** Consider the first derivative of $G$ defined by\n",
    "\n",
    "$$\n",
    "G^{(1)}(s) ~ = ~ \\frac{d}{ds} G(s), ~~~ -\\infty < s < \\infty\n",
    "$$\n",
    "\n",
    "Calculate $G^{(1)}(s)$ and hence identify $G^{(1)}(0)$ and $G^{(1)}(1)$ as probabilities and expectations related to $X$.\n",
    "\n",
    "**b)** Now consider the second derivative of $G$:\n",
    "\n",
    "$$\n",
    "G^{(2)}(s) ~ = ~ \\frac{d^2}{ds^2} G(s), ~~~ -\\infty < s < \\infty\n",
    "$$\n",
    "\n",
    "Recognize (you don't have to prove these) $G^{(2)}(0)$ and $G^{(2)}(1)$ as probabilities and expectations related to $X$. At this point you should start to see why $G$ is called the \"probability generating\" function; you can use it to generate the probabilities in the distribution of $X$.\n",
    "\n",
    "**c)** Write a formula for $Var(X)$ in terms of the derivatives of $G$.\n",
    "\n",
    "**d)** We have defined the probability generating function of a random variable with finitely many non-negative integer values. The definition extends to random variables with infinitely many non-negative integer values, but you have to restrict the domain to $-1 < s < 1$ so that the infinite sum converges:\n",
    "\n",
    "$$\n",
    "G(s) ~ = \\sum_{i=0}^\\infty p_is^i, ~~~ -1 < s < 1\n",
    "$$\n",
    "\n",
    "This is an example of a *power series*. Such series have nice properties, and in particular, you can assume that the results you discovered in parts (a), (b), and (c) hold provided all the sums converge, which they do in the example you are about to explore. \n",
    "\n",
    "Let $X$ have the geometric $(p)$ distribution on $\\{0, 1, 2, 3, \\ldots \\}$, so that $P(X = i) = q^ip$ for $i \\ge 0$; here $q = 1-p$. You can think of $X$ as the number of failures before the first success in a sequence of i.i.d. Bernoulli $(p)$ trials. Find the pgf of $X$ (simplify the infinite sum). \n",
    "\n",
    "**e)** [Continuing Part (d)] Differentiate the probability generating function twice, and use the results of (a) and (c) to find $E(X)$ and $Var(X)$.\n",
    "\n",
    "**f)** Let $T$ be the number of trials till the first success. Use the results of (e) to write down $E(T)$ and $Var(T)$ with little or no further calculation. (You do already know $E(T)$, but derive it from (e) anyway.)"
   ]
  },
  {
   "cell_type": "markdown",
   "metadata": {
    "#solution": false,
    "#staff": false,
    "#student": false
   },
   "source": [
    "### 3. What's Normal? ###\n",
    "In any part of this question that involves a sample size, you can assume the sample size is big enough for the Central Limit Theorem approximation to be good. But pay attention to what is being approximated by the CLT.\n",
    "\n",
    "**a)** In a simple random sample of 1000 faculty taken among all universities in a country, the number of papers published by the sampled faculty in the past year had a mean of 1.1 and an SD of 1.8. Does the Central Limit Theorem say that the distribution of the number of papers published by the sampled faculty in the past year is roughly normal? If not, what do you think is the shape of that distribution? Explain based on the information given in the problem.\n",
    "\n",
    "**b)** Continuing part (a), construct an approximate 90% confidence interval for the mean number of papers published by faculty at all universities in the country in the past year. If this is not possible, explain why not."
   ]
  },
  {
   "cell_type": "markdown",
   "metadata": {
    "#solution": false,
    "#staff": false,
    "#student": false
   },
   "source": [
    "### 4. Widths of Confidence Intervals ###\n",
    "In any part of this question that involves a sample size, you can assume the sample size is big enough for the Central Limit Theorem approximation to be good.\n",
    "\n",
    "**a)** A survey organization has used the methods of our class to construct an approximate 95% confidence interval for the mean annual income of households in a county. The interval runs from \\$66,000 to \\$70,000. If possible, find an approximate 99% confidence interval for the mean annual income of households in the county. If this is not possible, explain why not.\n",
    "\n",
    "**b)** A survey organization is going to take a simple random sample of $n$ voters from among all the voters in a state, to construct a 99% confidence interval for the proportion of voters who favor a proposition. Find an $n$ such that the total width of the confidence interval (left end to right end) will be no more than 0.06. [Remember that you can bound the variance of an indicator.]"
   ]
  },
  {
   "cell_type": "markdown",
   "metadata": {
    "#solution": false,
    "#staff": false,
    "#student": false
   },
   "source": [
    "### 5. Relations Between Three Well Known Distributions ###\n",
    "\n",
    "**a)** Let $U$ be uniform on $(0, 1)$ and let $X = -\\log(U)$. Find the possible values of $X$ and the cdf of $X$. Recognize that $X$ has a well known distribution and provide its name and parameters.\n",
    "\n",
    "**b)** Products of uniform $(0, 1)$ random samples arise when the data are \"fractions of fractions of fractions of ...\" some quantity. Let $U_1, U_2, \\ldots, U_n$ be an i.i.d. uniform $(0, 1)$ sample and let $Y = (U_1U_2 \\cdots U_n)^{\\frac{1}{n}}$ be the *geometric mean* of the sample. If $n$ is large, approximately what is the distribution of $\\log(Y)$?\n",
    "\n",
    "**c)** Let $Z$ be standard normal and let $W = e^Z$. Then $\\log(W) = Z$, that is, the log of $W$ is normal. That is why the distribution of $W$ is called *lognormal*. Find the cdf of $W$ in terms of the standard normal cdf $\\Phi$, and hence find the density of $W$ in terms of the standard normal density $\\phi$."
   ]
  },
  {
   "cell_type": "markdown",
   "metadata": {
    "#solution": false,
    "#staff": false,
    "#student": false
   },
   "source": [
    "### 6. A Mixture ###\n",
    "This is a problem from Pitman's text. Keep in mind that because you know the survival function, mean, and variance of the exponential distribution, you can write down (in terms of the constant $c > 0$) the values of the three integrals $\\int_0^\\infty e^{-cx}dx $, $\\int_0^\\infty xe^{-cx}dx $ and $\\int_0^\\infty x^2e^{-cx}dx $ without integrating. **Use that knowledge; no credit on this problem if you use symbolic math programs or work out the integrals by calculus. We want you to learn how to use probabilistic methods to simplify calculation.**\n",
    "\n",
    "Transistors produced by one machine have a lifetime that is exponentially distributed with mean 100 hours. Those produced by a second machine have an exponentially distributed lifetime with mean 200 hours. A package of 12 transistors contains 4 produced by the first machine and 8 produced by the second. Let $X$ be the lifetime of a transistor picked at random from the package. We say that the distribution of $X$ is a *mixture* of the two exponential distributions.\n",
    "\n",
    "**a)** Find the numerical value of $P(X \\ge 200)$. You don't have to turn in the code; just show your math, then create a cell in any of your notebooks to calculate the value, and report the value at the end of your math calculation. For a number $c$, the expression `np.exp(c)` evaluates to $e^c$.\n",
    "\n",
    "**b)** Find the numerical value of $E(X)$. \n",
    "\n",
    "**c)** For $x>0$, find $P(X \\in dx)$ by conditioning and hence find the density of $X$.\n",
    "\n",
    "**d)** Use your answers to (b) and (c) to find $Var(X)$.\n",
    "\n",
    "[$Var(X)$ is not just an average of the two variances. You should try to think about why.]"
   ]
  },
  {
   "cell_type": "markdown",
   "metadata": {
    "#solution": false,
    "#staff": false,
    "#student": false
   },
   "source": [
    "## Checklist\n",
    "\n",
    "Your submission should have the following parts:\n",
    "\n",
    "#### Part A (Written)\n",
    "\n",
    "- 2a, 2b, 2c, 2d, 2e, 2f\n",
    "- 3a, 3b,\n",
    "- 4a, 4b\n",
    "- 5a, 5b, 5c\n",
    "- 6a, 6b, 6c, 6d\n",
    "\n",
    "#### Part B (Code)\n",
    "\n",
    "- 1a, 1b, 1c, 1d, 1e"
   ]
  },
  {
   "cell_type": "markdown",
   "metadata": {
    "#solution": false,
    "#staff": false,
    "#student": false
   },
   "source": [
    "## Submission Instructions\n",
    "\n",
    "\n",
    "#### Logistics \n",
    "\n",
    "1. Use a scanner or scanning app (such as CamScanner) to digitize your written assignments. Do not take pictures using your phone's camera app.\n",
    "2. For code portions, examine the generated pdf before uploading to make sure that it contains all of your work.\n",
    "3. When submitting to Gradescope, select the pages of your upload corresponding to each question. \n",
    "4. If you encounter any difficulties when submitting or exporting your assignment, please make a private Piazza post **before the deadline**. \n",
    "\n",
    "### **We will not grade assignments which do not have pages selected for each question, are illegibly scanned, or are submitted after 8PM.** \n",
    "\n",
    "\n",
    "#### Part A (Written)\n",
    "- Make sure you have at least 6 pages of homework. Each problem should start on a new page; for example,  Problem 1 on page 1, Problem 2 on page 2, etc.\n",
    "- Scan all the pages into a PDF. **Make sure the PDF page size is 8.5 x 11 inches**. It is your responsibility to check that all the work on the scanned pages is legible. You can use any scanner or a phone using applications such as CamScanner. Save the PDF.\n",
    "- Upload the scanned PDF of your work onto Gradescope for the assignment \"HW_03A\". \n",
    "Refer to [this guide](http://gradescope-static-assets.s3-us-west-2.amazonaws.com/help/submitting_hw_guide.pdf) for detailed instructions about scanning and submitting, or consult course staff.\n",
    "\n",
    "#### Part B (Code)\n",
    "\n",
    "1. **Save your notebook using File > Save and Checkpoint.**\n",
    "2. Run the cell below to generate a pdf file.\n",
    "3. Download the pdf file and confirm that none of your work is missing or cut off.\n",
    "4. Submit the assignment to \"HW_03B\" on Gradescope. Use the entry code \"9GEKKD\" if you haven't already joined the class."
   ]
  },
  {
   "cell_type": "code",
   "execution_count": null,
   "metadata": {
    "#solution": false,
    "#staff": false,
    "#student": false,
    "collapsed": true
   },
   "outputs": [],
   "source": [
    "import gsExport\n",
    "gsExport.generateSubmission(\"hw09.ipynb\")"
   ]
  }
 ],
 "metadata": {
  "anaconda-cloud": {},
  "checksums": [
   "b0aefbc0a2143213357738234b5b70f0",
   "2ab93f815600c8cf44e713b3d83b659b",
   "8df92b7e78bfa2dde4a9c40a864280b0",
   "e4165fd843ccc0629304d5b40941dac6",
   "677783e23ab4fafb9b464753133f86fd",
   "25359deb2f9f114df384428f1523dbe4",
   "00e99f4617adce5a10daa5f0b3f2b424",
   "3d402fd08e23cc257188ddc7326035f5",
   "df50b396cdd430818ab3885bd9d1e5b6",
   "63c69c44e11e01e3da43f2d6a7ece6ff",
   "809753ca53c3c094523791c122927b0b",
   "8e43238ab61fb8333a599bc934beef7c",
   "e9f59c8c470237993ca31e4681a2f083",
   "53a3072ebc6ec6e3f50adca818d4502f",
   "b0823f22d9d5aaa75a27088955fca1f5",
   "36b58ddd245f771e3284672cbdc15ad1",
   "2cf6ee36f37271c1efd23f69eee2ad18",
   "44df4e93f43be96b82edee7466dd6ba4"
  ],
  "kernelspec": {
   "display_name": "Python 3",
   "language": "python",
   "name": "python3"
  },
  "language_info": {
   "codemirror_mode": {
    "name": "ipython",
    "version": 3
   },
   "file_extension": ".py",
   "mimetype": "text/x-python",
   "name": "python",
   "nbconvert_exporter": "python",
   "pygments_lexer": "ipython3",
   "version": "3.5.2"
  },
  "number_of_pagebreaks": 0,
  "widgets": {
   "state": {},
   "version": "1.1.2"
  }
 },
 "nbformat": 4,
 "nbformat_minor": 1
}
