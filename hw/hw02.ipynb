{
 "cells": [
  {
   "cell_type": "markdown",
   "metadata": {},
   "source": [
    "<table align=\"left\" style=\"border-style: hidden\" class=\"table\"> <tr> <td class=\"col-md-2\"><img style=\"float\" src=\"http://prob140.org/assets/icon256.png\" alt=\"Prob140 Logo\" style=\"width: 120px;\"/></td><td><div align=\"left\"><h3 style=\"margin-top: 0;\">Probability for Data Science</h3><h4 style=\"margin-top: 20px;\">UC Berkeley, Spring 2018</h4><p>Ani Adhikari</div></td></tr></table><!-- not in pdf -->"
   ]
  },
  {
   "cell_type": "markdown",
   "metadata": {
    "#solution": false,
    "#staff": false,
    "#student": false
   },
   "source": [
    "# Homework 2 #"
   ]
  },
  {
   "cell_type": "markdown",
   "metadata": {
    "#solution": false,
    "#staff": false,
    "#student": false
   },
   "source": [
    "Starting this week, your homework has two components: A (written work only) and B (also involving code). Each question or subpart is labeled accordingly. Written work should be completed on paper, and coding questions should be done in the notebook. It is your responsibility to ensure that both components of the homework are submitted completely and properly to Gradescope. Refer to the bottom of the notebook for submission instructions and a checklist of what Parts A and B should contain.\n",
    "\n",
    "#### Rules for Written Homework ####\n",
    "\n",
    "- Every answer should contain a calculation or reasoning. For example, a calculation such as $(1/3)(0.8) + (2/3)(0.7)$ is fine without further explanation or simplification. If we want you to simplify, we'll ask you to. But just ${5 \\choose 2}$ is not fine; write \"we need 2 out of the 5 frogs and they can appear in any order\" or whatever reasoning you used. Reasoning can be brief and abbreviated, e.g. \"product rule\" or \"not mut. excl.\"\n",
    "- You may consult others but you must write up your own answers using your own words, notation, and sequence of steps.\n",
    "- In the interest of saving trees, you do not need to *solve* each question on a new piece of paper. Folding the paper to show just the relevant problem will suffice. To ensure the correct page size, we recommend placing the folded part on a blank page before scanning, or adjusting the page settings on your phone scanning app.\n",
    "- You will submit a scanned PDF to Gradescope. **Each question should *start* on a new PDF page. No page should contain two questions.**\n",
    "\n",
    "#### Rules for Coding ####\n",
    "\n",
    "- Do not share, copy, or allow others to copy your code. You may discuss your approach and relevant methods or functions to use.\n",
    "- A code cell (which may contain starter code) is provided for each question or subpart that requires coding. You are free to add additional cells as needed.\n",
    "- You will submit a PDF to Gradescope. See the bottom of the notebook for more instructions.\n",
    "- Here is the Prob140 documentation [guide](https://probability.gitlab.io/prob140/index.html) for your reference. "
   ]
  },
  {
   "cell_type": "code",
   "execution_count": null,
   "metadata": {
    "#solution": false,
    "#staff": false,
    "#student": false,
    "collapsed": true
   },
   "outputs": [],
   "source": [
    "# Run this cell to set up your notebook\n",
    "\n",
    "import numpy as np\n",
    "from datascience import *\n",
    "from prob140 import *\n",
    "\n",
    "# These lines do some fancy plotting magic\n",
    "import matplotlib\n",
    "%matplotlib inline\n",
    "import matplotlib.pyplot as plt\n",
    "plt.style.use('fivethirtyeight')\n",
    "\n",
    "# These lines make warnings look nicer\n",
    "import warnings\n",
    "warnings.simplefilter('ignore', FutureWarning)"
   ]
  },
  {
   "cell_type": "markdown",
   "metadata": {
    "#solution": false,
    "#staff": false,
    "#student": false
   },
   "source": [
    "## 1. Same, Same, or Different ##\n",
    "A die is rolled twice. \n",
    "\n",
    "- $X$ is the first number rolled and $Y$ is the second.\n",
    "- $S = X+Y$\n",
    "- $M = \\max(X, Y)$ and $N = \\min(X, Y)$\n",
    "- $T = M + N$\n",
    "\n",
    "Each of parts (a)-(c) is about a pair of variables. In each part, describe the relation between the pair by picking the correct option from among (i), (ii), and (iii), and explain your choice.\n",
    "\n",
    "(i) equal\n",
    "\n",
    "(ii) not equal, but equal in distribution\n",
    "\n",
    "(iii) not equal in distribution\n",
    "\n",
    "**a) [WRITTEN]** $X$ and $Y$\n",
    "\n",
    "**b) [WRITTEN]** $S$ and $2X$\n",
    "\n",
    "**c) [WRITTEN]** $S$ and $T$"
   ]
  },
  {
   "cell_type": "markdown",
   "metadata": {
    "#solution": false,
    "#staff": false,
    "#student": false
   },
   "source": [
    "#newpage\n",
    "\n",
    "## 2. Maximum of Uniform Random Variables ##\n"
   ]
  },
  {
   "cell_type": "markdown",
   "metadata": {
    "#solution": false,
    "#staff": false,
    "#student": false
   },
   "source": [
    "Two draws are made at random with replacement from the integers $1, 2, \\ldots, n$. Let $X$ be the first number drawn and $Y$ the second. Let $M = \\max(X, Y)$\n",
    "and let $N = \\min(X, Y)$.\n",
    "\n",
    "**a) [WRITTEN]** List all the possible values of $M$, and for each possible value $k$, find $P(M \\le k)$.\n",
    "\n",
    "**b) [WRITTEN]** Use part **a** to show that the distribution of $M$ is given by $P(M = k) = (2k-1)/n^2$\n",
    "for all $k$ in the set of possible values of $M$.\n",
    "\n",
    "**c) [WRITTEN]** Show that the probabilities in the distribution in part **b** sum to 1.\n",
    "\n",
    "**d) [CODE]**  Use the `values` and `probability_function` methods to display a distribution table for $M$ in the case where $n$ = 6. You may find this [page](https://probability.gitlab.io/prob140/tutorial.html#creating-a-distribution) particulary useful.\n",
    "\n",
    "**e) [CODE]** Use the `Plot` method to draw a probability histogram for $M$, with $n$ = 6 as in part **d**."
   ]
  },
  {
   "cell_type": "code",
   "execution_count": null,
   "metadata": {
    "#solution": false,
    "#staff": false,
    "#student": true
   },
   "outputs": [],
   "source": [
    "# Answer to 2d\n",
    "\n",
    "def prob_max_is(k):\n",
    "    return ... # Enter your probability function here\n",
    "\n",
    "possible_values = ... \n",
    "\n",
    "prob_table = ...\n",
    "prob_table"
   ]
  },
  {
   "cell_type": "code",
   "execution_count": null,
   "metadata": {
    "#solution": false,
    "#staff": false,
    "#student": true
   },
   "outputs": [],
   "source": [
    "# Answer to 2e\n",
    "..."
   ]
  },
  {
   "cell_type": "markdown",
   "metadata": {
    "#solution": false,
    "#staff": false,
    "#student": false
   },
   "source": [
    "#newpage\n",
    "## 3. Extrema and Mirror Images ##\n",
    "A die is rolled twice. Let $D_1$ be the first number rolled, and $D_2$ the second. Let $M = \\max(D_1, D_2)$ and $N = \\min(D_1, D_2)$.\n",
    "\n",
    "**a) [CODE]** Use the `values`, `probability_function`, and `to_joint` methods to display a joint distribution table for $M$ and $N$.\n",
    "\n",
    "**b) [CODE]** Use the joint distribution table to display the marginal distributions of both variables. The results should be consistent with your answer to **2d**.\n",
    "\n",
    "**c) [WRITTEN]** Fill in the blank with a number and explain your choice.\n",
    "\n",
    "$N \\stackrel{d}{=} \\underline{~~~~~~~~~~~~~~~~~} - M$\n",
    "\n",
    "**d) [CODE]** Display the conditional distribution of $M$ given $N=k$, for each possible value $k$ of $N$.\n",
    "\n",
    "**e) [WRITTEN] ** The conditional distribution of $M$ given $N=5$ has only two nonzero components. Why only two, and why is one of the bars twice as large as the other?"
   ]
  },
  {
   "cell_type": "code",
   "execution_count": null,
   "metadata": {
    "#solution": false,
    "#staff": false,
    "#student": true
   },
   "outputs": [],
   "source": [
    "# Answer to 3a\n",
    "def p(maximum, minimum):\n",
    "    ... # Enter your probability function here \n",
    "    \n",
    "prob_table = ...\n",
    "prob_table"
   ]
  },
  {
   "cell_type": "code",
   "execution_count": null,
   "metadata": {
    "#solution": false,
    "#staff": false,
    "#student": true
   },
   "outputs": [],
   "source": [
    "# Answer to 3b\n",
    "..."
   ]
  },
  {
   "cell_type": "code",
   "execution_count": null,
   "metadata": {
    "#solution": false,
    "#staff": false,
    "#student": true
   },
   "outputs": [],
   "source": [
    "# Answer to 3d\n",
    "..."
   ]
  },
  {
   "cell_type": "markdown",
   "metadata": {
    "#solution": false,
    "#staff": false,
    "#student": false
   },
   "source": [
    "## 4. A Bound ##\n",
    "**[WRITTEN]** Find a numerical value of $k$ that makes the following statement true:\n",
    "\n",
    "In $k$ rolls of a fair die, there is at least 99% chance that all six faces will appear.\n",
    "\n",
    "A good starting point: The complement is a union of which events? Can you bound the chance of a union and thus get an inequality to solve for $k$?\n",
    "\n"
   ]
  },
  {
   "cell_type": "markdown",
   "metadata": {
    "#solution": false,
    "#staff": false,
    "#student": false
   },
   "source": [
    "## 5. A Complete Set of Coupons ##\n",
    "Each box of a cereal contains one of $n$ different coupons. Once you collect all $n$ coupons, you get a prize. Assume that each box is equally likely to contain any of the $n$ coupons, independently of all the other boxes. \n",
    "\n",
    "**What is the chance that you get the prize if you buy $b$ boxes?** Of course $b \\ge n$.\n",
    "\n",
    "Before you start calculations, notice that if $n=6$ you can replace \"box\" with \"roll of a die\" and \"coupon\" with \"face\", and the question is asking for the chance that all six faces appear in the $b$ rolls. You bounded this chance in an earlier problem; here you will find it exactly.\n",
    "\n",
    "If $n$ is 365 and a \"coupon\" is a person's birthday, the question is asking for the chance that you see all 365 days of the year among $b$ birthdays, under the usual assumptions of the birthday problem.\n",
    "\n",
    "In terms of classification, if each individual is equally likely to belong to one of $n$ classes independently of all other individuals, then the question is asking for the chance that you see all the $n$ classes among $b$ individuals.\n",
    "\n",
    "For $n=2$ faces, the answer is the chance of getting at least one head and at least one tail in $b$ tosses of a coin. That's worked out in the textbook (with different notation) in Chapter 1. \n",
    "\n",
    "**a) [WRITTEN] ** Answer the question for $n=3$. In an example in discussion section, and earlier in this homework, you made the key observation that the complement of the event in question is a union. Use inclusion-exclusion.\n",
    "\n",
    "**b) [WRITTEN] ** Jump to $n=6$ and $b$ rolls of a die. Follow the same plan as in part (b) but with more terms. It will help to think about the number of different pairs of faces, the number of different triples of faces, and so on.\n",
    "\n",
    "**c) [WRITTEN] ** Write the answer for general $n$ and $b$."
   ]
  },
  {
   "cell_type": "markdown",
   "metadata": {
    "#solution": false,
    "#staff": false,
    "#student": false
   },
   "source": [
    "## 6. Aces in a General Deck ##\n",
    "A deck of $d$ cards contains $a$ aces; here $1 \\le a < d$ are integers. Cards are dealt from the deck at random without replacement.\n",
    "\n",
    "**a) [WRITTEN]** What is the chance that the fourth card dealt is an ace, given that the seventh card dealt is not an ace? You can assume $d > 7$.\n",
    "\n",
    "**b) [WRITTEN]** What is the chance that among the first $n$ cards dealt, there are $k$ aces? You can assume that all \"impossible\" combinatorial terms such as ${5 \\choose {10}}$ or ${6 \\choose -1}$ or ${-9 \\choose 2}$ are defined to be 0. This saves a lot of worrying about exactly what $k$ might be in relation to $d$ and $a$.\n",
    "\n",
    "**c) [WRITTEN]** Let $X$ be the number of cards dealt till the first ace appears. For example, if the sequence of cards dealt starts out as `non-ace, non-ace, non-ace, ace` then $X = 4$. If the sequence starts with `ace` then $X = 1$. List all the possible values of $X$, and then find the distribution of $X$.\n",
    "\n",
    "**d) [WRITTEN]** For $k$ a possible value of $X$, write a formula for $P(X \\ge k)$ by summing appropriate terms from part **c**. Just leave the answer in sigma notation.\n",
    "\n",
    "**e) [WRITTEN]** The event $\\{ X \\ge k \\}$ is equivalent to an event about the first $k-1$ cards dealt. What is that event, and what is its probability?\n",
    "\n",
    "**f) [WRITTEN]** An *identity* is an equality that holds for all values of any parameters involved. For example, $2 + 2 = 4$ is an identity that doesn't involve any parameters; $(n+1)^2 = n^2 + 2n + 1$ is an identity because the two sides are equal for all values of $n$. Because the answers to parts **d** and **e** must be equal, you have the identity \"answer to **d** = answer to **e**\". Write out the identity, canceling common factors on both sides. Now congratulate yourself. By completing parts **d**, **e**, and **f**, you have given a *probabilistic proof* of a combinatorial identity."
   ]
  },
  {
   "cell_type": "markdown",
   "metadata": {
    "#solution": false,
    "#staff": false,
    "#student": false,
    "collapsed": true
   },
   "source": [
    "## Checklist\n",
    "\n",
    "Your submission should have the following parts:\n",
    "\n",
    "#### Part A (Written)\n",
    "\n",
    "- 1a, 1b, 1c\n",
    "- 2a, 2b, 2c\n",
    "- 3c, 3e\n",
    "- 4\n",
    "- 5a, 5b, 5c\n",
    "- 6a, 6b, 6c, 6d, 6e, 6f\n",
    "\n",
    "#### Part B (Code)\n",
    "\n",
    "- 2d, 2e\n",
    "- 3a, 3b, 3d"
   ]
  },
  {
   "cell_type": "markdown",
   "metadata": {
    "#solution": false,
    "#staff": false,
    "#student": false
   },
   "source": [
    "## Submission Instructions\n",
    "\n",
    "#### Part A (Written)\n",
    "- Make sure you have at least 6 pages of homework. Each problem should start on a new page; for example,  Problem 1 on page 1, Problem 2 on page 2, etc.\n",
    "- Scan all the pages into a PDF. **Make sure the PDF page size is 8.5 x 11 inches**. It is your responsibility to check that all the work on the scanned pages is legible. You can use any scanner or a phone using applications such as CamScanner. Save the PDF.\n",
    "- Upload the scanned PDF of your work onto Gradescope for the assignment \"HW_02A\". \n",
    "Refer to [this guide](http://gradescope-static-assets.s3-us-west-2.amazonaws.com/help/submitting_hw_guide.pdf) for detailed instructions about scanning and submitting, or consult course staff.\n",
    "\n",
    "#### Part B (Code)\n",
    "\n",
    "1. **Save your notebook using File > Save and Checkpoint.**\n",
    "2. Run the cell below to generate a pdf file.\n",
    "3. Download the pdf file and confirm that none of your work is missing or cut off.\n",
    "4. Submit the assignment to \"HW_02B\" on Gradescope. Use the entry code \"9GEKKD\" if you haven't already joined the class."
   ]
  },
  {
   "cell_type": "code",
   "execution_count": null,
   "metadata": {
    "#solution": false,
    "#staff": false,
    "#student": false
   },
   "outputs": [],
   "source": [
    "import gsExport\n",
    "gsExport.generateSubmission(\"hw02.ipynb\")"
   ]
  }
 ],
 "metadata": {
  "checksums": [
   "b0aefbc0a2143213357738234b5b70f0",
   "b33297e1eff1902e80bcc722d659baa9",
   "da9e2a2a2190557e3a7c0353be583cfb",
   "03500ea7ce637a18330452cd8e93ec36",
   "1481027833f639f209309ed2f45dd32b",
   "3245b6e05cb66fc00c3f7e27d68c5f7f",
   "baab96611f6fa9d05599c359d49d09ed",
   "cb6b37cfa0396888832562fb4c50c4e3",
   "14e5b61beba0b69a4f1b1cc3b3de63fc",
   "eceb72b84494ea6a8372c6b1cec69a67",
   "7a600d3d2c195ff3a0db79320c362eb4",
   "a9af8c3e2cfb0752e439e4b6af7ed2ef",
   "f66f5c44b0acd1d1ce6c4e6fc7c7422f",
   "699a8a9f2229845f2ecdbb099fe02fff",
   "e07702ab353571a0c8ade35a7b88a9ce",
   "58096dc5b38c3b717bf279353f371494",
   "f3d15ddf25b7d5e63ee48076794ddd83",
   "34794b9eb12c9a5ebebe7fb9af782bea",
   "aa76281f93f093d00139a33d1c949c52"
  ],
  "kernelspec": {
   "display_name": "Python 3",
   "language": "python",
   "name": "python3"
  },
  "language_info": {
   "codemirror_mode": {
    "name": "ipython",
    "version": 3
   },
   "file_extension": ".py",
   "mimetype": "text/x-python",
   "name": "python",
   "nbconvert_exporter": "python",
   "pygments_lexer": "ipython3",
   "version": "3.5.2"
  },
  "number_of_pagebreaks": 2,
  "widgets": {
   "state": {},
   "version": "1.1.2"
  }
 },
 "nbformat": 4,
 "nbformat_minor": 1
}
