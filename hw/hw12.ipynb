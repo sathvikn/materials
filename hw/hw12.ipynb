{
 "cells": [
  {
   "cell_type": "markdown",
   "metadata": {},
   "source": [
    "<table align=\"left\" style=\"border-style: hidden\" class=\"table\"> <tr> <td class=\"col-md-2\"><img style=\"float\" src=\"http://prob140.org/assets/icon256.png\" alt=\"Prob140 Logo\" style=\"width: 120px;\"/></td><td><div align=\"left\"><h3 style=\"margin-top: 0;\">Probability for Data Science</h3><h4 style=\"margin-top: 20px;\">UC Berkeley, Spring 2018</h4><p>Ani Adhikari</div></td></tr></table><!-- not in pdf -->"
   ]
  },
  {
   "cell_type": "code",
   "execution_count": null,
   "metadata": {
    "#solution": false,
    "#staff": false,
    "#student": false,
    "collapsed": true
   },
   "outputs": [],
   "source": [
    "# HIDDEN\n",
    "from datascience import *\n",
    "from prob140 import *\n",
    "import numpy as np\n",
    "import matplotlib.pyplot as plt\n",
    "plt.style.use('fivethirtyeight')\n",
    "%matplotlib inline\n",
    "from scipy import stats\n",
    "from scipy import misc\n",
    "from scipy import special"
   ]
  },
  {
   "cell_type": "markdown",
   "metadata": {
    "#solution": false,
    "#staff": false,
    "#student": false
   },
   "source": [
    "# Homework 12 #\n",
    "\n",
    "Your homework has two components: A (written work only) and B (also involving code). Each question or subpart is labeled accordingly. Written work should be completed on paper, and coding questions should be done in the notebook. It is your responsibility to ensure that your homework is submitted completely and properly to Gradescope. Refer to the bottom of the notebook for submission instructions.\n",
    "\n",
    "#### Rules for Written Homework ####\n",
    "\n",
    "- Every answer should contain a calculation or reasoning. For example, a calculation such as $(1/3)(0.8) + (2/3)(0.7)$ is fine without further explanation or simplification. If we want you to simplify, we'll ask you to. But just ${5 \\choose 2}$ is not fine; write \"we need 2 out of the 5 frogs and they can appear in any order\" or whatever reasoning you used. Reasoning can be brief and abbreviated, e.g. \"product rule\" or \"not mut. excl.\"\n",
    "- You may consult others but you must write up your own answers using your own words, notation, and sequence of steps.\n",
    "- In the interest of saving trees, you do not need to *solve* each question on a new piece of paper. Folding the paper to show just the relevant problem will suffice. To ensure the correct page size, we recommend placing the folded part on a blank page before scanning, or adjusting the page settings on your phone scanning app.\n",
    "- You will submit a scanned PDF to Gradescope. **Each question should *start* on a new PDF page. No page should contain two questions.**\n",
    "\n",
    "#### Rules for Coding ####\n",
    "\n",
    "- Do not share, copy, or allow others to copy your code. You may discuss your approach and relevant methods or functions to use.\n",
    "- A code cell (which may contain starter code) is provided for each question or subpart that requires coding. You are free to add additional cells as needed.\n",
    "- You will submit a PDF to Gradescope. See the bottom of the notebook for more instructions.\n",
    "- Here is the Prob140 documentation [guide](https://probability.gitlab.io/prob140/index.html) for your reference."
   ]
  },
  {
   "cell_type": "markdown",
   "metadata": {
    "#solution": false,
    "#staff": false,
    "#student": false
   },
   "source": [
    "### 1.  Heads in Tosses of a Random Coin ###\n",
    "Let $X$ be a random proportion with a prior distribution that is beta $(2, 3)$. Given $X = p$, let $N$ be the number of heads in 5 tosses of a $p$-coin.\n",
    "\n",
    "**a) [CODE]** Plot the prior density of $X$.\n",
    "\n",
    "**b) [CODE]** For each $n = 0, 1, 2, 3, 4, 5$, plot the posterior density of $X$ given $N=n$. All six plots should be on the same graph. \n",
    "\n",
    "**c) [CODE]** For each $n = 0, 1, 2, 3, 4, 5$, find the MAP estimate of the probability of heads. Check that your answers are consistent with the graphs in (b).\n",
    "\n",
    "**d) [CODE]** Complete the cell below to display the probability histogram of $N$. You can use any number of lines of code in the definition. Use `misc.factorial(x)` to get the factorials of the non-negative integer array `x`. The `misc` module of `SciPy` has been imported for you. In the blanks in the last line of the cell, enter the name of the distribution and provide the numerical parameters."
   ]
  },
  {
   "cell_type": "code",
   "execution_count": null,
   "metadata": {
    "#solution": false,
    "#staff": false,
    "#student": true,
    "collapsed": true
   },
   "outputs": [],
   "source": [
    "#your answer to 1d\n",
    "def dist_X(n):\n",
    "    ...\n",
    "    ...\n",
    "    return ...\n",
    "\n",
    "dist = Table().values(...).probability_function(dist_X)\n",
    "Plot(dist)\n",
    "plt.title('... Distribution with Parameters ...')"
   ]
  },
  {
   "cell_type": "markdown",
   "metadata": {
    "#solution": false,
    "#staff": false,
    "#student": false
   },
   "source": [
    "**e)** Find the numerical value of $E(N)$ without using a code cell."
   ]
  },
  {
   "cell_type": "code",
   "execution_count": null,
   "metadata": {
    "#solution": false,
    "#staff": false,
    "#student": true,
    "collapsed": true
   },
   "outputs": [],
   "source": [
    "#your answer to 1a"
   ]
  },
  {
   "cell_type": "code",
   "execution_count": null,
   "metadata": {
    "#solution": false,
    "#staff": false,
    "#student": true,
    "collapsed": true
   },
   "outputs": [],
   "source": [
    "#your answer to 1b"
   ]
  },
  {
   "cell_type": "code",
   "execution_count": null,
   "metadata": {
    "#solution": false,
    "#staff": false,
    "#student": true,
    "collapsed": true
   },
   "outputs": [],
   "source": [
    "#your answer to 1c"
   ]
  },
  {
   "cell_type": "markdown",
   "metadata": {
    "#solution": false,
    "#staff": false,
    "#student": false
   },
   "source": [
    "#newpage"
   ]
  },
  {
   "cell_type": "markdown",
   "metadata": {
    "#solution": false,
    "#staff": false,
    "#student": false
   },
   "source": [
    "### 2. Waiting for a Random Coin to Land Heads ###\n",
    "Let $X$ be a random proportion. Given $X=p$, let $T$ be the number of tosses till a $p$-coin lands heads.\n",
    "\n",
    "**a)** Let $P(X = 1/10) = 1/4$, $P(X = 1/7) = 1/4$, and $P(X = 1/3) = 1/2$. Find $E(T)$.\n",
    "\n",
    "**b)** Find $E(T)$ if $X$ has the beta $(r, s)$ density for some $r > 1$."
   ]
  },
  {
   "cell_type": "markdown",
   "metadata": {
    "#solution": false,
    "#staff": false,
    "#student": false
   },
   "source": [
    "#newpage"
   ]
  },
  {
   "cell_type": "markdown",
   "metadata": {
    "#solution": false,
    "#staff": false,
    "#student": false
   },
   "source": [
    "### 3. Correlation ###\n",
    "The covariance of random variables $X$ and $Y$ has nasty units: the product of the units of $X$ and the units of $Y$. Dividing the covariance by the two SDs results in an important pure number.\n",
    "\n",
    "The *correlation coefficient* between random variables $X$ and $Y$ is defined as\n",
    "\n",
    "$$\n",
    "r(X, Y) ~ = \\frac{Cov(X, Y)}{SD(X)SD(Y)}\n",
    "$$\n",
    "\n",
    "It is called the correlation, for short. The definition explains why $X$ and $Y$ are called *uncorrelated* if $Cov(X, Y) = 0$.\n",
    "\n",
    "**a)** Let $X^*$ be $X$ is standard units and let $Y^*$ be $Y$ in standard units. Check that\n",
    "\n",
    "$$\n",
    "r(X, Y) = E(X^*Y^*)\n",
    "$$\n",
    "\n",
    "This is the random variable version of the Data 8 definition of the correlation between two data variables: convert each variable to standard units; multiply each pair; take the mean of the products.\n",
    "\n",
    "**b)** Use the fact that $(X^* + Y^*)^2$ and $(X^* - Y^*)^2$ are non-negative random variables to show that $-1 \\le r(X, Y) \\le 1$.\n",
    "\n",
    "[First find the numerical values of $E(X^*)$ and $E({X^*}^2)$. Then find $E(X^* + Y^*)^2$.]\n",
    "\n",
    "**c)** Show that if $Y = aX+b$ where $a \\ne 0$, then $r(X, Y)$ is 1 or $-1$ depending on whether the sign of $a$ is positive or negative.\n",
    "\n",
    "**d)** Consider a sequence of i.i.d. Bernoulli $(p)$ trials. For any positive integer $k$ let $X_k$ be the number of successes in trials 1 through $k$. **Use bilinearity** to find $Cov(X_n, X_{n+m})$ and hence find $r(X_n, X_{n+m})$.\n",
    "\n",
    "**e)** Fix $n$ and find the limit of your answer to **c** as $m \\to \\infty$. Explain why the limit is consistent with intuition."
   ]
  },
  {
   "cell_type": "markdown",
   "metadata": {
    "#solution": false,
    "#staff": false,
    "#student": false
   },
   "source": [
    "#newpage"
   ]
  },
  {
   "cell_type": "markdown",
   "metadata": {
    "#solution": false,
    "#staff": false,
    "#student": false
   },
   "source": [
    "### 4. Discrete and Continuous Random Selections ###\n",
    "Fix a positive integer $n$, and let $p$ be strictly between 0 and 1.\n",
    "\n",
    "Suppose Person A picks a number uniformly in the interval $(0, n)$. Let $X$ be the number Person A picks.\n",
    "\n",
    "Suppose that independently of Person A, Person B picks an integer $Y$ according to the binomial $(n, p)$ distribution, for example by using `stats.binom.rvs(n, p, size=1)` or by tossing a $p$-coin $n$ times and recording the number of heads.\n",
    "\n",
    "Find $P(X < Y)$."
   ]
  },
  {
   "cell_type": "markdown",
   "metadata": {
    "#solution": false,
    "#staff": false,
    "#student": false
   },
   "source": [
    "#newpage"
   ]
  },
  {
   "cell_type": "markdown",
   "metadata": {
    "#solution": false,
    "#staff": false,
    "#student": false
   },
   "source": [
    "### 5. Maximum Likelihood Estimate of the Exponential Rate ###\n",
    "Let $X_1, X_2, \\ldots , X_n$ be i.i.d. exponential $(\\lambda )$ variables. \n",
    "\n",
    "**a)** Let $\\hat{\\lambda}_n$ be the maximum likelihood estimate (MLE) of the parameter $\\lambda$. Find $\\hat{\\lambda}_n$ in terms of the sample mean $\\bar{X}_n = \\frac{1}{n} \\sum_{i=1}^n X_i$. The subscript $n$ in $\\bar{X}_n$ is there to remind us that we have the average of $n$ values. It doesn't refer to the $n$th sampled value $X_n$.\n",
    "\n",
    "**b) [CODE]** This part is a simulation study in which you already know $\\lambda$ and are examining how close your estimate comes to this known value. Take $\\lambda = 0.25$. We have assigned it the name `lam` because `lambda` means something else in Python.\n",
    "\n",
    "Repeat the following simulation 10,000 times.\n",
    "- Generate a sample of 400 i.i.d. exponential (`lam`) variables. Use `stats.expon.rvs(scale = 1/lam, size=400)`.\n",
    "- Calculate your MLE $\\hat{\\lambda}_{400}$ based on this sample.\n",
    "\n",
    "Then draw the histogram and find the mean of your 10,000 MLEs. "
   ]
  },
  {
   "cell_type": "code",
   "execution_count": null,
   "metadata": {
    "#solution": false,
    "#staff": false,
    "#student": true,
    "collapsed": true
   },
   "outputs": [],
   "source": [
    "#your histogram for 5b\n",
    "lam = 0.25\n",
    "\n",
    "mle_400 = make_array()\n",
    "...\n",
    "Table().with_column('mle', mle_400).hist(bins=20)"
   ]
  },
  {
   "cell_type": "code",
   "execution_count": null,
   "metadata": {
    "#solution": false,
    "#staff": false,
    "#student": true,
    "collapsed": true
   },
   "outputs": [],
   "source": [
    "#mean of your 10000 mle's\n",
    "..."
   ]
  },
  {
   "cell_type": "markdown",
   "metadata": {
    "#solution": false,
    "#staff": false,
    "#student": false
   },
   "source": [
    "**c)** Use facts about sums and linear transformations to find the distribution of $\\bar{X}_n$ with little or no calculation. Recognize it as one of the famous ones and provide its name and parameters. Use it to find $E(\\hat{\\lambda}_n)$.\n",
    "\n",
    "**d)** Is $\\hat{\\lambda}_n$ an unbiased estimate of $\\lambda$? If it is biased, does it overestimate on average, or does it underestimate? Is it asymptotically unbiased? That is, does $E(\\hat{\\lambda}_n)$ converge to $\\lambda$ as $n \\to \\infty$?\n",
    "\n",
    "**e)** Your simulation in **b)** should show an approximately normal distribution for $\\hat{\\lambda}_n$. The Central Limit Theorem says the distribution of $\\bar{X}_n$ should be approximately normal, but is $\\hat{\\lambda}_n$ a linear function of $\\bar{X}_n$? If not, why is its distribution approximately normal?\n",
    "\n",
    "[This one needs a little thought but no calculation. Think about what a smooth function looks like over a small interval in its domain, and then think about why small intervals are relevant here.]"
   ]
  },
  {
   "cell_type": "markdown",
   "metadata": {
    "#solution": false,
    "#staff": false,
    "#student": false
   },
   "source": [
    "#newpage"
   ]
  },
  {
   "cell_type": "markdown",
   "metadata": {
    "#solution": false,
    "#staff": false,
    "#student": false
   },
   "source": [
    "### 6. Maximum Likelihood Estimates of the Gamma Shape and Rate ###\n",
    "Likelihood functions can be complicated and MLEs can't always be found analytically. This exercise is an example where the maximization has to be done numerically. \n",
    "\n",
    "Let $X_1, X_2, \\ldots, X_n$ be i.i.d., each with the gamma $(r, \\lambda)$ distribution. \n",
    "\n",
    "**a) [CODE]** Suppose that we are all-knowing, and suppose we know that the true value of $r$ is 3 and the true value of $\\lambda$ is 0.25. Run the cell below to create a sample of size $n = 625$. We are going to give this sample to some data scientists and ask them to use the maximum likelihood method to estimate $r$ and $\\lambda$.  "
   ]
  },
  {
   "cell_type": "code",
   "execution_count": null,
   "metadata": {
    "#solution": false,
    "#staff": false,
    "#student": false,
    "collapsed": true
   },
   "outputs": [],
   "source": [
    "true_r = 3\n",
    "true_lam = 0.25\n",
    "\n",
    "n = 625\n",
    "\n",
    "original_sample = stats.gamma.rvs(true_r, scale=1/true_lam, size=n)\n",
    "original_tbl = Table().with_column('Original Sample', original_sample)"
   ]
  },
  {
   "cell_type": "markdown",
   "metadata": {
    "#solution": false,
    "#staff": false,
    "#student": false
   },
   "source": [
    "Run the cell below to see the distribution of the sample."
   ]
  },
  {
   "cell_type": "code",
   "execution_count": null,
   "metadata": {
    "#solution": false,
    "#staff": false,
    "#student": false
   },
   "outputs": [],
   "source": [
    "original_tbl.hist(bins=20)"
   ]
  },
  {
   "cell_type": "markdown",
   "metadata": {
    "#solution": false,
    "#staff": false,
    "#student": false
   },
   "source": [
    "Let $\\bar{X}_n = \\frac{1}{n} \\sum_{i=1}^n X_i$. Find $E(\\bar{X}_n)$, and in the cell below, find the observed value of $\\bar{X}_n$ in the sample created above."
   ]
  },
  {
   "cell_type": "code",
   "execution_count": null,
   "metadata": {
    "#solution": false,
    "#staff": false,
    "#student": true,
    "collapsed": true
   },
   "outputs": [],
   "source": [
    "#your solution to 6a\n",
    "..."
   ]
  },
  {
   "cell_type": "markdown",
   "metadata": {
    "#solution": false,
    "#staff": false,
    "#student": false
   },
   "source": [
    "**b)** Write the log likelihood function $L(r, \\lambda)$ given an i.i.d. gamma $(r, \\lambda)$ sample $X_1, X_2, \\ldots, X_n$. For fixed $r$, find the value of $\\lambda$ that maximizes this log likelihood function. Your answer should be in terms of $r$ and the sample. Is it consistent with your answer to **5a**?"
   ]
  },
  {
   "cell_type": "markdown",
   "metadata": {
    "#solution": false,
    "#staff": false,
    "#student": false
   },
   "source": [
    "**c)** Now write the equation that has to be solved to find the maximizing value of $r$. The equation should just involve $r$ and the sample. Don't forget that $\\Gamma$ is a function of $r$. And don't even try to solve your equation."
   ]
  },
  {
   "cell_type": "markdown",
   "metadata": {
    "#solution": false,
    "#staff": false,
    "#student": false
   },
   "source": [
    "**d) [CODE]** The equation in (c) doesn't have a closed-form analytical solution. The data scientists are going to have to see if they can maximize the log likelihood function numerically. The answers might be approximations, but good optimization programs work very well with smooth function. \n",
    "\n",
    "Help the data scientists by defining the function `log_likelihood` in the cell below. It takes $r$, $\\lambda$ and the data as arguments and should return the log likelihood based on $r$, $\\lambda$, and the values of the data.\n",
    "\n",
    "Helpful code:\n",
    "- `np.log(x)` for $\\log(x)$; `x` can be an array\n",
    "- `special.gamma(x)` for $\\Gamma(x)$ where `x` is a positive number; the `special` module of `SciPy` has been imported for you\n",
    "\n",
    "You can use `n` in place of 625 as `n = 625` was assigned earlier. "
   ]
  },
  {
   "cell_type": "code",
   "execution_count": null,
   "metadata": {
    "#solution": false,
    "#staff": false,
    "#student": true,
    "collapsed": true
   },
   "outputs": [],
   "source": [
    "#your solution to 6d\n",
    "\n",
    "def log_likelihood(r, lam, data):\n",
    "    sample_sum = ...\n",
    "    sum_of_logs = ...\n",
    "    return ..."
   ]
  },
  {
   "cell_type": "markdown",
   "metadata": {
    "#solution": false,
    "#staff": false,
    "#student": false
   },
   "source": [
    "Most numerical optimization systems include a minimizing function because minimizing distances is a common use. The data scientists are going to use the function `minimize` from the `datascience` library. It is a version of the `minimize` function in the `optimize` module of `SciPy`. \n",
    "\n",
    "The argument of `minimize` is the name of the function being minimized. This function must only take numerical arguments (more than one is fine) and return a numercial output. \n",
    "\n",
    "`minimize` returns the minimizing argument (or arguments) of the specified function.\n",
    "\n",
    "The example below shows how to use `minimize` to find the values of $a$ and $b$ that minimize $f(a, b) = a^2 + b^2 + 2$. The math answer is $a = 0$ and $b = 0$."
   ]
  },
  {
   "cell_type": "code",
   "execution_count": null,
   "metadata": {
    "#solution": false,
    "#staff": false,
    "#student": false
   },
   "outputs": [],
   "source": [
    "def f(a, b):\n",
    "    return a**2 + b**2 + 2\n",
    "\n",
    "minimize(f)"
   ]
  },
  {
   "cell_type": "markdown",
   "metadata": {
    "#solution": false,
    "#staff": false,
    "#student": false
   },
   "source": [
    "Maximizing a function is the same as minimizing the negative of that function. In the cell below, define the function that has to be specified as the argument to `minimize` in order to find the maximum likelihood estimates of $r$ and $\\lambda$. Remember that the function should only take $r$ and $\\lambda$ as its arguments."
   ]
  },
  {
   "cell_type": "code",
   "execution_count": null,
   "metadata": {
    "#solution": false,
    "#staff": false,
    "#student": true,
    "collapsed": true
   },
   "outputs": [],
   "source": [
    "#your solution to 6d (continued)\n",
    "\n",
    "def function_to_minimize(r, lam):\n",
    "    return ..."
   ]
  },
  {
   "cell_type": "markdown",
   "metadata": {
    "#solution": false,
    "#staff": false,
    "#student": false
   },
   "source": [
    "Minimizing complicated functions isn't easy and the default numerical method used by `minimize` doesn't do well with the gamma log likelihood function. But `minimize` takes an optional argument that specifies the numerical method that should be used for optimization. We have specified the option `method = 'Nelder-Mead'` when you use `minimize` below. This specifies a simplex algorithm and works just fine. You don't have to worry about this detail but you're welcome to look up simplex algorithms if you are interested.\n",
    "\n",
    "Run the cell below. If you have defined your functions correctly above, you are likely to see pretty good estimates of the true values of $r$ and $\\lambda$ specified at the start of the exercise."
   ]
  },
  {
   "cell_type": "code",
   "execution_count": null,
   "metadata": {
    "#solution": false,
    "#staff": false,
    "#student": false
   },
   "outputs": [],
   "source": [
    "minimize(function_to_minimize, method = 'Nelder-Mead')"
   ]
  },
  {
   "cell_type": "markdown",
   "metadata": {
    "#solution": false,
    "#staff": false,
    "#student": false
   },
   "source": [
    "These are the data scientists' estimates $\\hat{r}$ and $\\hat{\\lambda}$ based on their sample. "
   ]
  },
  {
   "cell_type": "markdown",
   "metadata": {
    "#solution": false,
    "#staff": false,
    "#student": false
   },
   "source": [
    "**e) [CODE]** No data scientist is just going to present one number as the estimate of a parameter and say that's the end of the story. They are going to construct a confidence interval for the parameter. Help the data scientists by constructing an approximate 95% confidence interval for $r$ using maximum likeihood estimates based on 2500 bootstrap replications of their sample.\n",
    "\n",
    "Helpful code, with more details in the [Data 8 reference sheet](http://data8.org/sp18/python-reference.html):\n",
    "- tbl.sample(...) samples uniformly at random from the rows of a table\n",
    "- np.random.choice(...) samples uniformly at random from an array\n",
    "\n",
    "Here's a blank cell for your code. All the necessary pieces are in the cells above. You have to figure out the sequence and put it together. You should expect the code to take a little while to run because of all the bootstrapping and minimizing."
   ]
  },
  {
   "cell_type": "code",
   "execution_count": null,
   "metadata": {
    "#solution": false,
    "#staff": false,
    "#student": true,
    "collapsed": true
   },
   "outputs": [],
   "source": [
    "#your solution to 6e\n",
    "\n",
    "..."
   ]
  },
  {
   "cell_type": "code",
   "execution_count": null,
   "metadata": {
    "#solution": false,
    "#staff": false,
    "#student": false
   },
   "outputs": [],
   "source": [
    "Table().with_column('MLE of r', r_mles).hist(bins=20)"
   ]
  },
  {
   "cell_type": "markdown",
   "metadata": {
    "#solution": false,
    "#staff": false,
    "#student": false
   },
   "source": [
    "Construct the confidence interval in the cell below. Helpful code:\n",
    "\n",
    "- `percentile(45, x)` evaluates to the 45th percentile of the array `x`"
   ]
  },
  {
   "cell_type": "code",
   "execution_count": null,
   "metadata": {
    "#solution": false,
    "#staff": false,
    "#student": true,
    "collapsed": true
   },
   "outputs": [],
   "source": [
    "#6e continued\n",
    "\n",
    "left_end = ...\n",
    "right_end = ...\n",
    "\n",
    "good = left_end < true_r and right_end > true_r\n",
    "\n",
    "[left_end, right_end], good"
   ]
  },
  {
   "cell_type": "markdown",
   "metadata": {
    "#solution": false,
    "#staff": false,
    "#student": false
   },
   "source": [
    "**f)** There are 103 students enrolled in Prob 140. About how many students are expected to get `True` in the answer above?"
   ]
  },
  {
   "cell_type": "markdown",
   "metadata": {
    "#solution": false,
    "#staff": false,
    "#student": false
   },
   "source": [
    "You've helped the data scientists a lot. You are done with your homework. If the data scientists want a confidence interval for $\\lambda$, they're going to have to get it themselves."
   ]
  },
  {
   "cell_type": "markdown",
   "metadata": {
    "#solution": false,
    "#staff": false,
    "#student": false
   },
   "source": [
    "## Checklist\n",
    "\n",
    "Your submission should have the following parts:\n",
    "\n",
    "#### Part A (Written)\n",
    "\n",
    "- 1e\n",
    "- 2a, 2b\n",
    "- 3a, 3b, 3c, 3d, 3e\n",
    "- 4\n",
    "- 5a, 5c, 5d, 5e\n",
    "- 6b, 6c, 6f\n",
    "\n",
    "#### Part B (Code)\n",
    "\n",
    "- 1a, 1b, 1c, 1d\n",
    "- 5b\n",
    "- 6a, 6d, 6e"
   ]
  },
  {
   "cell_type": "markdown",
   "metadata": {
    "#solution": false,
    "#staff": false,
    "#student": false,
    "collapsed": true
   },
   "source": [
    "## Submission Instructions\n",
    "\n",
    "\n",
    "#### Logistics \n",
    "\n",
    "1. Use a scanner or scanning app (such as CamScanner) to digitize your written assignments. Do not take pictures using your phone's camera app.\n",
    "2. For code portions, examine the generated pdf before uploading to make sure that it contains all of your work.\n",
    "3. When submitting to Gradescope, select the pages of your upload corresponding to each question. \n",
    "4. If you encounter any difficulties when submitting or exporting your assignment, please make a private Piazza post **before the deadline**. \n",
    "\n",
    "### **We will not grade assignments which do not have pages selected for each question, are illegibly scanned, or are submitted after 8PM.** \n",
    "\n",
    "\n",
    "#### Part A (Written)\n",
    "- Make sure you have at least 6 pages of homework. Each problem should start on a new page; for example,  Problem 1 on page 1, Problem 2 on page 2, etc.\n",
    "- Scan all the pages into a PDF. **Make sure the PDF page size is 8.5 x 11 inches**. It is your responsibility to check that all the work on the scanned pages is legible. You can use any scanner or a phone using applications such as CamScanner. Save the PDF.\n",
    "- Upload the scanned PDF of your work onto Gradescope for the assignment \"HW_12A\". \n",
    "Refer to [this guide](http://gradescope-static-assets.s3-us-west-2.amazonaws.com/help/submitting_hw_guide.pdf) for detailed instructions about scanning and submitting, or consult course staff.\n",
    "\n",
    "#### Part B (Code)\n",
    "\n",
    "1. **Save your notebook using File > Save and Checkpoint.**\n",
    "2. Run the cell below to generate a pdf file.\n",
    "3. Download the pdf file and confirm that none of your work is missing or cut off.\n",
    "4. Submit the assignment to \"HW_12B\" on Gradescope. Use the entry code \"9GEKKD\" if you haven't already joined the class."
   ]
  },
  {
   "cell_type": "code",
   "execution_count": null,
   "metadata": {
    "#solution": false,
    "#staff": false,
    "#student": false
   },
   "outputs": [],
   "source": [
    "import gsExport\n",
    "gsExport.generateSubmission(\"hw12.ipynb\")"
   ]
  }
 ],
 "metadata": {
  "checksums": [
   "b0aefbc0a2143213357738234b5b70f0",
   "19cceb86b94a444aab851129028be9a2",
   "636ad678e88d764f4a41a8518ad26180",
   "12ce50eece78162ab28daeb3d8844be7",
   "d39952db28d37c695849ee3c987feaa2",
   "1c91fa96b2ba6f0aece6c63a26d6c354",
   "e90aee3b8ce2202f01eb587d4283b509",
   "e6498de8dee49a3d1d12ff8e6bbec960",
   "18acd4b57e793b1463c0a48aa0d79edb",
   "640061103a186fd26f59746dd4d6de57",
   "db5ff9c2b322a08e89ee52762a316ebc",
   "640061103a186fd26f59746dd4d6de57",
   "b5710b5ae206838d49a666b660e426b9",
   "640061103a186fd26f59746dd4d6de57",
   "8eb8f3708c15f8cafa78542b16022484",
   "640061103a186fd26f59746dd4d6de57",
   "a8681553c3ff74b8d35fdb0e9d2e7439",
   "058966273fa13c7d3f967ed653d5ec76",
   "edac8dbae3a7b6a8f5279580717c9ea7",
   "1a9f6fa342c4d5c85ec010d746bd2d14",
   "640061103a186fd26f59746dd4d6de57",
   "e7a561786225ce4b3686fbdbd281c35c",
   "5f470b078a9c1a3a442d020f0b260127",
   "cbaa98318af96ec20e366442bb02fd09",
   "fb451db64119409c3d0655ff591adf5d",
   "5c0d433a811e257f3c850c86fd248ca3",
   "8a8b869eb04a5970c5890813298bff5d",
   "af171d441dc8079626bb434610a8bb5a",
   "08d086216f5f53d052a8b1dbaa35dec7",
   "37de537fc9442b9be310f8f275451a2b",
   "5048c6433b6d6bd6b9480eba191a9dde",
   "ec111981f61c8e7a5dc97a91d0265474",
   "13e391e3cf93c0d1653baed663b260d6",
   "838c8101589dd6ee5d8318000bf7bdc3",
   "b8e0f98287f980261678b10c978e1468",
   "fbea3acf554f05654ae96405784fe1c3",
   "1c90065782f461c2a4479a468640c117",
   "dcb823b1b8b164afe31e025a4e96673e",
   "1a488aaaf9d20c974acbd937c1a90af9",
   "37148b9cb3b33801712d6c3f367aab00",
   "71bd25e745d7262c7f5941adc97cb3d4",
   "11c37054089d3ca383b720c1c47c64e7",
   "6ba5c12e1027f16f1f072546a0a830ac",
   "cd9c752e0ffc715716ce21519c8e7f61",
   "33f94888a8f00a78b53917334ad1ab4c",
   "5613fb5c730f4c7c643c554d292d1071",
   "313c42ecd90e62738fb1751557b690da",
   "b0be2150b309fd3d1571696a7a8d0114"
  ],
  "kernelspec": {
   "display_name": "Python 3",
   "language": "python",
   "name": "python3"
  },
  "language_info": {
   "codemirror_mode": {
    "name": "ipython",
    "version": 3
   },
   "file_extension": ".py",
   "mimetype": "text/x-python",
   "name": "python",
   "nbconvert_exporter": "python",
   "pygments_lexer": "ipython3",
   "version": "3.5.2"
  },
  "number_of_pagebreaks": 5,
  "widgets": {
   "state": {},
   "version": "1.1.2"
  }
 },
 "nbformat": 4,
 "nbformat_minor": 1
}
