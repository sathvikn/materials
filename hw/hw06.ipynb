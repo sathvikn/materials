{
 "cells": [
  {
   "cell_type": "markdown",
   "metadata": {
    "deletable": true,
    "editable": true
   },
   "source": [
    "<table align=\"left\" style=\"border-style: hidden\" class=\"table\"> <tr> <td class=\"col-md-2\"><img style=\"float\" src=\"http://prob140.org/assets/icon256.png\" alt=\"Prob140 Logo\" style=\"width: 120px;\"/></td><td><div align=\"left\"><h3 style=\"margin-top: 0;\">Probability for Data Science</h3><h4 style=\"margin-top: 20px;\">UC Berkeley, Spring 2018</h4><p>Ani Adhikari</div></td></tr></table><!-- not in pdf -->"
   ]
  },
  {
   "cell_type": "markdown",
   "metadata": {
    "#solution": false,
    "#staff": false,
    "#student": false,
    "deletable": true,
    "editable": true
   },
   "source": [
    "# Homework 6 #\n",
    "This homework set consists of the problems from the Spring 2017 midterm, apart from a few changes due to different sequencing and coverage this year. It **only involves written work; there are no coding parts**. It is your responsibility to ensure that your homework is submitted completely and properly to Gradescope. Refer to the bottom of the notebook for submission instructions.\n",
    "\n",
    "### Recommendation ###\n",
    "Use this homework as an opportunity to assess your preparation for the upcoming midterm. Don't start it before you have completed the bulk of your review for the exam. Do your review, set aside all the course materials, find a place where you can work on your own, and give yourself 80 minutes to do the assignment. The problems that you are not able to do in that time will give you an indication of where you need to focus the remaining portion of your review.\n",
    "\n",
    "#### Rules for Written Homework ####\n",
    "\n",
    "- Every answer should contain a calculation or reasoning. For example, a calculation such as $(1/3)(0.8) + (2/3)(0.7)$ is fine without further explanation or simplification. If we want you to simplify, we'll ask you to. But just ${5 \\choose 2}$ is not fine; write \"we need 2 out of the 5 frogs and they can appear in any order\" or whatever reasoning you used. Reasoning can be brief and abbreviated, e.g. \"product rule\" or \"not mut. excl.\"\n",
    "- You may consult others but you must write up your own answers using your own words, notation, and sequence of steps.\n",
    "- In the interest of saving trees, you do not need to *solve* each question on a new piece of paper. Folding the paper to show just the relevant problem will suffice. To ensure the correct page size, we recommend placing the folded part on a blank page before scanning, or adjusting the page settings on your phone scanning app.\n",
    "- You will submit a scanned PDF to Gradescope. **Each question should *start* on a new PDF page. No page should contain two questions.**"
   ]
  },
  {
   "cell_type": "markdown",
   "metadata": {
    "#solution": false,
    "#staff": false,
    "#student": false,
    "deletable": true,
    "editable": true
   },
   "source": [
    "## 1. ##\n",
    "I roll a fair die repeatedly. Assume the faces of the die are labeled 1, 2, 3, 4, 5, and 6. \n",
    "\n",
    "**(a)** Let $W$ be the number of rolls till both of the multiples of 3 have appeared; that is, till both 3 and 6 have appeared. Find $E(W)$\n",
    "\n",
    "\n",
    "**(b)** For $n \\ge 1$, let $X_n$ be the face that appears on roll $n$. Consider the sequence\n",
    "$X_1, X_2, \\ldots $, and let $R_{20}$ be \"the number of times the sequence rises in the first 20 steps.\" \n",
    "That is,\n",
    "$$\n",
    "R_{20} = \\# \\{2 \\le n \\le 20: X_n > X_{n-1} \\} = \\text{number of indices } n \\text{ in the range 2 through 20\n",
    "for which } X_n > X_{n-1}\n",
    "$$\n",
    "\n",
    "\n",
    "Find $E(R_{20})$."
   ]
  },
  {
   "cell_type": "markdown",
   "metadata": {
    "#solution": false,
    "#staff": false,
    "#student": false,
    "deletable": true,
    "editable": true
   },
   "source": [
    "## 2. ##\n",
    "I have a standard deck of 52 cards.\n",
    "\n",
    "- There are 13 cards in each of 4 suits: spades, clubs, hearts, diamonds.\n",
    "\n",
    "- Spades and clubs are black. Hearts and diamonds are red.\n",
    "\n",
    "- In each suit, there is one card in each of 13 ranks: Ace, 2, 3, 4, 5, 6, 7, 8, 9, 10, Jack, Queen, King.\n",
    "\n",
    "I deal 10 cards at random without replacement.\n",
    "\n",
    "**(a)** Find the chance that the fourth card is an ace given that the 10th card is black.\n",
    "\n",
    "\n",
    "**(b)** Find the chance that I get an equal number of hearts and diamonds, given that all 10 cards are red.\n",
    "\n",
    "\n",
    "**(c)** Find the chance that I get more hearts than diamonds, given that all 10 cards are red.\n"
   ]
  },
  {
   "cell_type": "markdown",
   "metadata": {
    "#solution": false,
    "#staff": false,
    "#student": false,
    "deletable": true,
    "editable": true
   },
   "source": [
    "## 3. ##\n",
    "Let $N$ be a positive integer. Consider a Markov Chain $X_0, X_1, X_2, \\ldots $\n",
    "with state space consisting of the integers $ \\{-N, -N+1, \\ldots , -1, 0, 1, \\ldots, N-1, N\\}$ and transition matrix given by:\n",
    "\n",
    "- $P(-N, -N) = 1/3$ and $P(-N, -N+1) = 2/3$\n",
    "\n",
    "- For $-N < i < 0$, $P(i, i-1) = 1/3$ and $P(i, i+1) = 2/3$\n",
    "\n",
    "- $P(0, -1) = P(0, 0) = P(0, 1) = 1/3$\n",
    "\n",
    "- For $0 < i < N$, $P(i, i-1) = 2/3$ and $P(i, i+1) = 1/3 $\n",
    "\n",
    "- $P(N, N-1) = 2/3$ and $P(N, N) = 1/3$\n",
    "\n",
    "\n",
    "**(a)** Is the chain reversible? Explain briefly.\n",
    "\n",
    "**(b)** Let $\\pi$ be the steady state distribution of the chain. Find $\\pi(0)$."
   ]
  },
  {
   "cell_type": "markdown",
   "metadata": {
    "#solution": false,
    "#staff": false,
    "#student": false,
    "deletable": true,
    "editable": true
   },
   "source": [
    "## 4. ##\n",
    "A population consists of two classes of individuals. For some $p \\in (0, 1)$, a proportion $p$\n",
    "of the indviduals are in Class A and the others are in Class B. \n",
    "\n",
    "Fix a positive integer $m$. I will draw randomly from the population till I have drawn\n",
    "$m$ individuals from Class A or $m$ from Class B, whichever happens first. You can assume that my sampling procedure is like drawing at random with replacement from the population.\n",
    "\n",
    "Let $N$ be the number of times I will draw.\n",
    "\n",
    "**(a)** What are the possible values of $N$?\n",
    "\n",
    "**(b)** Find the distribution of $N$.\n",
    "\n",
    "**(c)** Let $r = \\max(p, 1-p)$. Explain why $E(N) \\le m/r$."
   ]
  },
  {
   "cell_type": "markdown",
   "metadata": {
    "#solution": false,
    "#staff": false,
    "#student": false,
    "deletable": true,
    "editable": true
   },
   "source": [
    "## 5. ##\n",
    "A roulette wheel has 38 pockets, of which 18 are red, 18 black, and 2 green. The wheel is spun 20 times. Assume that the results of the spins are independent of each other and that on each spin, each pocket is equally likely to be the winner.\n",
    "\n",
    "Let $X$ be the number of colors that appear among the winning pockets. Find the distribution of $X$."
   ]
  },
  {
   "cell_type": "markdown",
   "metadata": {
    "#solution": false,
    "#staff": false,
    "#student": false,
    "deletable": true,
    "editable": true
   },
   "source": [
    "## 6. ##\n",
    "Let $X$ have the Poisson $(\\mu)$ distribution. Suppose $Y$ is independent of $X$,\n",
    "and suppose $Y$ has the geometric $(p)$ distribution on $\\{1, 2, 3, \\ldots \\}$. That is, for $k \\ge 1$\n",
    "let $P(Y = k) = q^{k-1}p$ where $q = 1-p$.\n",
    "\n",
    "**(a)** For $n \\ge 0$, find $P(Y > n)$. Explain or show calculations.\n",
    "\n",
    "**(b)** Find $P(Y > X)$. Explain or show calculations."
   ]
  },
  {
   "cell_type": "markdown",
   "metadata": {
    "#solution": false,
    "#staff": false,
    "#student": false,
    "deletable": true,
    "editable": true
   },
   "source": [
    "## Submission Instructions\n",
    "\n",
    "**For this homework, you are only submitting written work.**\n",
    "\n",
    "#### Logistics \n",
    "\n",
    "1. Use a scanner or scanning app (such as CamScanner) to digitize your written assignments. Do not take pictures using your phone's camera app.\n",
    "2. For code portions, examine the generated pdf before uploading to make sure that it contains all of your work.\n",
    "3. When submitting to Gradescope, select the pages of your upload corresponding to each question. \n",
    "4. If you encounter any difficulties when submitting or exporting your assignment, please make a private Piazza post **before the deadline**. \n",
    "\n",
    "### **We will not grade assignments which do not have pages selected for each question, are illegibly scanned, or are submitted after 8PM.** \n",
    "\n",
    "\n",
    "#### Part A (Written)\n",
    "- Make sure you have at least 6 pages of homework. Each problem should start on a new page; for example,  Problem 1 on page 1, Problem 2 on page 2, etc.\n",
    "- Scan all the pages into a PDF. **Make sure the PDF page size is 8.5 x 11 inches**. It is your responsibility to check that all the work on the scanned pages is legible. You can use any scanner or a phone using applications such as CamScanner. Save the PDF.\n",
    "- Upload the scanned PDF of your work onto Gradescope for the assignment \"HW_06A\". \n",
    "Refer to [this guide](http://gradescope-static-assets.s3-us-west-2.amazonaws.com/help/submitting_hw_guide.pdf) for detailed instructions about scanning and submitting, or consult course staff."
   ]
  }
 ],
 "metadata": {
  "checksums": [
   "b0aefbc0a2143213357738234b5b70f0",
   "089ee820a39e17fd0272f121c5ba5f47",
   "472222ff4fdd07773c5341c175eed2eb",
   "ca9e5e5330f66e999959e813f6640b72",
   "b0673c59069b0bb25263965f9fa315ed",
   "badd86c19aaa032118ffb867b186f6ee",
   "47514a1bf60aedb26231104f244c9a33",
   "64e760744921e198686ed000e84d8888",
   "1039997ee1b8983bfcbb42adf65c01d9",
   "217248fb8bd35650a0773acbdd45dbdc"
  ],
  "kernelspec": {
   "display_name": "Python 2",
   "language": "python",
   "name": "python2"
  },
  "language_info": {
   "codemirror_mode": {
    "name": "ipython",
    "version": 2
   },
   "file_extension": ".py",
   "mimetype": "text/x-python",
   "name": "python",
   "nbconvert_exporter": "python",
   "pygments_lexer": "ipython2",
   "version": "2.7.6"
  },
  "number_of_pagebreaks": 0,
  "widgets": {
   "state": {},
   "version": "1.1.2"
  }
 },
 "nbformat": 4,
 "nbformat_minor": 1
}
