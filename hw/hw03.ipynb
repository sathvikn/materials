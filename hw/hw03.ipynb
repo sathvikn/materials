{
 "cells": [
  {
   "cell_type": "markdown",
   "metadata": {
    "deletable": true,
    "editable": true
   },
   "source": [
    "<table align=\"left\" style=\"border-style: hidden\" class=\"table\"> <tr> <td class=\"col-md-2\"><img style=\"float\" src=\"http://prob140.org/assets/icon256.png\" alt=\"Prob140 Logo\" style=\"width: 120px;\"/></td><td><div align=\"left\"><h3 style=\"margin-top: 0;\">Probability for Data Science</h3><h4 style=\"margin-top: 20px;\">UC Berkeley, Spring 2018</h4><p>Ani Adhikari</div></td></tr></table><!-- not in pdf -->"
   ]
  },
  {
   "cell_type": "markdown",
   "metadata": {
    "#solution": false,
    "#staff": false,
    "#student": false,
    "deletable": true,
    "editable": true
   },
   "source": [
    "## Homework 3 ##"
   ]
  },
  {
   "cell_type": "markdown",
   "metadata": {
    "#solution": false,
    "#staff": false,
    "#student": false,
    "deletable": true,
    "editable": true
   },
   "source": [
    "Your homework has two components: A (written work only) and B (also involving code). Each question or subpart is labeled accordingly. Written work should be completed on paper, and coding questions should be done in the notebook. It is your responsibility to ensure that both components of the homework are submitted completely and properly to Gradescope. Refer to the bottom of the notebook for submission instructions and a checklist of what Parts A and B should contain.\n",
    "\n",
    "#### Rules for Written Homework ####\n",
    "\n",
    "- Every answer should contain a calculation or reasoning. For example, a calculation such as $(1/3)(0.8) + (2/3)(0.7)$ is fine without further explanation or simplification. If we want you to simplify, we'll ask you to. But just ${5 \\choose 2}$ is not fine; write \"we need 2 out of the 5 frogs and they can appear in any order\" or whatever reasoning you used. Reasoning can be brief and abbreviated, e.g. \"product rule\" or \"not mut. excl.\"\n",
    "- You may consult others but you must write up your own answers using your own words, notation, and sequence of steps.\n",
    "- In the interest of saving trees, you do not need to *solve* each question on a new piece of paper. Folding the paper to show just the relevant problem will suffice. To ensure the correct page size, we recommend placing the folded part on a blank page before scanning, or adjusting the page settings on your phone scanning app.\n",
    "- You will submit a scanned PDF to Gradescope. **Each question should *start* on a new PDF page. No page should contain two questions.**\n",
    "\n",
    "#### Rules for Coding ####\n",
    "\n",
    "- Do not share, copy, or allow others to copy your code. You may discuss your approach and relevant methods or functions to use.\n",
    "- A code cell (which may contain starter code) is provided for each question or subpart that requires coding. You are free to add additional cells as needed.\n",
    "- You will submit a PDF to Gradescope. See the bottom of the notebook for more instructions.\n",
    "- Here is the Prob140 documentation [guide](https://probability.gitlab.io/prob140/index.html) for your reference. "
   ]
  },
  {
   "cell_type": "code",
   "execution_count": null,
   "metadata": {
    "#solution": false,
    "#staff": false,
    "#student": false,
    "collapsed": true,
    "deletable": true,
    "editable": true
   },
   "outputs": [],
   "source": [
    "# Run this cell to set up your notebook\n",
    "\n",
    "import numpy as np\n",
    "from scipy import stats\n",
    "from datascience import *\n",
    "from prob140 import *\n",
    "\n",
    "# These lines do some fancy plotting magic\n",
    "import matplotlib\n",
    "%matplotlib inline\n",
    "import matplotlib.pyplot as plt\n",
    "plt.style.use('fivethirtyeight')\n",
    "\n",
    "# These lines make warnings look nicer\n",
    "import warnings\n",
    "warnings.simplefilter('ignore', FutureWarning)"
   ]
  },
  {
   "cell_type": "markdown",
   "metadata": {
    "#solution": false,
    "#staff": false,
    "#student": false,
    "deletable": true,
    "editable": true
   },
   "source": [
    "#newpage\n",
    "\n",
    "### 1. Female Births ###"
   ]
  },
  {
   "cell_type": "markdown",
   "metadata": {
    "#solution": false,
    "#staff": false,
    "#student": false,
    "deletable": true,
    "editable": true
   },
   "source": [
    "\n",
    "\n",
    "In the U.S., 49% of births are female. Assume the sexes of babies are independent of each other. In each part below, find the chance using `stats.binom.pmf`, `stats.binom.cdf`, and arithmetic.\n",
    "\n",
    "**a) [CODE]** Find the chance that 4 out of 10 births are female.\n",
    "\n",
    "**b) [CODE]** Find the chance that among 15 births, the majority are female.\n",
    "\n",
    "**c) [CODE]** Suppose you record each birth until you have recorded 10 female births, and then you stop. What is the chance that you stop when you have recorded 25 births?\n",
    "\n",
    "**d) [CODE]** As in (c), suppose you record each birth until you have recorded 10 female births, and then you stop. What is the chance that you record more than 30 births?\n",
    "\n",
    "**e) [CODE]** You and I each record 10 births. What is the chance that you record more female births than I do?"
   ]
  },
  {
   "cell_type": "code",
   "execution_count": null,
   "metadata": {
    "#solution": false,
    "#staff": false,
    "#student": true,
    "collapsed": false,
    "deletable": true,
    "editable": true
   },
   "outputs": [],
   "source": [
    "# Answer to 1a\n",
    "p_4_females = ...\n",
    "p_4_females"
   ]
  },
  {
   "cell_type": "code",
   "execution_count": null,
   "metadata": {
    "#solution": false,
    "#staff": false,
    "#student": true,
    "collapsed": true,
    "deletable": true,
    "editable": true
   },
   "outputs": [],
   "source": [
    "# Answer to 1b\n",
    "p_majority_females = ...\n",
    "p_majority_females"
   ]
  },
  {
   "cell_type": "code",
   "execution_count": null,
   "metadata": {
    "#solution": false,
    "#staff": false,
    "#student": true,
    "collapsed": true,
    "deletable": true,
    "editable": true
   },
   "outputs": [],
   "source": [
    "# Answer to 1c\n",
    "p_25_births = ...\n",
    "p_25_births"
   ]
  },
  {
   "cell_type": "code",
   "execution_count": null,
   "metadata": {
    "#solution": false,
    "#staff": false,
    "#student": true,
    "collapsed": true,
    "deletable": true,
    "editable": true
   },
   "outputs": [],
   "source": [
    "# Answer to 1d\n",
    "p_30_births = ...\n",
    "p_30_births"
   ]
  },
  {
   "cell_type": "code",
   "execution_count": null,
   "metadata": {
    "#solution": false,
    "#staff": false,
    "#student": true,
    "collapsed": true,
    "deletable": true,
    "editable": true
   },
   "outputs": [],
   "source": [
    "# Answer to 1e\n",
    "\n",
    "p_more_females = ...\n",
    "p_more_females"
   ]
  },
  {
   "cell_type": "markdown",
   "metadata": {
    "#solution": false,
    "#staff": false,
    "#student": false,
    "deletable": true,
    "editable": true
   },
   "source": [
    "#newpage\n",
    "\n",
    "### 2. Poisson Approximations at Both Ends ###"
   ]
  },
  {
   "cell_type": "markdown",
   "metadata": {
    "#solution": false,
    "#staff": false,
    "#student": false,
    "deletable": true,
    "editable": true
   },
   "source": [
    "Consider $n$ independent Bernoulli $(p)$ trials.\n",
    "\n",
    "**a) [WRITTEN]** Fill in the blanks with names of distributions along with parameters in parentheses: If $n = 1000$ and $p=0.003$, the distribution of the number of successes is exactly $\\underline{~~~~~~~~~~~~~~~~~~~~~~~~~~~}$ $(\\underline{~~~~~~~~~~~~ })$ and approximately $\\underline{~~~~~~~~~~~~~~~~~~~~~~ }$ $(\\underline{~~~~~~~~~~~~ })$.\n",
    "\n",
    "**b) [WRITTEN]** Let $n$ be large and let $p$ be close to 1. Find a Poisson approximation to $p_k$ by an appropriate use of the Poisson approximation to the binomial derived in class. \n",
    "\n",
    "**Note:** You don't have to derive a limit. Just use the limit already derived, but appropriately.\n",
    "\n",
    "**c) [CODE]** Plot the probability histogram of the binomial (1000, 0.997) distribution, and overlay your Poisson approximation from part (b). Please don't plot the entire range. Choose an informative range of values on the horizontal axis."
   ]
  },
  {
   "cell_type": "code",
   "execution_count": null,
   "metadata": {
    "#solution": false,
    "#staff": false,
    "#student": true,
    "collapsed": true,
    "deletable": true,
    "editable": true
   },
   "outputs": [],
   "source": [
    "#Answer to 2c\n",
    "n = 1000\n",
    "p = 0.997\n",
    "\n",
    "def poisson_approximation_pmf(k):\n",
    "    return ...\n",
    "    \n",
    "binomial_large_n_p = Table().values(...).probability_function(...)\n",
    "poisson_approximation = Table().values(...).probability_function(...)\n",
    "\n",
    "Plots(...)\n",
    "plt.xlim(..., ...)"
   ]
  },
  {
   "cell_type": "markdown",
   "metadata": {
    "#solution": false,
    "#staff": false,
    "#student": false,
    "deletable": true,
    "editable": true
   },
   "source": [
    "### 3. Conditioning on the Number of Successes ###\n",
    "\n",
    "Let $m$ and $n$ be integers such that $1 \\le n < m$. Let $Y$ be the number of successes in $m$ i.i.d. Bernoulli $(p)$ trials, and let $X$ be the number of successes in the first $n$ of those $m$ trials.\n",
    "\n",
    "**a) [WRITTEN]** For each possible value $x$ of $X$ and $y$ of $Y$, find $P(X = x \\mid Y = y)$ and show that the answer doesn't depend on $p$.\n",
    "\n",
    "**b) [WRITTEN]** Recognize the conditional distribution of $X$ given $Y=y$ as one of the famous ones, and provide its name and parameters."
   ]
  },
  {
   "cell_type": "markdown",
   "metadata": {
    "#solution": false,
    "#staff": false,
    "#student": false,
    "deletable": true,
    "editable": true
   },
   "source": [
    "#newpage\n",
    "\n",
    "### 4. Categories in a Sample ###"
   ]
  },
  {
   "cell_type": "markdown",
   "metadata": {
    "#solution": false,
    "#staff": false,
    "#student": false,
    "deletable": true,
    "editable": true
   },
   "source": [
    "\n",
    "\n",
    "In a population, 30% of the individuals are red, 50% are green, and 20% are blue. I draw a random sample of size 20 with replacement from this population. Let $N_r$ be the number of red individuals drawn, $N_g$ the number green, and $N_b$ the number blue, so that $N_r + N_g + N_b = 20$.\n",
    "\n",
    "In parts (a)-(d) provide the name of the distribution as well as all the numerical parameters. In part (e), write code so that the last line evaluates to the answer.\n",
    "\n",
    "**a) [WRITTEN]** What is the distribution of $N_r$?\n",
    "\n",
    "**b) [WRITTEN]** What is the distribution of $N_r + N_g$?\n",
    "\n",
    "**c) [WRITTEN]** What is the joint distribution of $N_r$, $N_g$, and $N_b$?\n",
    "\n",
    "**d) [WRITTEN]** What is the conditional distribution of $N_r$ given $N_r + N_g = 15$? \n",
    "\n",
    "**e) [CODE]** Find the numerical value of $P(N_r = 4, N_g = 11)$."
   ]
  },
  {
   "cell_type": "code",
   "execution_count": null,
   "metadata": {
    "#solution": false,
    "#staff": false,
    "#student": true,
    "collapsed": true,
    "deletable": true,
    "editable": true
   },
   "outputs": [],
   "source": [
    "#Answer to 4e\n",
    "..."
   ]
  },
  {
   "cell_type": "markdown",
   "metadata": {
    "#solution": false,
    "#staff": false,
    "#student": false,
    "deletable": true,
    "editable": true
   },
   "source": [
    "#newpage\n",
    "\n",
    "### 5. Classification ###"
   ]
  },
  {
   "cell_type": "markdown",
   "metadata": {
    "#solution": false,
    "#staff": false,
    "#student": false,
    "deletable": true,
    "editable": true
   },
   "source": [
    "In a population of four classes of individuals, the proportion of individuals of Class $i$ is $p_i$ for $i = 1, 2, 3, 4$. Suppose you sample independently from this population, and suppose the sample size is a Poisson random variable with parameter $n$ for a fixed positive integer $n$. \n",
    "\n",
    "**a) [WRITTEN]** What is the probability that the sample contains at least one individual from each class?\n",
    "\n",
    "**b) [CODE]** Let $p_i = \\frac{i}{10}$ for $i = 1, 2, 3, 4$. Plot a graph of your answer as a function of $n$ for $n$ in the range 1 through 60. For an example of a calculation of probabilities accompanied by a plot, see Section 1.4 of the text.\n",
    "\n",
    "**c) [CODE]** Still assuming $p_i = \\frac{i}{10}$ for $i = 1, 2, 3, 4$, find a decimal value for the chance that you get at least two of each kind of individual if the parameter is $n = 50$."
   ]
  },
  {
   "cell_type": "code",
   "execution_count": null,
   "metadata": {
    "#solution": false,
    "#staff": false,
    "#student": true,
    "collapsed": true,
    "deletable": true,
    "editable": true
   },
   "outputs": [],
   "source": [
    "#Answer to 5b\n",
    "\n",
    "def p_at_least_one(n):\n",
    "    ..."
   ]
  },
  {
   "cell_type": "code",
   "execution_count": null,
   "metadata": {
    "#solution": false,
    "#staff": false,
    "#student": true,
    "collapsed": true,
    "deletable": true,
    "editable": true
   },
   "outputs": [],
   "source": [
    "#Answer for 5c\n",
    "..."
   ]
  },
  {
   "cell_type": "markdown",
   "metadata": {
    "#solution": false,
    "#staff": false,
    "#student": false,
    "deletable": true,
    "editable": true
   },
   "source": [
    "### 6. Odd and Even ###\n",
    "For the purposes of this exercise, define 0 to be an even number. Let $\\mu > 0$.\n",
    "\n",
    "**a) [WRITTEN]** Find a formula for $\\sum_{n = 0}^\\infty \\frac{\\mu^{2n}}{(2n)!}$ in terms of $e^\\mu$ and $e^{-\\mu}$. There should be no infinite sums in your formula.\n",
    "\n",
    "[Hint: Compare the expansions of $e^\\mu$ and $e^{-\\mu}$.]\n",
    "\n",
    "**b) [WRITTEN]** Suppose $X$ has the Poisson $(\\mu)$ distribution. Use part **a** to find a formula for $P(X \\text{ is an even number})$ that involves no infinite sums.\n",
    "\n",
    "**c) [WRITTEN]** As in part **b**, but for $P(X \\text{ is an odd number})$."
   ]
  },
  {
   "cell_type": "markdown",
   "metadata": {
    "#solution": false,
    "#staff": false,
    "#student": false,
    "deletable": true,
    "editable": true
   },
   "source": [
    "### Extra Credit###\n",
    "\n",
    "Take this [intake survey](https://goo.gl/forms/S2UZjA4edToSeskl1), and receive **5** points of extra credit"
   ]
  },
  {
   "cell_type": "markdown",
   "metadata": {
    "#solution": false,
    "#staff": false,
    "#student": false,
    "deletable": true,
    "editable": true
   },
   "source": [
    "## Checklist\n",
    "\n",
    "Your submission should have the following parts:\n",
    "\n",
    "#### Part A (Written)\n",
    "\n",
    "- 2a, 2b\n",
    "- 3a, 3b\n",
    "- 4a, 4b, 4c, 4d\n",
    "- 5a\n",
    "- 6a, 6b, 6c\n",
    "\n",
    "#### Part B (Code)\n",
    "\n",
    "- 1a, 1b, 1c, 1d, 1e\n",
    "- 2c\n",
    "- 4e\n",
    "- 5b, 5c\n"
   ]
  },
  {
   "cell_type": "markdown",
   "metadata": {
    "#solution": false,
    "#staff": false,
    "#student": false,
    "deletable": true,
    "editable": true
   },
   "source": [
    "## Submission Instructions\n",
    "\n",
    "\n",
    "#### Logistics \n",
    "\n",
    "1. Use a scanner or scanning app (such as CamScanner) to digitize your written assignments. Do not take pictures using your phone's camera app.\n",
    "2. For code portions, examine the generated pdf before uploading to make sure that it contains all of your work.\n",
    "3. When submitting to Gradescope, select the pages of your upload corresponding to each question. \n",
    "4. If you encounter any difficulties when submitting or exporting your assignment, please make a private Piazza post **before the deadline**. \n",
    "\n",
    "### **We will not grade assignments which do not have pages selected for each question, are illegibly scanned, or are submitted after 8PM.** \n",
    "\n",
    "\n",
    "#### Part A (Written)\n",
    "- Make sure you have at least 6 pages of homework. Each problem should start on a new page; for example,  Problem 1 on page 1, Problem 2 on page 2, etc.\n",
    "- Scan all the pages into a PDF. **Make sure the PDF page size is 8.5 x 11 inches**. It is your responsibility to check that all the work on the scanned pages is legible. You can use any scanner or a phone using applications such as CamScanner. Save the PDF.\n",
    "- Upload the scanned PDF of your work onto Gradescope for the assignment \"HW_03A\". \n",
    "Refer to [this guide](http://gradescope-static-assets.s3-us-west-2.amazonaws.com/help/submitting_hw_guide.pdf) for detailed instructions about scanning and submitting, or consult course staff.\n",
    "\n",
    "#### Part B (Code)\n",
    "\n",
    "1. **Save your notebook using File > Save and Checkpoint.**\n",
    "2. Run the cell below to generate a pdf file.\n",
    "3. Download the pdf file and confirm that none of your work is missing or cut off.\n",
    "4. Submit the assignment to \"HW_03B\" on Gradescope. Use the entry code \"9GEKKD\" if you haven't already joined the class.\n",
    "\n"
   ]
  },
  {
   "cell_type": "code",
   "execution_count": null,
   "metadata": {
    "#solution": false,
    "#staff": false,
    "#student": false,
    "collapsed": true,
    "deletable": true,
    "editable": true
   },
   "outputs": [],
   "source": [
    "import gsExport\n",
    "gsExport.generateSubmission(\"hw03.ipynb\")"
   ]
  }
 ],
 "metadata": {
  "anaconda-cloud": {},
  "checksums": [
   "b0aefbc0a2143213357738234b5b70f0",
   "f5874e34a4d611e94b47b583c1a06dc7",
   "8d6bd237a1bbdb9919eebfa062cdb15d",
   "3da88da364b1e30d4f83fb0c28a12c1f",
   "e5203a07a6a8537a7300d8bc47df7ba5",
   "77b4cfc45dfe95637b8b058ba96866a0",
   "aa80a4eb14fb12d9b2243bc206ee628a",
   "b7c23d3545ca8a082a4429cec5b165d5",
   "e3ac6df85758642a1ed7d8e715c3f51c",
   "b857ab24537297913b5d1ec39ebc73c5",
   "d349925bbdab7da9eba98dd4e8d75d38",
   "184ca8d8d0d68a30d91a4e086abc222c",
   "2c16d41d82d093edd13fdaa9883ddd34",
   "6881d26fcdd5345e48607a8038c137f9",
   "50076e0879f2405469e55cf484adf068",
   "29dcb3da301b3f82d58c89a2286aaec8",
   "a88c972cea0aabd8a34f2c2d2f2b0a8f",
   "ddecc94f7bd8c44bfac60456a50b68cb",
   "372eb88cdcb7891eee14a917884d326a",
   "a466708f9a25a6772bca66aa0c4f060c",
   "fcac034314d751ef6a1023edc2e439aa",
   "cc03b19d7964acbd81c91ea78bbdc523",
   "92e033b2ec9a7609727620b0d27fe32c",
   "c4f299e931702b89a39f351e869acb40",
   "ff65ddfb3f562174b855d17abcf89f30",
   "2cf6ee36f37271c1efd23f69eee2ad18",
   "a0bccd3720e2a45622fc9885233559a6"
  ],
  "kernelspec": {
   "display_name": "Python 3",
   "language": "python",
   "name": "python3"
  },
  "language_info": {
   "codemirror_mode": {
    "name": "ipython",
    "version": 3
   },
   "file_extension": ".py",
   "mimetype": "text/x-python",
   "name": "python",
   "nbconvert_exporter": "python",
   "pygments_lexer": "ipython3",
   "version": "3.5.2"
  },
  "number_of_pagebreaks": 4
 },
 "nbformat": 4,
 "nbformat_minor": 1
}
