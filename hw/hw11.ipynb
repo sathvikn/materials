{
 "cells": [
  {
   "cell_type": "markdown",
   "metadata": {},
   "source": [
    "<table align=\"left\" style=\"border-style: hidden\" class=\"table\"> <tr> <td class=\"col-md-2\"><img style=\"float\" src=\"http://prob140.org/assets/icon256.png\" alt=\"Prob140 Logo\" style=\"width: 120px;\"/></td><td><div align=\"left\"><h3 style=\"margin-top: 0;\">Probability for Data Science</h3><h4 style=\"margin-top: 20px;\">UC Berkeley, Spring 2018</h4><p>Ani Adhikari</div></td></tr></table><!-- not in pdf -->"
   ]
  },
  {
   "cell_type": "markdown",
   "metadata": {
    "#solution": false,
    "#staff": false,
    "#student": false
   },
   "source": [
    "# Homework 11"
   ]
  },
  {
   "cell_type": "markdown",
   "metadata": {
    "#solution": false,
    "#staff": false,
    "#student": false
   },
   "source": [
    "Your homework has two components: A (written work only) and B (also involving code). Each question or subpart is labeled accordingly. Written work should be completed on paper, and coding questions should be done in the notebook. It is your responsibility to ensure that your homework is submitted completely and properly to Gradescope. Refer to the bottom of the notebook for submission instructions.\n",
    "\n",
    "#### Rules for Written Homework ####\n",
    "\n",
    "- Every answer should contain a calculation or reasoning. For example, a calculation such as $(1/3)(0.8) + (2/3)(0.7)$ is fine without further explanation or simplification. If we want you to simplify, we'll ask you to. But just ${5 \\choose 2}$ is not fine; write \"we need 2 out of the 5 frogs and they can appear in any order\" or whatever reasoning you used. Reasoning can be brief and abbreviated, e.g. \"product rule\" or \"not mut. excl.\"\n",
    "- You may consult others but you must write up your own answers using your own words, notation, and sequence of steps.\n",
    "- In the interest of saving trees, you do not need to *solve* each question on a new piece of paper. Folding the paper to show just the relevant problem will suffice. To ensure the correct page size, we recommend placing the folded part on a blank page before scanning, or adjusting the page settings on your phone scanning app.\n",
    "- You will submit a scanned PDF to Gradescope. **Each question should *start* on a new PDF page. No page should contain two questions.**\n",
    "\n",
    "#### Rules for Coding ####\n",
    "\n",
    "- Do not share, copy, or allow others to copy your code. You may discuss your approach and relevant methods or functions to use.\n",
    "- A code cell (which may contain starter code) is provided for each question or subpart that requires coding. You are free to add additional cells as needed.\n",
    "- You will submit a PDF to Gradescope. See the bottom of the notebook for more instructions.\n",
    "- Here is the Prob140 documentation [guide](https://probability.gitlab.io/prob140/index.html) for your reference."
   ]
  },
  {
   "cell_type": "code",
   "execution_count": null,
   "metadata": {
    "#solution": false,
    "#staff": false,
    "#student": false,
    "collapsed": true
   },
   "outputs": [],
   "source": [
    "# HIDDEN\n",
    "from datascience import *\n",
    "from prob140 import *\n",
    "import numpy as np\n",
    "import matplotlib.pyplot as plt\n",
    "plt.style.use('fivethirtyeight')\n",
    "%matplotlib inline\n",
    "import math\n",
    "from scipy import stats"
   ]
  },
  {
   "cell_type": "markdown",
   "metadata": {
    "#solution": false,
    "#staff": false,
    "#student": false
   },
   "source": [
    "### 1. Peter Meets Paul ###\n",
    "Peter and Paul agree to meet at a restaurant at noon. Peter arrives at time normally distributed with mean 12:00 noon and SD 5 minutes. Paul arrives at a time normally distributed with mean 12:02 P.M. and SD 3 minutes. \n",
    "\n",
    "Find the chances below assuming that the two arrival times are independent. First, write a formula for the chance in terms of the standard normal cdf $\\Phi$. Then use a code cell to find the numerical value. You do not have to turn in any coding work for this question.\n",
    "\n",
    "\n",
    "**a)** $P(\\text{Peter arrives before Paul})$\n",
    "\n",
    "\n",
    "**b)** $P(\\text{both men arrive within 3 minutes of noon})$\n",
    "\n",
    "**c)** $P(\\text{the two men arrive within 3 minutes of each other})$\n"
   ]
  },
  {
   "cell_type": "code",
   "execution_count": null,
   "metadata": {
    "#solution": false,
    "#staff": false,
    "#student": true,
    "collapsed": true
   },
   "outputs": [],
   "source": [
    "# Calculation for 1a\n",
    "..."
   ]
  },
  {
   "cell_type": "code",
   "execution_count": null,
   "metadata": {
    "#solution": false,
    "#staff": false,
    "#student": true,
    "collapsed": true
   },
   "outputs": [],
   "source": [
    "# Calculation for 1b\n",
    "..."
   ]
  },
  {
   "cell_type": "code",
   "execution_count": null,
   "metadata": {
    "#solution": false,
    "#staff": false,
    "#student": true
   },
   "outputs": [],
   "source": [
    "# Calculation for 1c\n",
    "..."
   ]
  },
  {
   "cell_type": "markdown",
   "metadata": {
    "#solution": false,
    "#staff": false,
    "#student": false
   },
   "source": [
    "### 2. Slices of a Normal Cake ###\n",
    "Let $X$ and $Y$ be independent standard normal random variables.\n",
    "\n",
    "**a)** Find $P(X > 0, Y > 0)$. \n",
    "\n",
    "Yes, it's easy. But get a piece of paper and draw the event on the plane anyway. Imagine the joint density surface over the plane, and try to imagine the relevant volume under the joint density surface as a quadrant-shaped slice of a bell-shaped cake.\n",
    "\n",
    "**b)** Find $P(X > 0, Y > X)$.\n",
    "\n",
    "**c)** Find $P(X > 0, Y > \\sqrt{3}X)$."
   ]
  },
  {
   "cell_type": "markdown",
   "metadata": {
    "#solution": false,
    "#staff": false,
    "#student": false
   },
   "source": [
    "### 3.  Distance Between Two Normal Points ###\n",
    "Suppose two shots are fired at a target. Assume each shot hits with independent normally distributed coordinates, with the same means and equal unit variances. Let $D$ be the distance between the point where the two shots strike.\n",
    "\n",
    "**a)** Find $E(D)$. Your calculation will go faster if you remember that a normal $(0, \\sigma^2)$ variable can be written as $\\sigma Z$ where $Z$ is standard normal.\n",
    "\n",
    "**b)** Find $Var(D)$."
   ]
  },
  {
   "cell_type": "markdown",
   "metadata": {
    "#solution": false,
    "#staff": false,
    "#student": false
   },
   "source": [
    "### 4. Gamma Marginal ###\n",
    "Random variables $X$ and $Y$ have joint density\n",
    "\n",
    "$$\n",
    "f(x, y) = \n",
    "\\begin{cases}\n",
    "c(y^2 - x^2)e^{-y}, ~~~~ - y \\le x \\le y, ~~~ y > 0 \\\\\n",
    "0 ~~~~~~~~~~~~~~~~~~~~~~~~~~~ \\text{otherwise}\n",
    "\\end{cases}\n",
    "$$\n",
    "Here $c$ is a constant.\n",
    "\n",
    "**a)** Show that $Y$ has a gamma density and hence deduce that $c = 1/8$.\n",
    "\n",
    "**b)** Find the density of $4Y^3$.\n",
    "\n",
    "**c)** Explain why $E(\\lvert X \\rvert)$ is at most 4."
   ]
  },
  {
   "cell_type": "markdown",
   "metadata": {
    "#solution": false,
    "#staff": false,
    "#student": false
   },
   "source": [
    "### 5. Poisson MGF ###\n",
    "Let $X$ have Poisson $\\mu$ distribution, and let $Y$ independent of $X$ have Poisson $(\\lambda)$ distribution.\n",
    "\n",
    "**a)** Find the mgf of $X$.\n",
    "\n",
    "**b)** Use the result of (a) to show that the distribution of $X+Y$ is Poisson."
   ]
  },
  {
   "cell_type": "markdown",
   "metadata": {
    "#solution": false,
    "#staff": false,
    "#student": false
   },
   "source": [
    "### 6. Gamma Tail Bound ###\n",
    "Let $X$ have the gamma $(r, \\lambda)$ distribution. \n",
    "\n",
    "**a)** Show that $P(X \\ge 2E(X)) \\le (2/e)^r$.\n",
    "\n",
    "[Remember that if $h$ is a positive function of $x$, then the value of $x$ that minimizes $h$ is the same as the value of $x$ that minimizes $\\log(h)$.]\n",
    "\n",
    "**b) [CODE]** Fix $\\lambda = 1$. Display overlaid plots of the following three graphs as functions of $r$:\n",
    "- $P(X \\ge 2E(X))$\n",
    "- $(2/e)^r$\n",
    "- Markov's bound on $P(X \\ge 2E(X))$\n",
    "\n",
    "To review the plotting functions, go over the code you used to display gamma densities in the previous homework or look at the code in the textbook."
   ]
  },
  {
   "cell_type": "code",
   "execution_count": null,
   "metadata": {
    "#solution": false,
    "#staff": false,
    "#student": true
   },
   "outputs": [],
   "source": [
    "# Answer to 6b\n",
    "r = np.arange(0.05, 15, 0.1)\n",
    "...\n",
    "plt.legend()\n",
    "plt.xlim(0, 15);"
   ]
  },
  {
   "cell_type": "markdown",
   "metadata": {
    "#solution": false,
    "#staff": false,
    "#student": false
   },
   "source": [
    "**c)** For which values of $r$ is the bound in part (a) better than Markov's bound? Show the analytical calculation. Then use a code cell to find the numerical range and confirm that it is consistent with the graphs in (b)."
   ]
  },
  {
   "cell_type": "code",
   "execution_count": null,
   "metadata": {
    "#solution": false,
    "#staff": false,
    "#student": true
   },
   "outputs": [],
   "source": [
    "# Calculation for 6c\n",
    "..."
   ]
  },
  {
   "cell_type": "markdown",
   "metadata": {
    "#solution": false,
    "#staff": false,
    "#student": false,
    "collapsed": true
   },
   "source": [
    "## Checklist\n",
    "\n",
    "Your submission should have the following parts:\n",
    "\n",
    "#### Part A (Written)\n",
    "\n",
    "- 1a, 1b, 1c\n",
    "- 2a, 2b, 2c\n",
    "- 3a, 3b\n",
    "- 4a, 4b, 4c\n",
    "- 5a, 5b\n",
    "- 6a\n",
    "\n",
    "#### Part B (Code)\n",
    "\n",
    "- 6b"
   ]
  },
  {
   "cell_type": "markdown",
   "metadata": {
    "#solution": false,
    "#staff": false,
    "#student": false
   },
   "source": [
    "## Submission Instructions\n",
    "\n",
    "\n",
    "#### Logistics \n",
    "\n",
    "1. Use a scanner or scanning app (such as CamScanner) to digitize your written assignments. Do not take pictures using your phone's camera app.\n",
    "2. For code portions, examine the generated pdf before uploading to make sure that it contains all of your work.\n",
    "3. When submitting to Gradescope, select the pages of your upload corresponding to each question. \n",
    "4. If you encounter any difficulties when submitting or exporting your assignment, please make a private Piazza post **before the deadline**. \n",
    "\n",
    "### **We will not grade assignments which do not have pages selected for each question, are illegibly scanned, or are submitted after 8PM.** \n",
    "\n",
    "\n",
    "#### Part A (Written)\n",
    "- Make sure you have at least 6 pages of homework. Each problem should start on a new page; for example,  Problem 1 on page 1, Problem 2 on page 2, etc.\n",
    "- Scan all the pages into a PDF. **Make sure the PDF page size is 8.5 x 11 inches**. It is your responsibility to check that all the work on the scanned pages is legible. You can use any scanner or a phone using applications such as CamScanner. Save the PDF.\n",
    "- Upload the scanned PDF of your work onto Gradescope for the assignment \"HW_11A\". \n",
    "Refer to [this guide](http://gradescope-static-assets.s3-us-west-2.amazonaws.com/help/submitting_hw_guide.pdf) for detailed instructions about scanning and submitting, or consult course staff.\n",
    "\n",
    "#### Part B (Code)\n",
    "\n",
    "1. **Save your notebook using File > Save and Checkpoint.**\n",
    "2. Run the cell below to generate a pdf file.\n",
    "3. Download the pdf file and confirm that none of your work is missing or cut off.\n",
    "4. Submit the assignment to \"HW_11B\" on Gradescope. Use the entry code \"9GEKKD\" if you haven't already joined the class."
   ]
  }
 ],
 "metadata": {
  "checksums": [
   "b0aefbc0a2143213357738234b5b70f0",
   "e40bfa06d3c75ac911f4d78deb52e131",
   "8df92b7e78bfa2dde4a9c40a864280b0",
   "4d50926b8bbcb8a992cbd3666123e0dd",
   "09ac4aa69828646db6bb84e6402f60ef",
   "9ff6aebcc8146b47452c5d943df5ac3b",
   "62916d45e4328e56adf3f555e71e3bfb",
   "ff4f181f122a55e1b05f50467f6fb574",
   "99f9b1ff7c72678dd46ca5f9305fd1e6",
   "4792cfedb95c4f279ffee728c2555f8f",
   "69f5c6d6c0121fa04834c46f06cab205",
   "5bfbe9d03e551ad7da0910016aaa5383",
   "c17829a145fa28b61a4291a2a6dc9ff7",
   "ef5b2e9360d51eee8230884cf393218e",
   "1c39fce9e127fcbe973ae53cbac8b775",
   "24f9c9a4908b9d4e41880a0be84f8b87",
   "a67e96772bf8bead06ab00e5763fd251",
   "3854a228c78a69443a6e8e977748895f"
  ],
  "kernelspec": {
   "display_name": "Python 3",
   "language": "python",
   "name": "python3"
  },
  "language_info": {
   "codemirror_mode": {
    "name": "ipython",
    "version": 3
   },
   "file_extension": ".py",
   "mimetype": "text/x-python",
   "name": "python",
   "nbconvert_exporter": "python",
   "pygments_lexer": "ipython3",
   "version": "3.5.2"
  },
  "number_of_pagebreaks": 0,
  "widgets": {
   "state": {},
   "version": "1.1.2"
  }
 },
 "nbformat": 4,
 "nbformat_minor": 1
}
