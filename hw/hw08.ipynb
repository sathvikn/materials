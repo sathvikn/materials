{
 "cells": [
  {
   "cell_type": "markdown",
   "metadata": {},
   "source": [
    "<table align=\"left\" style=\"border-style: hidden\" class=\"table\"> <tr> <td class=\"col-md-2\"><img style=\"float\" src=\"http://prob140.org/assets/icon256.png\" alt=\"Prob140 Logo\" style=\"width: 120px;\"/></td><td><div align=\"left\"><h3 style=\"margin-top: 0;\">Probability for Data Science</h3><h4 style=\"margin-top: 20px;\">UC Berkeley, Spring 2018</h4><p>Ani Adhikari</div></td></tr></table><!-- not in pdf -->"
   ]
  },
  {
   "cell_type": "markdown",
   "metadata": {
    "#solution": false,
    "#staff": false,
    "#student": false
   },
   "source": [
    "# Homework 8 #\n",
    "\n",
    "This week, your homework **only involves written work; there are no coding parts**. It is your responsibility to ensure that your homework is submitted completely and properly to Gradescope. Refer to the bottom of the notebook for submission instructions.\n",
    "\n",
    "#### Rules for Written Homework ####\n",
    "\n",
    "- Every answer should contain a calculation or reasoning. For example, a calculation such as $(1/3)(0.8) + (2/3)(0.7)$ is fine without further explanation or simplification. If we want you to simplify, we'll ask you to. But just ${5 \\choose 2}$ is not fine; write \"we need 2 out of the 5 frogs and they can appear in any order\" or whatever reasoning you used. Reasoning can be brief and abbreviated, e.g. \"product rule\" or \"not mut. excl.\"\n",
    "- You may consult others but you must write up your own answers using your own words, notation, and sequence of steps.\n",
    "- In the interest of saving trees, you do not need to *solve* each question on a new piece of paper. Folding the paper to show just the relevant problem will suffice. To ensure the correct page size, we recommend placing the folded part on a blank page before scanning, or adjusting the page settings on your phone scanning app.\n",
    "- You will submit a scanned PDF to Gradescope. **Each question should *start* on a new PDF page. No page should contain two questions.**"
   ]
  },
  {
   "cell_type": "markdown",
   "metadata": {
    "#solution": false,
    "#staff": false,
    "#student": false
   },
   "source": [
    "### 1. Varying Parameters and Independence Assumptions ###\n",
    "You can leave answers as numerical formulas. You don't have to find decimal values unless they are obvious.\n",
    "\n",
    "**(a)** Find the expectation and SD of the number of heads in 26 tosses of a fair coin.\n",
    "\n",
    "**(b)** Find the expectation and SD of the number of red cards in 26 cards dealt at random from a standard deck. Compare the answers with those in Part **(a)**: Are the expectations different, and if so, which one is bigger? Are the SDs different, and if so, which one is bigger?\n",
    "\n",
    "**(c)** Find the expectation and SD of the number of sixes in 26 rolls of a die. Compare the SD with that in Part **(a)**: Without calculation, say which one is bigger, and why."
   ]
  },
  {
   "cell_type": "markdown",
   "metadata": {
    "#solution": false,
    "#staff": false,
    "#student": false
   },
   "source": [
    "#newpage"
   ]
  },
  {
   "cell_type": "markdown",
   "metadata": {
    "#solution": false,
    "#staff": false,
    "#student": false
   },
   "source": [
    "### 2. Collecting Distinct Values ###\n",
    "\n",
    "In Homework 4 you found the expectation of each of the random variables below. Now find the variance of each one. \n",
    "\n",
    "For one part you will need the fact that the SD of a geometric $(p)$ random variable is $\\frac{\\sqrt{q}}{p}$ where $q = 1-p$. We haven't proved that as the algebra takes a bit of work.\n",
    "\n",
    "**(a)** A die is rolled $n$ times. Find the variance of number of faces that *do not* appear.\n",
    "\n",
    "**(b)** Use your answer to (b) to find the variance of the number of distinct faces that *do* appear in $n$ rolls of a die.\n",
    "\n",
    "**(c)** Find the variance of the number of times you have to roll a die till you have seen all of the faces."
   ]
  },
  {
   "cell_type": "markdown",
   "metadata": {
    "#solution": false,
    "#staff": false,
    "#student": false
   },
   "source": [
    "#newpage"
   ]
  },
  {
   "cell_type": "markdown",
   "metadata": {
    "#solution": false,
    "#staff": false,
    "#student": false
   },
   "source": [
    "### 3. Bounds ###\n",
    "A random variable $X$, not necessarily non-negative, has $E(X) = 20$ and $SD(X) = 4$. For the bounds below, use 0 and 1 only if you feel you can't do better than those.\n",
    "\n",
    "**(a)** Find upper and lower bounds for $P(0 < X < 40)$.\n",
    "\n",
    "**(b)** Find upper and lower bounds for $P(10 < X < 40)$.\n",
    "\n",
    "**(c)** Find an upper bound for $P(X \\ge 40)$.\n",
    "\n",
    "**(d)** Find an upper bound for $P(X^2 \\ge 900)$."
   ]
  },
  {
   "cell_type": "markdown",
   "metadata": {
    "#solution": false,
    "#staff": false,
    "#student": false
   },
   "source": [
    "#newpage"
   ]
  },
  {
   "cell_type": "markdown",
   "metadata": {
    "#solution": false,
    "#staff": false,
    "#student": false
   },
   "source": [
    "### 4. The \"Sample Variance\" ###\n",
    "Let $X_1, X_2, \\ldots, X_n$ be i.i.d., each with mean $\\mu$ and SD $\\sigma$. Let $\\bar{X} = \\frac{1}{n}\\sum_{i=1} X_i$ be the sample mean.\n",
    "\n",
    "**(a)** Find $E(\\bar{X})$ and $SD(\\bar{X})$.\n",
    "\n",
    "**(b)** For each $i$, find $Cov(X_i, \\bar{X})$. [Plug in the definition of $\\bar{X}$ and use bilinearity.]\n",
    "\n",
    "**(c)** For each $i$ in the range 1 through $n$, define the *$i$th deviation in the sample* as $D_i = X_i - \\bar{X}$. Find $E(D_i)$ and $Var(D_i)$. [Write the variance as $Cov(D_i, D_i)$, plug in the definition of $D_i$, and use bilinearity.]\n",
    "\n",
    "**(d)** Define the random variable $\\hat{\\sigma}^2$ as\n",
    "$$\n",
    "\\hat{\\sigma}^2 ~ = ~ \\frac{1}{n} \\sum_{i=1}^n D_i^2\n",
    "$$\n",
    "Find $E(\\hat{\\sigma}^2)$.\n",
    "\n",
    "For this random variable, the notation $\\hat{\\sigma}^2$ is pretty standard in statistics. Just think of $\\hat{\\sigma}^2$ as a symbol; it doesn't help to start thinking about the random variable that is its square root.\n",
    "\n",
    "**(e)** Use Part **d** to construct a random variable denoted $S^2$ that is an unbiased estimator of $\\sigma^2$. This random variable $S^2$ is called the *sample variance*."
   ]
  },
  {
   "cell_type": "markdown",
   "metadata": {
    "#solution": false,
    "#staff": false,
    "#student": false
   },
   "source": [
    "#newpage"
   ]
  },
  {
   "cell_type": "markdown",
   "metadata": {
    "#solution": false,
    "#staff": false,
    "#student": false
   },
   "source": [
    "### 5. Fun with Indicators: The Matching Problem ###\n",
    "\n",
    "In the familiar setting of the matching problems, there are $n$ letters labeled 1 through $n$ and $n$ envelopes labeled 1 through $n$. The letters are distributed at random into the envelopes, one letter per envelope, such that all $n!$ permutations are equally likely.\n",
    "\n",
    "Let $M$ be the number of letters that fall into envelopes with the corresponding label. That is, $M$ is the number of \"matches\" or fixed points of the permutation.\n",
    "\n",
    "**(a)** Fill in the blank:\n",
    "\n",
    "$$M = I_1 + I_2 + \\ldots + I_n$$ \n",
    "\n",
    "where for each $j$ in the range 1 through $n$, $I_j = 1$ if $\\underline{~~~~~~~~~~~~~~~~~~~~~~~~~~~~~~~~~~~~~~~~~~~~~~~~~~~~~~~~~~~~~~~~~~}$, and $I_j = 0$ otherwise.\n",
    "\n",
    "**(b)** Use Part **(a)** to show that $E(M)$ has the same numerical value for all $n$.\n",
    "\n",
    "**(c)** Use Part **(a)** to show that $Var(M)$ has the same numerical value for all $n$.\n",
    "\n",
    "**(d)** In Lab 3 you found the approximate distribtion of $M$ when $n$ is large. Are your answers to Parts **(c)** and **(d)** consistent with that approximation?"
   ]
  },
  {
   "cell_type": "markdown",
   "metadata": {
    "#solution": false,
    "#staff": false,
    "#student": false
   },
   "source": [
    "#newpage"
   ]
  },
  {
   "cell_type": "markdown",
   "metadata": {
    "#solution": false,
    "#staff": false,
    "#student": false
   },
   "source": [
    "### 6. Fun with Indicators: The Inclusion-Exclusion Formula ###\n",
    "We guessed the general inclusion-exclusion formula (see Section 5.2 of the textbook) but we never proved it. Let's get that done.\n",
    "\n",
    "**(a)** Let $x_1, x_2, \\ldots, x_n$ be numbers. Expand the product $(1-x_1)(1-x_2)$ and then expand $(1-x_1)(1-x_2)(1-x_3)$ by using the expansion you got for $(1-x_1)(1-x_2)$. Now guess a formula for the expansion of the product\n",
    "\n",
    "$$\n",
    "\\prod_{i=1}^n (1 - x_i)\n",
    "$$\n",
    "\n",
    "and use induction to prove it. The induction shouldn't take many steps. It consists of just two observations, both of which can be expressed in English without complicated notation.\n",
    "\n",
    "**(b)** Let $A_1, A_2, \\ldots, A_n$ be events. For each $i$ in the range 1 through $n$ let $I_i$ be the indicator of $A_i$. Let $I$ be the indicator of $\\cup_{i=1}^n A_i$. Explain why\n",
    "\n",
    "$$\n",
    "I ~ = ~ 1 - \\prod_{i=1}^n (1 - I_i)\n",
    "$$\n",
    "\n",
    "**(c)** Use Parts **(a)** and **(b)** to establish the inclusion-exclusion formula."
   ]
  },
  {
   "cell_type": "markdown",
   "metadata": {
    "#solution": false,
    "#staff": false,
    "#student": false,
    "collapsed": true
   },
   "source": [
    "## Submission Instructions\n",
    "\n",
    "**For this homework, you are only submitting written work.**\n",
    "\n",
    "#### Logistics \n",
    "\n",
    "1. Use a scanner or scanning app (such as CamScanner) to digitize your written assignments. Do not take pictures using your phone's camera app.\n",
    "2. For code portions, examine the generated pdf before uploading to make sure that it contains all of your work.\n",
    "3. When submitting to Gradescope, select the pages of your upload corresponding to each question. \n",
    "4. If you encounter any difficulties when submitting or exporting your assignment, please make a private Piazza post **before the deadline**. \n",
    "\n",
    "### **We will not grade assignments which do not have pages selected for each question, are illegibly scanned, or are submitted after 8PM.** \n",
    "\n",
    "\n",
    "#### Part A (Written)\n",
    "- Make sure you have at least 6 pages of homework. Each problem should start on a new page; for example,  Problem 1 on page 1, Problem 2 on page 2, etc.\n",
    "- Scan all the pages into a PDF. **Make sure the PDF page size is 8.5 x 11 inches**. It is your responsibility to check that all the work on the scanned pages is legible. You can use any scanner or a phone using applications such as CamScanner. Save the PDF.\n",
    "- Upload the scanned PDF of your work onto Gradescope for the assignment \"HW_08A\". \n",
    "Refer to [this guide](http://gradescope-static-assets.s3-us-west-2.amazonaws.com/help/submitting_hw_guide.pdf) for detailed instructions about scanning and submitting, or consult course staff."
   ]
  }
 ],
 "metadata": {
  "checksums": [
   "b0aefbc0a2143213357738234b5b70f0",
   "197a8b52d67622183bad5f7239ace8cf",
   "52bf9da038d8f1d0a8cc2ae42232aa59",
   "640061103a186fd26f59746dd4d6de57",
   "5707cdcc0ab85dd87db0da6d805c3d88",
   "640061103a186fd26f59746dd4d6de57",
   "bfbf0736f8545c41a295ebe9dadb8e98",
   "640061103a186fd26f59746dd4d6de57",
   "b42610ae2a8886bdd91d2cb15942af1e",
   "640061103a186fd26f59746dd4d6de57",
   "db6cb8781daf24200193d3d934147563",
   "640061103a186fd26f59746dd4d6de57",
   "e1db214e2e60cbe7b6208d5ed36656ea",
   "ca2b1e9e199b2cff549e20d09a8f269b"
  ],
  "kernelspec": {
   "display_name": "Python 3",
   "language": "python",
   "name": "python3"
  },
  "language_info": {
   "codemirror_mode": {
    "name": "ipython",
    "version": 3
   },
   "file_extension": ".py",
   "mimetype": "text/x-python",
   "name": "python",
   "nbconvert_exporter": "python",
   "pygments_lexer": "ipython3",
   "version": "3.5.2"
  },
  "number_of_pagebreaks": 5,
  "widgets": {
   "state": {},
   "version": "1.1.2"
  }
 },
 "nbformat": 4,
 "nbformat_minor": 1
}
