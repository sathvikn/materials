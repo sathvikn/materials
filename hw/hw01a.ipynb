{
 "cells": [
  {
   "cell_type": "markdown",
   "metadata": {},
   "source": [
    "<table align=\"left\" style=\"border-style: hidden\" class=\"table\"> <tr> <td class=\"col-md-2\"><img style=\"float\" src=\"http://prob140.org/assets/icon256.png\" alt=\"Prob140 Logo\" style=\"width: 120px;\"/></td><td><div align=\"left\"><h3 style=\"margin-top: 0;\">Probability for Data Science</h3><h4 style=\"margin-top: 20px;\">UC Berkeley, Spring 2018</h4><p>Ani Adhikari</div></td></tr></table><!-- not in pdf -->"
   ]
  },
  {
   "cell_type": "markdown",
   "metadata": {},
   "source": [
    "# Homework 1 (Part A)\n",
    "\n",
    "<!-- not in pdf -->"
   ]
  },
  {
   "cell_type": "markdown",
   "metadata": {},
   "source": [
    "\n",
    "Starting in Week 2, each homework will have two parts, A (written work only) and B (also involving code). In Week 1 we just have part A; there's no part B.\n",
    "\n",
    "#### How to Do Your Homework ####\n",
    "\n",
    "The point of homework is for you to try your hand at using what you've learned in class. The steps to follow:\n",
    "\n",
    "- Go to lecture, and also go over the relevant text sections **before** starting on the homework. This will remind you what was covered in class, and the text will typically contain examples not covered in lecture. The weekly Preparation Guide will list what you should read.\n",
    "- Go to discussion section and work on some of the practice problems **before** starting on the homework. \n",
    "- Attempt the homework problems **by yourself** with the text, your discussion section work, and practice materials all at hand. Sometimes the week's lab will help as well. The two steps above will help this step go faster and be more fruitful.\n",
    "- At this point, seek help if you need it. Don't ask how to do the problem – ask how to get started, or for a nudge to get you past where you are stuck.\n",
    "- For a good measure of your understanding, keep track of the fraction of the homework you can do by yourself or with minimal help. It's a better measure than your homework score, and only you can measure it.\n",
    "\n",
    "#### Rules for Written Homework ####\n",
    "\n",
    "- Every answer should contain a calculation or reasoning. For example, a calculation such as $(1/3)(0.8) + (2/3)(0.7)$ is fine without further explanation or simplification. If we want you to simplify, we'll ask you to. But just ${5 \\choose 2}$ is not fine; write \"we need 2 out of the 5 frogs and they can appear in any order\" or whatever reasoning you used. Reasoning can be brief and abbreviated, e.g. \"product rule\" or \"not mut. excl.\"\n",
    "- You may consult others (see \"How to Do Your Homework\" above) but you must write up your own answers using your own words, notation, and sequence of steps.\n",
    "- We'll be using Gradescope. **Each question should *start* on a new page. No page should contain two questions.** However, each question (and its subparts, if any) may extend over multiple pages. \n",
    "- You must submit the homework according to the instructions in Problem 8 below.\n"
   ]
  },
  {
   "cell_type": "markdown",
   "metadata": {},
   "source": [
    "## 1. Warmup ##\n",
    "\n",
    "\n",
    "**1a)** A standard deck consists of 13 cards in each of four suits. A poker hand of five cards is dealt at random without replacement. Consider the two events $A$ and $B$ defined as follows:\n",
    "\n",
    "$A$: all five cards are hearts\n",
    "\n",
    "$B$: all five cards are of the same suit\n",
    "\n",
    "Which of the following is true? Pick the correct option and find the chance or chances.\n",
    "\n",
    "(i) $P(A) = P(B)$  \n",
    "(ii) $P(A) < P(B)$  \n",
    "(iii) $P(A) > P(B)$  \n",
    "\n",
    "\n",
    "**1b)** A bag contains $m$ M&M's, of which $g$ are green, $r$ red, and $b$ brown. There are no other colors, so $m = g+r+b$. I pick three M&M's at random without replacement. Find the chance that I get all three colors.\n",
    "\n",
    "**1c)** A procedure for estimating a parameter is based on random sampling and has a 95% chance of producing a good estimate. Suppose I run this procedure $n$ times such that the results of all the different runs have no effect on each other. What is the chance that at least one of the $n$ estimates is **not** good?\n",
    "\n"
   ]
  },
  {
   "cell_type": "markdown",
   "metadata": {},
   "source": [
    "## 2. Bootstrap Samples ##\n",
    "A sample consists of $n$ people. As you know from Data 8, a bootstrap sample consists of $n$ people drawn at random with replacement from the original sample.\n",
    "\n",
    "**2a)** Find the chance that the bootstrap sample is exactly the same as the original sample.\n",
    "\n",
    "**2b)** There are three Prob 140 students in the original sample. Find the chance that none of the three Prob 140 students is selected in the bootstrap sample.\n",
    "\n",
    "**2c)** Find an exponential approximation to the answer in (2b), assuming that $n$ is large."
   ]
  },
  {
   "cell_type": "markdown",
   "metadata": {},
   "source": [
    "## 3. Cards from a Deck ##\n",
    "\n",
    "A standard deck consists of 52 cards, of which 26 are red and 26 black. The black cards consist of 13 clubs and 13 spades. The red cards consist of 13 diamonds and 13 hearts. \n",
    "\n",
    "Cards are dealt at random without replacement. Let $R_n$ be the event that the $n$th card dealt is red, and let $B_n$ be the event that the $n$th card dealt is black.\n",
    "\n",
    "**3a)** Pick the correct option below and find the chance or chances. \n",
    "\n",
    "(i) $P(B_1) = P(B_2)$  \n",
    "(ii) $P(B_1) < P(B_2)$  \n",
    "(iii) $P(B_1) > P(B_2)$ \n",
    "\n",
    "**3b)**\n",
    "Find $P(R_2 \\vert B_1)$.\n",
    "\n",
    "**3c)** Find $P(R_1 \\vert B_2)$ and compare with the answer to (3b).\n",
    "\n",
    "**3d)** Find the chance that the first card is a club given that the second card is black. \n",
    "\n",
    "**3e)** Explain why the answer in (3d) is **slightly less** than 25%.\n",
    "\n"
   ]
  },
  {
   "cell_type": "markdown",
   "metadata": {},
   "source": [
    "## 4. Finite Additivity ##\n",
    "\n",
    "In a probability space, assume as usual that if events $A$ and $B$ are mutually exclusive, then $P(A \\cup B) = P(A) + P(B)$. Show by the method of induction that \n",
    "\n",
    "$$\n",
    "P(\\bigcup_{i=1}^n A_i) ~ = ~ \\sum_{i=1}^n P(A_i) ~~~~~ \\mbox{if } A_1, A_2, \\ldots, A_n \\mbox{ are mutually exclusive}\n",
    "$$\n",
    "\n"
   ]
  },
  {
   "cell_type": "markdown",
   "metadata": {},
   "source": [
    "## 5. Simple Random Sampling ##\n",
    "\n",
    "A *simple random sample* is a sample drawn from a finite population at random without replacement.\n",
    "\n",
    "Let $k$, $n$, and $N$ be integers such that $0 < k < n < N$. Suppose a simple random sample of size $n$ is drawn from the population. That implies all ${N \\choose n}$ samples are equally likely, as we will show later in the course. You can assume it for now. \n",
    "\n",
    "Also suppose that $k$ of the $N$ elements of the population are golden.\n",
    "\n",
    "Find the chance that the sample contains:\n",
    "\n",
    "**5a)** none of the $k$ golden elements\n",
    "\n",
    "**5b)**\n",
    "all of the $k$ golden elements\n",
    "\n",
    "**5c)** at least one of the $k$ golden elements\n",
    "\n",
    "**5d)** exactly one of the $k$ golden elements\n"
   ]
  },
  {
   "cell_type": "markdown",
   "metadata": {},
   "source": [
    "## 6. Highest Level ##\n",
    "\n",
    "The lowest floor of a building is labeled Ground Floor. Above it, there are 10 more floors labeled sequentially 1 through 10 with Floor 10 being the highest. Assume that \n",
    "\n",
    "- $n$ people enter the elevator on the ground floor.\n",
    "- The elevator only goes up.\n",
    "- Each of the $n$ people gets out at one of the 10 other floors picked at random, regardless of where the others get out. \n",
    "- Nobody else enters the elevator during its upward journey.\n",
    "- Once the last of the $n$ people gets out, the elevator stops moving.\n",
    "\n",
    "**6a)** For each $k$ in the range 1 through 10, find the chance that the elevator doesn't go higher than Floor $k$.\n",
    "\n",
    "**6b)** Use (6a) to find the chance that the elevator gets to Floor 6 but no higher.\n",
    "\n",
    "**6c)** Suppose $n$ draws are made at random with replacement from the positive integers 1 through $N$. For each $k$ in the range 1 through $N$, find the chance that $k$ is the largest integer drawn.\n",
    "\n",
    "**6d)** If you add your answer to (6c) over $k$ from 1 through $N$, what should the answer be? Explain, and then show your answer by algebra.\n"
   ]
  },
  {
   "cell_type": "markdown",
   "metadata": {},
   "source": [
    "## 7. Exactly Half Heads ##\n",
    "\n",
    "The results of $n$ tosses of a coin can be thought of as a sequence of length $n$, where each element of the sequence is either H or T. One way of describing a fair coin is to say that for each fixed $n$, all such sequences are equally likely.\n",
    "\n",
    "Let $\\Omega$ be the set of all sequences of length $n$ where each element of the sequence is either H or T.\n",
    "\n",
    "**7a)** How many sequences are there in $\\Omega$?\n",
    "\n",
    "**7b) **\n",
    "Fix an integer $k$ such that $0 \\le k \\le n$. In how many sequences in $\\Omega$ does H appear exactly $k$ times?\n",
    "\n",
    "**7c)** Use (7a) and (7b) to find the chance of getting exactly $k$ heads in $n$ tosses of a fair coin.\n",
    "\n",
    "**7d)** If you add up your answer to (7c) over $k$ in the range 0 through $n$, what should the answer be? Explain, and then prove your answer by algebra. It might be helpful to recall the expansion of $(a + b)^n$ and plug in appropriate simple values of $a$ and $b$.\n",
    "\n",
    "**7e)** Factorials get large very quickly. *Stirling's approximation* says that for large $n$\n",
    "\n",
    "$$\n",
    "n! ~ \\sim ~ \\sqrt{2 \\pi n} \\big{(} \\frac{n}{e} \\big{)}^n\n",
    "$$\n",
    "\n",
    "where the symbol $\\sim$ is read as \"is asymptotically equivalent to\" and means that the ratio of the two sides goes to 1 as $n$ tends to $\\infty$.\n",
    "\n",
    "Let $m$ be a positive integer. Use Stirling's formula to approximate the chance of getting exactly $m$ heads in $2m$ tosses of a fair coin, and say what the limit is as $m \\to \\infty$. Later in the course, we will see why this doesn't contradict the law of averages."
   ]
  },
  {
   "cell_type": "markdown",
   "metadata": {
    "collapsed": true
   },
   "source": [
    "\n",
    "## 8. Submission Instructions \n",
    "\n",
    "As this is the first homework, you deserve credit for being able to turn in your homework by correctly following these instructions before the submission deadline.\n",
    "\n",
    "- Make sure you have at least 7 pages of homework. Each problem should start on a new page; for example,  Problem 1 on page 1, Problem 2 on page 2, etc.\n",
    "- Scan all the pages into a PDF. It is your responsibility to check that all the work on all the scanned pages is legible. You can use any scanner or a phone using applications such as CamScanner. Save the PDF.\n",
    "- Upload the scanned PDF of your work onto Gradescope for the assignment \"HW 1 (Part A)\". \n",
    "Refer to [this guide](http://gradescope-static-assets.s3-us-west-2.amazonaws.com/help/submitting_hw_guide.pdf) for detailed instructions about scanning and submitting, or consult course staff.\n",
    "\n",
    "### Checklist\n",
    "\n",
    "Your submission should have the following parts:\n",
    "\n",
    "#### On Paper\n",
    "\n",
    "- 1a, 1b, 1c\n",
    "- 2a, 2b, 2c\n",
    "- 3a, 3b, 3c, 3d, 3e\n",
    "- 4\n",
    "- 5a, 5b, 5c, 5d\n",
    "- 6a, 6b, 6c, 6d\n",
    "- 7a, 7b, 7c, 7d, 7e\n",
    "\n",
    "#### In Notebook\n",
    "\n",
    "- N/A"
   ]
  }
 ],
 "metadata": {
  "anaconda-cloud": {},
  "checksums": [
   "b0aefbc0a2143213357738234b5b70f0",
   "30f23488a5de5a4f2f668a256df58704",
   "cf6c8042140d98c9361d3b939c56b690",
   "16fed9007e3c2839f75a2286de500e04",
   "77bc20589a144e1683b498e1f7c4a560",
   "ced0cad4ad15b5a2d71227a5454d1fd5",
   "40976ccbb2cbeb18a8915f4144f787af",
   "96037bbef8fe031bfab9b1ebc9fa0ded",
   "6f3ac5d697b150257f0215b74ebda2e3",
   "829b6f9e85c4b7ebe3e8c328d7821a0d",
   "14dce34e7ac11625481c5748eea00df8"
  ],
  "kernelspec": {
   "display_name": "Python 3",
   "language": "python",
   "name": "python3"
  },
  "language_info": {
   "codemirror_mode": {
    "name": "ipython",
    "version": 3
   },
   "file_extension": ".py",
   "mimetype": "text/x-python",
   "name": "python",
   "nbconvert_exporter": "python",
   "pygments_lexer": "ipython3",
   "version": "3.5.2"
  },
  "number_of_pagebreaks": 0,
  "title": "Homework 1 (Part A)",
  "widgets": {
   "state": {},
   "version": "1.1.2"
  }
 },
 "nbformat": 4,
 "nbformat_minor": 1
}
